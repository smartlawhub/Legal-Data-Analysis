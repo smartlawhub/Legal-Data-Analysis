{
 "cells": [
  {
   "cell_type": "markdown",
   "metadata": {},
   "source": [
    "<h1>1. Introduction to Python</h1>\n",
    "\n",
    "<p>This is the first lesson in the context of the <i>Legal Data Analytics</i> course.</p>\n",
    "\n",
    "First a bit of Semantics:\n",
    "\n",
    "<ul><li><b>The Code</b> is what you'll be writing as input in the Console. The .py files found in the Script folder \n",
    "contain some code snippets ready to be deployed in the Console, but you'll also be writing your own code and store \n",
    "it in these files for later use.\n",
    "</li>\n",
    "    <li><b>The Console</b> is the environment where you'll be inputting code to generate outputs. As long as you \n",
    "do not restart the console, your variables and data will remain active, in memory; but all this disappears whenever \n",
    "you shut \n",
    "down PyCharm, so you'll need to make sure to store and save your data.</li>\n",
    "    <li><b>Comments</b> are greyed out bits of non-code, natural language, to describe and explain the code. \n",
    "Comment start with the hashtag <code>#</code>.    \n",
    "<li><b>Errors</b> are what happens when you try to execute invalid code. The most frequent types of \n",
    "errors are:<ol><i>Syntax Error</i>, when you just made a mistake in the syntax, which is paramount in Python; and</ol>\n",
    "<ol><i>Type Error</i>, when you are trying to work with two incompatible types of data.</ol></li>\n",
    "    <li><b>Pycharm</b> is an IDE, or Integrated Development Environment. It's just an easier way to code, as \n",
    "all your files are there together with the console. You code is also automatically colored according to the nature \n",
    "of the different objects and variables types you are using. Amongst the main shortcuts, you should know:\n",
    "<ol><i>Up Arrow</i>, when in the console, input the previous inputs in ante-chronological order;</ol>\n",
    "<ol><i>The Tab key</i> autofills your code, or offers a menu of option to choose from; and</ol>\n",
    "<ol><i>Alt+Shift+E</i> (on Windows - may be different on Macs), automatically input and execute a line of code \n",
    "highlighted from a .py script.\n",
    "</ol></li></ul>"
   ]
  },
  {
   "cell_type": "markdown",
   "metadata": {},
   "source": [
    "<b>1. </b>Computer code, at its most basic, calculates stuff. You can think of this course and everything that \n",
    "follows as expanding the uses of a calculator. For instance, if you input 2+2 in the Console, press \"Enter\", output will be 4.\n",
    "\n",
    "Typically, in Python you'd use the command `print` to have stuff appear on your screen. It is also more precise, as \n",
    "it gives your computer the exact command to process: if you type two lines of computation before pressing enter, \n",
    "only the last will render; however, both will render an output if you specify that both need to be printed."
   ]
  },
  {
   "cell_type": "code",
   "execution_count": 11,
   "metadata": {},
   "outputs": [
    {
     "data": {
      "text/plain": [
       "6"
      ]
     },
     "execution_count": 11,
     "metadata": {},
     "output_type": "execute_result"
    }
   ],
   "source": [
    "2+2\n",
    "3+3"
   ]
  },
  {
   "cell_type": "markdown",
   "metadata": {},
   "source": [
    "`print` is a <em>command</em>. Like most commands (or functions), it requires some <em>arguments</em>, that are \n",
    "indicated \n",
    "within \n",
    "brackets - as here 2+2."
   ]
  },
  {
   "cell_type": "code",
   "execution_count": 12,
   "metadata": {},
   "outputs": [
    {
     "name": "stdout",
     "output_type": "stream",
     "text": [
      "4\n",
      "6\n"
     ]
    }
   ],
   "source": [
    "print(2+2)\n",
    "print(2*3)"
   ]
  },
  {
   "cell_type": "markdown",
   "metadata": {},
   "source": [
    "<b>2. </b>We will come back to functions a bit later. Before that, we need to discuss <em>variables</em>, which you can think of as recipients in which you store information.\n",
    "\n",
    "Variables are typically written in lower caps; the way  you create/assign data to a variable is with a `=` sign, according \n",
    "to the syntax `variable = value`.\n",
    "You can then use variables directly in functions (such as print), or do operations between them.\n",
    "\n",
    "You can assign and re-assign variables at will: you can even assign a variable to \n",
    "another variable. "
   ]
  },
  {
   "cell_type": "code",
   "execution_count": 14,
   "metadata": {},
   "outputs": [
    {
     "name": "stdout",
     "output_type": "stream",
     "text": [
      "9\n"
     ]
    }
   ],
   "source": [
    "alpha = 1\n",
    "beta = 2\n",
    "gamma = 2 * 3\n",
    "print(alpha + beta + gamma)"
   ]
  },
  {
   "cell_type": "markdown",
   "metadata": {},
   "source": [
    "Variables that contain numbers can also be added or subtracted to with a specific syntax: `var += 2` means that 2 \n",
    "will be added to my variable, and this every time you input this particular command. Think of it as an update of the \n",
    "original \n",
    "variable."
   ]
  },
  {
   "cell_type": "code",
   "execution_count": 15,
   "metadata": {},
   "outputs": [
    {
     "name": "stdout",
     "output_type": "stream",
     "text": [
      "7\n",
      "8\n",
      "6\n"
     ]
    }
   ],
   "source": [
    "gamma = gamma + alpha\n",
    "print(gamma)\n",
    "gamma += 1\n",
    "print(gamma)\n",
    "gamma -= 2\n",
    "print(gamma)"
   ]
  },
  {
   "cell_type": "markdown",
   "metadata": {},
   "source": [
    "<b>3. </b>Variables need not be numbers. They can also be text, which in Python is known as a `string`. Likewise, you can make operations with them, such as collating two strings.\n",
    "\n",
    "Do note that the print command does exactly what you ask it to do: it did not insert a space between the two strings \n",
    "here, it's for you to think of this kind of details. Programming is deterministic: output follows input with, most \n",
    "of the time, no role for randomness. On the plus side, this means you should be assured that you'll get an output if \n",
    "we type proper input; on the minus side, this therefore requires utmost precision on your part. "
   ]
  },
  {
   "cell_type": "code",
   "execution_count": null,
   "metadata": {},
   "outputs": [],
   "source": [
    "alpha = \"Hello World\"\n",
    "beta = \"Hello Cake\"\n",
    "print(alpha + beta)"
   ]
  },
  {
   "cell_type": "markdown",
   "metadata": {},
   "source": [
    "Also important to keep into account is that strings are different from number. And you cannot, for instance, add \n",
    "strings to number: this would throw a TypeError."
   ]
  },
  {
   "cell_type": "code",
   "execution_count": null,
   "metadata": {},
   "outputs": [],
   "source": [
    "print(alpha + gamma)  # gamma has been defined above and is still known to the console's environment"
   ]
  },
  {
   "cell_type": "markdown",
   "metadata": {},
   "source": [
    "In what follows, we'll use text and strings taken from Mervyn Peake's poem <a href =\"https://gormenghasts.tumblr.com/post/80656474535/the-frivolous-cake-a-freckled-and-frivolous-cake\"><i>The Frivolous Cake</i></a>. I have numeroted every verse; we'll store it in a variable for now and come back to it later."
   ]
  },
  {
   "cell_type": "code",
   "execution_count": 30,
   "metadata": {},
   "outputs": [
    {
     "name": "stdout",
     "output_type": "stream",
     "text": [
      "The Frivolous Cake\n",
      "1.1  A freckled and frivolous cake there was\n",
      "1.1  That sailed upon a pointless sea, \n",
      "1.2  Or any lugubrious lake there was\n",
      "1.3  In a manner emphatic and free.\n",
      "1.4  How jointlessly, and how jointlessly\n",
      "1.5  The frivolous cake sailed by\n",
      "1.6  On the waves of the ocean that pointlessly\n",
      "1.7  Threw fish to the lilac sky.\n",
      "\n",
      "2.1  Oh, plenty and plenty of hake there was\n",
      "2.1  Of a glory beyond compare, \n",
      "2.2  And every conceivable make there was\n",
      "2.3  Was tossed through the lilac air.\n",
      "\n",
      "3.1  Up the smooth billows and over the crests\n",
      "3.1  Of the cumbersome combers flew\n",
      "3.2  The frivolous cake with a knife in the wake\n",
      "3.3  Of herself and her curranty crew.\n",
      "3.4  Like a swordfish grim it would bounce and skim\n",
      "3.5  (This dinner knife fierce and blue) , \n",
      "3.6  And the frivolous cake was filled to the brim\n",
      "3.7  With the fun of her curranty crew.\n",
      "\n",
      "4.1  Oh, plenty and plenty of hake there was\n",
      "4.1  Of a glory beyond compare -\n",
      "4.2  And every conceivable make there was\n",
      "4.3  Was tossed through the lilac air.\n",
      "\n",
      "5.1  Around the shores of the Elegant Isles\n",
      "5.1  Where the cat-fish bask and purr\n",
      "5.2  And lick their paws with adhesive smiles\n",
      "5.3  And wriggle their fins of fur, \n",
      "5.4  They fly and fly neath the lilac sky -\n",
      "5.5  The frivolous cake, and the knife\n",
      "5.6  Who winketh his glamorous indigo eye\n",
      "5.7  In the wake of his future wife.\n",
      "\n",
      "6.1  The crumbs blow free down the pointless sea\n",
      "6.1  To the beat of a cakey heart\n",
      "6.2  And the sensitive steel of the knife can feel\n",
      "6.3  That love is a race apart\n",
      "6.4  In the speed of the lingering light are blown\n",
      "6.5  The crumbs to the hake above, \n",
      "6.6  And the tropical air vibrates to the drone\n",
      "6.7  Of a cake in the throes of love.\n"
     ]
    }
   ],
   "source": [
    "f = open(\"../Data/poem.txt\", \"r\", encoding=\"latin1\")\n",
    "poem = f.read()\n",
    "print(poem)"
   ]
  }
 ],
 "metadata": {
  "kernelspec": {
   "display_name": "Python 3.10",
   "language": "python",
   "name": "python3.10"
  },
  "language_info": {
   "codemirror_mode": {
    "name": "ipython",
    "version": 3
   },
   "file_extension": ".py",
   "mimetype": "text/x-python",
   "name": "python",
   "nbconvert_exporter": "python",
   "pygments_lexer": "ipython3",
   "version": "3.10.5"
  }
 },
 "nbformat": 4,
 "nbformat_minor": 1
}
