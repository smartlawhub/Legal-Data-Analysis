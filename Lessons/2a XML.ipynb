{
 "cells": [
  {
   "cell_type": "markdown",
   "metadata": {},
   "source": [
    "# XML and Structured Files\n",
    "\n",
    "When you want to store and work with data, pure text is not very helpful; for a start, pure text usually does not include the formatting (bold, italic, etc.), and contains no info as to the role of a particular part of the text (for instance, in a judgment, the difference between the arguments of the parties, the reasoning, or the <i>dispositif</i>.\n",
    "\n",
    "The solution here is to store your text into a file that follows a structure, according to a particular language. XML, for \"Extensible Markup Language\", is a structured language. HTML is another.\n",
    "\n",
    "Likewise, a `.docx`, when you go into the details, is actually a text file with a layer of structure that tells Microsoft words a number of information as to the formatting of that text. Here is an example of the difference between the two: this \n",
    "is the same part of a MSWord document, except the second is the internal .xml structure (after a bunch of \n",
    "manipulations on my part to make it somewhat readable).\n",
    "\n",
    "![](../Data/Images/img_1.png)\n",
    "![](../Data/Images/img.png)"
   ]
  },
  {
   "cell_type": "markdown",
   "metadata": {},
   "source": [
    "So back to .xml. In your Files, I placed a number of decisions by the Conseil d'Etat that were recently released as part of their <a href=\"https://opendata.conseil-etat.fr/\">Open Data program</a>. They are .xml files. They are not great, but they'll do.\n",
    "\n",
    "Let's have a look at one of these files, as it appears if you open it with a browser. You can see that the main text is divided between what we call elements. Each element includes an opening `tag` (or \"balise\", in French), which must be accompanied by a closed tag of the same name. Tags and sections cannot overlap: when you open a tag in a context, \n",
    "you need to close it in that context. (You can also have self-standing, one-tag elements, of the form <tag/>, though they are rarer.)\n",
    "\n",
    "![](../Data/Images/img_3.png)\n"
   ]
  },
  {
   "cell_type": "markdown",
   "metadata": {},
   "source": [
    "The documents from the Conseil d'Etat don't have much of those, but normally you can specify further `attributes` for each element: these are data points that will not be seen by a natural reader (unless you look at the code directly), but enclose \n",
    "further information (such as formatting, or a URL for a link) for the software, or data scientist, who is probing this \n",
    "data. A good example is the <code>\\<a></a></code>, which represents a link, and always has an attribute `href`, which \n",
    "is the url:\n",
    "\n",
    "<code>\n",
    "\\<\\a href=\"My URL Here\">My link here\\<\\/a>  # The antislash here was added, so that you can see the structure; \n",
    "otherwise the element would not appear\n",
    "</code>\n",
    "\n",
    "You can also see, hopefully, that the information is enclosed in a hierarchical format, like a tree: you start with \n",
    "the <i>root</i>, and then you get branches that can get branches of their own, etc. Here everything is enclosed in a \n",
    "`Document` element, itself part of an`xml` element. Yet `Document` has only four direct children, which themselves \n",
    "have further children.\n",
    "\n",
    "![](../Data/Images/img_2.png)\n",
    "\n",
    "\"Children\" is the usual term, though \"descendants\" is also sometimes used. Logically, you also have \"parents\" or \n",
    "\"siblings\"."
   ]
  },
  {
   "cell_type": "markdown",
   "metadata": {},
   "source": [
    "The interest of storing data in a structured format is not only that you can include more than data (such as metadata), but also that, once you know the structure, you can extract data efficienty from all files that follow that format. The Conseil d'Etat decided a few years ago to release all their judgments according to that format, and code that worked to extract data from judgments back then also works for new judgments - as long as they follow the structure.\n",
    "\n",
    "In other words, just like using a loop over the content of a list allows you to be agnostic about the data in that list, having a structure allows you to be agnostic about the data that was filled in that structure."
   ]
  },
  {
   "cell_type": "markdown",
   "metadata": {},
   "source": [
    "For instance, Let's say we want to collect all dates from these decisions from the Conseil d'Etat. Instead of searching \n",
    "each text for a date, the .xml format is helpful: we can see that the date is enclosed in an element called \n",
    "`Date_Lecture`. We can just iterate over all files, and collect the dates.\n",
    "\n",
    "The first thing to understand is that when you parse an .xml document, you need to start from the root. From there, you typically iterate over their descendants, sometimes by specifying a condition: for \n",
    "instance, we can look for all `<p>` elements, which represent the paragraphs. You also have various levels of \n",
    "iterations: over siblings, children, or ancestors. Another alternative is to go through  all descendants and check \n",
    "if they are of the required type."
   ]
  },
  {
   "cell_type": "code",
   "execution_count": 7,
   "metadata": {},
   "outputs": [
    {
     "name": "stdout",
     "output_type": "stream",
     "text": [
      "835\n",
      "{'{http://www.w3.org/2001/XMLSchema-instance}noNamespaceSchemaLocation': 'validation-document.xsd'}\n",
      "Text of the element: \n",
      "\n"
     ]
    }
   ],
   "source": [
    "import pandas as pd\n",
    "from lxml import etree  # This is one of the main .xml reader module in Python, \n",
    "# the etree method from the lxml package. You need to : pip install lxml\n",
    "import os\n",
    "from datetime import datetime\n",
    "from collections import defaultdict, Counter\n",
    "\n",
    "#os.chdir(\"../Data/CE\")  # We go to the main folder that stores all files\n",
    "files = os.listdir(\".\") \n",
    "print(len(files))  # There are many files !\n",
    "\n",
    "file = files[0] # Let's work on the first file to get an example\n",
    "\n",
    "xml_file = etree.parse(file)  # We first open the .xml file with the \"parse\" method\n",
    "root = xml_file.getroot()  # We then look for the \"root\" of the XML tree, and pass it to a variable root\n",
    "\n",
    "print(root.attrib)  # You can check the attributes of every element this way\n",
    "print(\"Text of the element: \" + root.text)  # Likewise, the \"text\" attribute gives you the text inside an element; \n",
    "# root has no text, as you can see everything is in the elements instead"
   ]
  },
  {
   "cell_type": "markdown",
   "metadata": {},
   "source": [
    "Now, starting from the root, we can go through all its children and grandchildren. There are several ways to do this."
   ]
  },
  {
   "cell_type": "code",
   "execution_count": 9,
   "metadata": {},
   "outputs": [
    {
     "name": "stdout",
     "output_type": "stream",
     "text": [
      "Donnees_Techniques\n",
      "Dossier\n",
      "Audience\n",
      "Decision\n",
      "Vu la procédure suivante :\n",
      "Mme B D O'Sullivan a demandé au tribunal administratif de Lyon de condamner la chambre de commerce et d'industrie (CCI) Lyon Métropole Saint-Etienne Roanne à lui verser une somme de 90 658,24 euros en réparation des préjudices qu'elle soutient avoir subis en raison d'une insuffisance de cotisation imputable à l'établissement public, pris en sa qualité d'employeur, au régime de retraite des personnels des chambres consulaires.\n",
      "Par un jugement n° 1707967 du 6 novembre 2019, le tribunal administratif de Lyon a rejeté sa demande.\n",
      "Par un arrêt n° 20LY00150 du 9 décembre 2021, la cour administrative d'appel de Lyon a rejeté l'appel formé par Mme D O'Sullivan contre ce jugement.\n",
      "Par un pourvoi sommaire et un mémoire complémentaire, enregistrés les 9 février et 9 mai 2022 au secrétariat du contentieux du Conseil d'Etat, Mme D O'Sullivan demande au Conseil d'Etat :\n",
      "1°) d'annuler cet arrêt ;\n",
      "2°) réglant l'affaire au fond, de faire droit à son appel ;\n",
      "3°) de mettre à la charge de la chambre de commerce et d'industrie Lyon Métropole Saint-Etienne Roanne la somme de 3 000 euros au titre de l'article L. 761-1 du code de justice administrative.\n",
      "Vu les autres pièces du dossier ;\n",
      "Vu : \n",
      "- le code de la sécurité sociale ;\n",
      "- le décret n° 2015-1690 du 17 décembre 2015 ;\n",
      "- le statut du personnel administratif des chambres de commerce et d'industrie ;\n",
      "- le code de justice administrative ;\n",
      "Après avoir entendu en séance publique :\n",
      "- le rapport de M. Frédéric Gueudar Delahaye, conseiller d'Etat,  \n",
      "- les conclusions de M. A C de Vendeuil, rapporteur public ;\n",
      "La parole ayant été donnée, après les conclusions, à la SCP Foussard, Froger, avocat de Mme D E ;\n",
      "Considérant ce qui suit : \n",
      "1.Aux termes de l'article L. 822-1 du code de justice administrative : \" Le pourvoi en cassation devant le Conseil d'Etat fait l'objet d'une procédure préalable d'admission. L'admission est refusée par décision juridictionnelle si le pourvoi est irrecevable ou n'est fondé sur aucun moyen sérieux \".\n",
      "2.Pour demander l'annulation de l'arrêt qu'elle attaque, Mme D O'Sullivan soutient que la cour administrative d'appel de Lyon a :\n",
      "-commis une erreur de droit, ou à tout le moins une erreur de qualification juridique des faits, en jugeant que les dispositions de l'article 26 A du statut général des personnels titulaires des chambres consulaires n'instaurent pas d'obligation de maintenir l'agent autorisé à travailler à temps partiel à un niveau de cotisation égal à celui à temps complet ;\n",
      "-entaché son arrêt d'une erreur de qualification juridique des faits, ou à tout le moins d'une dénaturation de ces faits, en considérant que le manquement de la CCI à son devoir d'information quant à l'incidence de sa situation sur la constitution de ses droits à retraite n'était pas à l'origine d'un préjudice, alors que cette information lui aurait à tout le moins permis d'exercer l'option ouverte par l'article L.241-3-1 du code de la sécurité sociale ;\n",
      "-insuffisamment motivé son arrêt en ne répondant pas au moyen opérant tiré de l'impossibilité dans laquelle elle s'est trouvée de pouvoir exercer son droit d'option ouvert par l'article L.241-3-1 du code de la sécurité sociale, à raison du défaut d'information.\n",
      "3.Aucun de ces moyens n'est de nature à permettre\n",
      "      \n",
      "      D E C I D E :\n",
      "      --------------\n",
      "Article 1er : Le pourvoi de Erreur ! Aucune variable de document fournie. n'est pas admis.\n",
      "Article 2 : La présente décision sera notifiée à  et à la Chambre De Commerce Et D'industrie Lyon Métropole Saint-etienne RoanneCopie en sera adressée à la chambre de commerce et d'industrie Lyon Métropole Saint-Etienne Roanne.\n",
      "Délibéré à l'issue de la séance du 26 octobre 2022 où siégeaient : M. Gilles Pellissier, assesseur, présidant ; M. Benoît Bohnert, conseiller d'Etat et M. Frédéric Gueudar Delahaye, conseiller d'Etat-rapporteur. \n",
      "Rendu le 1er décembre 2022.\n",
      "      Le président : \n",
      "      Signé : M. Gilles Pellissier\n",
      "Le rapporteur :\n",
      "Signé : M. Frédéric Gueudar Delahaye\n",
      "      La secrétaire :\n",
      "      Signé : Mme Corinne SakITEZQOSK\n"
     ]
    }
   ],
   "source": [
    "for child in root:  # The parent element also works as a list of its children element, so you can easily iterate over it immediately like this\n",
    "    print(child.tag)\n",
    "\n",
    "for paragraph in root.iter(\"p\"):  # Though a better way to do it is with iter(); \n",
    "    # this command takes arguments that allow you to filter the descendants\n",
    "    print(paragraph.text) # This will return the text of the decision, paragraph by paragraph"
   ]
  },
  {
   "cell_type": "code",
   "execution_count": 10,
   "metadata": {
    "scrolled": true
   },
   "outputs": [
    {
     "name": "stdout",
     "output_type": "stream",
     "text": [
      "461328\n",
      "2022-12-05\n"
     ]
    }
   ],
   "source": [
    "for el in root.iter([\"Numero_Dossier\", \"Date_Lecture\"]):  # The filter can also be a list of relevant element names\n",
    "    print(el.text)"
   ]
  },
  {
   "cell_type": "markdown",
   "metadata": {},
   "source": [
    "Note also that you can navigate between the elements, to jump from elements to their parents, or siblings. This is very helpful if you know the tag of one element but aren't sure of what follows it; or if you want to work on several elements in line."
   ]
  },
  {
   "cell_type": "code",
   "execution_count": 27,
   "metadata": {},
   "outputs": [
    {
     "name": "stdout",
     "output_type": "stream",
     "text": [
      "The last child of root is:  Decision\n",
      "Audience\n",
      "Decision\n",
      "The second child from the root is:  <Element Dossier at 0x7fcc8cdc4900>\n",
      "Its parent is <Element Document at 0x7fcc8c3cce00>\n"
     ]
    }
   ],
   "source": [
    "for el in root:\n",
    "    pass  # An empty loop to make sure \"el\" is the last child of root\n",
    "print(\"The last child of root is: \", el.tag)\n",
    "\n",
    "prev_el = el.getprevious() # This method gets you the previous sibling\n",
    "print(prev_el.tag)\n",
    "next_el = prev_el.getnext()\n",
    "print(next_el.tag)\n",
    "subel = root.getchildren()[1]\n",
    "print(\"The second child from the root is: \", subel)\n",
    "print(\"Its parent is\", subel.getparent())"
   ]
  },
  {
   "cell_type": "markdown",
   "metadata": {},
   "source": [
    "Now, coming back to our example, we want to get the date for every decision. Note that if we want to do it for one file, we just need to find the relevant element (tag = \"Date_Lecture\"), and extract the data from that element."
   ]
  },
  {
   "cell_type": "code",
   "execution_count": 29,
   "metadata": {},
   "outputs": [
    {
     "name": "stdout",
     "output_type": "stream",
     "text": [
      "2022-12-05\n"
     ]
    }
   ],
   "source": [
    "for el in root.iter(\"Date_Lecture\"):  # the Date_Lecture element contains the judgment's date; \n",
    "    # Easiest way in XML is to filter all descendants to get only the one we are interesting in\n",
    "    date = el.text\n",
    "print(date)"
   ]
  },
  {
   "cell_type": "markdown",
   "metadata": {},
   "source": [
    "Therefore, to obtain it from all judgments, we just need to loop over all files."
   ]
  },
  {
   "cell_type": "code",
   "execution_count": 30,
   "metadata": {},
   "outputs": [
    {
     "name": "stdout",
     "output_type": "stream",
     "text": [
      "2022-12-05\n",
      "2022-12-16\n",
      "2022-12-20\n",
      "2022-12-12\n",
      "2022-12-27\n",
      "2022-12-09\n",
      "2022-12-16\n",
      "2022-12-21\n",
      "2022-12-09\n",
      "2022-12-28\n"
     ]
    }
   ],
   "source": [
    "for file in files[:10]:  # Remember we defined os.listdir(\".\") as files above, and looping only over the first 10\n",
    "    xml_file = etree.parse(file)  # We open each .xml file with the \"parse\" method\n",
    "    root = xml_file.getroot()  # And we goot the root\n",
    "    for el in root.iter(\"Date_Lecture\"):  # the Date_Lecture element contains the judgment's date; \n",
    "    # Easiest way in XML is to filter all descendants to get only the one we are interesting in\n",
    "        date = el.text\n",
    "    print(date)"
   ]
  },
  {
   "cell_type": "markdown",
   "metadata": {},
   "source": [
    "Now, if we wanted to recreate a full database of all relevant data points in each judgment, we can just use the list of list method.\n",
    "This methods leverages the fact that  a dataframe is nothing but a list of sublists of equal length, with each sublist being a row (see <a href=\"https://www.geeksforgeeks.org/creating-pandas-dataframe-using-list-of-lists/\">here</a> for more details)."
   ]
  },
  {
   "cell_type": "code",
   "execution_count": 32,
   "metadata": {},
   "outputs": [
    {
     "data": {
      "text/html": [
       "<div>\n",
       "<style scoped>\n",
       "    .dataframe tbody tr th:only-of-type {\n",
       "        vertical-align: middle;\n",
       "    }\n",
       "\n",
       "    .dataframe tbody tr th {\n",
       "        vertical-align: top;\n",
       "    }\n",
       "\n",
       "    .dataframe thead th {\n",
       "        text-align: right;\n",
       "    }\n",
       "</style>\n",
       "<table border=\"1\" class=\"dataframe\">\n",
       "  <thead>\n",
       "    <tr style=\"text-align: right;\">\n",
       "      <th></th>\n",
       "      <th>Numero_Dossier</th>\n",
       "      <th>Date_Lecture</th>\n",
       "      <th>Date_Audience</th>\n",
       "      <th>Avocat_Requerant</th>\n",
       "      <th>Type_Decision</th>\n",
       "      <th>Type_Recours</th>\n",
       "      <th>Formation_Jugement</th>\n",
       "    </tr>\n",
       "  </thead>\n",
       "  <tbody>\n",
       "    <tr>\n",
       "      <th>0</th>\n",
       "      <td>461328</td>\n",
       "      <td>2022-12-05</td>\n",
       "      <td>2022-10-26</td>\n",
       "      <td>ROCHETEAU, UZAN-SARANO &amp; GOULET</td>\n",
       "      <td>Décision</td>\n",
       "      <td>Plein contentieux</td>\n",
       "      <td>7ème chambre jugeant seule</td>\n",
       "    </tr>\n",
       "    <tr>\n",
       "      <th>1</th>\n",
       "      <td>463896</td>\n",
       "      <td>2022-12-16</td>\n",
       "      <td>2022-11-28</td>\n",
       "      <td></td>\n",
       "      <td>Décision</td>\n",
       "      <td>Plein contentieux</td>\n",
       "      <td>9ème chambre jugeant seule</td>\n",
       "    </tr>\n",
       "    <tr>\n",
       "      <th>2</th>\n",
       "      <td>469368</td>\n",
       "      <td>2022-12-20</td>\n",
       "      <td>2022-12-14</td>\n",
       "      <td>CRUSOE</td>\n",
       "      <td>Décision</td>\n",
       "      <td>Excès de pouvoir</td>\n",
       "      <td>Juge des référés, formation collégiale</td>\n",
       "    </tr>\n",
       "    <tr>\n",
       "      <th>3</th>\n",
       "      <td>465668</td>\n",
       "      <td>2022-12-12</td>\n",
       "      <td>2022-11-17</td>\n",
       "      <td></td>\n",
       "      <td>Décision</td>\n",
       "      <td>Rectif. d'erreur matérielle</td>\n",
       "      <td>9ème chambre jugeant seule</td>\n",
       "    </tr>\n",
       "    <tr>\n",
       "      <th>4</th>\n",
       "      <td>467773</td>\n",
       "      <td>2022-12-27</td>\n",
       "      <td></td>\n",
       "      <td></td>\n",
       "      <td>Ordonnance</td>\n",
       "      <td>Excès de pouvoir</td>\n",
       "      <td>5ème chambre</td>\n",
       "    </tr>\n",
       "    <tr>\n",
       "      <th>5</th>\n",
       "      <td>464514</td>\n",
       "      <td>2022-12-09</td>\n",
       "      <td>2022-11-24</td>\n",
       "      <td>SCP PIWNICA, MOLINIE</td>\n",
       "      <td>Décision</td>\n",
       "      <td>Plein contentieux</td>\n",
       "      <td>2ème chambre jugeant seule</td>\n",
       "    </tr>\n",
       "    <tr>\n",
       "      <th>6</th>\n",
       "      <td>465895</td>\n",
       "      <td>2022-12-16</td>\n",
       "      <td>2022-12-08</td>\n",
       "      <td></td>\n",
       "      <td>Décision</td>\n",
       "      <td>Plein contentieux</td>\n",
       "      <td>8ème chambre jugeant seule</td>\n",
       "    </tr>\n",
       "    <tr>\n",
       "      <th>7</th>\n",
       "      <td>458650</td>\n",
       "      <td>2022-12-21</td>\n",
       "      <td>2022-12-02</td>\n",
       "      <td></td>\n",
       "      <td>Décision</td>\n",
       "      <td>Plein contentieux</td>\n",
       "      <td>9ème et 10ème chambres réunies</td>\n",
       "    </tr>\n",
       "    <tr>\n",
       "      <th>8</th>\n",
       "      <td>461508</td>\n",
       "      <td>2022-12-09</td>\n",
       "      <td>2022-11-24</td>\n",
       "      <td>SCP GASCHIGNARD, LOISEAU, MASSIGNON</td>\n",
       "      <td>Décision</td>\n",
       "      <td>Excès de pouvoir</td>\n",
       "      <td>2ème chambre jugeant seule</td>\n",
       "    </tr>\n",
       "    <tr>\n",
       "      <th>9</th>\n",
       "      <td>444845</td>\n",
       "      <td>2022-12-28</td>\n",
       "      <td>2022-12-07</td>\n",
       "      <td>DELALANDE;SCP PIWNICA, MOLINIE</td>\n",
       "      <td>Décision</td>\n",
       "      <td>Excès de pouvoir</td>\n",
       "      <td>6ème et 5ème chambres réunies</td>\n",
       "    </tr>\n",
       "  </tbody>\n",
       "</table>\n",
       "</div>"
      ],
      "text/plain": [
       "  Numero_Dossier Date_Lecture Date_Audience  \\\n",
       "0         461328   2022-12-05    2022-10-26   \n",
       "1         463896   2022-12-16    2022-11-28   \n",
       "2         469368   2022-12-20    2022-12-14   \n",
       "3         465668   2022-12-12    2022-11-17   \n",
       "4         467773   2022-12-27                 \n",
       "5         464514   2022-12-09    2022-11-24   \n",
       "6         465895   2022-12-16    2022-12-08   \n",
       "7         458650   2022-12-21    2022-12-02   \n",
       "8         461508   2022-12-09    2022-11-24   \n",
       "9         444845   2022-12-28    2022-12-07   \n",
       "\n",
       "                      Avocat_Requerant Type_Decision  \\\n",
       "0      ROCHETEAU, UZAN-SARANO & GOULET      Décision   \n",
       "1                                           Décision   \n",
       "2                               CRUSOE      Décision   \n",
       "3                                           Décision   \n",
       "4                                         Ordonnance   \n",
       "5                 SCP PIWNICA, MOLINIE      Décision   \n",
       "6                                           Décision   \n",
       "7                                           Décision   \n",
       "8  SCP GASCHIGNARD, LOISEAU, MASSIGNON      Décision   \n",
       "9       DELALANDE;SCP PIWNICA, MOLINIE      Décision   \n",
       "\n",
       "                  Type_Recours                      Formation_Jugement  \n",
       "0            Plein contentieux              7ème chambre jugeant seule  \n",
       "1            Plein contentieux              9ème chambre jugeant seule  \n",
       "2             Excès de pouvoir  Juge des référés, formation collégiale  \n",
       "3  Rectif. d'erreur matérielle              9ème chambre jugeant seule  \n",
       "4             Excès de pouvoir                            5ème chambre  \n",
       "5            Plein contentieux              2ème chambre jugeant seule  \n",
       "6            Plein contentieux              8ème chambre jugeant seule  \n",
       "7            Plein contentieux          9ème et 10ème chambres réunies  \n",
       "8             Excès de pouvoir              2ème chambre jugeant seule  \n",
       "9             Excès de pouvoir           6ème et 5ème chambres réunies  "
      ]
     },
     "execution_count": 32,
     "metadata": {},
     "output_type": "execute_result"
    }
   ],
   "source": [
    "details = [\"Numero_Dossier\", \"Date_Lecture\", \"Date_Audience\", \"Avocat_Requerant\", \"Type_Decision\", \"Type_Recours\",\n",
    "\"Formation_Jugement\"]  # All the relevant data points/elements in our judgments\n",
    "lists_details = []  # Easiest way to create a dataframe is first to have a list of lists, \n",
    "# and then pass it to pd.Dataframe(lists, columns=details)\n",
    "\n",
    "for file in files:\n",
    "    newlist = []  # We create a new, empty sublist, every time we switch to a new file; \n",
    "    # that sublist will be filled with relevant data and added to main list; each sublist will have the same length\n",
    "    XML = etree.parse(file)\n",
    "    root = XML.getroot()\n",
    "\n",
    "    for detail in details:  # For each file, we iterate over each type of detail, using a loop\n",
    "        result = \"\"\n",
    "        for el in root.iter(detail):  # and we use this detail to filter from all descendants in root\n",
    "            result = el.text\n",
    "        newlist.append(result)  # we then pass the result to the sublist created above\n",
    "\n",
    "    lists_details.append(newlist)  # Before the loop concludes with one file and passes on to the next, \n",
    "    # we append the (filled) newlist to main list\n",
    "\n",
    "df = pd.DataFrame(lists_details, columns = details)  # Out of the loop, we create a dataframe based on that list of lists\n",
    "df.head(10)\n",
    "# df.to_clipboard(index=False) # Finally, we copy the DataFrame so as to paste it (CTRL+V) in Excel"
   ]
  }
 ],
 "metadata": {
  "kernelspec": {
   "display_name": "Python 3.9",
   "language": "python",
   "name": "python3.9"
  },
  "language_info": {
   "codemirror_mode": {
    "name": "ipython",
    "version": 3
   },
   "file_extension": ".py",
   "mimetype": "text/x-python",
   "name": "python",
   "nbconvert_exporter": "python",
   "pygments_lexer": "ipython3",
   "version": "3.9.13"
  }
 },
 "nbformat": 4,
 "nbformat_minor": 1
}
