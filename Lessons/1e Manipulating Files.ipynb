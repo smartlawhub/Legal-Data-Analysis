{
 "cells": [
  {
   "cell_type": "markdown",
   "metadata": {},
   "source": [
    "# Manipulating Files\n",
    "\n",
    "This course is about data analysis, not software creating. You'll mostly use the Console, and won't \n",
    "particularly need to write `.py` scripts, invent new classes, etc. Scripts can record methods and functions you \n",
    "invented, but most analyses are transient: you use it on the go, sometimes for a single task, and get to something \n",
    "else.\n",
    "\n",
    "And yet, the data to be analysed needs to be stored. We'll now see the basics of this."
   ]
  },
  {
   "cell_type": "markdown",
   "metadata": {},
   "source": [
    "## Navigating Files\n",
    "\n",
    "But first a word about how computers work. You've got memory: your hard drive. You've got RAM: Random \n",
    "Access Memory, which is what your computer use to perform its basic tasks. There is a constant <i>va et vient</i> \n",
    "between the two. When you create a new variable in the Console, it's stored in RAM; if you want to use it next time, \n",
    "you need to store it in the secondary, hard memory.\n",
    "\n",
    "You can do that through Python, but you need an interface between the code and your computer \n",
    "environment. Fortunately, Python relies on the same kind of methods that are at the basis of most computers (since \n",
    "they get their roots in the UNIX system). If you open the Command Prompt (`cmd` on Windows, or the Terminal on a Mac),\n",
    "you can navigate between folders with the command `cd` (for \"Change directory\"), or create a new folder with `mkdir`."
   ]
  },
  {
   "cell_type": "markdown",
   "metadata": {},
   "source": [
    "Three commands in particular will be useful during this course:\n",
    "<ul><li><b>os.getcwd()</b>, which means \"Get Current Working Directory\", outputs the current position of Python \n",
    "within your files</li>\n",
    "<li><b>os.chdir(\"x\")</b>, which \"changes dir\" to the directory x you specify in argument (x needs to be a subfolder \n",
    "of the current folder: you cannot directly change dir to a sub-sub-folder, for instance).</li>\n",
    "<li><b>os.listdir(\".\")</b>, which returns a list of files in a directory (using the \".\" argument means: in the \n",
    "current directory.)</li></ul>\n",
    "\n",
    "(Note that the argument we gave to the listdir() method was \".\", which usually means \"this current folder\", whereas \n",
    "\"..\" always means \"parent folder\".)"
   ]
  },
  {
   "cell_type": "code",
   "execution_count": 1,
   "metadata": {},
   "outputs": [
    {
     "name": "stdout",
     "output_type": "stream",
     "text": [
      "/home/DamienCh/LDA/Lessons\n",
      "/home/DamienCh/LDA\n",
      "['bin', '.gitignore', 'Lessons', 'pyvenv.cfg', 'lib', 'Data', 'Scripts']\n",
      "['.ipynb_checkpoints', '1e Manipulating Files.ipynb', '1b Lists.ipynb', '1c Functions and Methods.ipynb', '1d Syntax.ipynb', '1.a Variables.md']\n"
     ]
    }
   ],
   "source": [
    "import os\n",
    "\n",
    "current_path = os.getcwd()\n",
    "print(current_path)\n",
    "\n",
    "os.chdir(\"..\")\n",
    "new_path = os.getcwd() \n",
    "print(new_path)\n",
    "\n",
    "print(os.listdir(\".\"))  # We check what files and subfolders are in the folder\n",
    "os.chdir(\"Lessons\") \n",
    "print(os.listdir(\".\"))"
   ]
  },
  {
   "cell_type": "markdown",
   "metadata": {},
   "source": [
    "`os` is also very helpful to manipulate files from Python, for instance renaming them. Instead of spending hours \n",
    "renaming hundreds of files (a common thing for junior lawyers), you can do it with the `os.rename(x, y)` method, which changes file x into y.\n",
    "\n",
    "Note that the resulting file is now corrupted: you changed the extension from `txt` to `.txta`, which is unknown - \n",
    "and so you can't read it anymore. There are ways to control for this, but this is the subject of the exercise."
   ]
  },
  {
   "cell_type": "code",
   "execution_count": 7,
   "metadata": {},
   "outputs": [
    {
     "name": "stdout",
     "output_type": "stream",
     "text": [
      "The new file list is:  ['Empty File is also Empty (or is it)1.txt', 'Empty File is Empty.txta', 'poem.txt']\n",
      "['Empty File is Empty.txt', 'Empty File is also Empty (or is it)1.txt', 'poem.txt']\n"
     ]
    }
   ],
   "source": [
    "file = \"../Data/Empty File is Empty.txt\"  # We select a file that is in the folder Data and attribute its name to a variable\n",
    "newnamefile = file + \"a\"  # We decide on a new name to give that file\n",
    "os.rename(file, newnamefile)\n",
    "print(\"The new file list is: \", os.listdir(\"../Data\"))\n",
    "os.rename(newnamefile, newnamefile[:-1])  # We do it a second time to revert to original name\n",
    "print(os.listdir(\"../Data\"))"
   ]
  },
  {
   "cell_type": "markdown",
   "metadata": {},
   "source": [
    "## Load and Store data\n",
    "\n",
    "Anyhow, back to storing data. The canonical way to do it in Python is by opening a file and storing it in a \n",
    "variable. This variable (or object) comes with distinct methods, such as \"read()\" which returns the data inside the \n",
    "file. Another method is \"write()\", which allows you to add to the existing data.\n",
    "\n",
    "To create a new file, you'd use the with syntax `with open(\"your_file_name.txt\", \"a\") as f:`; and then, in the \n",
    "indented part of the code, you use the \"write()\" method of the \"f\" object to add your text to the data.\n",
    "Note the \"a\"argument, which means that you want to both read and write in the file (you could input \"r\" only for reading, or \"w\" only for writing). \n",
    "\n",
    "*** You may want to learn a bit about encoding, and the <a href=\"https://nedbatchelder.com/text/unipain/unipain. html#1\">Unipain</a>***"
   ]
  },
  {
   "cell_type": "code",
   "execution_count": 9,
   "metadata": {},
   "outputs": [
    {
     "name": "stdout",
     "output_type": "stream",
     "text": [
      "The Frivolous Cake\n",
      "1.1  A freckled and frivolous cake there was\n",
      "1.1  That sailed upon a pointless sea, \n",
      "1.2  Or any lugubrious lake there was\n",
      "1.3  In a manner emphatic and free.\n",
      "1.4  How jointlessly, and how jointlessly\n",
      "1.5  The frivolous cake sailed by\n",
      "1.6  On the waves of the ocean that pointlessly\n",
      "1.7  Threw fish to the lilac sky.\n",
      "\n",
      "2.1  Oh, plenty and plenty of hake there was\n",
      "2.1  Of a glory beyond compare, \n",
      "2.2  And every conceivable make there was\n",
      "2.3  Was tossed through the lilac air.\n",
      "\n",
      "3.1  Up the smooth billows and over the crests\n",
      "3.1  Of the cumbersome combers flew\n",
      "3.2  The frivolous cake with a knife in the wake\n",
      "3.3  Of herself and her curranty crew.\n",
      "3.4  Like a swordfish grim it would bounce and skim\n",
      "3.5  (This dinner knife fierce and blue) , \n",
      "3.6  And the frivolous cake was filled to the brim\n",
      "3.7  With the fun of her curranty crew.\n",
      "\n",
      "4.1  Oh, plenty and plenty of hake there was\n",
      "4.1  Of a glory beyond compare -\n",
      "4.2  And every conceivable make there was\n",
      "4.3  Was tossed through the lilac air.\n",
      "\n",
      "5.1  Around the shores of the Elegant Isles\n",
      "5.1  Where the cat-fish bask and purr\n",
      "5.2  And lick their paws with adhesive smiles\n",
      "5.3  And wriggle their fins of fur, \n",
      "5.4  They fly and fly neath the lilac sky -\n",
      "5.5  The frivolous cake, and the knife\n",
      "5.6  Who winketh his glamorous indigo eye\n",
      "5.7  In the wake of his future wife.\n",
      "\n",
      "6.1  The crumbs blow free down the pointless sea\n",
      "6.1  To the beat of a cakey heart\n",
      "6.2  And the sensitive steel of the knife can feel\n",
      "6.3  That love is a race apart\n",
      "6.4  In the speed of the lingering light are blown\n",
      "6.5  The crumbs to the hake above, \n",
      "6.6  And the tropical air vibrates to the drone\n",
      "6.7  Of a cake in the throes of love.\n"
     ]
    },
    {
     "data": {
      "text/plain": [
       "['Empty File is Empty.txt',\n",
       " 'Empty File is also Empty (or is it)1.txt',\n",
       " 'poem2.txt',\n",
       " 'poem.txt']"
      ]
     },
     "execution_count": 9,
     "metadata": {},
     "output_type": "execute_result"
    }
   ],
   "source": [
    "f = open(\"../Data/poem.txt\", encoding=\"latin1\")\n",
    "poem = f.read()\n",
    "print(poem)\n",
    "f.close()\n",
    "\n",
    "with open(\"../Data/poem2.txt\", \"a\", encoding=\"utf8\") as f:\n",
    "    f.write(poem)\n",
    "    \n",
    "os.listdir(\"../Data\")  # We check that we indeed saved a new \"poem2\" file in the Data folder"
   ]
  },
  {
   "cell_type": "markdown",
   "metadata": {},
   "source": [
    "This is text data, arguably the most straightforward type of data to handle. As we'll see in the next \n",
    "task, however, a lot of what you'll be handling is structured data: either in marked-up format (XML, HTML), or in \n",
    "some kind of spreadsheet. You probably know Excel's native `.xls` format for spreadsheet, but there are plenty \n",
    "others, and a good deal of data analysis relies on a simple format called `.csv` - which stands for comma-separated \n",
    "value.\n",
    "\n",
    "Depending on what you do, you might not need to rely on these methods much: we'll see at some point \n",
    "how to handle data with pandas, which has its own, more straightforward methods to save and load data. Likewise, XML \n",
    "tools in Python typically have their own methods."
   ]
  },
  {
   "cell_type": "markdown",
   "metadata": {},
   "source": [
    "# PDFs\n",
    "\n",
    "Beyond text, .csv, and structured content, data is sometimes enclosed in .pdfs. Now, this is an issue: .\n",
    "pdfs are not meant for data analysis, their (main) interest, and the reason why they have been invented, is to be a \n",
    "format that preserves a maximum the appearance of a file, on all platforms. But this is not a data-friendly format.\n",
    "\n",
    "Unfortunately, a lot of data out here is found in .pdfs, so you'll have to wrestle with them to extract their data. \n",
    "For this, you'll need to use a third-party library dedicated to .pdfs files, such as `pyPDF2` or `pdfminer`. But the \n",
    "principle is the same: you open your .pdf and store it in an object, and then you use methods from this object (they \n",
    "would differ depending on the package used) to obtain the data you are interested in."
   ]
  },
  {
   "cell_type": "code",
   "execution_count": 14,
   "metadata": {},
   "outputs": [
    {
     "name": "stdout",
     "output_type": "stream",
     "text": [
      " \n",
      " \n",
      "INTERNATIONAL COURT OF JUSTICE\n",
      " \n",
      "Peace Palace, \n",
      "Car negieplein 2, \n",
      "2517 KJ \n",
      " \n",
      "The Hague, Netherlands\n",
      " \n",
      "Te\n",
      "l\n",
      ".\n",
      ":\n",
      " \n",
      "+31 (0)\n",
      "70\n",
      " \n",
      "302 2323\n",
      "   \n",
      "Fax: +31 (0)\n",
      "70 364 9928\n",
      " \n",
      "Website\n",
      "   \n",
      "Twitter\n",
      "   \n",
      "YouTube\n",
      "   \n",
      "LinkedIn \n",
      " \n",
      " \n",
      " \n",
      "Press R elease\n",
      " \n",
      "Un official\n",
      " \n",
      " \n",
      " \n",
      " \n",
      " \n",
      "No.\n",
      " \n",
      "20\n",
      "2\n",
      "1\n",
      "/\n",
      "35\n",
      " \n",
      " \n",
      "7\n",
      " \n",
      "December\n",
      " \n",
      "20\n",
      "2\n",
      "1\n",
      " \n",
      " \n",
      " \n",
      " \n",
      "Application of the International Convention on the Elimination of All Forms \n",
      " \n",
      "of Racial Discrimination (Azerbaijan\n",
      " \n",
      "v. \n",
      "Armenia)\n",
      " \n",
      " \n",
      "The Court  indicat es provisional measures t o prot\n"
     ]
    }
   ],
   "source": [
    "import PyPDF2 as PDF  # It's a third-party module, so you may have to install first with \"pip install pypdf2\"\n",
    "\n",
    "pdf = PDF.PdfFileReader(\"../Data/Example.pdf\")  # We open the .pdf file found in the Data folder\n",
    "num_pages = pdf.getNumPages()\n",
    "text = \"\"\n",
    "for page in range(0, num_pages):\n",
    "    text += pdf.getPage(page).extractText()  # You need to loop over the number of pages to extract the whole text\n",
    "\n",
    "print(text[:500])  # Printed text (the first 500 charac) is not great (page number appears, words are cut, URLs are not captured)"
   ]
  }
 ],
 "metadata": {
  "kernelspec": {
   "display_name": "Python 3.9",
   "language": "python",
   "name": "python3.9"
  },
  "language_info": {
   "codemirror_mode": {
    "name": "ipython",
    "version": 3
   },
   "file_extension": ".py",
   "mimetype": "text/x-python",
   "name": "python",
   "nbconvert_exporter": "python",
   "pygments_lexer": "ipython3",
   "version": "3.9.13"
  }
 },
 "nbformat": 4,
 "nbformat_minor": 1
}
