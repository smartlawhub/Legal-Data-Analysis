{
 "cells": [
  {
   "cell_type": "markdown",
   "metadata": {},
   "source": [
    "# Datasets\n",
    "\n",
    "## Explore a dataset\n",
    "\n",
    "Let's turn to an existing dataset, which you can find on data.gouv.fr. <a href=\"https://www.data.gouv.fr/fr/datasets/avis-et-conseils-de-la-cada/\">here</a>.\n",
    "\n",
    "This is a heavy file - we'll downsize it a bit later -, which collects all decisions by the CADA since its creation until May 2022, nearly 50,000 in total. We'll clean and perform basic analyses of this file, so as to answer a very simple and distinctive question: is the rate of positive/negative decisions by the CADA influenced by elections ?\n",
    "\n",
    "(I recommend <a href=\"https://www.python-graph-gallery.com/cheat-sheets/\">these cheatsheets</a> for everything we'll be learning in this and the next two parts.)\n",
    "\n",
    "CSV cells, when opened in the MSExcel software, have a character limit (exactly 32,767 for a single cell, the same as an Excel, although the latter also have row and columns limits), and it's quite frequent that this is exceeded when dealing with texts. \n",
    "\n",
    "Sure enough, this one has an error at some point, which is clearly visible when you open the file on MSExcel.\n",
    "\n",
    "![](../Data/Images/cadafail.png)\n",
    "\n",
    "This is not, however, an issue with pandas in this case (sometimes it can be, which would require you to clean the dataset first - for instance by removing lines that do not follow the normal structure of starting with a number ID, or lines where some columns are not properly filled in, etc.).\n",
    "\n",
    "We can perform a tiny bit of data analysis already at this stage, looking at the type of data per column, or some basic description for our numerical columns.\n"
   ]
  },
  {
   "cell_type": "code",
   "execution_count": 56,
   "metadata": {},
   "outputs": [
    {
     "name": "stdout",
     "output_type": "stream",
     "text": [
      "49651\n",
      "___________\n",
      "   Numéro de dossier                                     Administration  \\\n",
      "0         19840002.0                             ministre de la défense   \n",
      "1         19840003.0                             ministre de la défense   \n",
      "2         19850001.0  ministre de l'économie, des finances et du budget   \n",
      "3         19860001.0  directeur départemental du travail et de l'emp...   \n",
      "4         19870061.0                  gouverneur de la Banque de France   \n",
      "5         19870380.0  directeur de la caisse régionale d'assurance m...   \n",
      "6         19881774.0                       directeur général des impôts   \n",
      "7         19881993.0                            ministre de l'intérieur   \n",
      "8         19890099.0  ministre de l'intérieur (direction de la logis...   \n",
      "9         19890845.0  ministre de la justice (direction de l'adminis...   \n",
      "10        19900254.0                                 maire de Dunkerque   \n",
      "11        19900695.0  chef de l'inspection générale des affaires soc...   \n",
      "12        19900868.0     Président du conseil général de la Haute-Corse   \n",
      "13        19901565.0           Président de l'Ecole privée Saint-Joseph   \n",
      "14        19901932.0  directeur de la caisse d'allocations familiale...   \n",
      "\n",
      "       Type   Année      Séance  \\\n",
      "0      Avis  1984.0  03/03/1984   \n",
      "1      Avis  1984.0  13/12/1984   \n",
      "2      Avis  1985.0  05/12/1985   \n",
      "3   Conseil  1986.0  30/01/1986   \n",
      "4      Avis  1987.0  02/04/1987   \n",
      "5      Avis  1987.0  30/04/1987   \n",
      "6      Avis  1988.0  24/11/1988   \n",
      "7      Avis  1988.0  22/12/1988   \n",
      "8      Avis  1989.0  19/01/1989   \n",
      "9   Conseil  1989.0  18/05/1989   \n",
      "10  Conseil  1990.0  08/02/1990   \n",
      "11     Avis  1990.0  10/05/1990   \n",
      "12  Conseil  1990.0  23/05/1990   \n",
      "13     Avis  1990.0  27/09/1990   \n",
      "14     Avis  1990.0  22/11/1990   \n",
      "\n",
      "                                                Objet  \\\n",
      "0                                         [Voir avis]   \n",
      "1                                         [Voir avis]   \n",
      "2                                         [Voir avis]   \n",
      "3                                         (voir avis)   \n",
      "4                                         [Voir avis]   \n",
      "5                                         [Voir avis]   \n",
      "6                                         (voir avis)   \n",
      "7                                         [Voir avis]   \n",
      "8   - instructions, circulaires et guides opérateu...   \n",
      "9   - \"tableau de service\" du centre de détention ...   \n",
      "10  - liste des personnels handicapés employés par...   \n",
      "11  - dossier déposé par Monsieur G. pour le trans...   \n",
      "12  - communication à un tiers de l'arrêté radiant...   \n",
      "13  - budget de l'école privée Saint-Joseph pour l...   \n",
      "14  - lettre émanant de Mme C. figurant au dossier...   \n",
      "\n",
      "                                  Thème et sous thème  \\\n",
      "0   Justice, Ordre Public Et Sécurité/Défense Et D...   \n",
      "1   Economie, Industrie, Agriculture/Secteurs Écon...   \n",
      "2   Justice, Ordre Public Et Sécurité/Association,...   \n",
      "3                  Travail Et Emploi/Droit Du Travail   \n",
      "4   Economie, Industrie, Agriculture/Secteurs Écon...   \n",
      "5   Affaires Sanitaires Et Sociales/Solidarités Et...   \n",
      "6   Finances Publiques Et Fiscalité/Contrôle Fisca...   \n",
      "7   Justice, Ordre Public Et Sécurité/Sécurité Civ...   \n",
      "8   Justice, Ordre Public Et Sécurité/Sécurité Civ...   \n",
      "9   Travail Et Emploi/Emploi Public, Justice, Ordr...   \n",
      "10                    Travail Et Emploi/Emploi Public   \n",
      "11  Affaires Sanitaires Et Sociales/Santé Publique...   \n",
      "12                    Travail Et Emploi/Emploi Public   \n",
      "13  Enseignement, Culture, Loisirs/Enseignement Sc...   \n",
      "14  Affaires Sanitaires Et Sociales/Solidarités Et...   \n",
      "\n",
      "                                  Mots clés  \\\n",
      "0                                     Armée   \n",
      "1                                     Armée   \n",
      "2                                             \n",
      "3       Licenciement, Conditions de travail   \n",
      "4                     Banques et assurances   \n",
      "5   Sécurité sociale, Conditions de travail   \n",
      "6                                             \n",
      "7               Politique et réglementation   \n",
      "8               Politique et réglementation   \n",
      "9              Carrière, Lieux de détention   \n",
      "10                          Carrière, Santé   \n",
      "11                               Médicament   \n",
      "12                 Territoriale, Discipline   \n",
      "13                                            \n",
      "14                         Sécurité sociale   \n",
      "\n",
      "                                   Sens et motivation Partie  \\\n",
      "0                                 Défavorable/Défense    III   \n",
      "1   Irrecevable/Imprécise, Défavorable/Défense, In...    III   \n",
      "2                                         Défavorable    III   \n",
      "3                   Défavorable/Procédure, Sans objet    III   \n",
      "4   Défavorable/Sécurité publique, Favorable/Sauf ...    III   \n",
      "5                                  Défavorable/Secret    III   \n",
      "6                               Défavorable/Procédure    III   \n",
      "7                     Défavorable/Abusive, Sans objet    III   \n",
      "8                                           Favorable    III   \n",
      "9                       Défavorable/Sécurité publique     II   \n",
      "10                             Défavorable/Vie privée     II   \n",
      "11               Favorable/Sauf commercial industriel     II   \n",
      "12                                          Favorable     II   \n",
      "13                                          Favorable    III   \n",
      "14                                          Favorable     II   \n",
      "\n",
      "                                                 Avis  \n",
      "0   La commission d'accès aux documents administra...  \n",
      "1   La commission d'accès aux documents administra...  \n",
      "2   La commission d'accès aux documents administra...  \n",
      "3   La commission d'accès aux documents administra...  \n",
      "4   La commission d'accès aux documents administra...  \n",
      "5   La commission d'accès aux documents administra...  \n",
      "6   La commission d'accès aux documents administra...  \n",
      "7   La commission d'accès aux documents administra...  \n",
      "8   La commission d'accès aux documents administra...  \n",
      "9   La commission d'accès aux documents administra...  \n",
      "10  communication de la liste des personnels handi...  \n",
      "11  La commission d'accès aux documents administra...  \n",
      "12  La commission d'accès aux documents administra...  \n",
      "13  La commission d'accès aux documents administra...  \n",
      "14  favorable à la communication à Mme C., par vou...  \n",
      "___________\n"
     ]
    },
    {
     "data": {
      "text/html": [
       "<div>\n",
       "<style scoped>\n",
       "    .dataframe tbody tr th:only-of-type {\n",
       "        vertical-align: middle;\n",
       "    }\n",
       "\n",
       "    .dataframe tbody tr th {\n",
       "        vertical-align: top;\n",
       "    }\n",
       "\n",
       "    .dataframe thead th {\n",
       "        text-align: right;\n",
       "    }\n",
       "</style>\n",
       "<table border=\"1\" class=\"dataframe\">\n",
       "  <thead>\n",
       "    <tr style=\"text-align: right;\">\n",
       "      <th></th>\n",
       "      <th>Numéro de dossier</th>\n",
       "      <th>Administration</th>\n",
       "      <th>Type</th>\n",
       "      <th>Année</th>\n",
       "      <th>Séance</th>\n",
       "      <th>Objet</th>\n",
       "      <th>Thème et sous thème</th>\n",
       "      <th>Mots clés</th>\n",
       "      <th>Sens et motivation</th>\n",
       "      <th>Partie</th>\n",
       "      <th>Avis</th>\n",
       "    </tr>\n",
       "  </thead>\n",
       "  <tbody>\n",
       "    <tr>\n",
       "      <th>count</th>\n",
       "      <td>49651</td>\n",
       "      <td>49651</td>\n",
       "      <td>49651</td>\n",
       "      <td>49651</td>\n",
       "      <td>49651</td>\n",
       "      <td>49651</td>\n",
       "      <td>49651</td>\n",
       "      <td>49651</td>\n",
       "      <td>49651</td>\n",
       "      <td>49651</td>\n",
       "      <td>49651</td>\n",
       "    </tr>\n",
       "    <tr>\n",
       "      <th>unique</th>\n",
       "      <td>3047</td>\n",
       "      <td>2448</td>\n",
       "      <td>4</td>\n",
       "      <td>28</td>\n",
       "      <td>359</td>\n",
       "      <td>2953</td>\n",
       "      <td>621</td>\n",
       "      <td>461</td>\n",
       "      <td>345</td>\n",
       "      <td>4</td>\n",
       "      <td>3046</td>\n",
       "    </tr>\n",
       "    <tr>\n",
       "      <th>top</th>\n",
       "      <td></td>\n",
       "      <td></td>\n",
       "      <td></td>\n",
       "      <td></td>\n",
       "      <td></td>\n",
       "      <td></td>\n",
       "      <td></td>\n",
       "      <td></td>\n",
       "      <td></td>\n",
       "      <td></td>\n",
       "      <td></td>\n",
       "    </tr>\n",
       "    <tr>\n",
       "      <th>freq</th>\n",
       "      <td>46605</td>\n",
       "      <td>46605</td>\n",
       "      <td>46605</td>\n",
       "      <td>46605</td>\n",
       "      <td>46605</td>\n",
       "      <td>46615</td>\n",
       "      <td>46605</td>\n",
       "      <td>47486</td>\n",
       "      <td>46609</td>\n",
       "      <td>46606</td>\n",
       "      <td>46605</td>\n",
       "    </tr>\n",
       "  </tbody>\n",
       "</table>\n",
       "</div>"
      ],
      "text/plain": [
       "       Numéro de dossier Administration   Type  Année Séance  Objet  \\\n",
       "count              49651          49651  49651  49651  49651  49651   \n",
       "unique              3047           2448      4     28    359   2953   \n",
       "top                                                                   \n",
       "freq               46605          46605  46605  46605  46605  46615   \n",
       "\n",
       "       Thème et sous thème Mots clés Sens et motivation Partie   Avis  \n",
       "count                49651     49651              49651  49651  49651  \n",
       "unique                 621       461                345      4   3046  \n",
       "top                                                                    \n",
       "freq                 46605     47486              46609  46606  46605  "
      ]
     },
     "execution_count": 56,
     "metadata": {},
     "output_type": "execute_result"
    }
   ],
   "source": [
    "2+2\n",
    "import numpy as np\n",
    "import pandas as pd\n",
    "\n",
    "df = pd.read_csv(\"LDA/Data/CSVs/cada-2023-01-02.csv\", header=\"infer\", encoding=\"utf8\")\n",
    "df = df.fillna(\"\") # A lot of the manipulation we'll do won't work if the dataframe has too many \"N/A\" values - \n",
    "# and so we specify that all these empty values are actually empty strings\n",
    "print(len(df))  # We check how long the dataframe is\n",
    "print(\"___________\")\n",
    "print(df.head(15))  # We check that it is well-loaded by printing the top 15 rows\n",
    "print(\"___________\")\n",
    "df.describe()"
   ]
  },
  {
   "cell_type": "markdown",
   "metadata": {},
   "source": [
    "A dataframe is a very powerful tool to analyse and extract insights from a dataset. \n",
    "\n",
    "For instance, one question you migh ask is: what are the types of decisions in the dataset. In other words,  what's the distribution ? The `value_counts` method is particularly helpful here, especially when you normalise the data to have percentages."
   ]
  },
  {
   "cell_type": "code",
   "execution_count": 14,
   "metadata": {},
   "outputs": [
    {
     "name": "stdout",
     "output_type": "stream",
     "text": [
      "Avis        0.665463\n",
      "Conseil     0.334209\n",
      "Sanction    0.000328\n",
      "Name: Type, dtype: float64\n"
     ]
    },
    {
     "data": {
      "text/plain": [
       "<AxesSubplot:xlabel='Année'>"
      ]
     },
     "execution_count": 14,
     "metadata": {},
     "output_type": "execute_result"
    },
    {
     "data": {
      "image/png": "[encoded data removed]",
      "text/plain": [
       "<Figure size 432x288 with 1 Axes>"
      ]
     },
     "metadata": {
      "needs_background": "light"
     },
     "output_type": "display_data"
    }
   ],
   "source": [
    "print(df.Type.value_counts(normalize=True))  # We can also multiply by * 100 to get proper percentages\n",
    "df.groupby(\"Année\").size().plot()  # We group by years, and then use plot the have an idea of the distribution"
   ]
  },
  {
   "cell_type": "code",
   "execution_count": 12,
   "metadata": {},
   "outputs": [
    {
     "data": {
      "text/html": [
       "<div>\n",
       "<style scoped>\n",
       "    .dataframe tbody tr th:only-of-type {\n",
       "        vertical-align: middle;\n",
       "    }\n",
       "\n",
       "    .dataframe tbody tr th {\n",
       "        vertical-align: top;\n",
       "    }\n",
       "\n",
       "    .dataframe thead th {\n",
       "        text-align: right;\n",
       "    }\n",
       "</style>\n",
       "<table border=\"1\" class=\"dataframe\">\n",
       "  <thead>\n",
       "    <tr style=\"text-align: right;\">\n",
       "      <th>Année</th>\n",
       "      <th>1984.0</th>\n",
       "      <th>1985.0</th>\n",
       "      <th>1986.0</th>\n",
       "      <th>1987.0</th>\n",
       "      <th>1988.0</th>\n",
       "      <th>1989.0</th>\n",
       "      <th>1990.0</th>\n",
       "      <th>1991.0</th>\n",
       "      <th>1992.0</th>\n",
       "      <th>1993.0</th>\n",
       "      <th>...</th>\n",
       "      <th>2001.0</th>\n",
       "      <th>2002.0</th>\n",
       "      <th>2003.0</th>\n",
       "      <th>2004.0</th>\n",
       "      <th>2005.0</th>\n",
       "      <th>2006.0</th>\n",
       "      <th>2007.0</th>\n",
       "      <th>2008.0</th>\n",
       "      <th>2009.0</th>\n",
       "      <th>2010.0</th>\n",
       "    </tr>\n",
       "    <tr>\n",
       "      <th>Type</th>\n",
       "      <th></th>\n",
       "      <th></th>\n",
       "      <th></th>\n",
       "      <th></th>\n",
       "      <th></th>\n",
       "      <th></th>\n",
       "      <th></th>\n",
       "      <th></th>\n",
       "      <th></th>\n",
       "      <th></th>\n",
       "      <th></th>\n",
       "      <th></th>\n",
       "      <th></th>\n",
       "      <th></th>\n",
       "      <th></th>\n",
       "      <th></th>\n",
       "      <th></th>\n",
       "      <th></th>\n",
       "      <th></th>\n",
       "      <th></th>\n",
       "      <th></th>\n",
       "    </tr>\n",
       "  </thead>\n",
       "  <tbody>\n",
       "    <tr>\n",
       "      <th>Avis</th>\n",
       "      <td>2.0</td>\n",
       "      <td>1.0</td>\n",
       "      <td>NaN</td>\n",
       "      <td>2.0</td>\n",
       "      <td>2.0</td>\n",
       "      <td>1.0</td>\n",
       "      <td>3.0</td>\n",
       "      <td>4.0</td>\n",
       "      <td>6.0</td>\n",
       "      <td>6.0</td>\n",
       "      <td>...</td>\n",
       "      <td>228.0</td>\n",
       "      <td>149.0</td>\n",
       "      <td>114.0</td>\n",
       "      <td>82.0</td>\n",
       "      <td>115.0</td>\n",
       "      <td>236.0</td>\n",
       "      <td>295.0</td>\n",
       "      <td>241.0</td>\n",
       "      <td>162.0</td>\n",
       "      <td>74.0</td>\n",
       "    </tr>\n",
       "    <tr>\n",
       "      <th>Conseil</th>\n",
       "      <td>NaN</td>\n",
       "      <td>NaN</td>\n",
       "      <td>1.0</td>\n",
       "      <td>NaN</td>\n",
       "      <td>NaN</td>\n",
       "      <td>1.0</td>\n",
       "      <td>2.0</td>\n",
       "      <td>2.0</td>\n",
       "      <td>5.0</td>\n",
       "      <td>8.0</td>\n",
       "      <td>...</td>\n",
       "      <td>111.0</td>\n",
       "      <td>100.0</td>\n",
       "      <td>100.0</td>\n",
       "      <td>48.0</td>\n",
       "      <td>91.0</td>\n",
       "      <td>143.0</td>\n",
       "      <td>121.0</td>\n",
       "      <td>60.0</td>\n",
       "      <td>60.0</td>\n",
       "      <td>20.0</td>\n",
       "    </tr>\n",
       "    <tr>\n",
       "      <th>Sanction</th>\n",
       "      <td>NaN</td>\n",
       "      <td>NaN</td>\n",
       "      <td>NaN</td>\n",
       "      <td>NaN</td>\n",
       "      <td>NaN</td>\n",
       "      <td>NaN</td>\n",
       "      <td>NaN</td>\n",
       "      <td>NaN</td>\n",
       "      <td>NaN</td>\n",
       "      <td>NaN</td>\n",
       "      <td>...</td>\n",
       "      <td>NaN</td>\n",
       "      <td>NaN</td>\n",
       "      <td>NaN</td>\n",
       "      <td>NaN</td>\n",
       "      <td>NaN</td>\n",
       "      <td>NaN</td>\n",
       "      <td>NaN</td>\n",
       "      <td>1.0</td>\n",
       "      <td>NaN</td>\n",
       "      <td>NaN</td>\n",
       "    </tr>\n",
       "  </tbody>\n",
       "</table>\n",
       "<p>3 rows × 27 columns</p>\n",
       "</div>"
      ],
      "text/plain": [
       "Année     1984.0  1985.0  1986.0  1987.0  1988.0  1989.0  1990.0  1991.0  \\\n",
       "Type                                                                       \n",
       "Avis         2.0     1.0     NaN     2.0     2.0     1.0     3.0     4.0   \n",
       "Conseil      NaN     NaN     1.0     NaN     NaN     1.0     2.0     2.0   \n",
       "Sanction     NaN     NaN     NaN     NaN     NaN     NaN     NaN     NaN   \n",
       "\n",
       "Année     1992.0  1993.0  ...  2001.0  2002.0  2003.0  2004.0  2005.0  2006.0  \\\n",
       "Type                      ...                                                   \n",
       "Avis         6.0     6.0  ...   228.0   149.0   114.0    82.0   115.0   236.0   \n",
       "Conseil      5.0     8.0  ...   111.0   100.0   100.0    48.0    91.0   143.0   \n",
       "Sanction     NaN     NaN  ...     NaN     NaN     NaN     NaN     NaN     NaN   \n",
       "\n",
       "Année     2007.0  2008.0  2009.0  2010.0  \n",
       "Type                                      \n",
       "Avis       295.0   241.0   162.0    74.0  \n",
       "Conseil    121.0    60.0    60.0    20.0  \n",
       "Sanction     NaN     1.0     NaN     NaN  \n",
       "\n",
       "[3 rows x 27 columns]"
      ]
     },
     "execution_count": 12,
     "metadata": {},
     "output_type": "execute_result"
    },
    {
     "data": {
      "image/png": "[encoded data removed]",
      "text/plain": [
       "<Figure size 432x288 with 1 Axes>"
      ]
     },
     "metadata": {
      "needs_background": "light"
     },
     "output_type": "display_data"
    }
   ],
   "source": [
    "df.Année.hist(bins=20)  # Another approach is to use an histogram, with all years divided into x bins\n",
    "\n",
    "df.groupby(\"Année\").Type.value_counts().unstack(level=0)   \n",
    "# We combine both tools to get a broader type of chart, and then we unstack"
   ]
  },
  {
   "cell_type": "markdown",
   "metadata": {},
   "source": [
    "Another question, since we have the Years, is to check the chronological evolution of the number of decisions. Here as well, we could use `value_counts`, but it's sometimes easier to group the dataframe by a data point (here, years) and then find out the size of every group.\n",
    "\n",
    "This is where the module `pyplot` becomes useful and relevant. Shortly put, while `pandas` allows you to make basic plots, you often need other modules to fine-tune those plots. Pyplot provides the basics for this: the logic is that your plot is located in a `plt` element, which comes with a number of methods to act upon, e.g., the axes, the grid, colors, etc.\n",
    "\n",
    "Another popular module in this context is `seaborn`, often abbreviated `sns`, which provides a number of ready-to-use graphs functions. This can also be used in parallel with pyplot and the basic plot tools of `pandas`. "
   ]
  },
  {
   "cell_type": "code",
   "execution_count": 67,
   "metadata": {},
   "outputs": [
    {
     "name": "stderr",
     "output_type": "stream",
     "text": [
      "/tmp/ipykernel_4/2379116511.py:11: FutureWarning: Value based partial slicing on non-monotonic DatetimeIndexes with non-existing keys is deprecated and will raise a KeyError in a future Version.\n",
      "  df = df[\"2010-01-01\":\"2023-01-01\"]  # Data before 2010 is not very relevant, let's cut it out by indexing\n"
     ]
    },
    {
     "data": {
      "text/plain": [
       "<AxesSubplot:xlabel='Séance'>"
      ]
     },
     "execution_count": 67,
     "metadata": {},
     "output_type": "execute_result"
    },
    {
     "data": {
      "image/png": "[encoded data removed]",
      "text/plain": [
       "<Figure size 1080x504 with 3 Axes>"
      ]
     },
     "metadata": {},
     "output_type": "display_data"
    }
   ],
   "source": [
    "import matplotlib.pyplot as plt # This is a standard plotting module\n",
    "\n",
    "df.index = pd.to_datetime(df.Séance)  # To analyse time series, your dataframe should be indexed chronologically, \n",
    "# which you can do by replacing the index with this function that creates datetime objects from a column with dates\n",
    "plt.figure(figsize=(15,7))  # To manage the following graphs, we initialise an empty plot\n",
    "plt.subplot(131) # Then in that subplot we indicate that we want to have a suplot at that index\n",
    "df.resample(\"1Y\").size().plot()  # The method \"resample\" is equivalent to the groupby above, though it works on the index; \n",
    "# since the index are dates,  you can resample by quarters, month, etc.\n",
    "plt.subplot(132)\n",
    "df.resample(\"1M\").size().plot()\n",
    "df = df[\"2010-01-01\":\"2023-01-01\"]  # Data before 2010 is not very relevant, let's cut it out by indexing\n",
    "x = df.resample(\"1M\", convention=\"start\").size()  \n",
    "xroll = x.rolling(5).sum() # Let's get a rolling average to get thing in better perspective\n",
    "plt.subplot(133)\n",
    "xroll.plot()"
   ]
  },
  {
   "cell_type": "markdown",
   "metadata": {},
   "source": [
    "You can also be interested in locating specific items in the dataset. Here, `pandas` offers you plenty of ways to pinpoint a specific row, or colums, or cell - though it's not always intuitive. Once again, having an idea of the type of output will really help you understand how to manipulate all these. For instance, `.iloc` returns a row, while `.loc` returns another, smaller dataframe. `.at` returns a cell, because you need to specify both an index (row) and a column."
   ]
  },
  {
   "cell_type": "code",
   "execution_count": 31,
   "metadata": {},
   "outputs": [
    {
     "name": "stdout",
     "output_type": "stream",
     "text": [
      "Numéro de dossier                                             20100369.0\n",
      "Administration         inspecteur d'académie, directeur des services ...\n",
      "Type                                                                Avis\n",
      "Année                                                             2010.0\n",
      "Séance                                                        28/01/2010\n",
      "Objet                  La communication du fichier numérique de l'ens...\n",
      "Thème et sous thème                      Travail Et Emploi/Emploi Public\n",
      "Mots clés                                                       Carrière\n",
      "Sens et motivation                             Favorable/Sauf vie privée\n",
      "Partie                                                               III\n",
      "Avis                   La secrétaire générale du SGEN-CFDT Midi-Pyrén...\n",
      "Name: 2010-01-28 00:00:00, dtype: object\n",
      "_______________\n",
      "Empty DataFrame\n",
      "Columns: [Numéro de dossier, Administration, Type, Année, Séance, Objet, Thème et sous thème, Mots clés, Sens et motivation, Partie, Avis]\n",
      "Index: []\n",
      "_______________\n",
      "               Type                                              Objet\n",
      "Séance                                                                \n",
      "2010-01-14     Avis  - la mise en ligne sur le site internet de son...\n",
      "2010-01-14     Avis  - la copie, en sa qualité de tutrice de son pe...\n",
      "2010-01-14     Avis  - copie, sans occultation, des bordereaux d'en...\n",
      "2010-01-14     Avis  - la copie des factures d'eau des abonnés, aut...\n",
      "2010-01-14     Avis  - copie du jugement par lequel la salle du pre...\n",
      "...             ...                                                ...\n",
      "2010-09-23     Avis  - la communication du dossier médical de sa fi...\n",
      "2010-09-09     Avis  - communication des procès-verbaux des réunion...\n",
      "2010-09-09  Conseil  - caractère communicable, à la nièce et au nev...\n",
      "2010-09-09     Avis                                             #NAME?\n",
      "2010-07-27     Avis  - communication et réutilisation, par leur cli...\n",
      "\n",
      "[94 rows x 2 columns]\n"
     ]
    }
   ],
   "source": [
    "print(df.iloc[10])  # Compared to your Excel, pandas are shifted two indexes below, to account for 1. the headers, and \n",
    "# 2. the fact that Python indexes start at 0\n",
    "print(\"_______________\")\n",
    "print(df.loc[df.Année == \"2010\"])  # You specify a condition, and then obtain a smaller dataframe if you do not care for \n",
    "# a particular column; notice that the type is important. \n",
    "# Use the tilde ~ to specify a negative condition df.loc[~(XX) & (XX)]\n",
    "print(\"_______________\")\n",
    "print(df.loc[df.Année == 2010][[\"Type\", \"Objet\"]])  # You get more than one columns by using a double list"
   ]
  },
  {
   "cell_type": "markdown",
   "metadata": {},
   "source": [
    "## Synthetise Data\n",
    "\n",
    "Your analyses will be more powerful if you are able to synthetise the data in the dataset.\n",
    "\n",
    "For instance, when you look at the different results recorded in the `Sens et motivation` column, you can see that the categories are not super helpful. It'd be better to group them in two categories: favourable, and unfavourable (counting instances of \"Incompétent\", \"Inexistant\", etc. as unfavourable).\n",
    "\n",
    "We might also want to group the different sorts of administrations, but this is harder, as they are many more categories. We can do a process of iterating through these until most have been tagged one way or another, and be happy with leaving the \"Other\" on the side."
   ]
  },
  {
   "cell_type": "code",
   "execution_count": 34,
   "metadata": {
    "scrolled": true
   },
   "outputs": [
    {
     "name": "stdout",
     "output_type": "stream",
     "text": [
      "Favorable                                                                                                                  31\n",
      "Favorable/Sauf vie privée                                                                                                   7\n",
      "Défavorable/Vie privée                                                                                                      7\n",
      "Défavorable/Secret                                                                                                          5\n",
      "Incompétence/Judiciaire                                                                                                     3\n",
      "Favorable/Sauf commercial industriel                                                                                        3\n",
      "Défavorable/Vie privée, Favorable                                                                                           3\n",
      "Sans objet/Inexistant, Favorable                                                                                            3\n",
      "Incompétence/Loi spéciale                                                                                                   3\n",
      "Incompétence/Privé                                                                                                          2\n",
      "Incompétence/Juridictionnel, Favorable                                                                                      2\n",
      "Irrecevable                                                                                                                 2\n",
      "Défavorable                                                                                                                 1\n",
      "Défavorable/Secret, Favorable                                                                                               1\n",
      "Irrecevable/Hors champ                                                                                                      1\n",
      "Irrecevable/Hors champ, Incompétence/Judiciaire, Favorable/Sauf défense, Favorable/Sauf secret, Favorable/Sauf sécurité     1\n",
      "Incompétence/Renseignement, Favorable/Sauf vie privée                                                                       1\n",
      "Incompétence/Juridictionnel                                                                                                 1\n",
      "Défavorable/Article 4                                                                                                       1\n",
      "Favorable/Sauf comportement, Favorable/Sauf vie privée, Favorable/Sauf appréciation                                         1\n",
      "Incompétence/Renseignement, Favorable                                                                                       1\n",
      "Favorable/Sauf commercial industriel, Favorable/Sauf vie privée                                                             1\n",
      "Défavorable/Secret, Défavorable/Vie privée                                                                                  1\n",
      "Favorable/Sauf vie privée, Favorable/Sauf comportement                                                                      1\n",
      "Défavorable, Sans objet/Inexistant, Favorable                                                                               1\n",
      "Sans objet/Inexistant, Incompétence/Privé, Favorable/Sauf commercial industriel                                             1\n",
      "Favorable/Sauf vie privée, Favorable/Si mandat (favorable si vous produisez un mandat de la personne concernée)             1\n",
      "Défavorable/Préparatoire                                                                                                    1\n",
      "Défavorable/Appréciation, Favorable/Sauf vie privée                                                                         1\n",
      "Défavorable/Sécurité publique                                                                                               1\n",
      "Défavorable, Favorable                                                                                                      1\n",
      "Défavorable/Sécurité publique, Favorable/Sauf sécurité                                                                      1\n",
      "Irrecevable/Hors champ, Favorable                                                                                           1\n",
      "Sans objet/Inexistant, Incompétence/Juridictionnel                                                                          1\n",
      "Incompétence/CNIL                                                                                                           1\n",
      "Name: Sens et motivation, dtype: int64\n"
     ]
    }
   ],
   "source": [
    "import regex as re\n",
    "\n",
    "print(df[\"Sens et motivation\"].value_counts()) \n",
    "\n",
    "df[\"Result\"] = \"\"  # We want to create a column that gives us the result, there are several ways to do it\n",
    "\n",
    "for index, row in df.iterrows():  # One way would be to iterate over each row and check that the condition is met\n",
    "    if re.search(\"défavorable\", row[\"Sens et motivation\"], re.S | re.I):  \n",
    "        # Note that we start with défavorable, because the term contains \"favorable\" in it, which could confuse the regex search\n",
    "        df.at[index, \"Result\"] = \"Unfavourable\"\n",
    "    elif re.search(\"favorable\", row[\"Sens et motivation\"], re.S | re.I):\n",
    "        df.at[index, \"Result\"] = \"Favourable\"\n",
    "    else:\n",
    "        df.at[index, \"Result\"] = \"Unfavourable\""
   ]
  },
  {
   "cell_type": "code",
   "execution_count": 60,
   "metadata": {},
   "outputs": [],
   "source": [
    "def resultsearch(value):  # A second way would be to use function that will do the same,\n",
    "    # and apply it to the dataframe with \".apply\"\n",
    "    if re.search(\"défavorable\", value, re.S|re.I):\n",
    "        return \"Unfavourable\"\n",
    "    elif re.search(\"favorable\", value, re.S|re.I):\n",
    "        return \"Favourable\"\n",
    "    else:\n",
    "        return \"Unfavourable\"\n",
    "\n",
    "df[\"Result\"] = df[\"Sens et motivation\"].apply(lambda x: resultsearch(x))  \n",
    "# This allows you to apply a function to a value, which is represented by \"x\" here"
   ]
  },
  {
   "cell_type": "code",
   "execution_count": 40,
   "metadata": {
    "scrolled": false
   },
   "outputs": [
    {
     "name": "stdout",
     "output_type": "stream",
     "text": [
      "Favourable      58.510638\n",
      "Unfavourable    41.489362\n",
      "Name: Result, dtype: float64\n"
     ]
    },
    {
     "data": {
      "text/plain": [
       "<AxesSubplot:xlabel='Année'>"
      ]
     },
     "execution_count": 40,
     "metadata": {},
     "output_type": "execute_result"
    },
    {
     "data": {
      "image/png": "[encoded data removed]",
      "text/plain": [
       "<Figure size 432x288 with 1 Axes>"
      ]
     },
     "metadata": {
      "needs_background": "light"
     },
     "output_type": "display_data"
    }
   ],
   "source": [
    "print(df.Result.value_counts(normalize=True) * 100)  # We obtain percent of favourable decisions\n",
    "print(\"_______________\")\n",
    "df.groupby(\"Année\").Result.value_counts(normalize=True).unstack().plot()  \n",
    "# And then we plot it. See that the low number of entries for earlier years makes it harder to draw conclusions."
   ]
  },
  {
   "cell_type": "markdown",
   "metadata": {},
   "source": [
    "To further answer the question about the number of decisions around the elections, we will also need to synthetise the \"Administration\" column - which, like \"Sens et motivation\", has too many different values to be useful."
   ]
  },
  {
   "cell_type": "code",
   "execution_count": 44,
   "metadata": {},
   "outputs": [
    {
     "name": "stdout",
     "output_type": "stream",
     "text": [
      "There are  93  different values for Administration in the dataset...\n",
      "Other       69\n",
      "Central     19\n",
      "Regional     6\n",
      "Name: Admin, dtype: int64\n",
      "_______________\n",
      "maire de Saint-Cyr-l'Ecole                                                                                   1\n",
      "directrice générale du groupement d'intérêt public enfance en danger (GIPED)                                 1\n",
      "directeur du centre interdépartemental de la viticulture                                                     1\n",
      "président de la communauté urbaine de Dunkerque                                                              1\n",
      "présidente de l'université Paul-Valéry Montpellier III                                                       1\n",
      "directeur départemental des territoires de la Haute-Vienne (service eau, environnement, forêt et risques)    1\n",
      "directeur du GIE SESAM-Vitale                                                                                1\n",
      "directeur de l'Agence française de sécurité sanitaire des produits de santé (AFSSAPS)                        1\n",
      "maire de Fontainebleau                                                                                       1\n",
      "directeur général de l'opéra de Rouen - Haute-Normandie                                                      1\n",
      "président du tribunal de grande instance de Paris                                                            1\n",
      "maire d'Antony                                                                                               1\n",
      "directeur du service départemental d'incendie et de secours des Alpes-Maritimes                              1\n",
      "maire de Villeneuve-Saint-Georges                                                                            1\n",
      "président du syndicat mixte du bassin versant du Lez                                                         1\n",
      "maire de Clichy-la-Garenne                                                                                   1\n",
      "responsable du centre d'études et de conservation des oeufs et du sperme (CECOS) Jean Verdier                1\n",
      "maire de Rennes                                                                                              1\n",
      "président de la ligue de Franche-Comté de ball-trap et tir à balle                                           1\n",
      "maire de Fontenay-sous-Bois                                                                                  1\n",
      "Name: Administration, dtype: int64\n"
     ]
    }
   ],
   "source": [
    "print(\"There are \", df[\"Administration\"].nunique(), \" different values for Administration in the dataset...\")\n",
    "\n",
    "\n",
    "dict_admin = {\"[Mm]airie\": \"Municipal\", \"[Rr]égion\": \"Regional\", \"[dD]epartment\": \"Department\",\n",
    "        \"[Mm]inist|[Pp]réfec?t\": \"Central\"}  # We create a that will link some regexes to synthetise values. For instance, \n",
    "# we can expect that all values having the term \"[Mm]inist\" pertain to the central administration\n",
    "\n",
    "def apply_type(value): # The function will loop over the dict's keys \n",
    "    for key in dict_admin:\n",
    "        if re.search(key, value.strip(), re.S | re.I):\n",
    "            return dict_admin[key]\n",
    "    return \"Other\"\n",
    "\n",
    "df[\"Admin\"] = df.Administration.astype(str).apply(lambda x: apply_type(x)) # We apply the function to the Administration column,\n",
    "# creating a new \"Admin\" column with synthetised value\n",
    "print(df.Admin.value_counts()) # And now we check how many rows we managed to synthetise - e.g., how many \"Other\" remain\n",
    "print(\"_______________\")\n",
    "\n",
    "# Since there are still many \"Other\", we return to the data to check what they refer to in general, trying to find \n",
    "# Further rules to add to our dictionary\n",
    "print(df.loc[df.Admin == \"Other\"].Administration.value_counts()[:20])  \n",
    "# Locating with Python using a condition. You'll note for instance that acronymes with a number are often departemental\n",
    "# admins, whereas the use of the term \"national\" indicate central administration"
   ]
  },
  {
   "cell_type": "code",
   "execution_count": 58,
   "metadata": {},
   "outputs": [
    {
     "name": "stdout",
     "output_type": "stream",
     "text": [
      "Other         46623\n",
      "Central        2819\n",
      "Regional        130\n",
      "Municipal        73\n",
      "Department        6\n",
      "Name: Admin, dtype: int64\n"
     ]
    }
   ],
   "source": [
    "dict_admin = {\"[Mm]airie|agglom|commune\": \"Municipal\", \"[Rr]égion\": \"Regional\", \"[dD]epartment|\\d\\d\\)?$\": \"Department\",\n",
    "        \"[Mm]inist|[Pp]réfec?t|[Ddirection [Gg]énérale|[Nn]ational|[Ff]rançais|[Uu]niversit|[A-Z-]+\\)?$\": \"Central\"}\n",
    "# We add these new rules and terms to our regex, and redo the process\n",
    "\n",
    "df[\"Admin\"] = df.Administration.astype(str).apply(lambda x: apply_type(x))  # We reapply with broader dict\n",
    "\n",
    "print(df.Admin.value_counts())  # If the number of others is negligible, we consider that the job is done"
   ]
  },
  {
   "cell_type": "code",
   "execution_count": 73,
   "metadata": {},
   "outputs": [
    {
     "data": {
      "text/plain": [
       "<AxesSubplot:xlabel='Admin', ylabel='count'>"
      ]
     },
     "execution_count": 73,
     "metadata": {},
     "output_type": "execute_result"
    },
    {
     "data": {
      "image/png": "[encoded data removed]",
      "text/plain": [
       "<Figure size 432x288 with 1 Axes>"
      ]
     },
     "metadata": {},
     "output_type": "display_data"
    }
   ],
   "source": [
    "sns.set_style(\"dark\")  # Change style of plots with sns\n",
    "sns.countplot(x=\"Admin\", hue=\"Result\", data=df)   # Seaborn has great plot types such as this simple countplot\n"
   ]
  },
  {
   "cell_type": "markdown",
   "metadata": {},
   "source": [
    "## Analyses\n",
    "\n",
    "One of the easiest analyses you could make is to check if the differences in your data are statistically relevant. Here, it seems that it is harder to get a document from a central administration than from a regional or departmental administration. But are the differences in the rates of success over the years truly statistically different ? \n",
    "\n",
    "To investigate this, we can do a t-test, which checks if two groups of data are from the same population (which means they would have a similar mean).\n",
    "(In theory, a t-test does not work well in these circumstances since the samples do not necessarily follow a normal distribution and their variance differs. But this is just for the demonstration.)"
   ]
  },
  {
   "cell_type": "code",
   "execution_count": 65,
   "metadata": {
    "scrolled": false
   },
   "outputs": [
    {
     "name": "stdout",
     "output_type": "stream",
     "text": [
      "Année\n",
      "1989.0    0.500000\n",
      "1990.0    0.800000\n",
      "1991.0    0.400000\n",
      "1992.0    0.727273\n",
      "1993.0    0.571429\n",
      "1994.0    0.411765\n",
      "1995.0    0.666667\n",
      "1996.0    0.428571\n",
      "1997.0    0.333333\n",
      "1998.0    0.600000\n",
      "1999.0    0.608696\n",
      "2000.0    0.643750\n",
      "2001.0    0.643750\n",
      "2002.0    0.578947\n",
      "2003.0    0.596859\n",
      "2004.0    0.595041\n",
      "2005.0    0.520833\n",
      "2006.0    0.611594\n",
      "2007.0    0.524051\n",
      "2008.0    0.588448\n",
      "2009.0    0.581731\n",
      "2010.0    0.569767\n",
      "Name: Central, dtype: float64\n"
     ]
    },
    {
     "data": {
      "text/plain": [
       "Ttest_indResult(statistic=0.6256064491382229, pvalue=0.5391764109107897)"
      ]
     },
     "execution_count": 65,
     "metadata": {},
     "output_type": "execute_result"
    }
   ],
   "source": [
    "df.groupby(\"Admin\").Result.value_counts(normalize=True).unstack()  \n",
    "# As you can see, it's a bit harder to get a document from a Central administration,\n",
    "# and a bit easier to get them from municipalities\n",
    "\n",
    "cent_fav_per_year = df.groupby([\"Année\", \"Admin\"]).Result.value_counts(normalize=True).unstack()[\n",
    "    \"Favourable\"].unstack()[\"Central\"] # We extract a Series with the percent of unfav decisions over the years for both the\n",
    "# Central and Regional administrations\n",
    "reg_fav_per_year = df.groupby([\"Année\", \"Admin\"]).Result.value_counts(normalize=True).unstack()[\n",
    "    \"Unfavourable\"].unstack()[\"Regional\"]  \n",
    "print(cent_fav_per_year.dropna())\n",
    "\n",
    "from scipy import stats # a statistics module\n",
    "\n",
    "stats.ttest_ind(cent_fav_per_year.dropna().values.tolist(), reg_fav_per_year.dropna().values.tolist(), equal_var=False)\n",
    "# The t-test function takes only lists of numbers, so we drop the \"N/A\" values and convert series to lists\n",
    "# Since the p-value is above 0.5, we cannot conclude that the samples are that different"
   ]
  },
  {
   "cell_type": "markdown",
   "metadata": {},
   "source": [
    "Now, once we have done all this, we can check one of the first questions we had: does the CADA slows down before elections take place ?\n",
    "\n",
    "One way to look at it is simply to plot the number of decisions, and indicate the relevant election (Présidentielle for the Central administration, etc.) with a line. Doing this, it's hard to detect a role for elections in the rate of favourable opinions from the CADA, although it seems that the number of decisions decreases as election approaches."
   ]
  },
  {
   "cell_type": "code",
   "execution_count": 68,
   "metadata": {},
   "outputs": [
    {
     "data": {
      "text/plain": [
       "<matplotlib.lines.Line2D at 0x7f7258f32040>"
      ]
     },
     "execution_count": 68,
     "metadata": {},
     "output_type": "execute_result"
    },
    {
     "data": {
      "image/png": "[encoded data removed]",
      "text/plain": [
       "<Figure size 432x288 with 1 Axes>"
      ]
     },
     "metadata": {},
     "output_type": "display_data"
    }
   ],
   "source": [
    "ax = df.loc[df.Admin == \"Central\"].resample(\"2M\").Result.value_counts(normalize=True).unstack()[\"Favourable\"].plot()   \n",
    "# Next we look at the number of decisions per month, focusing on Favourable results.\n",
    "# We pass it to an object ax that will represent our plot\n",
    "ax.axvline(\"2022-04-23\", color=\"red\")  # We add a line to indicate the presidential elections' rough date\n",
    "ax.axvline(\"2017-04-23\", color=\"red\") \n",
    "ax.axvline(\"2012-04-23\", color=\"red\") "
   ]
  },
  {
   "cell_type": "code",
   "execution_count": 70,
   "metadata": {},
   "outputs": [
    {
     "data": {
      "text/plain": [
       "<matplotlib.lines.Line2D at 0x7f7258e26f70>"
      ]
     },
     "execution_count": 70,
     "metadata": {},
     "output_type": "execute_result"
    },
    {
     "data": {
      "image/png": "[encoded data removed]",
      "text/plain": [
       "<Figure size 432x288 with 1 Axes>"
      ]
     },
     "metadata": {},
     "output_type": "display_data"
    }
   ],
   "source": [
    "df.loc[df.Admin == \"Department\"].resample(\"2M\").Result.value_counts(normalize=True).unstack()[\"Favourable\"].plot()    \n",
    "# Now the same for departmental elections\n",
    "plt.axvline(\"2021-06-29\", color=\"red\")\n",
    "plt.axvline(\"2015-03-29\", color=\"red\")"
   ]
  },
  {
   "cell_type": "code",
   "execution_count": 72,
   "metadata": {},
   "outputs": [
    {
     "data": {
      "text/plain": [
       "<matplotlib.lines.Line2D at 0x7f7258d00fd0>"
      ]
     },
     "execution_count": 72,
     "metadata": {},
     "output_type": "execute_result"
    },
    {
     "data": {
      "image/png": "[encoded data removed]",
      "text/plain": [
       "<Figure size 432x288 with 1 Axes>"
      ]
     },
     "metadata": {},
     "output_type": "display_data"
    }
   ],
   "source": [
    "df.loc[df.Admin == \"Regional\"].resample(\"2M\").Result.value_counts(normalize=True).unstack()[\"Favourable\"].plot()    \n",
    "# Now the same for regional elections\n",
    "plt.axvline(\"2021-06-29\", color=\"red\")\n",
    "plt.axvline(\"2015-12-10\", color=\"red\")"
   ]
  },
  {
   "cell_type": "markdown",
   "metadata": {},
   "source": [
    "Therefore, we see little evidence that favourable decisions drop before an election.\n",
    "\n",
    "A second Analysis we could do is to track the average length of time it takes the CADA to issue a decision (which, in theory, should issue a decision at most one month after a saisine).\n",
    "\n",
    "To do this, we first need to extract the date of Saisine from the CADA's decisions."
   ]
  },
  {
   "cell_type": "code",
   "execution_count": 75,
   "metadata": {},
   "outputs": [
    {
     "data": {
      "text/plain": [
       "Séance\n",
       "2010-01-14    14/01/2010\n",
       "2010-01-14    14/01/2010\n",
       "2010-01-14    14/01/2010\n",
       "2010-01-14    14/01/2010\n",
       "2010-01-14    14/01/2010\n",
       "                 ...    \n",
       "2010-09-23    23/09/2010\n",
       "2010-09-09    09/09/2010\n",
       "2010-09-09    09/09/2010\n",
       "2010-09-09    09/09/2010\n",
       "2010-07-27    27/07/2010\n",
       "Name: Séance, Length: 94, dtype: object"
      ]
     },
     "execution_count": 75,
     "metadata": {},
     "output_type": "execute_result"
    }
   ],
   "source": [
    "df[\"Séance\"]"
   ]
  },
  {
   "cell_type": "code",
   "execution_count": 77,
   "metadata": {},
   "outputs": [
    {
     "name": "stdout",
     "output_type": "stream",
     "text": [
      "17 juillet 1978     8\n",
      "11 mars 2010        5\n",
      "10 juin 2010        3\n",
      "8 juillet 2010      3\n",
      "20 janvier 2010     3\n",
      "                   ..\n",
      "16 mars 2010        1\n",
      "18 mars 2010        1\n",
      "25 novembre 2009    1\n",
      "31 mars 2010        1\n",
      "5 juillet 2010      1\n",
      "Name: Saisine, Length: 63, dtype: int64\n",
      "______________\n",
      "10 juin 2010         3\n",
      "20 janvier 2010      3\n",
      "29 janvier 2010      2\n",
      "24 mars 2010         2\n",
      "22 mars 2010         2\n",
      "25 mai 2010          2\n",
      "10 mars 2010         2\n",
      "9 avril 2010         2\n",
      "14 juin 2010         2\n",
      "18 juin 2010         2\n",
      "30 novembre 2009     2\n",
      "19 janvier 2010      2\n",
      "25 juin 2010         1\n",
      "21 mai 2010          1\n",
      "20 avril 2010        1\n",
      "29 avril 2010        1\n",
      "30 avril 2010        1\n",
      "8 juillet 2010       1\n",
      "7 juillet 2010       1\n",
      "19 mai 2010          1\n",
      "6 juillet 2010       1\n",
      "16 juin 2010         1\n",
      "26 mai 2010          1\n",
      "30 juin 2010         1\n",
      "2 juin 2010          1\n",
      "4 juin 2010          1\n",
      "2 juillet 2010       1\n",
      "12 avril 2010        1\n",
      "31 mars 2010         1\n",
      "7 avril 2010         1\n",
      "8 avril 2010         1\n",
      "27 octobre 2009      1\n",
      "29 septembre 2005    1\n",
      "5 janvier 2010       1\n",
      "7 janvier 2010       1\n",
      "18 janvier 2010      1\n",
      "21 janvier 2010      1\n",
      "26 janvier 2010      1\n",
      "3 mars 2010          1\n",
      "29 septembre 2009    1\n",
      "5 mars 2010          1\n",
      "8 mars 2010          1\n",
      "9 mars 2010          1\n",
      "15 mars 2010         1\n",
      "16 mars 2010         1\n",
      "11 mars 2010         1\n",
      "18 mars 2010         1\n",
      "26 mars 2010         1\n",
      "25 novembre 2009     1\n",
      "2 avril 2010         1\n",
      "5 juillet 2010       1\n",
      "Name: Saisine, dtype: int64\n"
     ]
    }
   ],
   "source": [
    "# Second analysis: the average length to get a CADA decision\n",
    "\n",
    "import locale\n",
    "locale.setlocale(locale.LC_ALL, \"fr_FR\")  # Depending on your OS, you may not be set to work with French data and format - \n",
    "# such as dates - so we first need to set that\n",
    "\n",
    "df[\"Séance\"] = pd.to_datetime(df[\"Séance\"], format=\"%d/%m/%Y\")\n",
    "df[\"Saisine\"] = df.Avis.astype(str).str.extract(\"(\\d\\d? [a-z]+ \\d{4})\")  \n",
    "# We create a new column by looking into the text of the avis and extracting a date with a regex pattern\n",
    "\n",
    "print(df.Saisine.value_counts())  # We check, and this is not ideal, many false dates have inserted themselves\n",
    "df[\"Saisine\"] = df.Avis.astype(str).str.extract(\"le (\\d\\d? [a-z]{3,} \\d{4})\")  \n",
    "# One better way is to check for dates starting by \"le\", since most avis refer to a courrier \"envoyé le\"\n",
    "print(\"______________\")\n",
    "print(df.Saisine.value_counts()) # This is better"
   ]
  },
  {
   "cell_type": "code",
   "execution_count": 81,
   "metadata": {},
   "outputs": [
    {
     "data": {
      "text/plain": [
       "<AxesSubplot:xlabel='Séance'>"
      ]
     },
     "execution_count": 81,
     "metadata": {},
     "output_type": "execute_result"
    },
    {
     "ename": "UnicodeDecodeError",
     "evalue": "'utf-8' codec can't decode byte 0xe9 in position 1: invalid continuation byte",
     "output_type": "error",
     "traceback": [
      "\u001b[0;31m---------------------------------------------------------------------------\u001b[0m",
      "\u001b[0;31mUnicodeDecodeError\u001b[0m                        Traceback (most recent call last)",
      "File \u001b[0;32m/usr/local/lib/python3.9/site-packages/IPython/core/formatters.py:339\u001b[0m, in \u001b[0;36mBaseFormatter.__call__\u001b[0;34m(self, obj)\u001b[0m\n\u001b[1;32m    337\u001b[0m     \u001b[38;5;28;01mpass\u001b[39;00m\n\u001b[1;32m    338\u001b[0m \u001b[38;5;28;01melse\u001b[39;00m:\n\u001b[0;32m--> 339\u001b[0m     \u001b[38;5;28;01mreturn\u001b[39;00m \u001b[43mprinter\u001b[49m\u001b[43m(\u001b[49m\u001b[43mobj\u001b[49m\u001b[43m)\u001b[49m\n\u001b[1;32m    340\u001b[0m \u001b[38;5;66;03m# Finally look for special method names\u001b[39;00m\n\u001b[1;32m    341\u001b[0m method \u001b[38;5;241m=\u001b[39m get_real_method(obj, \u001b[38;5;28mself\u001b[39m\u001b[38;5;241m.\u001b[39mprint_method)\n",
      "File \u001b[0;32m/usr/local/lib/python3.9/site-packages/IPython/core/pylabtools.py:151\u001b[0m, in \u001b[0;36mprint_figure\u001b[0;34m(fig, fmt, bbox_inches, base64, **kwargs)\u001b[0m\n\u001b[1;32m    148\u001b[0m     \u001b[38;5;28;01mfrom\u001b[39;00m \u001b[38;5;21;01mmatplotlib\u001b[39;00m\u001b[38;5;21;01m.\u001b[39;00m\u001b[38;5;21;01mbackend_bases\u001b[39;00m \u001b[38;5;28;01mimport\u001b[39;00m FigureCanvasBase\n\u001b[1;32m    149\u001b[0m     FigureCanvasBase(fig)\n\u001b[0;32m--> 151\u001b[0m \u001b[43mfig\u001b[49m\u001b[38;5;241;43m.\u001b[39;49m\u001b[43mcanvas\u001b[49m\u001b[38;5;241;43m.\u001b[39;49m\u001b[43mprint_figure\u001b[49m\u001b[43m(\u001b[49m\u001b[43mbytes_io\u001b[49m\u001b[43m,\u001b[49m\u001b[43m \u001b[49m\u001b[38;5;241;43m*\u001b[39;49m\u001b[38;5;241;43m*\u001b[39;49m\u001b[43mkw\u001b[49m\u001b[43m)\u001b[49m\n\u001b[1;32m    152\u001b[0m data \u001b[38;5;241m=\u001b[39m bytes_io\u001b[38;5;241m.\u001b[39mgetvalue()\n\u001b[1;32m    153\u001b[0m \u001b[38;5;28;01mif\u001b[39;00m fmt \u001b[38;5;241m==\u001b[39m \u001b[38;5;124m'\u001b[39m\u001b[38;5;124msvg\u001b[39m\u001b[38;5;124m'\u001b[39m:\n",
      "File \u001b[0;32m/usr/local/lib/python3.9/site-packages/matplotlib/backend_bases.py:2295\u001b[0m, in \u001b[0;36mFigureCanvasBase.print_figure\u001b[0;34m(self, filename, dpi, facecolor, edgecolor, orientation, format, bbox_inches, pad_inches, bbox_extra_artists, backend, **kwargs)\u001b[0m\n\u001b[1;32m   2289\u001b[0m     renderer \u001b[38;5;241m=\u001b[39m _get_renderer(\n\u001b[1;32m   2290\u001b[0m         \u001b[38;5;28mself\u001b[39m\u001b[38;5;241m.\u001b[39mfigure,\n\u001b[1;32m   2291\u001b[0m         functools\u001b[38;5;241m.\u001b[39mpartial(\n\u001b[1;32m   2292\u001b[0m             print_method, orientation\u001b[38;5;241m=\u001b[39morientation)\n\u001b[1;32m   2293\u001b[0m     )\n\u001b[1;32m   2294\u001b[0m     \u001b[38;5;28;01mwith\u001b[39;00m \u001b[38;5;28mgetattr\u001b[39m(renderer, \u001b[38;5;124m\"\u001b[39m\u001b[38;5;124m_draw_disabled\u001b[39m\u001b[38;5;124m\"\u001b[39m, nullcontext)():\n\u001b[0;32m-> 2295\u001b[0m         \u001b[38;5;28;43mself\u001b[39;49m\u001b[38;5;241;43m.\u001b[39;49m\u001b[43mfigure\u001b[49m\u001b[38;5;241;43m.\u001b[39;49m\u001b[43mdraw\u001b[49m\u001b[43m(\u001b[49m\u001b[43mrenderer\u001b[49m\u001b[43m)\u001b[49m\n\u001b[1;32m   2297\u001b[0m \u001b[38;5;28;01mif\u001b[39;00m bbox_inches:\n\u001b[1;32m   2298\u001b[0m     \u001b[38;5;28;01mif\u001b[39;00m bbox_inches \u001b[38;5;241m==\u001b[39m \u001b[38;5;124m\"\u001b[39m\u001b[38;5;124mtight\u001b[39m\u001b[38;5;124m\"\u001b[39m:\n",
      "File \u001b[0;32m/usr/local/lib/python3.9/site-packages/matplotlib/artist.py:73\u001b[0m, in \u001b[0;36m_finalize_rasterization.<locals>.draw_wrapper\u001b[0;34m(artist, renderer, *args, **kwargs)\u001b[0m\n\u001b[1;32m     71\u001b[0m \u001b[38;5;129m@wraps\u001b[39m(draw)\n\u001b[1;32m     72\u001b[0m \u001b[38;5;28;01mdef\u001b[39;00m \u001b[38;5;21mdraw_wrapper\u001b[39m(artist, renderer, \u001b[38;5;241m*\u001b[39margs, \u001b[38;5;241m*\u001b[39m\u001b[38;5;241m*\u001b[39mkwargs):\n\u001b[0;32m---> 73\u001b[0m     result \u001b[38;5;241m=\u001b[39m \u001b[43mdraw\u001b[49m\u001b[43m(\u001b[49m\u001b[43martist\u001b[49m\u001b[43m,\u001b[49m\u001b[43m \u001b[49m\u001b[43mrenderer\u001b[49m\u001b[43m,\u001b[49m\u001b[43m \u001b[49m\u001b[38;5;241;43m*\u001b[39;49m\u001b[43margs\u001b[49m\u001b[43m,\u001b[49m\u001b[43m \u001b[49m\u001b[38;5;241;43m*\u001b[39;49m\u001b[38;5;241;43m*\u001b[39;49m\u001b[43mkwargs\u001b[49m\u001b[43m)\u001b[49m\n\u001b[1;32m     74\u001b[0m     \u001b[38;5;28;01mif\u001b[39;00m renderer\u001b[38;5;241m.\u001b[39m_rasterizing:\n\u001b[1;32m     75\u001b[0m         renderer\u001b[38;5;241m.\u001b[39mstop_rasterizing()\n",
      "File \u001b[0;32m/usr/local/lib/python3.9/site-packages/matplotlib/artist.py:50\u001b[0m, in \u001b[0;36mallow_rasterization.<locals>.draw_wrapper\u001b[0;34m(artist, renderer)\u001b[0m\n\u001b[1;32m     47\u001b[0m     \u001b[38;5;28;01mif\u001b[39;00m artist\u001b[38;5;241m.\u001b[39mget_agg_filter() \u001b[38;5;129;01mis\u001b[39;00m \u001b[38;5;129;01mnot\u001b[39;00m \u001b[38;5;28;01mNone\u001b[39;00m:\n\u001b[1;32m     48\u001b[0m         renderer\u001b[38;5;241m.\u001b[39mstart_filter()\n\u001b[0;32m---> 50\u001b[0m     \u001b[38;5;28;01mreturn\u001b[39;00m \u001b[43mdraw\u001b[49m\u001b[43m(\u001b[49m\u001b[43martist\u001b[49m\u001b[43m,\u001b[49m\u001b[43m \u001b[49m\u001b[43mrenderer\u001b[49m\u001b[43m)\u001b[49m\n\u001b[1;32m     51\u001b[0m \u001b[38;5;28;01mfinally\u001b[39;00m:\n\u001b[1;32m     52\u001b[0m     \u001b[38;5;28;01mif\u001b[39;00m artist\u001b[38;5;241m.\u001b[39mget_agg_filter() \u001b[38;5;129;01mis\u001b[39;00m \u001b[38;5;129;01mnot\u001b[39;00m \u001b[38;5;28;01mNone\u001b[39;00m:\n",
      "File \u001b[0;32m/usr/local/lib/python3.9/site-packages/matplotlib/figure.py:2837\u001b[0m, in \u001b[0;36mFigure.draw\u001b[0;34m(self, renderer)\u001b[0m\n\u001b[1;32m   2834\u001b[0m         \u001b[38;5;66;03m# ValueError can occur when resizing a window.\u001b[39;00m\n\u001b[1;32m   2836\u001b[0m \u001b[38;5;28mself\u001b[39m\u001b[38;5;241m.\u001b[39mpatch\u001b[38;5;241m.\u001b[39mdraw(renderer)\n\u001b[0;32m-> 2837\u001b[0m \u001b[43mmimage\u001b[49m\u001b[38;5;241;43m.\u001b[39;49m\u001b[43m_draw_list_compositing_images\u001b[49m\u001b[43m(\u001b[49m\n\u001b[1;32m   2838\u001b[0m \u001b[43m    \u001b[49m\u001b[43mrenderer\u001b[49m\u001b[43m,\u001b[49m\u001b[43m \u001b[49m\u001b[38;5;28;43mself\u001b[39;49m\u001b[43m,\u001b[49m\u001b[43m \u001b[49m\u001b[43martists\u001b[49m\u001b[43m,\u001b[49m\u001b[43m \u001b[49m\u001b[38;5;28;43mself\u001b[39;49m\u001b[38;5;241;43m.\u001b[39;49m\u001b[43msuppressComposite\u001b[49m\u001b[43m)\u001b[49m\n\u001b[1;32m   2840\u001b[0m \u001b[38;5;28;01mfor\u001b[39;00m sfig \u001b[38;5;129;01min\u001b[39;00m \u001b[38;5;28mself\u001b[39m\u001b[38;5;241m.\u001b[39msubfigs:\n\u001b[1;32m   2841\u001b[0m     sfig\u001b[38;5;241m.\u001b[39mdraw(renderer)\n",
      "File \u001b[0;32m/usr/local/lib/python3.9/site-packages/matplotlib/image.py:132\u001b[0m, in \u001b[0;36m_draw_list_compositing_images\u001b[0;34m(renderer, parent, artists, suppress_composite)\u001b[0m\n\u001b[1;32m    130\u001b[0m \u001b[38;5;28;01mif\u001b[39;00m not_composite \u001b[38;5;129;01mor\u001b[39;00m \u001b[38;5;129;01mnot\u001b[39;00m has_images:\n\u001b[1;32m    131\u001b[0m     \u001b[38;5;28;01mfor\u001b[39;00m a \u001b[38;5;129;01min\u001b[39;00m artists:\n\u001b[0;32m--> 132\u001b[0m         \u001b[43ma\u001b[49m\u001b[38;5;241;43m.\u001b[39;49m\u001b[43mdraw\u001b[49m\u001b[43m(\u001b[49m\u001b[43mrenderer\u001b[49m\u001b[43m)\u001b[49m\n\u001b[1;32m    133\u001b[0m \u001b[38;5;28;01melse\u001b[39;00m:\n\u001b[1;32m    134\u001b[0m     \u001b[38;5;66;03m# Composite any adjacent images together\u001b[39;00m\n\u001b[1;32m    135\u001b[0m     image_group \u001b[38;5;241m=\u001b[39m []\n",
      "File \u001b[0;32m/usr/local/lib/python3.9/site-packages/matplotlib/artist.py:50\u001b[0m, in \u001b[0;36mallow_rasterization.<locals>.draw_wrapper\u001b[0;34m(artist, renderer)\u001b[0m\n\u001b[1;32m     47\u001b[0m     \u001b[38;5;28;01mif\u001b[39;00m artist\u001b[38;5;241m.\u001b[39mget_agg_filter() \u001b[38;5;129;01mis\u001b[39;00m \u001b[38;5;129;01mnot\u001b[39;00m \u001b[38;5;28;01mNone\u001b[39;00m:\n\u001b[1;32m     48\u001b[0m         renderer\u001b[38;5;241m.\u001b[39mstart_filter()\n\u001b[0;32m---> 50\u001b[0m     \u001b[38;5;28;01mreturn\u001b[39;00m \u001b[43mdraw\u001b[49m\u001b[43m(\u001b[49m\u001b[43martist\u001b[49m\u001b[43m,\u001b[49m\u001b[43m \u001b[49m\u001b[43mrenderer\u001b[49m\u001b[43m)\u001b[49m\n\u001b[1;32m     51\u001b[0m \u001b[38;5;28;01mfinally\u001b[39;00m:\n\u001b[1;32m     52\u001b[0m     \u001b[38;5;28;01mif\u001b[39;00m artist\u001b[38;5;241m.\u001b[39mget_agg_filter() \u001b[38;5;129;01mis\u001b[39;00m \u001b[38;5;129;01mnot\u001b[39;00m \u001b[38;5;28;01mNone\u001b[39;00m:\n",
      "File \u001b[0;32m/usr/local/lib/python3.9/site-packages/matplotlib/axes/_base.py:3055\u001b[0m, in \u001b[0;36m_AxesBase.draw\u001b[0;34m(self, renderer)\u001b[0m\n\u001b[1;32m   3052\u001b[0m     \u001b[38;5;28;01mfor\u001b[39;00m spine \u001b[38;5;129;01min\u001b[39;00m \u001b[38;5;28mself\u001b[39m\u001b[38;5;241m.\u001b[39mspines\u001b[38;5;241m.\u001b[39mvalues():\n\u001b[1;32m   3053\u001b[0m         artists\u001b[38;5;241m.\u001b[39mremove(spine)\n\u001b[0;32m-> 3055\u001b[0m \u001b[38;5;28;43mself\u001b[39;49m\u001b[38;5;241;43m.\u001b[39;49m\u001b[43m_update_title_position\u001b[49m\u001b[43m(\u001b[49m\u001b[43mrenderer\u001b[49m\u001b[43m)\u001b[49m\n\u001b[1;32m   3057\u001b[0m \u001b[38;5;28;01mif\u001b[39;00m \u001b[38;5;129;01mnot\u001b[39;00m \u001b[38;5;28mself\u001b[39m\u001b[38;5;241m.\u001b[39maxison:\n\u001b[1;32m   3058\u001b[0m     \u001b[38;5;28;01mfor\u001b[39;00m _axis \u001b[38;5;129;01min\u001b[39;00m \u001b[38;5;28mself\u001b[39m\u001b[38;5;241m.\u001b[39m_get_axis_list():\n",
      "File \u001b[0;32m/usr/local/lib/python3.9/site-packages/matplotlib/axes/_base.py:2991\u001b[0m, in \u001b[0;36m_AxesBase._update_title_position\u001b[0;34m(self, renderer)\u001b[0m\n\u001b[1;32m   2988\u001b[0m \u001b[38;5;28;01mfor\u001b[39;00m ax \u001b[38;5;129;01min\u001b[39;00m axs:\n\u001b[1;32m   2989\u001b[0m     \u001b[38;5;28;01mif\u001b[39;00m (ax\u001b[38;5;241m.\u001b[39mxaxis\u001b[38;5;241m.\u001b[39mget_ticks_position() \u001b[38;5;129;01min\u001b[39;00m [\u001b[38;5;124m'\u001b[39m\u001b[38;5;124mtop\u001b[39m\u001b[38;5;124m'\u001b[39m, \u001b[38;5;124m'\u001b[39m\u001b[38;5;124munknown\u001b[39m\u001b[38;5;124m'\u001b[39m]\n\u001b[1;32m   2990\u001b[0m             \u001b[38;5;129;01mor\u001b[39;00m ax\u001b[38;5;241m.\u001b[39mxaxis\u001b[38;5;241m.\u001b[39mget_label_position() \u001b[38;5;241m==\u001b[39m \u001b[38;5;124m'\u001b[39m\u001b[38;5;124mtop\u001b[39m\u001b[38;5;124m'\u001b[39m):\n\u001b[0;32m-> 2991\u001b[0m         bb \u001b[38;5;241m=\u001b[39m \u001b[43max\u001b[49m\u001b[38;5;241;43m.\u001b[39;49m\u001b[43mxaxis\u001b[49m\u001b[38;5;241;43m.\u001b[39;49m\u001b[43mget_tightbbox\u001b[49m\u001b[43m(\u001b[49m\u001b[43mrenderer\u001b[49m\u001b[43m)\u001b[49m\n\u001b[1;32m   2992\u001b[0m     \u001b[38;5;28;01melse\u001b[39;00m:\n\u001b[1;32m   2993\u001b[0m         \u001b[38;5;28;01mif\u001b[39;00m \u001b[38;5;124m'\u001b[39m\u001b[38;5;124moutline\u001b[39m\u001b[38;5;124m'\u001b[39m \u001b[38;5;129;01min\u001b[39;00m ax\u001b[38;5;241m.\u001b[39mspines:\n\u001b[1;32m   2994\u001b[0m             \u001b[38;5;66;03m# Special case for colorbars:\u001b[39;00m\n",
      "File \u001b[0;32m/usr/local/lib/python3.9/site-packages/matplotlib/axis.py:1103\u001b[0m, in \u001b[0;36mAxis.get_tightbbox\u001b[0;34m(self, renderer, for_layout_only)\u001b[0m\n\u001b[1;32m   1100\u001b[0m \u001b[38;5;28;01mif\u001b[39;00m \u001b[38;5;129;01mnot\u001b[39;00m \u001b[38;5;28mself\u001b[39m\u001b[38;5;241m.\u001b[39mget_visible():\n\u001b[1;32m   1101\u001b[0m     \u001b[38;5;28;01mreturn\u001b[39;00m\n\u001b[0;32m-> 1103\u001b[0m ticks_to_draw \u001b[38;5;241m=\u001b[39m \u001b[38;5;28;43mself\u001b[39;49m\u001b[38;5;241;43m.\u001b[39;49m\u001b[43m_update_ticks\u001b[49m\u001b[43m(\u001b[49m\u001b[43m)\u001b[49m\n\u001b[1;32m   1105\u001b[0m \u001b[38;5;28mself\u001b[39m\u001b[38;5;241m.\u001b[39m_update_label_position(renderer)\n\u001b[1;32m   1107\u001b[0m \u001b[38;5;66;03m# go back to just this axis's tick labels\u001b[39;00m\n",
      "File \u001b[0;32m/usr/local/lib/python3.9/site-packages/matplotlib/axis.py:1054\u001b[0m, in \u001b[0;36mAxis._update_ticks\u001b[0;34m(self)\u001b[0m\n\u001b[1;32m   1052\u001b[0m     tick\u001b[38;5;241m.\u001b[39mset_label2(label)\n\u001b[1;32m   1053\u001b[0m minor_locs \u001b[38;5;241m=\u001b[39m \u001b[38;5;28mself\u001b[39m\u001b[38;5;241m.\u001b[39mget_minorticklocs()\n\u001b[0;32m-> 1054\u001b[0m minor_labels \u001b[38;5;241m=\u001b[39m \u001b[38;5;28;43mself\u001b[39;49m\u001b[38;5;241;43m.\u001b[39;49m\u001b[43mminor\u001b[49m\u001b[38;5;241;43m.\u001b[39;49m\u001b[43mformatter\u001b[49m\u001b[38;5;241;43m.\u001b[39;49m\u001b[43mformat_ticks\u001b[49m\u001b[43m(\u001b[49m\u001b[43mminor_locs\u001b[49m\u001b[43m)\u001b[49m\n\u001b[1;32m   1055\u001b[0m minor_ticks \u001b[38;5;241m=\u001b[39m \u001b[38;5;28mself\u001b[39m\u001b[38;5;241m.\u001b[39mget_minor_ticks(\u001b[38;5;28mlen\u001b[39m(minor_locs))\n\u001b[1;32m   1056\u001b[0m \u001b[38;5;28mself\u001b[39m\u001b[38;5;241m.\u001b[39mminor\u001b[38;5;241m.\u001b[39mformatter\u001b[38;5;241m.\u001b[39mset_locs(minor_locs)\n",
      "File \u001b[0;32m/usr/local/lib/python3.9/site-packages/matplotlib/ticker.py:224\u001b[0m, in \u001b[0;36mFormatter.format_ticks\u001b[0;34m(self, values)\u001b[0m\n\u001b[1;32m    222\u001b[0m \u001b[38;5;124;03m\"\"\"Return the tick labels for all the ticks at once.\"\"\"\u001b[39;00m\n\u001b[1;32m    223\u001b[0m \u001b[38;5;28mself\u001b[39m\u001b[38;5;241m.\u001b[39mset_locs(values)\n\u001b[0;32m--> 224\u001b[0m \u001b[38;5;28;01mreturn\u001b[39;00m [\u001b[38;5;28mself\u001b[39m(value, i) \u001b[38;5;28;01mfor\u001b[39;00m i, value \u001b[38;5;129;01min\u001b[39;00m \u001b[38;5;28menumerate\u001b[39m(values)]\n",
      "File \u001b[0;32m/usr/local/lib/python3.9/site-packages/matplotlib/ticker.py:224\u001b[0m, in \u001b[0;36m<listcomp>\u001b[0;34m(.0)\u001b[0m\n\u001b[1;32m    222\u001b[0m \u001b[38;5;124;03m\"\"\"Return the tick labels for all the ticks at once.\"\"\"\u001b[39;00m\n\u001b[1;32m    223\u001b[0m \u001b[38;5;28mself\u001b[39m\u001b[38;5;241m.\u001b[39mset_locs(values)\n\u001b[0;32m--> 224\u001b[0m \u001b[38;5;28;01mreturn\u001b[39;00m [\u001b[38;5;28;43mself\u001b[39;49m\u001b[43m(\u001b[49m\u001b[43mvalue\u001b[49m\u001b[43m,\u001b[49m\u001b[43m \u001b[49m\u001b[43mi\u001b[49m\u001b[43m)\u001b[49m \u001b[38;5;28;01mfor\u001b[39;00m i, value \u001b[38;5;129;01min\u001b[39;00m \u001b[38;5;28menumerate\u001b[39m(values)]\n",
      "File \u001b[0;32m/usr/local/lib/python3.9/site-packages/pandas/plotting/_matplotlib/converter.py:1070\u001b[0m, in \u001b[0;36mTimeSeries_DateFormatter.__call__\u001b[0;34m(self, x, pos)\u001b[0m\n\u001b[1;32m   1068\u001b[0m \u001b[38;5;28;01mif\u001b[39;00m \u001b[38;5;28misinstance\u001b[39m(fmt, np\u001b[38;5;241m.\u001b[39mbytes_):\n\u001b[1;32m   1069\u001b[0m     fmt \u001b[38;5;241m=\u001b[39m fmt\u001b[38;5;241m.\u001b[39mdecode(\u001b[38;5;124m\"\u001b[39m\u001b[38;5;124mutf-8\u001b[39m\u001b[38;5;124m\"\u001b[39m)\n\u001b[0;32m-> 1070\u001b[0m \u001b[38;5;28;01mreturn\u001b[39;00m \u001b[43mPeriod\u001b[49m\u001b[43m(\u001b[49m\u001b[43mordinal\u001b[49m\u001b[38;5;241;43m=\u001b[39;49m\u001b[38;5;28;43mint\u001b[39;49m\u001b[43m(\u001b[49m\u001b[43mx\u001b[49m\u001b[43m)\u001b[49m\u001b[43m,\u001b[49m\u001b[43m \u001b[49m\u001b[43mfreq\u001b[49m\u001b[38;5;241;43m=\u001b[39;49m\u001b[38;5;28;43mself\u001b[39;49m\u001b[38;5;241;43m.\u001b[39;49m\u001b[43mfreq\u001b[49m\u001b[43m)\u001b[49m\u001b[38;5;241;43m.\u001b[39;49m\u001b[43mstrftime\u001b[49m\u001b[43m(\u001b[49m\u001b[43mfmt\u001b[49m\u001b[43m)\u001b[49m\n",
      "File \u001b[0;32m/usr/local/lib/python3.9/site-packages/pandas/_libs/tslibs/period.pyx:2383\u001b[0m, in \u001b[0;36mpandas._libs.tslibs.period._Period.strftime\u001b[0;34m()\u001b[0m\n",
      "File \u001b[0;32m/usr/local/lib/python3.9/site-packages/pandas/_libs/tslibs/period.pyx:1221\u001b[0m, in \u001b[0;36mpandas._libs.tslibs.period.period_format\u001b[0;34m()\u001b[0m\n",
      "File \u001b[0;32m/usr/local/lib/python3.9/site-packages/pandas/_libs/tslibs/period.pyx:1254\u001b[0m, in \u001b[0;36mpandas._libs.tslibs.period._period_strftime\u001b[0;34m()\u001b[0m\n",
      "\u001b[0;31mUnicodeDecodeError\u001b[0m: 'utf-8' codec can't decode byte 0xe9 in position 1: invalid continuation byte"
     ]
    },
    {
     "data": {
      "text/plain": [
       "<Figure size 432x288 with 1 Axes>"
      ]
     },
     "metadata": {},
     "output_type": "display_data"
    }
   ],
   "source": [
    "df[\"DateS\"] = pd.to_datetime(df[\"Saisine\"], format=\"%d %B %Y\", errors=\"coerce\")  \n",
    "# Then we can convert the dates found to a datetime object; we \"coerce\" to ignore errors (wrong format, etc.)\n",
    "\n",
    "df[\"Delta\"] = df[\"Séance\"] - df[\"DateS\"]  # We obtain the delta between the two dates\n",
    "df[\"Days\"] = df.Delta.apply(lambda x: x.days)  \n",
    "# And then fetch the number of days from the datetime values in the delta column. Again, the function apply allows\n",
    "# you to work on the data in the columns immediately. Since the Delta data is datetime, we can get the .days attribute\n",
    "\n",
    "df.loc[(df.Days > 0) & (df.Days < 300)].resample(\"3M\").Days.mean().plot()  # Finally, we plot the results of our dataframe,\n",
    "# removing outliers (negative deltas and deltas over 300 days)"
   ]
  },
  {
   "cell_type": "markdown",
   "metadata": {},
   "source": [
    "We observe the for a long time the delays were increasing very rapidly. Yet, something happened around 2020, which helped the CADA deal with applications much more quickly."
   ]
  }
 ],
 "metadata": {
  "kernelspec": {
   "display_name": "Python 3.9",
   "language": "python",
   "name": "python3.9"
  },
  "language_info": {
   "codemirror_mode": {
    "name": "ipython",
    "version": 3
   },
   "file_extension": ".py",
   "mimetype": "text/x-python",
   "name": "python",
   "nbconvert_exporter": "python",
   "pygments_lexer": "ipython3",
   "version": "3.9.13"
  }
 },
 "nbformat": 4,
 "nbformat_minor": 1
}
