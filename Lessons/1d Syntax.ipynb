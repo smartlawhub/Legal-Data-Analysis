{
 "cells": [
  {
   "cell_type": "markdown",
   "metadata": {},
   "source": [
    "# Syntax\n",
    "\n",
    "Finally, some notions of syntaxes. You write code as you would write anything: sequentially. This means \n",
    "you first define your variables or your functions before using it, or Python won't be able to know what you mean. \n",
    "This being said, there are two basic syntaxic ideas that are crucial to any coding script - or indeed, to any software you are currently using. These are loops, and conditions."
   ]
  },
  {
   "cell_type": "markdown",
   "metadata": {},
   "source": [
    "## Loops\n",
    "\n",
    "A `loop`,  tells Python to go over (the term is \"iterate\") a number of elements, most often from a list. \n",
    "The syntax is always the same: `for x in list: y`, where \"x\" represents the temporary name of element in the \"list\" in \n",
    "turn, and \"y\" what happens to that \"x\". In other words, start with the first element (called \"x\" in the context of \n",
    "the loop), do stuff (\"y\") with that element, then go over the \n",
    "next element (which will also be called \"x\"), and so on. "
   ]
  },
  {
   "cell_type": "code",
   "execution_count": 4,
   "metadata": {},
   "outputs": [
    {
     "name": "stdout",
     "output_type": "stream",
     "text": [
      "A\n",
      "Freckled\n",
      "and\n",
      "Frivolous\n",
      "Cake\n",
      "There\n",
      "Was\n"
     ]
    }
   ],
   "source": [
    "words = [\"A\", \"Freckled\", \"and\", \"Frivolous\", \"Cake\", \"There\", \"Was\"]\n",
    "\n",
    "for x in words:  # This loop will print each word from the list one by one\n",
    "    print(x)"
   ]
  },
  {
   "cell_type": "markdown",
   "metadata": {},
   "source": [
    "After the loop has been completed, the variable `x` is still available: it represents whatever was the last item iterated over."
   ]
  },
  {
   "cell_type": "code",
   "execution_count": 5,
   "metadata": {},
   "outputs": [
    {
     "name": "stdout",
     "output_type": "stream",
     "text": [
      "Was\n"
     ]
    }
   ],
   "source": [
    "print(x)"
   ]
  },
  {
   "cell_type": "markdown",
   "metadata": {},
   "source": [
    "You will note that for your loop to work, the second level of instructions needs to be shifted to the right (and you \n",
    "have a colon at the end of your `for` statement). That's \n",
    "called identation, and this is crucial in Python. It's also one of the main reasons why people don't like this \n",
    "language. Other languages are more explicit as to when a section of your code is actually contained in another \n",
    "section: for example, in C++ you would put stuff within brackets, or indicate the end of a statement with a semi-colon.\n",
    "\n",
    "You can loop over lists, strings, and other objects we will discover later."
   ]
  },
  {
   "cell_type": "code",
   "execution_count": 2,
   "metadata": {},
   "outputs": [
    {
     "name": "stdout",
     "output_type": "stream",
     "text": [
      "S\n",
      "S\n",
      "w\n",
      "Sw\n",
      "o\n",
      "Swo\n",
      "r\n",
      "Swor\n",
      "d\n",
      "Sword\n",
      "f\n",
      "Swordf\n",
      "i\n",
      "Swordfi\n",
      "s\n",
      "Swordfis\n",
      "h\n",
      "Swordfish\n"
     ]
    }
   ],
   "source": [
    "recreated_text = \"\"  # We start by creating an empty text variable\n",
    "for letter in \"Swordfish\":   # We loop over the string Swordfish (strings can be used as lists of letters)\n",
    "    print(letter)  # We first print the letters, one by one\n",
    "    recreated_text += letter  # Then we add the letter to the existing recreated text; remember that x += 1 increment x by 1\n",
    "    print(recreated_text)"
   ]
  },
  {
   "cell_type": "markdown",
   "metadata": {},
   "source": [
    "As everywhere else in Python, the order of things is very important, including in the context of a loop."
   ]
  },
  {
   "cell_type": "code",
   "execution_count": 8,
   "metadata": {},
   "outputs": [
    {
     "name": "stdout",
     "output_type": "stream",
     "text": [
      "A - A\n",
      "Freckled - Freckled\n",
      "and - and\n",
      "Frivolous - Frivolous\n",
      "Cake - Cake\n",
      "There - There\n",
      "Was - Was\n",
      "A - Was\n",
      "Freckled - A\n",
      "and - Freckled\n",
      "Frivolous - and\n",
      "Cake - Frivolous\n",
      "There - Cake\n",
      "Was - There\n"
     ]
    }
   ],
   "source": [
    "for x in words: # We loop over the words\n",
    "    y = x  # We assign a new variable y that's the same as every x, one by one\n",
    "    print(x + \" - \" + y)\n",
    "    \n",
    "for x in words: # In this second loop, y has not been assigned yet, so it is still the last-assigned y\n",
    "    print(x + \" - \" + y)\n",
    "    y = x"
   ]
  },
  {
   "cell_type": "markdown",
   "metadata": {},
   "source": [
    "## Conditions\n",
    "\n",
    "The second important syntax element, and really the basic building block of so much code that runs your \n",
    "daily life, is the `if/else` statement. It simply asks if a condition is met, and then accomplish the resulting code.\n",
    "The syntax is of the form `if x:` , where \"x\" need to be <code>True</code> (in the boolean sense) for the (indented) code coming after the colon to output. 2 + 2 = 4, so a statement `if 2+2 == 4: print(\"Correct\")` would print correct. (Note that \n",
    "we use \"==\" to check an identity, since the single \"=\" sign is used to assign variables.)\n",
    "\n",
    "In the example below, we will check that the letter \"e\" (i.e., a string corresponding to the lower case \"e\") is present in a list of words.\n",
    "\n",
    "Note that the `else` will compute only if the `if` condition has not been met. "
   ]
  },
  {
   "cell_type": "code",
   "execution_count": 9,
   "metadata": {},
   "outputs": [
    {
     "name": "stdout",
     "output_type": "stream",
     "text": [
      "A  : No 'e' in that word\n",
      "Freckled\n",
      "and  : No 'e' in that word\n",
      "Frivolous  : No 'e' in that word\n",
      "Cake\n",
      "There\n",
      "Was  : No 'e' in that word\n"
     ]
    }
   ],
   "source": [
    "for word in words:\n",
    "    if \"e\" in word:\n",
    "        print(word)\n",
    "    else:\n",
    "        print(word, \" : No 'e' in that word\")"
   ]
  },
  {
   "cell_type": "markdown",
   "metadata": {},
   "source": [
    "They are several ways to syntax `if` statements:\n",
    "<ul><li>With an <code>is in</code> if need to check that an item is part of a list or a set (or the inverse \n",
    "<code>is not in</code>);</li>\n",
    "    <li>By itself if you are checking a boolean (<code>if my_bol:</code> will return <code>True</code> or \n",
    "<code>False</code> depending on the value of <code>my_bol</code>);</li>\n",
    "    <li>With the double equal sign <code>==</code> for identity between two variables, or <code>!=</code> for lack of \n",
    "identity; and</li>\n",
    "    <li>With a combination of the signs <code>></code>, <code><</code> and <code>=</code> when comparing two \n",
    "quantities.</li></ul>\n",
    "\n",
    "Finally, you can add conditions with the keywords `and` and `or`. \n",
    "\n",
    "In case you want to try a second condition after a first one is not met, you can use the keyword `elif` (\"else if\"), which works exactly like if."
   ]
  },
  {
   "cell_type": "code",
   "execution_count": 11,
   "metadata": {},
   "outputs": [
    {
     "name": "stdout",
     "output_type": "stream",
     "text": [
      "A Freckled and Frivolous Cake There Was\n",
      "Fourth Condition Met\n"
     ]
    }
   ],
   "source": [
    "sentence = \" \".join(words)  # We recreate the sentence from the list of words with the method join\n",
    "print(sentence)\n",
    "my_bol = False  # We set a boolean that's False\n",
    "\n",
    "if \"frivolous\" in sentence:\n",
    "    print(\"First Condition Met\")\n",
    "elif my_bol:\n",
    "    print(\"Second Condition Met\")\n",
    "elif len(sentence) == 50:   # len() is a built-in function rendering the length of a list or string\n",
    "    print(\"Third Condition Met\")\n",
    "elif len(sentence) >= 30 and \"e\" in sentence or \"Cake\" in sentence:\n",
    "    print(\"Fourth Condition Met\")\n",
    "else:\n",
    "    pass"
   ]
  },
  {
   "cell_type": "markdown",
   "metadata": {},
   "source": [
    "This is all, or nearly. On the basis of these very basic concepts run most of the rest of the Python scripts you can see out there. "
   ]
  }
 ],
 "metadata": {
  "kernelspec": {
   "display_name": "Python 3.9",
   "language": "python",
   "name": "python3.9"
  },
  "language_info": {
   "codemirror_mode": {
    "name": "ipython",
    "version": 3
   },
   "file_extension": ".py",
   "mimetype": "text/x-python",
   "name": "python",
   "nbconvert_exporter": "python",
   "pygments_lexer": "ipython3",
   "version": "3.9.13"
  }
 },
 "nbformat": 4,
 "nbformat_minor": 1
}
