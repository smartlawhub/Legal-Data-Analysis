{
 "cells": [
  {
   "cell_type": "markdown",
   "metadata": {},
   "source": [
    "# Dates and xPath\n",
    "\n",
    "Before turning to scraping, two important points that fit nowhere else. For both, we will use a decision from the Conseil d'Etat (see previous lesson on .xml).\n",
    "\n",
    "## xPath\n",
    "\n",
    "We saw how to locate an element by filtering all children from the root with the <code>.iter()</code> method. Yet, this is not the easiest way to locate an element when you really need it. Instead, you need to use yet another syntax, called xpath. You can read more about xPath \n",
    "<a href=\"https://www.w3schools.com/xml/xpath_syntax.asp\">here</a>. It works like this:\n",
    "\n",
    "<ul><li>You first identify where to find the required element. You typically start from the source element \n",
    "(represented by a dot <code>.</code>), then use one slash if you want to search in the immediate children, or two slashes \n",
    "(<code>//</code>) if you need to search in the entire tree;</li>\n",
    "    <li>Then you specify the name of the element, or <code>*</code> if any would do;</li>\n",
    "    <li>And then you add conditions, in brackets, such as the value of an attribute (introduced by a <code>@</code>),\n",
    "or based on other functions (such as whether the element contains a certain text);</li>\n",
    "<li>You can also directly looked for all \"x\" elements (will return a list of those);</li>\n",
    "    <li>Finally, xpath comes with a number of functions, such as <code>contains()</code> (allows you to check that \n",
    "the object contains a certain text);</li>\n",
    "    </ul>\n",
    "\n",
    "For instance, if we needed to find the element `Date_Lecture` in the xml_file, this is what the xPath expression \n",
    "would look like: `root.xpath(\".//Date_Lecture\") `.\n",
    "\n",
    "Xpath method Returns a list, be careful about this ! If you expect only one element, you can immediately index it, as below."
   ]
  },
  {
   "cell_type": "code",
   "execution_count": 15,
   "metadata": {},
   "outputs": [
    {
     "name": "stdout",
     "output_type": "stream",
     "text": [
      "Le numéro de dossier est:  461328\n",
      "Article 1er : Le pourvoi de Erreur ! Aucune variable de document fournie. n'est pas admis.\n",
      "Article 2 : La présente décision sera notifiée à  et à la Chambre De Commerce Et D'industrie Lyon Métropole Saint-etienne RoanneCopie en sera adressée à la chambre de commerce et d'industrie Lyon Métropole Saint-Etienne Roanne.\n"
     ]
    }
   ],
   "source": [
    "import os\n",
    "from lxml import etree\n",
    "\n",
    "os.chdir(\"../Data/CE\")  # We move to the relevant folder, if needed\n",
    "file = os.listdir(\".\")[0] # We take the first file from the CE folder\n",
    "\n",
    "xml_file = etree.parse(file)  # We first open the .xml file with the \"parse\" method\n",
    "root = xml_file.getroot()  # We then look for the \"root\" of the XML tree, and pass it to a variable root\n",
    "\n",
    "numero_dossier = root.xpath(\".//Numero_Dossier\")[0]  # We search for the element Numero Dossier\n",
    "print(\"Le numéro de dossier est: \", numero_dossier.text)\n",
    "\n",
    "paras = root.xpath(\".//*[contains(text(), 'Article')]\")  # Looking for all elements whose text contains the term \"Article\"\n",
    "for para in paras:  # We can loop since xPath always returns a list!\n",
    "    print(para.text)"
   ]
  },
  {
   "cell_type": "markdown",
   "metadata": {},
   "source": [
    "## Dates\n",
    "\n",
    "Python has a data format called datetime, which deals with dates. Dates can be text; in some cases, they can be \n",
    "numbers (e.g., a year); but they are most useful when they are of the type \"datetime\", since they then come with useful methods.\n",
    "\n",
    "To transform a text into a datetime object, you need to parse it. The datetime module has a function <code>strptime</code> that detects time according to a pattern. You can look for days, months, quarters, minutes, etc. For instance, the symbol \"%Y\" means the full year written as four consecutive digits (e.g., in regex, \\d\\d\\d\\d). The full syntax is available <a href=\"https://docs.python.org/3/library/datetime.html#strftime-and-strptime-format-codes\">here</a>.\n",
    "\n",
    "Once you have that datetime object, you can act on it, for instance extract the month in the attributes."
   ]
  },
  {
   "cell_type": "code",
   "execution_count": 32,
   "metadata": {},
   "outputs": [
    {
     "name": "stdout",
     "output_type": "stream",
     "text": [
      "2023-01-20 19:14:07.280923\n",
      "2022-12-05\n",
      "5\n"
     ]
    }
   ],
   "source": [
    "from datetime import datetime # The relevant module in the package datetime is also called datetime ... \n",
    "\n",
    "print(datetime.today())  # datetime knows what date it is today\n",
    "\n",
    "date = root.xpath(\".//Date_Lecture\")[0] # We get the date of our decision\n",
    "print(date.text)\n",
    "\n",
    "parsed_date = datetime.strptime(date.text, \"%Y-%m-%d\")  # The function strptime allows you to read a text (first argument), \n",
    "# and if it matches the pattern in second argument, you will create a datetime object (parsed_date here).\n",
    "print(parsed_date.day)  # The day attribute knows the day number (in the week); today is Friday so 5"
   ]
  },
  {
   "cell_type": "markdown",
   "metadata": {},
   "source": [
    "But more importantly, datetime objects allow you to reformat a date according to your needs - again, using a pattern."
   ]
  },
  {
   "cell_type": "code",
   "execution_count": 34,
   "metadata": {},
   "outputs": [
    {
     "name": "stdout",
     "output_type": "stream",
     "text": [
      "Monday 05 December 2022\n",
      "The element's attribute date:  Monday 05 December 2022\n"
     ]
    }
   ],
   "source": [
    "full_date = parsed_date.strftime(\"%A %d %B %Y\")  # Your datetime object can then be transforme (strftime) into a more \n",
    "# pleasant date format, again using a pattern. Note that datetime know what day of the week that date was !\n",
    "print(full_date)\n",
    "\n",
    "date.set(\"date\", full_date)  # Let's add the full date as an attribute to our date element\n",
    "\n",
    "new_date_el = root.xpath(\".//Date_Lecture[@date='\" + full_date + \"']\")[0]  # And now we can use xPath to find this element \n",
    "# with the attribute (which we just added)\n",
    "print(\"The element's attribute date: \", new_date_el.get(\"date\"))"
   ]
  }
 ],
 "metadata": {
  "kernelspec": {
   "display_name": "Python 3.9",
   "language": "python",
   "name": "python3.9"
  },
  "language_info": {
   "codemirror_mode": {
    "name": "ipython",
    "version": 3
   },
   "file_extension": ".py",
   "mimetype": "text/x-python",
   "name": "python",
   "nbconvert_exporter": "python",
   "pygments_lexer": "ipython3",
   "version": "3.9.13"
  }
 },
 "nbformat": 4,
 "nbformat_minor": 1
}
