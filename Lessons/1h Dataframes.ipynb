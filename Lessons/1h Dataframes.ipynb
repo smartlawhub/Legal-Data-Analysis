{
 "cells": [
  {
   "cell_type": "markdown",
   "metadata": {},
   "source": [
    "# Dataframes\n",
    "\n",
    "A lot of the analyses you'll be asked to perform will be based on a dataframe, i.e., a spreadsheet where \n",
    "data is structured in rows and columns. \n",
    "\n",
    "There are other ways to store, access, and exploit data (we'll discuss Structured Data in the next Lesson), but \n",
    "usually even that data is at one point converted into a dataframe, over which you'll perform (and record) your analyses.\n",
    "\n",
    "The main and most popular module in Python for dataframes is called `pandas`, and frequently abbreviated \n",
    "as `pd`. Think of pandas in this context as an equivalent of Microsoft Excel - except \n",
    "infinitely more flexible (though you can do much more with Excel if you learn VBA, the language powering it).\n",
    "\n",
    "We'll introduce you very softly to pandas today, keeping most of the heavy work for another lesson - but you'll need \n",
    "the basics to properly follow through the lessons on Scraping, for instance."
   ]
  },
  {
   "cell_type": "markdown",
   "metadata": {},
   "source": [
    "This course comes pre-loaded with a `.csv` file about decisions from the Conseil D'Etat in November 2021. \n",
    "We'll perform a number of operations over it to showcase `pandas`'s abilities.\n",
    "\n",
    "You first load the file with pandas, which makes it easy for you for a dedicated `read_csv` function (no need to use \n",
    "a reader/writer as we just saw before)."
   ]
  },
  {
   "cell_type": "code",
   "execution_count": 6,
   "metadata": {},
   "outputs": [],
   "source": [
    "import os\n",
    "import pandas as pd  # We import pandas\n",
    "from matplotlib.pyplot import plot  # We also import a module to create graphs and plots\n",
    "import regex as re\n",
    "\n",
    "os.chdir(\"./Data/CSVs\")  # We move to the folder where the file is located\n",
    "\n",
    "df = pd.read_csv(\"Conseil Etat Novembre 2011.csv\", header=\"infer\")  # We load it \n",
    "df = df.fillna(\"\")  # It is common to fill the \"empty\" cells (which are cast as \"NaN\", or \"Not a Number\", \n",
    "#replacing them with an empty string instead (\"\"). This is to facilitate comparisons (as you can't compare a string to a NaN)"
   ]
  },
  {
   "cell_type": "markdown",
   "metadata": {},
   "source": [
    "Then we can do a bit of data investigation, see what's the most interesting column or data, etc. One first useful tool is the `.value_count()` method, which allow you to see the rough distribution of a variable. "
   ]
  },
  {
   "cell_type": "code",
   "execution_count": 7,
   "metadata": {},
   "outputs": [
    {
     "name": "stdout",
     "output_type": "stream",
     "text": [
      "Index(['Numero_Dossier', 'Date_Lecture', 'Date_Audience', 'Avocat_Requerant',\n",
      "       'Type_Decision', 'Type_Recours', 'Formation_Jugement'],\n",
      "      dtype='object')\n",
      "0      Contentieux des pensions\n",
      "1              Excès de pouvoir\n",
      "2             Plein contentieux\n",
      "3             Plein contentieux\n",
      "4             Plein contentieux\n",
      "                 ...           \n",
      "675            Excès de pouvoir\n",
      "676           Plein contentieux\n",
      "677           Plein contentieux\n",
      "678            Excès de pouvoir\n",
      "679            Excès de pouvoir\n",
      "Name: Type_Recours, Length: 680, dtype: object\n"
     ]
    },
    {
     "data": {
      "text/plain": [
       "<AxesSubplot:>"
      ]
     },
     "execution_count": 7,
     "metadata": {},
     "output_type": "execute_result"
    },
    {
     "data": {
      "image/png": "[encoded data removed]",
      "text/plain": [
       "<Figure size 432x288 with 1 Axes>"
      ]
     },
     "metadata": {
      "needs_background": "light"
     },
     "output_type": "display_data"
    }
   ],
   "source": [
    "df.head(5)\n",
    "print(df.columns)\n",
    "print(df[\"Type_Recours\"] ) # You access a particular column by indexing it this way (we'll see further indexing in a few weeks)\n",
    "df[\"Type_Recours\"].unique()  # Functions such as Unique renders a list of all possible values in a given column\n",
    "df[\"Type_Recours\"].value_counts()  # One of the most useful functions returns a count of all values\n",
    "\n",
    "df[\"Type_Recours\"].value_counts().plot(kind='barh')  # And now we can plot it with a bar chart"
   ]
  },
  {
   "cell_type": "markdown",
   "metadata": {},
   "source": [
    "Like lists and dictionaries, a pandas object is a collection of data, and you may want to index it to find a particular data point. The methods are a bit different however.\n",
    "\n",
    "To get a single value, you can use the method `.at`, which takes two arguments: the row number, and the column index."
   ]
  },
  {
   "cell_type": "code",
   "execution_count": 8,
   "metadata": {},
   "outputs": [
    {
     "name": "stdout",
     "output_type": "stream",
     "text": [
      "Contentieux des pensions\n",
      "SCP PIWNICA, MOLINIE\n"
     ]
    }
   ],
   "source": [
    "print(df.at[0, \"Type_Recours\"])  # This returns the value of the column \"Type_Recours\" for the first line of the df\n",
    "print(df.at[10, \"Avocat_Requerant\"]) # The value for the column \"Avocat_Requerant\" for the 10th line"
   ]
  },
  {
   "cell_type": "markdown",
   "metadata": {},
   "source": [
    "More commonly, Pandas objects have a method `.loc`, which returns a slice of the dataframe based on a condition (which should be True), or `.at` to get a particular cell if you know its index."
   ]
  },
  {
   "cell_type": "code",
   "execution_count": 9,
   "metadata": {},
   "outputs": [
    {
     "data": {
      "text/html": [
       "<div>\n",
       "<style scoped>\n",
       "    .dataframe tbody tr th:only-of-type {\n",
       "        vertical-align: middle;\n",
       "    }\n",
       "\n",
       "    .dataframe tbody tr th {\n",
       "        vertical-align: top;\n",
       "    }\n",
       "\n",
       "    .dataframe thead th {\n",
       "        text-align: right;\n",
       "    }\n",
       "</style>\n",
       "<table border=\"1\" class=\"dataframe\">\n",
       "  <thead>\n",
       "    <tr style=\"text-align: right;\">\n",
       "      <th></th>\n",
       "      <th>Numero_Dossier</th>\n",
       "      <th>Date_Lecture</th>\n",
       "      <th>Date_Audience</th>\n",
       "      <th>Avocat_Requerant</th>\n",
       "      <th>Type_Decision</th>\n",
       "      <th>Type_Recours</th>\n",
       "      <th>Formation_Jugement</th>\n",
       "    </tr>\n",
       "  </thead>\n",
       "  <tbody>\n",
       "    <tr>\n",
       "      <th>442</th>\n",
       "      <td>456924</td>\n",
       "      <td>22/11/2021</td>\n",
       "      <td>21/10/2021</td>\n",
       "      <td>SCP SEVAUX, MATHONNET</td>\n",
       "      <td>Décision</td>\n",
       "      <td>Excès de pouvoir</td>\n",
       "      <td>Juge des référés</td>\n",
       "    </tr>\n",
       "    <tr>\n",
       "      <th>443</th>\n",
       "      <td>457053</td>\n",
       "      <td>24/11/2021</td>\n",
       "      <td>19/10/2021</td>\n",
       "      <td></td>\n",
       "      <td>Décision</td>\n",
       "      <td>Excès de pouvoir</td>\n",
       "      <td>Juge des référés</td>\n",
       "    </tr>\n",
       "    <tr>\n",
       "      <th>444</th>\n",
       "      <td>457346</td>\n",
       "      <td>02/11/2021</td>\n",
       "      <td>22/10/2021</td>\n",
       "      <td>SCP GUÉRIN - GOUGEON</td>\n",
       "      <td>Décision</td>\n",
       "      <td>Excès de pouvoir</td>\n",
       "      <td>Juge des référés</td>\n",
       "    </tr>\n",
       "    <tr>\n",
       "      <th>446</th>\n",
       "      <td>457399</td>\n",
       "      <td>16/11/2021</td>\n",
       "      <td>08/11/2021</td>\n",
       "      <td>SCP OHL, VEXLIARD</td>\n",
       "      <td>Décision</td>\n",
       "      <td>Excès de pouvoir</td>\n",
       "      <td>Juge des référés</td>\n",
       "    </tr>\n",
       "    <tr>\n",
       "      <th>448</th>\n",
       "      <td>457441</td>\n",
       "      <td>08/11/2021</td>\n",
       "      <td>25/10/2021</td>\n",
       "      <td>SCP FABIANI, LUC-THALER, PINATEL</td>\n",
       "      <td>Décision</td>\n",
       "      <td>Excès de pouvoir</td>\n",
       "      <td>Juge des référés</td>\n",
       "    </tr>\n",
       "    <tr>\n",
       "      <th>450</th>\n",
       "      <td>457559</td>\n",
       "      <td>02/11/2021</td>\n",
       "      <td>26/10/2021</td>\n",
       "      <td>SCP GADIOU, CHEVALLIER</td>\n",
       "      <td>Décision</td>\n",
       "      <td>Excès de pouvoir</td>\n",
       "      <td>Juge des référés</td>\n",
       "    </tr>\n",
       "    <tr>\n",
       "      <th>452</th>\n",
       "      <td>457687</td>\n",
       "      <td>16/11/2021</td>\n",
       "      <td>04/11/2021</td>\n",
       "      <td>SCP GATINEAU, FATTACCINI, REBEYROL</td>\n",
       "      <td>Décision</td>\n",
       "      <td>Excès de pouvoir</td>\n",
       "      <td>Juge des référés</td>\n",
       "    </tr>\n",
       "    <tr>\n",
       "      <th>453</th>\n",
       "      <td>457726</td>\n",
       "      <td>19/11/2021</td>\n",
       "      <td>16/11/2021</td>\n",
       "      <td></td>\n",
       "      <td>Décision</td>\n",
       "      <td>Excès de pouvoir</td>\n",
       "      <td>Juge des référés</td>\n",
       "    </tr>\n",
       "    <tr>\n",
       "      <th>454</th>\n",
       "      <td>457743</td>\n",
       "      <td>16/11/2021</td>\n",
       "      <td>12/11/2021</td>\n",
       "      <td>BOURREL</td>\n",
       "      <td>Décision</td>\n",
       "      <td>Plein contentieux</td>\n",
       "      <td>Juge des référés</td>\n",
       "    </tr>\n",
       "    <tr>\n",
       "      <th>457</th>\n",
       "      <td>457883</td>\n",
       "      <td>04/11/2021</td>\n",
       "      <td>28/10/2021</td>\n",
       "      <td>CHARLOT CHRISTINE</td>\n",
       "      <td>Décision</td>\n",
       "      <td>Plein contentieux</td>\n",
       "      <td>Juge des référés</td>\n",
       "    </tr>\n",
       "    <tr>\n",
       "      <th>460</th>\n",
       "      <td>458008</td>\n",
       "      <td>23/11/2021</td>\n",
       "      <td>18/11/2021</td>\n",
       "      <td>SARL MEIER-BOURDEAU, LECUYER ET ASSOCIES</td>\n",
       "      <td>Décision</td>\n",
       "      <td>Excès de pouvoir</td>\n",
       "      <td>Juge des référés</td>\n",
       "    </tr>\n",
       "    <tr>\n",
       "      <th>461</th>\n",
       "      <td>458056</td>\n",
       "      <td>19/11/2021</td>\n",
       "      <td>12/11/2021</td>\n",
       "      <td></td>\n",
       "      <td>Décision</td>\n",
       "      <td>Plein contentieux</td>\n",
       "      <td>Juge des référés</td>\n",
       "    </tr>\n",
       "    <tr>\n",
       "      <th>465</th>\n",
       "      <td>458107</td>\n",
       "      <td>24/11/2021</td>\n",
       "      <td>15/11/2021</td>\n",
       "      <td>SCP PIWNICA, MOLINIE</td>\n",
       "      <td>Décision</td>\n",
       "      <td>Excès de pouvoir</td>\n",
       "      <td>Juge des référés</td>\n",
       "    </tr>\n",
       "    <tr>\n",
       "      <th>470</th>\n",
       "      <td>458265</td>\n",
       "      <td>23/11/2021</td>\n",
       "      <td>17/11/2021</td>\n",
       "      <td>SCP PIWNICA, MOLINIE</td>\n",
       "      <td>Décision</td>\n",
       "      <td>Plein contentieux</td>\n",
       "      <td>Juge des référés</td>\n",
       "    </tr>\n",
       "    <tr>\n",
       "      <th>477</th>\n",
       "      <td>458472</td>\n",
       "      <td>24/11/2021</td>\n",
       "      <td>23/11/2021</td>\n",
       "      <td>SCP MATUCHANSKY, POUPOT, VALDELIEVRE</td>\n",
       "      <td>Décision</td>\n",
       "      <td>Excès de pouvoir</td>\n",
       "      <td>Juge des référés</td>\n",
       "    </tr>\n",
       "  </tbody>\n",
       "</table>\n",
       "</div>"
      ],
      "text/plain": [
       "     Numero_Dossier Date_Lecture Date_Audience  \\\n",
       "442          456924   22/11/2021    21/10/2021   \n",
       "443          457053   24/11/2021    19/10/2021   \n",
       "444          457346   02/11/2021    22/10/2021   \n",
       "446          457399   16/11/2021    08/11/2021   \n",
       "448          457441   08/11/2021    25/10/2021   \n",
       "450          457559   02/11/2021    26/10/2021   \n",
       "452          457687   16/11/2021    04/11/2021   \n",
       "453          457726   19/11/2021    16/11/2021   \n",
       "454          457743   16/11/2021    12/11/2021   \n",
       "457          457883   04/11/2021    28/10/2021   \n",
       "460          458008   23/11/2021    18/11/2021   \n",
       "461          458056   19/11/2021    12/11/2021   \n",
       "465          458107   24/11/2021    15/11/2021   \n",
       "470          458265   23/11/2021    17/11/2021   \n",
       "477          458472   24/11/2021    23/11/2021   \n",
       "\n",
       "                             Avocat_Requerant Type_Decision  \\\n",
       "442                     SCP SEVAUX, MATHONNET      Décision   \n",
       "443                                                Décision   \n",
       "444                      SCP GUÉRIN - GOUGEON      Décision   \n",
       "446                         SCP OHL, VEXLIARD      Décision   \n",
       "448          SCP FABIANI, LUC-THALER, PINATEL      Décision   \n",
       "450                    SCP GADIOU, CHEVALLIER      Décision   \n",
       "452        SCP GATINEAU, FATTACCINI, REBEYROL      Décision   \n",
       "453                                                Décision   \n",
       "454                                   BOURREL      Décision   \n",
       "457                         CHARLOT CHRISTINE      Décision   \n",
       "460  SARL MEIER-BOURDEAU, LECUYER ET ASSOCIES      Décision   \n",
       "461                                                Décision   \n",
       "465                      SCP PIWNICA, MOLINIE      Décision   \n",
       "470                      SCP PIWNICA, MOLINIE      Décision   \n",
       "477      SCP MATUCHANSKY, POUPOT, VALDELIEVRE      Décision   \n",
       "\n",
       "          Type_Recours Formation_Jugement  \n",
       "442   Excès de pouvoir   Juge des référés  \n",
       "443   Excès de pouvoir   Juge des référés  \n",
       "444   Excès de pouvoir   Juge des référés  \n",
       "446   Excès de pouvoir   Juge des référés  \n",
       "448   Excès de pouvoir   Juge des référés  \n",
       "450   Excès de pouvoir   Juge des référés  \n",
       "452   Excès de pouvoir   Juge des référés  \n",
       "453   Excès de pouvoir   Juge des référés  \n",
       "454  Plein contentieux   Juge des référés  \n",
       "457  Plein contentieux   Juge des référés  \n",
       "460   Excès de pouvoir   Juge des référés  \n",
       "461  Plein contentieux   Juge des référés  \n",
       "465   Excès de pouvoir   Juge des référés  \n",
       "470  Plein contentieux   Juge des référés  \n",
       "477   Excès de pouvoir   Juge des référés  "
      ]
     },
     "execution_count": 9,
     "metadata": {},
     "output_type": "execute_result"
    }
   ],
   "source": [
    "df.loc[df.Formation_Jugement == \"Juge des référés\"]  # Filtering the dataframe to focus on all rows where the formation of \n",
    "# judgment is the \"Juge des Référées"
   ]
  },
  {
   "cell_type": "markdown",
   "metadata": {},
   "source": [
    "Again like with a list, you may want to loop over a dataframe to work on every data point one after another. Iterating over a dataframe is generally done with the help of the method `iterrows` - which provides you with two elements (index, and a row that can be indexed with column names)."
   ]
  },
  {
   "cell_type": "code",
   "execution_count": 11,
   "metadata": {},
   "outputs": [
    {
     "name": "stdout",
     "output_type": "stream",
     "text": [
      "0  4ème chambre jugeant seule SCP BENABENT\n",
      "1 10ème chambre jugeant seule CABINET COLIN - STOCLET\n",
      "2 10ème chambre jugeant seule SCP BARADUC, DUHAMEL, RAMEIX\n",
      "3  9ème chambre jugeant seule DOCHLER GATE EMMA\n",
      "4 4ème et 1ère chambres réunies SCP RICHARD\n",
      "5 4ème et 1ère chambres réunies SCP GOUZ-FITOUSSI\n",
      "6  9ème chambre jugeant seule SCP BOUTET-HOURDEAUX\n",
      "7 4ème et 1ère chambres réunies THOUVENIN, COUDRAY, GREVY\n",
      "8 9ème et 10ème chambres réunies \n",
      "9 9ème et 10ème chambres réunies \n",
      "10 4ème et 1ère chambres réunies SCP PIWNICA, MOLINIE\n",
      "11 9ème et 10ème chambres réunies CABINET BRIARD\n",
      "12 4ème et 1ère chambres réunies SCP CELICE, TEXIDOR, PERIER\n",
      "13 10ème chambre jugeant seule FITZJEAN O COBHTHAIGH\n",
      "14  4ème chambre jugeant seule SCP LYON-CAEN, THIRIEZ\n"
     ]
    }
   ],
   "source": [
    "for index, row in df[:15].iterrows():  # We limit the loop to the first 15 rows\n",
    "    print(index, row[\"Formation_Jugement\"], row[\"Avocat_Requerant\"])"
   ]
  },
  {
   "cell_type": "markdown",
   "metadata": {},
   "source": [
    "Keeping track of the index is very useful, if you want to change the value of a column, or populate a new column, as in the example below."
   ]
  },
  {
   "cell_type": "code",
   "execution_count": 13,
   "metadata": {},
   "outputs": [
    {
     "data": {
      "text/plain": [
       "False    603\n",
       "True      77\n",
       "Name: Mixed, dtype: int64"
      ]
     },
     "execution_count": 13,
     "metadata": {},
     "output_type": "execute_result"
    }
   ],
   "source": [
    "df[\"Empty_Col\"] = \"\" # Creating new column with empty text\n",
    "df[\"New_Col\"] = df[\"Formation_Jugement\"].str.replace(\"jugeant seule\", \"\").str.strip()  # creating new column with data from \n",
    "# another column, except we changed all strings (str) with empty text, and then stripping\n",
    "\n",
    "df[\"Mixed\"] = False # Another new column, with only False datapoints for now\n",
    "for index, row in df.iterrows(): # We loop over the dataframe\n",
    "    if re.search(\"r.unies\", row[\"Formation_Jugement\"], re.I):  # We check that the formation is made of chambres réunies\n",
    "        df.at[index, \"Mixed\"] = True  # If this is the case, we reassign the column Mixed at the relevant index with True\n",
    "\n",
    "df.Mixed.value_counts()"
   ]
  },
  {
   "cell_type": "markdown",
   "metadata": {},
   "source": [
    "Finally (for now), note that you can always put your dataframe in the clipboard (i.e., a CTRL+C) so as to paste it (with CTRL+V) in a normal excel or csv file."
   ]
  },
  {
   "cell_type": "code",
   "execution_count": null,
   "metadata": {},
   "outputs": [],
   "source": [
    "df.to_clipboard(index=False)"
   ]
  }
 ],
 "metadata": {
  "kernelspec": {
   "display_name": "Python 3.9",
   "language": "python",
   "name": "python3.9"
  },
  "language_info": {
   "codemirror_mode": {
    "name": "ipython",
    "version": 3
   },
   "file_extension": ".py",
   "mimetype": "text/x-python",
   "name": "python",
   "nbconvert_exporter": "python",
   "pygments_lexer": "ipython3",
   "version": "3.9.13"
  }
 },
 "nbformat": 4,
 "nbformat_minor": 1
}
