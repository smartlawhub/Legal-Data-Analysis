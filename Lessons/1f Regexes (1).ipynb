{
 "cells": [
  {
   "cell_type": "markdown",
   "metadata": {},
   "source": [
    "# Regexes\n",
    "\n",
    "Earlier we devised a basic algorithm to count the number of words in a text. However, there is a \n",
    "much better, simple way to do this: It's time to introduce regular expressions,  or \"regex\" for short. (more info <a href='https://docs.python.org/3/library/re.html'>here</a>)\n",
    "\n",
    "We'll spend some time on it because it is extremely important for text-heavy applications; in a course about\n",
    "finance  or statistics we would not need it too much, but since we'll be analysing judgments and legal texts, regexes\n",
    "    are essential. And they are great. At the end of this task, you'll be annoyed every time search engines (like \n",
    "Google) don't do regex. It's just so much better."
   ]
  },
  {
   "cell_type": "code",
   "execution_count": 22,
   "metadata": {},
   "outputs": [
    {
     "name": "stdout",
     "output_type": "stream",
     "text": [
      "The Frivolous Cake\n",
      "1.1  A freckled and frivolous cake there was\n",
      "1.1  That sailed upon a pointless sea, \n",
      "1.2  Or any lugubrious lake there was\n",
      "1.3  In a manner emphatic and free.\n",
      "1.4  How jointlessly, and how jointlessly\n",
      "1.5  The frivolous cake sailed by\n",
      "1.6  On the waves of the ocean that pointlessly\n",
      "1.7  Threw fish to the lilac sky.\n",
      "\n",
      "2.1  Oh, plenty and plenty of hake there was\n",
      "2.1  Of a glory beyond compare, \n",
      "2.2  And every conceivable make there was\n",
      "2.3  Was tossed through the lilac air.\n",
      "\n",
      "3.1  Up the smooth billows and over the crests\n",
      "3.1  Of the cumbersome combers flew\n",
      "3.2  The frivolous cake with a knife in the wake\n",
      "3.3  Of herself and her curranty crew.\n",
      "3.4  Like a swordfish grim it would bounce and skim\n",
      "3.5  (This dinner knife fierce and blue) , \n",
      "3.6  And the frivolous cake was filled to the brim\n",
      "3.7  With the fun of her curranty crew.\n",
      "\n",
      "4.1  Oh, plenty and plenty of hake there was\n",
      "4.1  Of a glory beyond compare -\n",
      "4.2  And every conceivable make there was\n",
      "4.3  Was tossed through the lilac air.\n",
      "\n",
      "5.1  Around the shores of the Elegant Isles\n",
      "5.1  Where the cat-fish bask and purr\n",
      "5.2  And lick their paws with adhesive smiles\n",
      "5.3  And wriggle their fins of fur, \n",
      "5.4  They fly and fly neath the lilac sky -\n",
      "5.5  The frivolous cake, and the knife\n",
      "5.6  Who winketh his glamorous indigo eye\n",
      "5.7  In the wake of his future wife.\n",
      "\n",
      "6.1  The crumbs blow free down the pointless sea\n",
      "6.1  To the beat of a cakey heart\n",
      "6.2  And the sensitive steel of the knife can feel\n",
      "6.3  That love is a race apart\n",
      "6.4  In the speed of the lingering light are blown\n",
      "6.5  The crumbs to the hake above, \n",
      "6.6  And the tropical air vibrates to the drone\n",
      "6.7  Of a cake in the throes of love.\n"
     ]
    }
   ],
   "source": [
    "import regex as re  # regex is typically abbreviated as re\n",
    "\n",
    "with open(\"../Data/poem.txt\", \"r\", encoding=\"latin1\") as f:\n",
    "    poem = f.read()\n",
    "print(poem)"
   ]
  },
  {
   "cell_type": "markdown",
   "metadata": {},
   "source": [
    "Regexes are <i>patterns</i> that allow you to identify text. These patterns rely on special symbols to \n",
    "cover a range of characters in natural, written language. Because they rely on patterns, it's much more powerful \n",
    "than a search that focuses on a specific word: the word itself might be conjugated, or put in lower caps; a sentence \n",
    "could have extra words. You might be interested in a range of number and not a specific one, etc.\n",
    "    \n",
    "For instance, the symbol \"\\d\" means \"any number\", and if you try to match this pattern with a sentence that includes a number, there will be a positive result."
   ]
  },
  {
   "cell_type": "code",
   "execution_count": 6,
   "metadata": {},
   "outputs": [
    {
     "name": "stdout",
     "output_type": "stream",
     "text": [
      "<regex.Match object; span=(7, 8), match='3'>\n"
     ]
    }
   ],
   "source": [
    "target_sentence = \"Count: 30 frivolous cakes and 40 knifes !\"\n",
    "pattern = r\"\\d\"\n",
    "result = re.search(pattern, target_sentence)\n",
    "print(result)"
   ]
  },
  {
   "cell_type": "markdown",
   "metadata": {},
   "source": [
    "Regex.search() will return a regex object (here, the variable `result`), which comes with a number of characteristics. For instance, that object stores the start of the matching pattern in the target sentence, as well as its end, and the exact matched pattern (method \".group()\").\n"
   ]
  },
  {
   "cell_type": "code",
   "execution_count": 8,
   "metadata": {},
   "outputs": [
    {
     "name": "stdout",
     "output_type": "stream",
     "text": [
      "Pattern was found at index  7  of target string !\n",
      "String continued after pattern at index  8\n",
      "Regex search found  3  that matched this pattern\n"
     ]
    }
   ],
   "source": [
    "print(\"Pattern was found at index \", result.start(), \" of target string !\")\n",
    "print(\"String continued after pattern at index \", result.end())\n",
    "print(\"Regex search found \", result.group(), \" that matched this pattern\")"
   ]
  },
  {
   "cell_type": "markdown",
   "metadata": {},
   "source": [
    "\n",
    "You'd note that there were several numbers in the target sentence, but the \"search\" function only found one - the first \n",
    "    one. To get all matches, you need another function, which is `findall`, and returns a list of result."
   ]
  },
  {
   "cell_type": "code",
   "execution_count": 9,
   "metadata": {},
   "outputs": [
    {
     "data": {
      "text/plain": [
       "['3', '0', '4', '0']"
      ]
     },
     "execution_count": 9,
     "metadata": {},
     "output_type": "execute_result"
    }
   ],
   "source": [
    "re.findall(\"\\d\", target_sentence)"
   ]
  },
  {
   "cell_type": "markdown",
   "metadata": {},
   "source": [
    "In addition, you have `re.sub(pattern, newpattern, target_sentence)`, that substitutes a pattern for a new \n",
    "pattern. \n",
    "\n",
    "There is also `re.split(pattern, target_sentence)` which returns a list of strings from the original text, as \n",
    "split by the pattern. Notice that the result does not display the splitting pattern."
   ]
  },
  {
   "cell_type": "code",
   "execution_count": 11,
   "metadata": {},
   "outputs": [
    {
     "name": "stdout",
     "output_type": "stream",
     "text": [
      "The Frivolous Hake (?!)\n",
      "\n",
      "['The', 'Frivolous', 'Cake\\n1']\n"
     ]
    }
   ],
   "source": [
    "print(re.sub(\"Cake\", \"Hake (?!)\", poem[:19]))\n",
    "print(re.split(\" \", poem[:20]))"
   ]
  },
  {
   "cell_type": "markdown",
   "metadata": {},
   "source": [
    "All very good, now, here are the basic patterns:\n",
    "<ul><li>Any particular word or exact spelling will match itself: <code>cake</code> will match <code>cake</code> (but not \n",
    "<code>Cake</code>, unless you command regex to be case-insensitive - see below);</li>\n",
    "    <li><code>.</code>, catches anything, really, so <code>c.ke</code> would get \"cake\" or \"coke\", or even \"cOke\"; if you need to look specifically for a period, you need to escape it with an antislash <code>\\.</code> </li>\n",
    "    <li><code>\\s</code> matches white spaces, including line breaks, etc.; note that the upper-case version, \n",
    "<code>\\S</code>,matches anything <i>but</i> a white space; and</li>\n",
    "    <li><code>\\w</code> matches a letter, while <code>\\W</code> matches anything but a letter.</li>\n",
    "    </ul>\n"
   ]
  },
  {
   "cell_type": "code",
   "execution_count": 16,
   "metadata": {},
   "outputs": [
    {
     "name": "stdout",
     "output_type": "stream",
     "text": [
      "['Cake', 'cake', 'lake', 'cake', 'hake', 'make', 'cake', 'wake', 'cake', 'hake', 'make', 'cake', 'wake', 'cake', 'hake', 'cake']\n",
      "['1.1', '1.1', '1.2', '1.3', '1.4', '1.5', '1.6', '1.7', '2.1', '2.1', '2.2', '2.3', '3.1', '3.1', '3.2', '3.3', '3.4', '3.5', '3.6', '3.7', '4.1', '4.1', '4.2', '4.3', '5.1', '5.1', '5.2', '5.3', '5.4', '5.5', '5.6', '5.7', '6.1', '6.1', '6.2', '6.3', '6.4', '6.5', '6.6', '6.7']\n",
      "<regex.Match object; span=(3, 4), match=' '>\n"
     ]
    }
   ],
   "source": [
    "print(re.findall(\".ake\", poem)) # Plenty of \"ake\" sounds in that poem\n",
    "print(re.findall(\"\\d\\.\\d\", poem)) # Too look for a period, you need to escape it with an antislash \n",
    "print(re.search(\"\\W\", poem))  # It will find the first space in the poem"
   ]
  },
  {
   "cell_type": "markdown",
   "metadata": {},
   "source": [
    "In addition, the following rules apply:\n",
    "<ul><li>Square brackets can be used to indicate a range of characters, such as <code>[0-8a-q,]</code> will only look \n",
    "for a number between 0 and 8 OR a letter between a and q, or a comma (if you need hyphens in your range, put them at \n",
    "the end of the range);\n",
    "</li>\n",
    "    <li>The symbol <code>|</code> (that's Alt + 6 on your keyboard) means \"or\";</li>\n",
    "    <li>You'd indicate the expected number of hits with braces: <code>[A-Q]{3}</code> means you are looking for three \n",
    "(consecutive) upper-case letters between A and Q, while <code>[A-Q]{3,6}</code> means you expect between 3 and 6, \n",
    "and <code>[A-Q]{3,}</code> means \"at least 3\" (but potentially more), on the same logic as indexing (except use \n",
    "        commas instead of colons).</li> \n",
    "    <li>Two special characters do the same job, but open-ended, \"+\" means that you are expected \n",
    "at least one hit, while <code>*</code> means you expect any number of hits (including none; add a <code>?</code> for \n",
    "non-greediness). A concrete example would be <code>\\d{4}</code>: a date;</li>\n",
    "    <li>Any pattern becomes optional if you add a <code>?</code> behind it: <code>cakey?</code> will find <code>cakey</code> or \n",
    "<code>cake</code>;</li>\n",
    "    <li>You can group patterns by bracketing them with parentheses, and then build around it: for instance, <code>(\n",
    "[0-8a-q])|([9r-z])</code>. You can even name the groups to retrieve them precisely from the regex object when there is a match.</li>\n",
    "    <li>Characters that are usually used for patterns (such as  <code>?</code> or  <code>|</code>) can be searched for \n",
    "themselves by \"escaping\" them with an anti-slash  <code>\\</code> (and the antislash can be escaped with another \n",
    "antislash:  <code>\\\\</code> will look for  <code>\\</code>). Note that <code>regex</code> provides you with an \n",
    "<code>escape</code> function that returns a pattern, but escaped.</li>\n",
    "    </ul>"
   ]
  },
  {
   "cell_type": "code",
   "execution_count": 21,
   "metadata": {},
   "outputs": [
    {
     "name": "stdout",
     "output_type": "stream",
     "text": [
      "['cake', 'lake', 'cake', 'hake', 'make', 'cake', 'wake', 'cake', 'hake', 'make', 'cake', 'wake', 'cake', 'hake', 'cake']\n",
      "<regex.Match object; span=(49, 53), match='cake'>\n",
      "<regex.Match object; span=(16, 26), match='11-02-1992'>\n",
      "<regex.Match object; span=(0, 4), match='cake'>\n"
     ]
    }
   ],
   "source": [
    "print(re.findall(\"[chlwm]ake\", poem))\n",
    "print(re.search(\"cake|knife\", poem))\n",
    "print(re.search(\"\\d\\d-\\d{2}-\\d+\", \"This is a date: 11-02-1992\"))  # Note that \\d\\d and \\d{2} are strictly equivalent\n",
    "print(re.search(\"cakey?\", \"cake or cakey?\")) # Here as well, if you ever need to look for an \"?\", you need to escape it: \"\\?\""
   ]
  },
  {
   "cell_type": "markdown",
   "metadata": {},
   "source": [
    "Finally, there are so-called <i>flags</i> that are typically used outside of the pattern (but can be used inside for a single sub-pattern), as a third argument, to indicate further instructions, such as:\n",
    "<ul><li>Ignorecase, <code>re.I</code>;</li>\n",
    "    <li>Ignore linebreaks <code>re.S</code>;</li>\n",
    "    <li>Verbose (allows you to add white spaces that don't count as pattern), <code>re.X</code>; and</li>\n",
    "    <li>Multilines (<code>$</code> and <code>^</code> will work for any single line, and not simply for the start \n",
    "and end of the full text), <code>re.M</code></li>\n",
    "    </ul>"
   ]
  },
  {
   "cell_type": "code",
   "execution_count": 30,
   "metadata": {},
   "outputs": [
    {
     "name": "stdout",
     "output_type": "stream",
     "text": [
      "<regex.Match object; span=(14, 18), match='Cake'>\n"
     ]
    }
   ],
   "source": [
    "print(re.search(\"cake\", \"The Frivolous Cake\", re.I))  # This works despite the capital C since we specified re.I"
   ]
  },
  {
   "cell_type": "markdown",
   "metadata": {},
   "source": [
    "Regex really turns powerful in that you can add a number of conditions to you regex pattern.\n",
    "\n",
    "<ul><li>A pattern preceded by a  <code>^</code> will be looked for only at the beginning of a line; a pattern \n",
    "followed by a <code>$</code> will only look for it if it finishes the line or text;</li>\n",
    "    <li>Adding a <code>(?=2ndpattern)</code> <i>after</i> your first pattern will indicate that your first pattern \n",
    "will match <i>only if</i> the target text matches your second pattern, but the second pattern won't be caught by the regex object (this is very useful, e.g., for substitution).</li>\n",
    "    <li>In the same vein, <code>(?!2ndpattern)</code>, <code>(?&lt;=2ndpattern)</code>, and <code>(?!&lt;2ndpattern)\n",
    "</code> are conditions for \"if it does not match after\"; \"if it matches before\", and \"if it doesn't match before\", \n",
    "respectively. This can be hungry in terms of computing power, so don't overdo it.</li>    \n",
    "    </ul>"
   ]
  },
  {
   "cell_type": "code",
   "execution_count": 28,
   "metadata": {},
   "outputs": [
    {
     "name": "stdout",
     "output_type": "stream",
     "text": [
      "<regex.Match object; span=(1667, 1682), match='throes of love.'>\n",
      "None\n",
      "<regex.Match object; span=(357, 367), match='plenty of '>\n"
     ]
    }
   ],
   "source": [
    "print(re.search(\"^A Freckled|throes of love.$\", poem)) # Only the second alternative will be found, since the first words are not at\n",
    "# the beginning of a line (the numbers 1.1 are)\n",
    "print(re.search(\"plenty of (?=cake)\", poem)) #This returns None since there are no \"plenty of cake\" in the poem\n",
    "print(re.search(\"plenty of (?=.ake)\", poem)) #But this returns a match, since there is \"hake\""
   ]
  },
  {
   "cell_type": "markdown",
   "metadata": {},
   "source": [
    "Latest versions of regex also provides for fuzzy searches - that is, with a bit of leeway to catch things despite errors in the pattern (this is exponentially greedy in resources, though, so be careful when you use it). For instance, `re.search(\"(coke){e<=1}\", poem)`, where the braced statement means \"one or less errors (e)\" will find \"cake\", as there is only one difference (the latter o/a) between the pattern and the word. \n",
    "\n",
    "Finally, regex objects count as boolean: <code>if result</code> will return <code>True</code> if there was a match, while you can check for a null result by asking \"if result is None\". (`None` is a special Python object that means that data is empty.)\n",
    "\n",
    "Note that there are tools to help you check if your regexes work well on the given dataset, such as <a \n",
    "href=\"https://www.debuggex.com/\">this one</a> online."
   ]
  },
  {
   "cell_type": "code",
   "execution_count": 32,
   "metadata": {},
   "outputs": [
    {
     "name": "stdout",
     "output_type": "stream",
     "text": [
      "The Frivolous Cake\n",
      "1.1  A freckled and frivolous cake there was\n",
      "No Cake or knife in that line...\n",
      "No Cake or knife in that line...\n",
      "No Cake or knife in that line...\n",
      "No Cake or knife in that line...\n",
      "1.5  The frivolous cake sailed by\n",
      "No Cake or knife in that line...\n",
      "No Cake or knife in that line...\n",
      "No Cake or knife in that line...\n",
      "No Cake or knife in that line...\n",
      "No Cake or knife in that line...\n",
      "No Cake or knife in that line...\n",
      "No Cake or knife in that line...\n",
      "No Cake or knife in that line...\n",
      "No Cake or knife in that line...\n",
      "No Cake or knife in that line...\n",
      "3.2  The frivolous cake with a knife in the wake\n",
      "No Cake or knife in that line...\n",
      "No Cake or knife in that line...\n",
      "3.5  (This dinner knife fierce and blue) , \n",
      "3.6  And the frivolous cake was filled to the brim\n",
      "No Cake or knife in that line...\n",
      "No Cake or knife in that line...\n",
      "No Cake or knife in that line...\n",
      "No Cake or knife in that line...\n",
      "No Cake or knife in that line...\n",
      "No Cake or knife in that line...\n",
      "No Cake or knife in that line...\n",
      "No Cake or knife in that line...\n",
      "No Cake or knife in that line...\n",
      "No Cake or knife in that line...\n",
      "No Cake or knife in that line...\n",
      "No Cake or knife in that line...\n",
      "5.5  The frivolous cake, and the knife\n",
      "No Cake or knife in that line...\n",
      "No Cake or knife in that line...\n",
      "No Cake or knife in that line...\n",
      "No Cake or knife in that line...\n",
      "6.1  To the beat of a cakey heart\n",
      "6.2  And the sensitive steel of the knife can feel\n",
      "No Cake or knife in that line...\n",
      "No Cake or knife in that line...\n",
      "No Cake or knife in that line...\n",
      "No Cake or knife in that line...\n",
      "6.7  Of a cake in the throes of love.\n"
     ]
    }
   ],
   "source": [
    "for line in poem.split(\"\\n\"): # We split the poem by lines and we loop over these lines\n",
    "    if re.search(\"cake|knife\", line, re.I):  # we check that the term \"cake\" is or not in the line\n",
    "        print(line)  # If it is, we print the line\n",
    "    else:\n",
    "        print(\"No Cake or knife in that line...\")"
   ]
  }
 ],
 "metadata": {
  "kernelspec": {
   "display_name": "Python 3.9",
   "language": "python",
   "name": "python3.9"
  },
  "language_info": {
   "codemirror_mode": {
    "name": "ipython",
    "version": 3
   },
   "file_extension": ".py",
   "mimetype": "text/x-python",
   "name": "python",
   "nbconvert_exporter": "python",
   "pygments_lexer": "ipython3",
   "version": "3.9.13"
  }
 },
 "nbformat": 4,
 "nbformat_minor": 1
}
