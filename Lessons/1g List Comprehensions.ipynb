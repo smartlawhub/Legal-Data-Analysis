{
 "cells": [
  {
   "cell_type": "markdown",
   "metadata": {},
   "source": [
    "# List Comprehension\n",
    "\n",
    "Python code is a good middle ground between very verbose code (VBA for instance), and languages that are \n",
    "perfectly opaque to the neophyte. When you look at the syntax, given a few basics, you can have a rough idea of \n",
    "what's happening.\n",
    "\n",
    "The issue with verbosity, however, is that it take space and time. If you need to populate a list from another list \n",
    "given a condition, you have now learned that you can use a loop and a conditional statement to perform the operation.\n",
    "But again, it can be cumbersome to write down all of this."
   ]
  },
  {
   "cell_type": "markdown",
   "metadata": {},
   "source": [
    "Enter list comprehensions, which is a way to create a list in a single line. The syntax is of the kind:\n",
    "`[x for x in list]`\n",
    "\n",
    "So, what you are trying to do is to invoke every element in the list, and operate over it to create a new list \n",
    "(hence the brackets around the statement).\n",
    "\n",
    "Take for instance these three lines, which add numbers to a list after doubling then."
   ]
  },
  {
   "cell_type": "code",
   "execution_count": 9,
   "metadata": {},
   "outputs": [
    {
     "name": "stdout",
     "output_type": "stream",
     "text": [
      "[3, 6, 9, 12, 15, 18, 21, 24, 27, 30, 33, 36, 39, 42, 45, 48, 51, 54, 57, 60, 63, 66, 69, 72]\n"
     ]
    }
   ],
   "source": [
    "my_list = []\n",
    "for x in range(1,25):\n",
    "    my_list.append(x * 3)\n",
    "print(my_list)"
   ]
  },
  {
   "cell_type": "markdown",
   "metadata": {},
   "source": [
    "This can be rewritten as a list comprehension in line with the syntax above"
   ]
  },
  {
   "cell_type": "code",
   "execution_count": 18,
   "metadata": {
    "scrolled": true
   },
   "outputs": [
    {
     "name": "stdout",
     "output_type": "stream",
     "text": [
      "[3, 6, 9, 12, 15, 18, 21, 24, 27, 30, 33, 36, 39, 42, 45, 48, 51, 54, 57, 60, 63, 66, 69, 72]\n"
     ]
    }
   ],
   "source": [
    "new_list = [x * 3 for x in range(1,25)]\n",
    "print(new_list)"
   ]
  },
  {
   "cell_type": "markdown",
   "metadata": {},
   "source": [
    "Note that the power of this method comes from the fact that you can go much further than the bare statement I gave \n",
    "you here. in particular,  you can add conditions. For instance, let's say we are looking for every even number in a list of numbers."
   ]
  },
  {
   "cell_type": "code",
   "execution_count": 16,
   "metadata": {},
   "outputs": [
    {
     "name": "stdout",
     "output_type": "stream",
     "text": [
      "[6, 12, 18, 24, 30, 36, 42, 48, 54, 60, 66, 72]\n"
     ]
    }
   ],
   "source": [
    "even_list = []\n",
    "for x in my_list:\n",
    "    if x % 2 == 0:  # The modulo operator, using the percent symbol, returns the remainder of a division. Every even number's \n",
    "        # remainder is always 0\n",
    "        even_list.append(x)\n",
    "\n",
    "print(even_list)"
   ]
  },
  {
   "cell_type": "markdown",
   "metadata": {},
   "source": [
    "And this is the same list created with a list comprehension."
   ]
  },
  {
   "cell_type": "code",
   "execution_count": 19,
   "metadata": {},
   "outputs": [
    {
     "name": "stdout",
     "output_type": "stream",
     "text": [
      "[6, 12, 18, 24, 30, 36, 42, 48, 54, 60, 66, 72]\n"
     ]
    }
   ],
   "source": [
    "new_even_list = [x for x in new_list if x % 2 == 0]\n",
    "print(new_even_list)"
   ]
  },
  {
   "cell_type": "markdown",
   "metadata": {},
   "source": [
    "Note that you can add conditions, and the usual `and`, `or`, and `None` commands or booleans work in this context as \n",
    "well.\n",
    "\n",
    "Finally, the first item in the list can also be operated upon. Let's say we now want the even numbers from `my_list`,\n",
    "except times three and in a string that starts with \"Number: \"."
   ]
  },
  {
   "cell_type": "code",
   "execution_count": 22,
   "metadata": {},
   "outputs": [
    {
     "name": "stdout",
     "output_type": "stream",
     "text": [
      "['Number : 18', 'Number : 36', 'Number : 54', 'Number : 72', 'Number : 90', 'Number : 108', 'Number : 126', 'Number : 144', 'Number : 162', 'Number : 180', 'Number : 198', 'Number : 216']\n"
     ]
    }
   ],
   "source": [
    "even_more_new_list = [\"Number : \" + str(x * 3) for x in new_list if x % 2 == 0]\n",
    "print(even_more_new_list)"
   ]
  }
 ],
 "metadata": {
  "kernelspec": {
   "display_name": "Python 3.9",
   "language": "python",
   "name": "python3.9"
  },
  "language_info": {
   "codemirror_mode": {
    "name": "ipython",
    "version": 3
   },
   "file_extension": ".py",
   "mimetype": "text/x-python",
   "name": "python",
   "nbconvert_exporter": "python",
   "pygments_lexer": "ipython3",
   "version": "3.9.13"
  }
 },
 "nbformat": 4,
 "nbformat_minor": 1
}
