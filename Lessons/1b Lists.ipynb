{
 "cells": [
  {
   "cell_type": "markdown",
   "metadata": {},
   "source": [
    "# Lists\n",
    "\n",
    "Another type of variable is a list, which is exactly what you think it is: it lists things, such as data, or even other variables, or even other lists ! Lists are denoted by using brackets and commas. You update a list by using the function .append() directly from the list, as follows: see that the item you added with append now appears at the end of the list."
   ]
  },
  {
   "cell_type": "code",
   "execution_count": 4,
   "metadata": {},
   "outputs": [
    {
     "name": "stdout",
     "output_type": "stream",
     "text": [
      "['Frivolous', 42, 'Cake', ['This is a second list, with a number: ', 142], 'Peake']\n",
      "['Frivolous', 42, 'Cake', ['This is a second list, with a number: ', 142], 'Peake', 'Swordfish']\n"
     ]
    }
   ],
   "source": [
    "beta = \"Cake\"\n",
    "my_list = [\"Frivolous\", 42, beta, [\"This is a second list, with a number: \", 142], \"Peake\"]\n",
    "print(my_list)\n",
    "my_list.append(\"Swordfish\")\n",
    "print(my_list)"
   ]
  },
  {
   "cell_type": "markdown",
   "metadata": {},
   "source": [
    "A very important feature of lists is that they are ordered. This means if you know the (numerical) index of an item in a list, you can access it immediately. This is called \"indexing\".\n",
    "Learn it once and for all: <b>in Python, indexes start at 0</b>; the first element in a list can be found at index 0. This is not intuitive, but you need to get used to it: 0, not 1, marks the beginning of a list."
   ]
  },
  {
   "cell_type": "code",
   "execution_count": 7,
   "metadata": {},
   "outputs": [
    {
     "name": "stdout",
     "output_type": "stream",
     "text": [
      "Frivolous\n",
      "42\n",
      "['This is a second list, with a number: ', 142]\n"
     ]
    }
   ],
   "source": [
    "print(my_list[0])\n",
    "print(my_list[1])\n",
    "print(my_list[3])"
   ]
  },
  {
   "cell_type": "markdown",
   "metadata": {},
   "source": [
    "Note that the last indexing returns the second list that was in my_list. As such, it can also itself be indexed."
   ]
  },
  {
   "cell_type": "code",
   "execution_count": 6,
   "metadata": {},
   "outputs": [
    {
     "name": "stdout",
     "output_type": "stream",
     "text": [
      "142\n"
     ]
    }
   ],
   "source": [
    "print(my_list[3][1])"
   ]
  },
  {
   "cell_type": "markdown",
   "metadata": {},
   "source": [
    "Indexing also works using the relative position of an item in a list: [-1] gives you the last item, [-2] the penultimate, etc."
   ]
  },
  {
   "cell_type": "code",
   "execution_count": 8,
   "metadata": {},
   "outputs": [
    {
     "name": "stdout",
     "output_type": "stream",
     "text": [
      "Peake\n"
     ]
    }
   ],
   "source": [
    "print(my_list[-2])   # Will return 'Peake', the penultimate term since we added 'Swordfish' as last term"
   ]
  },
  {
   "cell_type": "markdown",
   "metadata": {},
   "source": [
    "More importantly, you can select what's called a range by using the <code>:</code> operator. The operator is not inclusive of the outer limit, meaning that the item on the right-hand-side of the  <code>:</code> operator won't be included in the list that is rendered. For instance, if you look for indexes  <code>[0:2]</code>, you'll get items at index 0 and index 1, but not 2 (because it's excluded)."
   ]
  },
  {
   "cell_type": "code",
   "execution_count": 9,
   "metadata": {},
   "outputs": [
    {
     "name": "stdout",
     "output_type": "stream",
     "text": [
      "['Frivolous', 42]\n"
     ]
    }
   ],
   "source": [
    "print(my_list[0:2])"
   ]
  },
  {
   "cell_type": "markdown",
   "metadata": {},
   "source": [
    "You can leave the selection open-ended, according to the same principles: the right-hand-side index won't be included, but the left-hand-side one is. So <code>[:5]</code> means \"any element until the 6th (not included)\", while <code>[2:]</code> means \"every element after the third element (included)\"."
   ]
  },
  {
   "cell_type": "code",
   "execution_count": 10,
   "metadata": {},
   "outputs": [
    {
     "name": "stdout",
     "output_type": "stream",
     "text": [
      "['Frivolous', 42]\n",
      "['Cake', ['This is a second list, with a number: ', 142], 'Peake', 'Swordfish']\n",
      "['Peake', 'Swordfish']\n",
      "['Frivolous', ['This is a second list, with a number: ', 142]]\n"
     ]
    }
   ],
   "source": [
    "print(my_list[:2])\n",
    "print(my_list[2:])\n",
    "print(my_list[-2:])\n",
    "print(my_list[0::3]) # This last type of range gives you every 3 items starting from 0 "
   ]
  },
  {
   "cell_type": "markdown",
   "metadata": {},
   "source": [
    "Another data type is what's called a boolean. It is simply a statement True or False, but it is often very useful when you have to check conditions. It's based on the logic invented by George Boole in the mid-1800s, which is basically what powers computers now (see <a href=\"https://computer.howstuffworks.com/boolean.htm\">here</a>)."
   ]
  },
  {
   "cell_type": "code",
   "execution_count": 11,
   "metadata": {},
   "outputs": [
    {
     "name": "stdout",
     "output_type": "stream",
     "text": [
      "True\n",
      "False\n"
     ]
    }
   ],
   "source": [
    "var_bol = True\n",
    "var_bol2 = False\n",
    "print(bool(var_bol))\n",
    "print(bool(var_bol2))"
   ]
  },
  {
   "cell_type": "markdown",
   "metadata": {},
   "source": [
    "Boolean logic works by manipulating <code>True</code> and <code>False</code> statements. In Python, you often need to check if something is <code>True</code> or not, for instance in the context of conditions (next module). The most basic way to do this is with the <code>==</code> (double equal - not to be confused with single equal, which is used to assign a variable. Its opposite is <code>!=</code>."
   ]
  },
  {
   "cell_type": "code",
   "execution_count": 12,
   "metadata": {},
   "outputs": [
    {
     "name": "stdout",
     "output_type": "stream",
     "text": [
      "True\n",
      "False\n"
     ]
    }
   ],
   "source": [
    "gamma = 5\n",
    "print(gamma == 5) # Since gamma is indeed 5, this prints True\n",
    "print(gamma != 5) # Since gamma is not different from 5, this prints False"
   ]
  },
  {
   "cell_type": "markdown",
   "metadata": {},
   "source": [
    "Finally, there are two other types of data worth knowing at this stage: `sets` and `dictionaries`. \n",
    "\n",
    "Sets are like lists (they can take any sort of variable, but not a list), except they are unordered, and they can't have duplicates. They are very useful to check if two sets of data overlap, or what they have or don't have in common. Since they are not ordered, you cannot select an element from a set. If you create a set with a duplicate element, it will ignore it and returns a set without the duplicate."
   ]
  },
  {
   "cell_type": "code",
   "execution_count": 13,
   "metadata": {},
   "outputs": [
    {
     "name": "stdout",
     "output_type": "stream",
     "text": [
      "{1, 2, 3, 4, 'Cake'}\n"
     ]
    }
   ],
   "source": [
    "my_set = {1, 2, 2, 3, 3, 4, \"Cake\", \"Cake\"}\n",
    "print(my_set)"
   ]
  },
  {
   "cell_type": "markdown",
   "metadata": {},
   "source": [
    "A Dictionary is a type of data that links a `key` to a `value`. The key becomes the index of your dictionary; if you give a key to the dictionary, it will return the value. It is useful to track down relations between different data points. Here as well, you can use any type of data you want. You use brackets, and indicate the relationship with a \":\" operator."
   ]
  },
  {
   "cell_type": "code",
   "execution_count": 14,
   "metadata": {},
   "outputs": [
    {
     "name": "stdout",
     "output_type": "stream",
     "text": [
      "Mervyn\n",
      "['Frivolous', 42, 'Cake', ['This is a second list, with a number: ', 142], 'Peake', 'Swordfish']\n"
     ]
    }
   ],
   "source": [
    "my_dict = {42: \"Mervyn\", \"Peake\": 2, \"My List\" : my_list}\n",
    "print(my_dict[42])\n",
    "print(my_dict[\"My List\"])"
   ]
  },
  {
   "cell_type": "markdown",
   "metadata": {},
   "source": [
    "Before switching to the next section, find a way to print \"Mervyn Peake\" indexing both the list \n",
    "`my_list` and the dictionary `my_dict`. Don't forget the middle space !"
   ]
  }
 ],
 "metadata": {
  "kernelspec": {
   "display_name": "Python 3.9",
   "language": "python",
   "name": "python3.9"
  },
  "language_info": {
   "codemirror_mode": {
    "name": "ipython",
    "version": 3
   },
   "file_extension": ".py",
   "mimetype": "text/x-python",
   "name": "python",
   "nbconvert_exporter": "python",
   "pygments_lexer": "ipython3",
   "version": "3.9.13"
  }
 },
 "nbformat": 4,
 "nbformat_minor": 1
}
