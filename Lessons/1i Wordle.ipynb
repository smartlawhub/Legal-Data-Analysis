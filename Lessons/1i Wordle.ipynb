{
 "cells": [
  {
   "cell_type": "markdown",
   "metadata": {},
   "source": [
    "# Wordle\n",
    "\n",
    "This is a <a href=\"https://www.nytimes.com/games/wordle/index.html\">popular online game</a> ! Let's try to reproduce it."
   ]
  },
  {
   "cell_type": "markdown",
   "metadata": {},
   "source": [
    "We first need to make the required imports: \n",
    "<ul>\n",
    "    <li>a module to simulate randomness (so as to have a new word every time we play);</li>\n",
    "    <li>regex to check if texts match what we want; and</li>\n",
    "    <li>a corpus of words to pick from.</li>\n",
    "    </ul>"
   ]
  },
  {
   "cell_type": "code",
   "execution_count": 1,
   "metadata": {},
   "outputs": [],
   "source": [
    "import random\n",
    "import re\n",
    "from nltk.corpus import brown  # nltk needs to be first installed with pip install nltk"
   ]
  },
  {
   "cell_type": "markdown",
   "metadata": {},
   "source": [
    "Then we need to create a list of words to choose from, since the brown corpus has millions of words - and we only need words with five letters. We also want to avoid proper names."
   ]
  },
  {
   "cell_type": "code",
   "execution_count": 2,
   "metadata": {},
   "outputs": [],
   "source": [
    "words = []\n",
    "for x in # brown.words():\n",
    "    if len(x) == 5 and re.search(r\"^A-Z|[\\.,]\", x) is None:\n",
    "        words.append(x.upper())  # We harmonise all words with caps\n",
    "    \n",
    "word = random.choice(words)  # We pick a random word"
   ]
  },
  {
   "cell_type": "markdown",
   "metadata": {},
   "source": [
    "Then we create a function that will embody the algorithm needed to play the game. That function will take as an input/argument the word guessed by the player.\n",
    "\n",
    "The first few steps are to check whether that word can even qualify for the game: if it is 5-letter long, and is part of the existing corpus.\n",
    "\n",
    "Then, if this is the case, we iterate over the letters of the guessed word, one by one, and we check three cases:\n",
    "<ul>\n",
    "    <li>if the letter is in the target word and at the same right place (so, same index), we color it green;</li>\n",
    "    <li>if the letter is in the target word, but not at the right place, we color it yellow; and</li>\n",
    "    <li>if the letter is not in the target word, we color it grey.</li>\n",
    "    </ul>\n",
    "(I found the code to color output on the internet.)"
   ]
  },
  {
   "cell_type": "code",
   "execution_count": 3,
   "metadata": {},
   "outputs": [],
   "source": [
    "def play(answer):  # We create a function that returns all words in a given format depending on how close we are from the right answer\n",
    "    answer = answer.upper()  # Get the all caps version of the word to compare with dataset of words\n",
    "    if len(answer) > 5:  # We first check that the input word in answer fits the requirement: be 5 in len, and in the dataset\n",
    "        print(\"Too long\")\n",
    "    elif len(answer) < 5:\n",
    "        print(\"Too Short\")\n",
    "    elif answer not in words:\n",
    "        print(\"Word does not exist\")\n",
    "    else:  # If this is a proper guess, we proceed to the main part of the function\n",
    "        for e, letter in enumerate(answer):  # The function enumerate allows you to iterate over a list together with the index\n",
    "            if letter in word and answer[e] == word[e]:  # If the letter is in the word and at the exact same place, we return a green square\n",
    "                print('\\x1b[1;30;42m' + letter + '\\x1b[0m', end=\" \")\n",
    "            elif letter in word:  # If it is in the word, but at a different place, we return a yellow square\n",
    "                print('\\x1b[1;30;43m' + letter + '\\x1b[0m', end=\" \")\n",
    "            else:  # Otherwise we just return the letter\n",
    "                print(letter, end=\" \")"
   ]
  },
  {
   "cell_type": "code",
   "execution_count": 24,
   "metadata": {},
   "outputs": [
    {
     "name": "stdout",
     "output_type": "stream",
     "text": [
      "\u001b[1;30;43mA\u001b[0m T O N \u001b[1;30;43mE\u001b[0m "
     ]
    }
   ],
   "source": [
    "play(\"atone\")"
   ]
  },
  {
   "cell_type": "code",
   "execution_count": 25,
   "metadata": {},
   "outputs": [
    {
     "name": "stdout",
     "output_type": "stream",
     "text": [
      "\u001b[1;30;43mA\u001b[0m N \u001b[1;30;42mG\u001b[0m \u001b[1;30;42mE\u001b[0m \u001b[1;30;42mL\u001b[0m "
     ]
    }
   ],
   "source": [
    "play(\"angel\")"
   ]
  },
  {
   "cell_type": "code",
   "execution_count": 26,
   "metadata": {},
   "outputs": [
    {
     "name": "stdout",
     "output_type": "stream",
     "text": [
      "\u001b[1;30;42mB\u001b[0m \u001b[1;30;42mA\u001b[0m \u001b[1;30;42mG\u001b[0m \u001b[1;30;42mE\u001b[0m \u001b[1;30;42mL\u001b[0m "
     ]
    }
   ],
   "source": [
    "play(\"bagel\")"
   ]
  }
 ],
 "metadata": {
  "kernelspec": {
   "display_name": "Python 3.9",
   "language": "python",
   "name": "python3.9"
  },
  "language_info": {
   "codemirror_mode": {
    "name": "ipython",
    "version": 3
   },
   "file_extension": ".py",
   "mimetype": "text/x-python",
   "name": "python",
   "nbconvert_exporter": "python",
   "pygments_lexer": "ipython3",
   "version": "3.9.13"
  }
 },
 "nbformat": 4,
 "nbformat_minor": 1
}
