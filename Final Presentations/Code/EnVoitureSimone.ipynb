{
 "cells": [
  {
   "cell_type": "markdown",
   "id": "25f2d196",
   "metadata": {},
   "source": [
    "Importation des librairies utiles"
   ]
  },
  {
   "cell_type": "code",
   "execution_count": 1,
   "id": "229a135c",
   "metadata": {},
   "outputs": [],
   "source": [
    "from selenium import webdriver\n",
    "from selenium.webdriver.common.by import By\n",
    "from math import ceil\n",
    "import concurrent.futures as cf\n",
    "import pandas as pd\n",
    "import json\n",
    "import matplotlib.pyplot as plt\n",
    "import requests\n",
    "import re"
   ]
  },
  {
   "cell_type": "markdown",
   "id": "3e0230bb",
   "metadata": {},
   "source": [
    "N'ayant pas besoin d'intéragir avec les éléments de la page, le module requests aurait été suffisant et même plus efficace. Cependant le site du gouvernement est protégé par Incapsula contre le scraping, il est donc nécessaire d'utiliser Selenium qui utilise un vrai navigateur (mais qui est donc plus lent). "
   ]
  },
  {
   "cell_type": "code",
   "execution_count": 2,
   "id": "959aa704",
   "metadata": {},
   "outputs": [],
   "source": [
    "def getDriver():\n",
    "    options = webdriver.ChromeOptions()\n",
    "    options.binary_location = \"C:\\\\Program Files\\\\BraveSoftware\\\\Brave-Browser\\\\Application\\\\brave.exe\"\n",
    "    options.add_argument(\"--headless\")\n",
    "    return webdriver.Chrome(chrome_options=options, executable_path=\"C:\\\\Windows\\\\chromedriver.exe\")"
   ]
  },
  {
   "cell_type": "markdown",
   "id": "c93e48af",
   "metadata": {},
   "source": [
    "Fonction permettant de trouver l'année dans une phrase"
   ]
  },
  {
   "cell_type": "code",
   "execution_count": 3,
   "id": "166caab9",
   "metadata": {},
   "outputs": [],
   "source": [
    "def extractYear(sentence):\n",
    "    ys = [str(y) for y in range(1946, 2024)]\n",
    "    for y in ys:\n",
    "        if (sentence.find(y) > 0):\n",
    "            return int(y)"
   ]
  },
  {
   "cell_type": "markdown",
   "id": "34082493",
   "metadata": {},
   "source": [
    "Fonction qui scrap les informations utiles (lien et année), page par page"
   ]
  },
  {
   "cell_type": "code",
   "execution_count": 4,
   "id": "a264498c",
   "metadata": {},
   "outputs": [],
   "source": [
    "def retrieve(url):\n",
    "    to_add = []\n",
    "    dr = getDriver()\n",
    "    dr.get(url)\n",
    "    articles = dr.find_elements(By.CLASS_NAME, \"result-item\")\n",
    "    for article in articles:\n",
    "        a = article.find_element(By.TAG_NAME, 'a')\n",
    "        link = a.get_attribute(\"href\")\n",
    "        title = a.get_attribute(\"innerText\")\n",
    "        to_add.append((link, extractYear(title)))\n",
    "    dr.quit()\n",
    "    return to_add"
   ]
  },
  {
   "cell_type": "markdown",
   "id": "44763b75",
   "metadata": {},
   "source": [
    "Code qui récupére réelement les liens et années. 10 navigateurs sont lancés en paralèlle pour accélérer le processus. Les résultats sont finalement enregistrés dans un fichier json"
   ]
  },
  {
   "cell_type": "code",
   "execution_count": null,
   "id": "70884d85",
   "metadata": {},
   "outputs": [],
   "source": [
    "for annee in range(1947, 2024):\n",
    "   base_url = f\"https://www.legifrance.gouv.fr/search/juri?tab_selection=juri&searchField=ALL&query=*&searchType=ALL&dateDecision=01%2F01%2F{annee}+%3E+01%2F01%2F{annee+1}&cassPubliBulletin=T&cassPubliBulletin=F&cassDecision=ARRET&cassFormation=ASSEMBLEE_PLENIERE&cassFormation=CHAMBRE_MIXTE&cassFormation=CHAMBRES_REUNIES&cassFormation=CHAMBRE_CIVILE_1&cassFormation=CHAMBRE_CIVILE_2&cassFormation=CHAMBRE_CIVILE_3&cassFormation=CHAMBRE_COMMERCIALE&cassFormation=CHAMBRE_SOCIALE&cassFormation=CHAMBRE_CRIMINELLE&cassFormation=COMMISSION_REEXAMEN&cassFormation=COMMISSION_REPARATION_DETENTION&cassFormation=COMMISSION_REVISION&cassFormation=COUR_REVISION&cassFormation=JURIDICTION_NATIONALE_LIBERTE_CONDITIONNELLE&cassFormation=ORDONNANCE_PREMIER_PRESIDENT&cassDecisionAttaquee=COMMISSION_INDEMNISATION_VICTIMES_INFRACTIONS&cassDecisionAttaquee=CONSEIL_PRUDHOMME&cassDecisionAttaquee=COUR_APPEL&cassDecisionAttaquee=COUR_ASSISES&cassDecisionAttaquee=COUR_CASSATION&cassDecisionAttaquee=COUR_JUSTICE_REPUBLIQUE&cassDecisionAttaquee=COUR_NATIONAL_INCAPACITE_TARIFICATION&cassDecisionAttaquee=TRIBUNAL_CORRECTIONNEL&cassDecisionAttaquee=TRIBUNAL_COMMERCE&cassDecisionAttaquee=TRIBUNAL_GRANDE_INSTANCE&cassDecisionAttaquee=TRIBUNAL_POLICE&cassDecisionAttaquee=TRIBUNAL_PREMIERE_INSTANCE&cassDecisionAttaquee=TRIBUNAL_AFFAIRES_SECURITE_SOCIALE&cassDecisionAttaquee=TRIBUNAL_FORCES_ARMEES&cassDecisionAttaquee=TRIBUNAL_INSTANCE&cassDecisionAttaquee=TRIBUNAL_CONTENTIEUX_INCAPACITE&cassDecisionAttaquee=TRIBUNAL_MARITIME_COMMERCIAL&cassDecisionAttaquee=TRIBUNAL_PARITAIRE_BAUX_RURAUX&cassDecisionAttaquee=TRIBUNAL_SUPERIEURS_APPEL&juridictionJudiciaire=Cour+de+cassation&typePagination=DEFAULT&sortValue=DATE_ASC&pageSize=100&page=1&tab_selection=juri#juri\"\n",
    "   driver = getDriver()\n",
    "   driver.get(base_url)\n",
    "   number_pattern = r'\\d+'\n",
    "   nb_pages_string = driver.find_element(By.CLASS_NAME, \"nb-result\").get_attribute(\"innerHTML\")\n",
    "   nb_pages = ceil(int(re.findall(number_pattern, nb_pages_string)[0])/100)\n",
    "   driver.quit()\n",
    "   pages = [f\"https://www.legifrance.gouv.fr/search/juri?tab_selection=juri&searchField=ALL&query=*&searchType=ALL&dateDecision=01%2F01%2F{annee}+%3E+01%2F01%2F{annee+1}&cassPubliBulletin=T&cassPubliBulletin=F&cassDecision=ARRET&cassFormation=ASSEMBLEE_PLENIERE&cassFormation=CHAMBRE_MIXTE&cassFormation=CHAMBRES_REUNIES&cassFormation=CHAMBRE_CIVILE_1&cassFormation=CHAMBRE_CIVILE_2&cassFormation=CHAMBRE_CIVILE_3&cassFormation=CHAMBRE_COMMERCIALE&cassFormation=CHAMBRE_SOCIALE&cassFormation=CHAMBRE_CRIMINELLE&cassFormation=COMMISSION_REEXAMEN&cassFormation=COMMISSION_REPARATION_DETENTION&cassFormation=COMMISSION_REVISION&cassFormation=COUR_REVISION&cassFormation=JURIDICTION_NATIONALE_LIBERTE_CONDITIONNELLE&cassFormation=ORDONNANCE_PREMIER_PRESIDENT&cassDecisionAttaquee=COMMISSION_INDEMNISATION_VICTIMES_INFRACTIONS&cassDecisionAttaquee=CONSEIL_PRUDHOMME&cassDecisionAttaquee=COUR_APPEL&cassDecisionAttaquee=COUR_ASSISES&cassDecisionAttaquee=COUR_CASSATION&cassDecisionAttaquee=COUR_JUSTICE_REPUBLIQUE&cassDecisionAttaquee=COUR_NATIONAL_INCAPACITE_TARIFICATION&cassDecisionAttaquee=TRIBUNAL_CORRECTIONNEL&cassDecisionAttaquee=TRIBUNAL_COMMERCE&cassDecisionAttaquee=TRIBUNAL_GRANDE_INSTANCE&cassDecisionAttaquee=TRIBUNAL_POLICE&cassDecisionAttaquee=TRIBUNAL_PREMIERE_INSTANCE&cassDecisionAttaquee=TRIBUNAL_AFFAIRES_SECURITE_SOCIALE&cassDecisionAttaquee=TRIBUNAL_FORCES_ARMEES&cassDecisionAttaquee=TRIBUNAL_INSTANCE&cassDecisionAttaquee=TRIBUNAL_CONTENTIEUX_INCAPACITE&cassDecisionAttaquee=TRIBUNAL_MARITIME_COMMERCIAL&cassDecisionAttaquee=TRIBUNAL_PARITAIRE_BAUX_RURAUX&cassDecisionAttaquee=TRIBUNAL_SUPERIEURS_APPEL&juridictionJudiciaire=Cour+de+cassation&typePagination=DEFAULT&sortValue=DATE_ASC&pageSize=100&page={i}&tab_selection=juri#juri\" for i in range(1, min(100, nb_pages+1))]\n",
    "   with cf.ThreadPoolExecutor(max_workers=10) as executor:\n",
    "      futures = [executor.submit(retrieve, url) for url in pages]\n",
    "      for future in cf.as_completed(futures):\n",
    "         try:\n",
    "            results = [future.result() for future in futures]\n",
    "            with open(f\"data_{annee}.json\", \"w\") as json_file:\n",
    "               json.dump(results, json_file)\n",
    "         except requests.ConnectTimeout:\n",
    "            pass"
   ]
  },
  {
   "cell_type": "markdown",
   "id": "4b031c99",
   "metadata": {},
   "source": [
    "Formatage des datas dans un DataFrame pandas"
   ]
  },
  {
   "cell_type": "code",
   "execution_count": 7,
   "id": "59a94498",
   "metadata": {},
   "outputs": [],
   "source": [
    "to_concat = []\n",
    "for year in range(1947, 2024):\n",
    "    if not year == 1952:\n",
    "        with open(f\"data_{year}.json\", \"r\") as json_file:\n",
    "            data = json.load(json_file)\n",
    "        data = [sub for sub in data if len(sub) > 0]\n",
    "        flat = []\n",
    "        for sub in data:\n",
    "            for item in sub:\n",
    "                flat.append(item)\n",
    "        df = pd.DataFrame(flat, columns=['url', 'year'])\n",
    "        to_concat.append(df.sample(n = min(100, len(df)), random_state = 42))"
   ]
  },
  {
   "cell_type": "markdown",
   "id": "a082716e",
   "metadata": {},
   "source": [
    "On se limite à maximum 100 données par an"
   ]
  },
  {
   "cell_type": "code",
   "execution_count": 8,
   "id": "406433cd",
   "metadata": {},
   "outputs": [],
   "source": [
    "normalized = pd.concat(to_concat, axis=0).reset_index(drop=True)"
   ]
  },
  {
   "cell_type": "markdown",
   "id": "90a9efb8",
   "metadata": {},
   "source": [
    "On va maintenant scraper les liens des jugements que nous avons gardés pour en retirer les informations qui nous intéressent:\n",
    "- Date exacte\n",
    "- Sexe du président\n",
    "- Juridiction"
   ]
  },
  {
   "cell_type": "markdown",
   "id": "dbe77564",
   "metadata": {},
   "source": [
    "Le multithreading est utilisé ici aussi"
   ]
  },
  {
   "cell_type": "code",
   "execution_count": 33,
   "id": "d0810cf2",
   "metadata": {},
   "outputs": [],
   "source": [
    "def retrieve2(url):\n",
    "    res = {'date': '', 'gender': '', 'juridiction': ''}\n",
    "    driver = getDriver()\n",
    "    patternF = r\"Mme \"\n",
    "    patternM = r\"M\\.|M \"\n",
    "    patternDate = r\"\\b\\d{1,2}\\s+(?:janvier|février|mars|avril|mai|juin|juillet|août|septembre|octobre|novembre|décembre)\\s+\\d{4}\\b\"\n",
    "    driver.get(url)\n",
    "    try:\n",
    "        juridiction = driver.find_elements(By.CLASS_NAME, \"horsAbstract\")[0]\\\n",
    "                            .get_attribute(\"innerText\")\n",
    "        juridiction = juridiction[juridiction.find(\"- \")+2:]\n",
    "    except Exception as e:\n",
    "        juridiction = ''\n",
    "        print(\"An error occurred:\", str(e))\n",
    "    try:\n",
    "        pdt = driver.find_elements(By.CLASS_NAME, 'frame-block')[1]\\\n",
    "              .find_elements(By.TAG_NAME,'div')[0]\\\n",
    "              .find_elements(By.TAG_NAME, 'dd')[0]\\\n",
    "              .get_attribute(\"innerText\")\n",
    "        if re.findall(patternF, pdt, re.IGNORECASE):\n",
    "            gender = 'F'\n",
    "        elif re.findall(patternM, pdt, re.IGNORECASE):\n",
    "            gender = 'M'\n",
    "        else:\n",
    "            gender = ''\n",
    "    except Exception as e:\n",
    "        gender = ''\n",
    "        print(\"An error occurred:\", str(e))\n",
    "    try:\n",
    "        date = driver.find_elements(By.CLASS_NAME, \"horsAbstract\")[1]\\\n",
    "                            .get_attribute(\"innerText\")\n",
    "        date = re.findall(patternDate, date, re.IGNORECASE)[0]\n",
    "    except Exception as e:\n",
    "        date = ''\n",
    "        print(\"An error occurred:\", str(e))\n",
    "    driver.quit()\n",
    "    res['date'] = date\n",
    "    res['gender'] = gender\n",
    "    res['juridiction'] = juridiction\n",
    "    return res"
   ]
  },
  {
   "cell_type": "code",
   "execution_count": null,
   "id": "f8b7e7f4",
   "metadata": {},
   "outputs": [],
   "source": [
    "with cf.ThreadPoolExecutor(max_workers=10) as executor:\n",
    "    futures = [executor.submit(retrieve2, url) for url in normalized[normalized['year'] >= 1973]['url']]\n",
    "    for future in cf.as_completed(futures):\n",
    "        try:\n",
    "            results = [future.result() for future in futures]\n",
    "            with open(f\"final_data.json\", \"w\") as json_file:\n",
    "                json.dump(results, json_file)\n",
    "        except requests.ConnectTimeout:\n",
    "            pass"
   ]
  },
  {
   "cell_type": "code",
   "execution_count": 40,
   "id": "4da1e4f1",
   "metadata": {},
   "outputs": [
    {
     "data": {
      "text/html": [
       "<div>\n",
       "<style scoped>\n",
       "    .dataframe tbody tr th:only-of-type {\n",
       "        vertical-align: middle;\n",
       "    }\n",
       "\n",
       "    .dataframe tbody tr th {\n",
       "        vertical-align: top;\n",
       "    }\n",
       "\n",
       "    .dataframe thead th {\n",
       "        text-align: right;\n",
       "    }\n",
       "</style>\n",
       "<table border=\"1\" class=\"dataframe\">\n",
       "  <thead>\n",
       "    <tr style=\"text-align: right;\">\n",
       "      <th></th>\n",
       "      <th>date</th>\n",
       "      <th>gender</th>\n",
       "      <th>juridiction</th>\n",
       "    </tr>\n",
       "  </thead>\n",
       "  <tbody>\n",
       "    <tr>\n",
       "      <th>0</th>\n",
       "      <td>04 avril 1973</td>\n",
       "      <td>M</td>\n",
       "      <td>Chambre civile 2</td>\n",
       "    </tr>\n",
       "    <tr>\n",
       "      <th>1</th>\n",
       "      <td>13 novembre 1973</td>\n",
       "      <td>M</td>\n",
       "      <td>Chambre criminelle</td>\n",
       "    </tr>\n",
       "    <tr>\n",
       "      <th>2</th>\n",
       "      <td>14 février 1973</td>\n",
       "      <td>M</td>\n",
       "      <td>Chambre commerciale</td>\n",
       "    </tr>\n",
       "    <tr>\n",
       "      <th>3</th>\n",
       "      <td>03 décembre 1973</td>\n",
       "      <td>M</td>\n",
       "      <td>Chambre commerciale</td>\n",
       "    </tr>\n",
       "    <tr>\n",
       "      <th>4</th>\n",
       "      <td>14 février 1973</td>\n",
       "      <td>M</td>\n",
       "      <td>Chambre civile 3</td>\n",
       "    </tr>\n",
       "    <tr>\n",
       "      <th>...</th>\n",
       "      <td>...</td>\n",
       "      <td>...</td>\n",
       "      <td>...</td>\n",
       "    </tr>\n",
       "    <tr>\n",
       "      <th>5095</th>\n",
       "      <td>01 mars 2023</td>\n",
       "      <td>M</td>\n",
       "      <td>Chambre commerciale</td>\n",
       "    </tr>\n",
       "    <tr>\n",
       "      <th>5096</th>\n",
       "      <td>15 février 2023</td>\n",
       "      <td>M</td>\n",
       "      <td>Chambre commerciale</td>\n",
       "    </tr>\n",
       "    <tr>\n",
       "      <th>5097</th>\n",
       "      <td>18 janvier 2023</td>\n",
       "      <td>F</td>\n",
       "      <td>Chambre sociale</td>\n",
       "    </tr>\n",
       "    <tr>\n",
       "      <th>5098</th>\n",
       "      <td>25 janvier 2023</td>\n",
       "      <td>F</td>\n",
       "      <td>Chambre civile 3</td>\n",
       "    </tr>\n",
       "    <tr>\n",
       "      <th>5099</th>\n",
       "      <td>26 janvier 2023</td>\n",
       "      <td>M</td>\n",
       "      <td>Chambre civile 2</td>\n",
       "    </tr>\n",
       "  </tbody>\n",
       "</table>\n",
       "<p>5100 rows × 3 columns</p>\n",
       "</div>"
      ],
      "text/plain": [
       "                  date gender          juridiction\n",
       "0        04 avril 1973      M     Chambre civile 2\n",
       "1     13 novembre 1973      M   Chambre criminelle\n",
       "2      14 février 1973      M  Chambre commerciale\n",
       "3     03 décembre 1973      M  Chambre commerciale\n",
       "4      14 février 1973      M     Chambre civile 3\n",
       "...                ...    ...                  ...\n",
       "5095      01 mars 2023      M  Chambre commerciale\n",
       "5096   15 février 2023      M  Chambre commerciale\n",
       "5097   18 janvier 2023      F      Chambre sociale\n",
       "5098   25 janvier 2023      F     Chambre civile 3\n",
       "5099   26 janvier 2023      M     Chambre civile 2\n",
       "\n",
       "[5100 rows x 3 columns]"
      ]
     },
     "execution_count": 40,
     "metadata": {},
     "output_type": "execute_result"
    }
   ],
   "source": [
    "results"
   ]
  },
  {
   "cell_type": "markdown",
   "id": "83302d5f",
   "metadata": {},
   "source": [
    "Les résultats sont mis en forme dans un DataFrame puis sont sauvés dans un fichier csv"
   ]
  },
  {
   "cell_type": "code",
   "execution_count": 39,
   "id": "d7c9c1cd",
   "metadata": {},
   "outputs": [],
   "source": [
    "results = pd.DataFrame(results)\n",
    "results.to_csv(\"dataframe.csv\", index=False)"
   ]
  },
  {
   "cell_type": "markdown",
   "id": "3e71f43c",
   "metadata": {},
   "source": [
    "Il y aurait 565 femmes qui ont présidé entre 1973 et 2023"
   ]
  },
  {
   "cell_type": "code",
   "execution_count": 41,
   "id": "126460a9",
   "metadata": {},
   "outputs": [
    {
     "data": {
      "text/html": [
       "<div>\n",
       "<style scoped>\n",
       "    .dataframe tbody tr th:only-of-type {\n",
       "        vertical-align: middle;\n",
       "    }\n",
       "\n",
       "    .dataframe tbody tr th {\n",
       "        vertical-align: top;\n",
       "    }\n",
       "\n",
       "    .dataframe thead th {\n",
       "        text-align: right;\n",
       "    }\n",
       "</style>\n",
       "<table border=\"1\" class=\"dataframe\">\n",
       "  <thead>\n",
       "    <tr style=\"text-align: right;\">\n",
       "      <th></th>\n",
       "      <th>date</th>\n",
       "      <th>gender</th>\n",
       "      <th>juridiction</th>\n",
       "    </tr>\n",
       "  </thead>\n",
       "  <tbody>\n",
       "    <tr>\n",
       "      <th>1213</th>\n",
       "      <td>25 octobre 1985</td>\n",
       "      <td>F</td>\n",
       "      <td>Assemblée plénière</td>\n",
       "    </tr>\n",
       "    <tr>\n",
       "      <th>1364</th>\n",
       "      <td>28 février 1986</td>\n",
       "      <td>F</td>\n",
       "      <td>Chambre mixte</td>\n",
       "    </tr>\n",
       "    <tr>\n",
       "      <th>2759</th>\n",
       "      <td>18 janvier 2000</td>\n",
       "      <td>F</td>\n",
       "      <td>Chambre civile 1</td>\n",
       "    </tr>\n",
       "    <tr>\n",
       "      <th>2975</th>\n",
       "      <td>15 mai 2002</td>\n",
       "      <td>F</td>\n",
       "      <td>Chambre civile 3</td>\n",
       "    </tr>\n",
       "    <tr>\n",
       "      <th>3127</th>\n",
       "      <td>12 octobre 2004</td>\n",
       "      <td>F</td>\n",
       "      <td>Chambre sociale</td>\n",
       "    </tr>\n",
       "    <tr>\n",
       "      <th>...</th>\n",
       "      <td>...</td>\n",
       "      <td>...</td>\n",
       "      <td>...</td>\n",
       "    </tr>\n",
       "    <tr>\n",
       "      <th>5088</th>\n",
       "      <td>18 janvier 2023</td>\n",
       "      <td>F</td>\n",
       "      <td>Chambre civile 3</td>\n",
       "    </tr>\n",
       "    <tr>\n",
       "      <th>5092</th>\n",
       "      <td>11 janvier 2023</td>\n",
       "      <td>F</td>\n",
       "      <td>Chambre civile 3</td>\n",
       "    </tr>\n",
       "    <tr>\n",
       "      <th>5094</th>\n",
       "      <td>16 mars 2023</td>\n",
       "      <td>F</td>\n",
       "      <td>Chambre civile 3</td>\n",
       "    </tr>\n",
       "    <tr>\n",
       "      <th>5097</th>\n",
       "      <td>18 janvier 2023</td>\n",
       "      <td>F</td>\n",
       "      <td>Chambre sociale</td>\n",
       "    </tr>\n",
       "    <tr>\n",
       "      <th>5098</th>\n",
       "      <td>25 janvier 2023</td>\n",
       "      <td>F</td>\n",
       "      <td>Chambre civile 3</td>\n",
       "    </tr>\n",
       "  </tbody>\n",
       "</table>\n",
       "<p>565 rows × 3 columns</p>\n",
       "</div>"
      ],
      "text/plain": [
       "                 date gender         juridiction\n",
       "1213  25 octobre 1985      F  Assemblée plénière\n",
       "1364  28 février 1986      F       Chambre mixte\n",
       "2759  18 janvier 2000      F    Chambre civile 1\n",
       "2975      15 mai 2002      F    Chambre civile 3\n",
       "3127  12 octobre 2004      F     Chambre sociale\n",
       "...               ...    ...                 ...\n",
       "5088  18 janvier 2023      F    Chambre civile 3\n",
       "5092  11 janvier 2023      F    Chambre civile 3\n",
       "5094     16 mars 2023      F    Chambre civile 3\n",
       "5097  18 janvier 2023      F     Chambre sociale\n",
       "5098  25 janvier 2023      F    Chambre civile 3\n",
       "\n",
       "[565 rows x 3 columns]"
      ]
     },
     "execution_count": 41,
     "metadata": {},
     "output_type": "execute_result"
    }
   ],
   "source": [
    "results[results['gender'] == 'F']"
   ]
  },
  {
   "cell_type": "markdown",
   "id": "63a5af1d",
   "metadata": {},
   "source": [
    "On se rend compte qu'il y a beacoup de données manquantes"
   ]
  },
  {
   "cell_type": "code",
   "execution_count": 42,
   "id": "5c503a28",
   "metadata": {},
   "outputs": [
    {
     "name": "stdout",
     "output_type": "stream",
     "text": [
      "Nombre de jugements étudiés: 5100\n",
      "Nombre de jugements où le sexe du président est indiqué: 4619\n"
     ]
    }
   ],
   "source": [
    "print(f\"Nombre de jugements étudiés: {len(results)}\\nNombre de jugements où le sexe du président est indiqué: {len(results[results['gender'] != ''])}\")"
   ]
  },
  {
   "cell_type": "markdown",
   "id": "56cebbd8",
   "metadata": {},
   "source": [
    "On retire en suite les lignes vides"
   ]
  },
  {
   "cell_type": "code",
   "execution_count": 43,
   "id": "5435d45c",
   "metadata": {},
   "outputs": [],
   "source": [
    "clean = results[results['gender'] != '']"
   ]
  },
  {
   "cell_type": "markdown",
   "id": "9c016be2",
   "metadata": {},
   "source": [
    "Puis on convertit les dates en datetime, de sorte à avoir des time series"
   ]
  },
  {
   "cell_type": "code",
   "execution_count": 44,
   "id": "9d14ece0",
   "metadata": {},
   "outputs": [],
   "source": [
    "mois = {\" janvier \": \"/01/\", \" février \": \"/02/\", \" mars \": \"/03/\", \" avril \": \"/04/\", \" mai \": \"/05/\", \" juin \": \"/06/\", \" juillet \": \"/07/\", \" août \": \"/08/\", \" septembre \": \"/09/\", \" octobre \": \"/10/\", \" novembre \": \"/11/\", \" décembre \": \"/12/\"}\n",
    "def convert(dt):\n",
    "    for m in mois:\n",
    "        if m in dt:\n",
    "            return dt.replace(m, mois[m])"
   ]
  },
  {
   "cell_type": "code",
   "execution_count": null,
   "id": "82d4530b",
   "metadata": {},
   "outputs": [],
   "source": [
    "clean.loc[:, 'date'] = clean['date'].apply(convert)\n",
    "clean.loc[:, 'date'] = pd.to_datetime(clean['date'], format='%d/%m/%Y')\n",
    "clean.set_index('date', inplace=True)"
   ]
  },
  {
   "cell_type": "markdown",
   "id": "df67a8d3",
   "metadata": {},
   "source": [
    "Enfin, on compte le nombre de femmes présidentes par année et on affiche le graphe des résultats"
   ]
  },
  {
   "cell_type": "code",
   "execution_count": 46,
   "id": "c25aeb12",
   "metadata": {},
   "outputs": [],
   "source": [
    "serie = clean.groupby(clean.index.year)['gender'].sum()\n",
    "serie = serie.apply(lambda val: val.count('F'))"
   ]
  },
  {
   "cell_type": "code",
   "execution_count": 49,
   "id": "66d12667",
   "metadata": {},
   "outputs": [],
   "source": [
    "plt.rcParams['figure.figsize'] = [12, 8]"
   ]
  },
  {
   "cell_type": "code",
   "execution_count": 52,
   "id": "89e7edb3",
   "metadata": {},
   "outputs": [
    {
     "data": {
      "image/png": "[encoded data removed]",
      "text/plain": [
       "<Figure size 864x576 with 1 Axes>"
      ]
     },
     "metadata": {
      "needs_background": "light"
     },
     "output_type": "display_data"
    }
   ],
   "source": [
    "serie.plot.bar()\n",
    "plt.xlabel('Year')\n",
    "plt.ylabel('# Women Presidents')\n",
    "plt.title('Women presidents by year')\n",
    "plt.savefig('graph.png')\n",
    "plt.show()"
   ]
  }
 ],
 "metadata": {
  "kernelspec": {
   "display_name": "data",
   "language": "python",
   "name": "data"
  },
  "language_info": {
   "codemirror_mode": {
    "name": "ipython",
    "version": 3
   },
   "file_extension": ".py",
   "mimetype": "text/x-python",
   "name": "python",
   "nbconvert_exporter": "python",
   "pygments_lexer": "ipython3",
   "version": "3.10.4"
  }
 },
 "nbformat": 4,
 "nbformat_minor": 5
}
