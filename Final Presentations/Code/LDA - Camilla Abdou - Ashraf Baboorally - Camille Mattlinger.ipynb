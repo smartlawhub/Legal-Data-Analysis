{
  "nbformat": 4,
  "nbformat_minor": 0,
  "metadata": {
    "colab": {
      "provenance": []
    },
    "kernelspec": {
      "name": "python3",
      "display_name": "Python 3"
    },
    "language_info": {
      "name": "python"
    }
  },
  "cells": [
    {
      "cell_type": "markdown",
      "source": [
        "# Source de donnée"
      ],
      "metadata": {
        "id": "DJw0ARMW4sh4"
      }
    },
    {
      "cell_type": "markdown",
      "source": [
        "# Preparation de donnée"
      ],
      "metadata": {
        "id": "vJKHTkpX4yjF"
      }
    },
    {
      "cell_type": "code",
      "execution_count": null,
      "metadata": {
        "id": "hp0Jx2YV0fWp"
      },
      "outputs": [],
      "source": [
        "import requests\n",
        "from bs4 import BeautifulSoup\n",
        "import regex as re\n",
        "import pandas as pd\n",
        "import math"
      ]
    },
    {
      "cell_type": "code",
      "source": [
        "dec_arret_url = 'https://www.courdecassation.fr/recherche-judilibre?search_api_fulltext=&date_du=2013-01-01&date_au=2023-01-01&judilibre_juridiction=cc&judilibre_type%5B0%5D=arret&op=Rechercher%20sur%20judilibre'\n",
        "webpage = requests.get(dec_arret_url)\n",
        "webpage.status_code"
      ],
      "metadata": {
        "colab": {
          "base_uri": "https://localhost:8080/"
        },
        "id": "uys6YuQMHadg",
        "outputId": "f0e52b1b-5e48-442e-826f-951b7361c715"
      },
      "execution_count": null,
      "outputs": [
        {
          "output_type": "execute_result",
          "data": {
            "text/plain": [
              "200"
            ]
          },
          "metadata": {},
          "execution_count": 2
        }
      ]
    },
    {
      "cell_type": "code",
      "source": [
        "soup = BeautifulSoup(webpage.content)"
      ],
      "metadata": {
        "id": "CrmZQQ0SJNIS"
      },
      "execution_count": null,
      "outputs": []
    },
    {
      "cell_type": "code",
      "source": [
        "decision_items = soup.find_all('div', class_='decision-item')"
      ],
      "metadata": {
        "id": "sOBMZLE_JW9c"
      },
      "execution_count": null,
      "outputs": []
    },
    {
      "cell_type": "code",
      "source": [
        "for item in decision_items:\n",
        "    date = item.find('h3', class_=\"inline-block\").text\n",
        "    date = date.split('-')[0].strip()\n",
        "\n",
        "    chambre = item.find('p', class_=\"decision-item-header--secondary\").text.strip()\n",
        "    solution = item.find('p', class_=\"decision-item-header--secondary solution\").text.strip()\n",
        "\n",
        "    print(date, chambre, solution)"
      ],
      "metadata": {
        "colab": {
          "base_uri": "https://localhost:8080/"
        },
        "id": "xJVwkkX5KL70",
        "outputId": "f22ddef4-621a-453f-9200-663819b02ad7"
      },
      "execution_count": null,
      "outputs": [
        {
          "output_type": "stream",
          "name": "stdout",
          "text": [
            "14 décembre 2022 Chambre commerciale financière et économique\n",
            "              - Formation restreinte hors RNSM/NA Rabat\n",
            "13 décembre 2022 Chambre criminelle\n",
            "              - Formation restreinte hors RNSM/NA Autre\n",
            "13 décembre 2022 Chambre criminelle\n",
            "              - Formation restreinte hors RNSM/NA Rejet\n",
            "13 décembre 2022 Chambre criminelle\n",
            "              - Formation restreinte hors RNSM/NA Rejet\n",
            "8 décembre 2022 Deuxième chambre civile\n",
            "              - Formation restreinte hors RNSM/NA Rabat\n",
            "8 décembre 2022 Deuxième chambre civile\n",
            "              - Formation restreinte hors RNSM/NA Autre\n",
            "7 décembre 2022 Chambre criminelle\n",
            "              - Formation restreinte hors RNSM/NA Autre\n",
            "30 novembre 2022 Première chambre civile\n",
            "              - Formation restreinte hors RNSM/NA Autre\n",
            "30 novembre 2022 Première chambre civile\n",
            "              - Formation restreinte hors RNSM/NA Autre\n",
            "30 novembre 2022 Chambre criminelle\n",
            "              - Formation restreinte hors RNSM/NA Autre\n"
          ]
        }
      ]
    },
    {
      "cell_type": "code",
      "source": [
        "# data: une liste qui va regrouper les données decision par decision\n",
        "data = []\n",
        "\n",
        "print('# Scrapping des données de 2013 à 2023:')\n",
        "for year in range(2013, 2023):\n",
        "    # pour chaque année\n",
        "    # on cherche le nombre de resultats/page trouvé\n",
        "    url = f'https://www.courdecassation.fr/recherche-judilibre?search_api_fulltext=&date_du={year}-01-01&date_au={year}-12-31&judilibre_juridiction=cc&op=Rechercher%20sur%20judilibre&page=0'\n",
        "    webpage = requests.get(url)\n",
        "    soup = BeautifulSoup(webpage.content)\n",
        "    results_nbr = int(soup.find('span', id='researchNbResults').text)\n",
        "    results_pages = math.ceil((results_nbr/10))\n",
        "    print(f'Année {year}: {results_nbr} resultats trouvé sur {results_pages} pages. Scrapping en cours ...')\n",
        "\n",
        "    # i: variable qui va de 0 à 999 et qui correspond au numéro de page dans les resultats de recherche\n",
        "    for i in range(0, results_pages):\n",
        "        # url: lien vers la pages de resultats avec le numéro (i)\n",
        "        url = f'https://www.courdecassation.fr/recherche-judilibre?search_api_fulltext=&date_du={year}-01-01&date_au={year}-12-31&judilibre_juridiction=cc&op=Rechercher%20sur%20judilibre&page={i}'\n",
        "\n",
        "        # télécharger la page de resultats avec le numero (i)\n",
        "        webpage = requests.get(url)\n",
        "\n",
        "        # BeautifulSoup pour acceder au contenu de la page\n",
        "        soup = BeautifulSoup(webpage.content)\n",
        "\n",
        "        # les decisions trouvées dans la recherche \n",
        "        # peuvent etre selectionner en utilisant le tag 'div'\n",
        "        # et la class 'decision-item'\n",
        "        decision_items = soup.find_all('div', class_='decision-item')\n",
        "\n",
        "        # pour chaque decision trouvée dans les resultats\n",
        "        for item in decision_items:\n",
        "\n",
        "            # date: la date trouvée dans l'element 'h3' et la classe \"inline-block\"\n",
        "            date = item.find('h3', class_=\"inline-block\").text\n",
        "\n",
        "            # exemple: \"29 novembre 2022 - Cour de cassation - Pourvoi n° 22-80.635\"\n",
        "            #            ^^^^^^^^^^^^^^^ - ...\n",
        "            # on utilise split('-') pour découper la chaine de caracteres\n",
        "            # [0] pour prendre la date\n",
        "            # .strip() pour supprimer les caracteres blanc sur les cotés\n",
        "            date = date.split('-')[0].strip()\n",
        "\n",
        "            # chambre: le nom de la chambre trouvé dans l'element 'p' avec la classe \"decision-item-header--secondary\"\n",
        "            chambre = item.find('p', class_=\"decision-item-header--secondary\").text.strip()\n",
        "\n",
        "            # solution: la solution qui correspon à cette decision\n",
        "            solution = item.find('p', class_=\"decision-item-header--secondary solution\").text.strip()\n",
        "\n",
        "            # lien: le lien vers la page contenant plus d'infos sur cette decision\n",
        "            button = item.find('p', class_=\"btn button btn--type-1 float-right lien-voir lien-voir-decision\")\n",
        "            lien = 'https://www.courdecassation.fr' + button.find('a').get('href')\n",
        "\n",
        "            # on rajoute une ligne dans notre base de données\n",
        "            # qui contient date, chambre et solution\n",
        "            data.append({\n",
        "                'date': date,\n",
        "                'chambre': chambre,\n",
        "                'solution': solution,\n",
        "                'lien': lien\n",
        "            })\n",
        "\n",
        "            # data est une liste de dictionaires\n",
        "            # chaque dictionaire correspond à une ligne de données {date, chambre, solution}\n",
        "    print('Terminé')"
      ],
      "metadata": {
        "id": "BknjSVEROkk2",
        "colab": {
          "base_uri": "https://localhost:8080/"
        },
        "outputId": "3bf5132f-73d5-4d35-abc4-e461eb7dbe56"
      },
      "execution_count": null,
      "outputs": [
        {
          "output_type": "stream",
          "name": "stdout",
          "text": [
            "# Scrapping des données de 2013 à 2023:\n",
            "Année 2013: 8955 resultats trouvé sur 896 pages. Scrapping en cours ...\n",
            "Terminé\n",
            "Année 2014: 8845 resultats trouvé sur 885 pages. Scrapping en cours ...\n",
            "Terminé\n",
            "Année 2015: 8707 resultats trouvé sur 871 pages. Scrapping en cours ...\n",
            "Terminé\n",
            "Année 2016: 10000 resultats trouvé sur 1000 pages. Scrapping en cours ...\n",
            "Terminé\n",
            "Année 2017: 10000 resultats trouvé sur 1000 pages. Scrapping en cours ...\n",
            "Terminé\n",
            "Année 2018: 10000 resultats trouvé sur 1000 pages. Scrapping en cours ...\n",
            "Terminé\n",
            "Année 2019: 10000 resultats trouvé sur 1000 pages. Scrapping en cours ...\n",
            "Terminé\n",
            "Année 2020: 10000 resultats trouvé sur 1000 pages. Scrapping en cours ...\n",
            "Terminé\n",
            "Année 2021: 10000 resultats trouvé sur 1000 pages. Scrapping en cours ...\n",
            "Terminé\n",
            "Année 2022: 10000 resultats trouvé sur 1000 pages. Scrapping en cours ...\n",
            "Terminé\n"
          ]
        }
      ]
    },
    {
      "cell_type": "code",
      "source": [
        "df = pd.DataFrame(data)"
      ],
      "metadata": {
        "id": "qhixA4ylPgyU"
      },
      "execution_count": null,
      "outputs": []
    },
    {
      "cell_type": "code",
      "source": [
        "df['chambre'].unique()\n",
        "\n",
        "def unify(chambre):\n",
        "    if 'commerciale' in chambre:\n",
        "        return 'Chambre commerciale'\n",
        "    elif 'criminelle' in chambre:\n",
        "        return 'Chambre criminelle'\n",
        "    elif 'civile' in chambre:\n",
        "        return 'Chambre civile'\n",
        "    elif 'sociale' in chambre:\n",
        "        return 'Chambre sociale'\n",
        "    elif 'mixte' in chambre:\n",
        "        return 'Chambre mixte'\n",
        "    else:\n",
        "        return 'Autre'\n",
        "\n",
        "\n",
        "    \n",
        "month_number = {\n",
        "    'janvier': 1,\n",
        "    'février': 2,\n",
        "    'mars': 3,\n",
        "    'avril': 4,\n",
        "    'mai': 5,\n",
        "    'juin': 6,\n",
        "    'juillet': 7,\n",
        "    'août': 8,\n",
        "    'septembre': 9,\n",
        "    'octobre': 10,\n",
        "    'novembre': 11,\n",
        "    'décembre': 12\n",
        "}\n",
        "\n",
        "def convert(date):\n",
        "    day, mo, year = date.split(' ')\n",
        "    day  = int(day)\n",
        "    year = int(year)\n",
        "    mo = month_number[mo]\n",
        "    return f'{day}/{mo}/{year}'\n",
        "\n",
        "df['chambre'] = df['chambre'].map(unify)\n",
        "df = df[df['chambre'] != 'Autre']\n",
        "\n",
        "#import locale\n",
        "#locale.setlocale(locale.LC_ALL, \"fr_FR.utf8\") \n",
        "\n",
        "df['date'] = pd.to_datetime(df['date'].map(convert), format=\"%d/%m/%Y\")\n",
        "\n",
        "df['cassation'] = (df['solution'] == 'Cassation')"
      ],
      "metadata": {
        "id": "_4ythGuRSeqf",
        "colab": {
          "base_uri": "https://localhost:8080/"
        },
        "outputId": "e5937f4f-035b-4223-a511-ccade09a71ad"
      },
      "execution_count": null,
      "outputs": [
        {
          "output_type": "stream",
          "name": "stderr",
          "text": [
            "<ipython-input-8-b3550b5ec9b6>:47: SettingWithCopyWarning: \n",
            "A value is trying to be set on a copy of a slice from a DataFrame.\n",
            "Try using .loc[row_indexer,col_indexer] = value instead\n",
            "\n",
            "See the caveats in the documentation: https://pandas.pydata.org/pandas-docs/stable/user_guide/indexing.html#returning-a-view-versus-a-copy\n",
            "  df['date'] = pd.to_datetime(df['date'].map(convert), format=\"%d/%m/%Y\")\n",
            "<ipython-input-8-b3550b5ec9b6>:49: SettingWithCopyWarning: \n",
            "A value is trying to be set on a copy of a slice from a DataFrame.\n",
            "Try using .loc[row_indexer,col_indexer] = value instead\n",
            "\n",
            "See the caveats in the documentation: https://pandas.pydata.org/pandas-docs/stable/user_guide/indexing.html#returning-a-view-versus-a-copy\n",
            "  df['cassation'] = (df['solution'] == 'Cassation')\n"
          ]
        }
      ]
    },
    {
      "cell_type": "code",
      "source": [
        "print('# Enregistrement des données dans le fichier courdecassation.csv')\n",
        "df.to_csv('courdecassation.csv')"
      ],
      "metadata": {
        "colab": {
          "base_uri": "https://localhost:8080/"
        },
        "id": "JzIw1oX17KOH",
        "outputId": "6517abd2-e2e6-4baf-fea5-6de2293b1fe1"
      },
      "execution_count": null,
      "outputs": [
        {
          "output_type": "stream",
          "name": "stdout",
          "text": [
            "# Enregistrement des données dans le fichier courdecassation.csv\n"
          ]
        }
      ]
    },
    {
      "cell_type": "code",
      "source": [
        "df_cassation = df[df['solution'] == 'Cassation']\n",
        "df_cassation = df_cassation[df['date'] >= '2017-01-01']\n",
        "df_cassation"
      ],
      "metadata": {
        "colab": {
          "base_uri": "https://localhost:8080/",
          "height": 458
        },
        "id": "mhtISqnjdwhR",
        "outputId": "e2f5c142-5fc9-463f-f2f2-8a0d4df00a21"
      },
      "execution_count": null,
      "outputs": [
        {
          "output_type": "stream",
          "name": "stderr",
          "text": [
            "<ipython-input-10-0d3ba1d2c05c>:2: UserWarning: Boolean Series key will be reindexed to match DataFrame index.\n",
            "  df_cassation = df_cassation[df['date'] >= '2017-01-01']\n"
          ]
        },
        {
          "output_type": "execute_result",
          "data": {
            "text/plain": [
              "          date              chambre   solution  \\\n",
              "648 2019-12-19       Chambre civile  Cassation   \n",
              "787 2020-12-16  Chambre commerciale  Cassation   \n",
              "442 2017-12-21      Chambre sociale  Cassation   \n",
              "688 2019-12-19       Chambre civile  Cassation   \n",
              "481 2017-12-21       Chambre civile  Cassation   \n",
              "..         ...                  ...        ...   \n",
              "964 2022-12-15       Chambre civile  Cassation   \n",
              "781 2020-12-16      Chambre sociale  Cassation   \n",
              "650 2019-12-19       Chambre civile  Cassation   \n",
              "818 2021-12-16       Chambre civile  Cassation   \n",
              "666 2019-12-19       Chambre civile  Cassation   \n",
              "\n",
              "                                                  lien  cassation  \n",
              "648  https://www.courdecassation.fr/decision/5fca5f...       True  \n",
              "787  https://www.courdecassation.fr/decision/5fe1af...       True  \n",
              "442  https://www.courdecassation.fr/decision/5fcaa0...       True  \n",
              "688  https://www.courdecassation.fr/decision/5fca5f...       True  \n",
              "481  https://www.courdecassation.fr/decision/5fcaa1...       True  \n",
              "..                                                 ...        ...  \n",
              "964  https://www.courdecassation.fr/decision/639aca...       True  \n",
              "781  https://www.courdecassation.fr/decision/5fe1af...       True  \n",
              "650  https://www.courdecassation.fr/decision/5fca5f...       True  \n",
              "818  https://www.courdecassation.fr/decision/61bae4...       True  \n",
              "666  https://www.courdecassation.fr/decision/5fca5f...       True  \n",
              "\n",
              "[100 rows x 5 columns]"
            ],
            "text/html": [
              "\n",
              "  <div id=\"df-19fba0fc-d0aa-4c1f-a35b-0f7b08a95f92\">\n",
              "    <div class=\"colab-df-container\">\n",
              "      <div>\n",
              "<style scoped>\n",
              "    .dataframe tbody tr th:only-of-type {\n",
              "        vertical-align: middle;\n",
              "    }\n",
              "\n",
              "    .dataframe tbody tr th {\n",
              "        vertical-align: top;\n",
              "    }\n",
              "\n",
              "    .dataframe thead th {\n",
              "        text-align: right;\n",
              "    }\n",
              "</style>\n",
              "<table border=\"1\" class=\"dataframe\">\n",
              "  <thead>\n",
              "    <tr style=\"text-align: right;\">\n",
              "      <th></th>\n",
              "      <th>date</th>\n",
              "      <th>chambre</th>\n",
              "      <th>solution</th>\n",
              "      <th>lien</th>\n",
              "      <th>cassation</th>\n",
              "    </tr>\n",
              "  </thead>\n",
              "  <tbody>\n",
              "    <tr>\n",
              "      <th>648</th>\n",
              "      <td>2019-12-19</td>\n",
              "      <td>Chambre civile</td>\n",
              "      <td>Cassation</td>\n",
              "      <td>https://www.courdecassation.fr/decision/5fca5f...</td>\n",
              "      <td>True</td>\n",
              "    </tr>\n",
              "    <tr>\n",
              "      <th>787</th>\n",
              "      <td>2020-12-16</td>\n",
              "      <td>Chambre commerciale</td>\n",
              "      <td>Cassation</td>\n",
              "      <td>https://www.courdecassation.fr/decision/5fe1af...</td>\n",
              "      <td>True</td>\n",
              "    </tr>\n",
              "    <tr>\n",
              "      <th>442</th>\n",
              "      <td>2017-12-21</td>\n",
              "      <td>Chambre sociale</td>\n",
              "      <td>Cassation</td>\n",
              "      <td>https://www.courdecassation.fr/decision/5fcaa0...</td>\n",
              "      <td>True</td>\n",
              "    </tr>\n",
              "    <tr>\n",
              "      <th>688</th>\n",
              "      <td>2019-12-19</td>\n",
              "      <td>Chambre civile</td>\n",
              "      <td>Cassation</td>\n",
              "      <td>https://www.courdecassation.fr/decision/5fca5f...</td>\n",
              "      <td>True</td>\n",
              "    </tr>\n",
              "    <tr>\n",
              "      <th>481</th>\n",
              "      <td>2017-12-21</td>\n",
              "      <td>Chambre civile</td>\n",
              "      <td>Cassation</td>\n",
              "      <td>https://www.courdecassation.fr/decision/5fcaa1...</td>\n",
              "      <td>True</td>\n",
              "    </tr>\n",
              "    <tr>\n",
              "      <th>...</th>\n",
              "      <td>...</td>\n",
              "      <td>...</td>\n",
              "      <td>...</td>\n",
              "      <td>...</td>\n",
              "      <td>...</td>\n",
              "    </tr>\n",
              "    <tr>\n",
              "      <th>964</th>\n",
              "      <td>2022-12-15</td>\n",
              "      <td>Chambre civile</td>\n",
              "      <td>Cassation</td>\n",
              "      <td>https://www.courdecassation.fr/decision/639aca...</td>\n",
              "      <td>True</td>\n",
              "    </tr>\n",
              "    <tr>\n",
              "      <th>781</th>\n",
              "      <td>2020-12-16</td>\n",
              "      <td>Chambre sociale</td>\n",
              "      <td>Cassation</td>\n",
              "      <td>https://www.courdecassation.fr/decision/5fe1af...</td>\n",
              "      <td>True</td>\n",
              "    </tr>\n",
              "    <tr>\n",
              "      <th>650</th>\n",
              "      <td>2019-12-19</td>\n",
              "      <td>Chambre civile</td>\n",
              "      <td>Cassation</td>\n",
              "      <td>https://www.courdecassation.fr/decision/5fca5f...</td>\n",
              "      <td>True</td>\n",
              "    </tr>\n",
              "    <tr>\n",
              "      <th>818</th>\n",
              "      <td>2021-12-16</td>\n",
              "      <td>Chambre civile</td>\n",
              "      <td>Cassation</td>\n",
              "      <td>https://www.courdecassation.fr/decision/61bae4...</td>\n",
              "      <td>True</td>\n",
              "    </tr>\n",
              "    <tr>\n",
              "      <th>666</th>\n",
              "      <td>2019-12-19</td>\n",
              "      <td>Chambre civile</td>\n",
              "      <td>Cassation</td>\n",
              "      <td>https://www.courdecassation.fr/decision/5fca5f...</td>\n",
              "      <td>True</td>\n",
              "    </tr>\n",
              "  </tbody>\n",
              "</table>\n",
              "<p>100 rows × 5 columns</p>\n",
              "</div>\n",
              "      <button class=\"colab-df-convert\" onclick=\"convertToInteractive('df-19fba0fc-d0aa-4c1f-a35b-0f7b08a95f92')\"\n",
              "              title=\"Convert this dataframe to an interactive table.\"\n",
              "              style=\"display:none;\">\n",
              "        \n",
              "  <svg xmlns=\"http://www.w3.org/2000/svg\" height=\"24px\"viewBox=\"0 0 24 24\"\n",
              "       width=\"24px\">\n",
              "    <path d=\"M0 0h24v24H0V0z\" fill=\"none\"/>\n",
              "    <path d=\"M18.56 5.44l.94 2.06.94-2.06 2.06-.94-2.06-.94-.94-2.06-.94 2.06-2.06.94zm-11 1L8.5 8.5l.94-2.06 2.06-.94-2.06-.94L8.5 2.5l-.94 2.06-2.06.94zm10 10l.94 2.06.94-2.06 2.06-.94-2.06-.94-.94-2.06-.94 2.06-2.06.94z\"/><path d=\"M17.41 7.96l-1.37-1.37c-.4-.4-.92-.59-1.43-.59-.52 0-1.04.2-1.43.59L10.3 9.45l-7.72 7.72c-.78.78-.78 2.05 0 2.83L4 21.41c.39.39.9.59 1.41.59.51 0 1.02-.2 1.41-.59l7.78-7.78 2.81-2.81c.8-.78.8-2.07 0-2.86zM5.41 20L4 18.59l7.72-7.72 1.47 1.35L5.41 20z\"/>\n",
              "  </svg>\n",
              "      </button>\n",
              "      \n",
              "  <style>\n",
              "    .colab-df-container {\n",
              "      display:flex;\n",
              "      flex-wrap:wrap;\n",
              "      gap: 12px;\n",
              "    }\n",
              "\n",
              "    .colab-df-convert {\n",
              "      background-color: #E8F0FE;\n",
              "      border: none;\n",
              "      border-radius: 50%;\n",
              "      cursor: pointer;\n",
              "      display: none;\n",
              "      fill: #1967D2;\n",
              "      height: 32px;\n",
              "      padding: 0 0 0 0;\n",
              "      width: 32px;\n",
              "    }\n",
              "\n",
              "    .colab-df-convert:hover {\n",
              "      background-color: #E2EBFA;\n",
              "      box-shadow: 0px 1px 2px rgba(60, 64, 67, 0.3), 0px 1px 3px 1px rgba(60, 64, 67, 0.15);\n",
              "      fill: #174EA6;\n",
              "    }\n",
              "\n",
              "    [theme=dark] .colab-df-convert {\n",
              "      background-color: #3B4455;\n",
              "      fill: #D2E3FC;\n",
              "    }\n",
              "\n",
              "    [theme=dark] .colab-df-convert:hover {\n",
              "      background-color: #434B5C;\n",
              "      box-shadow: 0px 1px 3px 1px rgba(0, 0, 0, 0.15);\n",
              "      filter: drop-shadow(0px 1px 2px rgba(0, 0, 0, 0.3));\n",
              "      fill: #FFFFFF;\n",
              "    }\n",
              "  </style>\n",
              "\n",
              "      <script>\n",
              "        const buttonEl =\n",
              "          document.querySelector('#df-19fba0fc-d0aa-4c1f-a35b-0f7b08a95f92 button.colab-df-convert');\n",
              "        buttonEl.style.display =\n",
              "          google.colab.kernel.accessAllowed ? 'block' : 'none';\n",
              "\n",
              "        async function convertToInteractive(key) {\n",
              "          const element = document.querySelector('#df-19fba0fc-d0aa-4c1f-a35b-0f7b08a95f92');\n",
              "          const dataTable =\n",
              "            await google.colab.kernel.invokeFunction('convertToInteractive',\n",
              "                                                     [key], {});\n",
              "          if (!dataTable) return;\n",
              "\n",
              "          const docLinkHtml = 'Like what you see? Visit the ' +\n",
              "            '<a target=\"_blank\" href=https://colab.research.google.com/notebooks/data_table.ipynb>data table notebook</a>'\n",
              "            + ' to learn more about interactive tables.';\n",
              "          element.innerHTML = '';\n",
              "          dataTable['output_type'] = 'display_data';\n",
              "          await google.colab.output.renderOutput(dataTable, element);\n",
              "          const docLink = document.createElement('div');\n",
              "          docLink.innerHTML = docLinkHtml;\n",
              "          element.appendChild(docLink);\n",
              "        }\n",
              "      </script>\n",
              "    </div>\n",
              "  </div>\n",
              "  "
            ]
          },
          "metadata": {},
          "execution_count": 10
        }
      ]
    },
    {
      "cell_type": "code",
      "source": [
        "print('# Scrapping des textes appliqués et des textes de decisions dans les decision de cassation à partir de 2017 ...')\n",
        "text_appliques = []\n",
        "text_decision = []\n",
        "for idx, row in df_cassation.iterrows():\n",
        "    # pour chaque ligne (correspondant à une decision)\n",
        "    # on prend le lien de la page en utilisant row.lien\n",
        "    # et on telecharge la page en utilisant requests\n",
        "    webpage = requests.get(row.lien)\n",
        "\n",
        "    # BeautifulSoup pour acceder au contenu de la page\n",
        "    soup = BeautifulSoup(webpage.content)\n",
        "\n",
        "    # chercher l'endroit des textes appliqués\n",
        "    visas = soup.find('div', class_='decision-element decision-element--appliques')\n",
        "\n",
        "    # on teste si visas a des resultats (donc visas =/= None)\n",
        "    if visas is not None:\n",
        "        visas = visas.find_all('p')\n",
        "        for visa in visas:\n",
        "            text_appliques.append(visa.text)\n",
        "    \n",
        "    # on cherche l'endroit dans la pages concernant le texte de la decision\n",
        "    decision = soup.find('div', class_='decision-element decision-element--texte-decision')\n",
        "    text_decision.append(decision.text)"
      ],
      "metadata": {
        "id": "P0JkzU3ieU-e"
      },
      "execution_count": null,
      "outputs": []
    },
    {
      "cell_type": "code",
      "source": [
        "print('# Recherche des codes')\n",
        "\n",
        "# codes: la liste de codes à chercher\n",
        "codes = [\n",
        "    'code de commerce', \n",
        "    'code pénal', \n",
        "    'code de procédure pénale', \n",
        "    'code civil', \n",
        "    'code de procédure civile', \n",
        "    'code de la sécurité sociale', \n",
        "    'code du travail'\n",
        "]\n",
        "\n",
        "# occurences: le nombre d'occurences de chaque code\n",
        "# initialement avant la recherche, on les mets tous à 0\n",
        "occurences = {\n",
        "    'code de commerce': 0, \n",
        "    'code pénal': 0, \n",
        "    'code de procédure pénale': 0, \n",
        "    'code civil': 0, \n",
        "    'code de procédure civile': 0, \n",
        "    'code de la sécurité sociale': 0, \n",
        "    'code du travail': 0\n",
        "}\n",
        "\n",
        "# pour chaque text trouvé dans la rubrique \"Textes appliques\" dans les pages\n",
        "# de decision de cassation\n",
        "for text in text_appliques:\n",
        "\n",
        "    # et pour chaque code qu'on souhaite analyser\n",
        "    for code in codes:\n",
        "\n",
        "        # on define le motif/pattern regex à cherche\n",
        "        # on met re.IGNORECASE pour ne pas differencier\n",
        "        # entre 'Code de commerce', 'code de commerce', et 'CODE DE COMMERCE'\n",
        "        pattern = re.compile(code, re.IGNORECASE)\n",
        "\n",
        "        # on cherche si il y avait des occurences\n",
        "        matches = pattern.findall(text)\n",
        "\n",
        "        # on rajoute le nombre d'occurences trouvées\n",
        "        # au dictionaire occurences\n",
        "        if len(matches) >= 1:\n",
        "            occurences[code] += 1\n",
        "\n",
        "print('# Recherche des genres')\n",
        "\n",
        "genres = {\n",
        "    'homme': 0,\n",
        "    'femme': 0\n",
        "}\n",
        "\n",
        "# motifs pour \"M. --------- président\" --> président est un homme\n",
        "m_pattern = re.compile('M\\.(.|\\s){3,100}président')\n",
        "\n",
        "# motifs pour \"Mme --------- président\" --> président est une femme\n",
        "f_pattern = re.compile('Mme(.|\\s){3,100}président')\n",
        "\n",
        "for text in text_decision:\n",
        "    if m_pattern.search(text,0,200):\n",
        "        genres['homme'] += 1\n",
        "    elif f_pattern.search(text,0,200):\n",
        "        genres['femme'] += 1\n",
        "\n",
        "df_codes = pd.DataFrame(occurences.items(), columns=['code', 'frequence'])\n",
        "df_genre = pd.DataFrame(genres.items(), columns=['genre', 'frequence'])"
      ],
      "metadata": {
        "colab": {
          "base_uri": "https://localhost:8080/",
          "height": 269
        },
        "id": "6YrYbPEtIl9D",
        "outputId": "75052c45-856d-4d72-bbd8-e78de3053264"
      },
      "execution_count": null,
      "outputs": [
        {
          "output_type": "execute_result",
          "data": {
            "text/plain": [
              "                          code  frequence\n",
              "0             code de commerce          3\n",
              "1                   code pénal          0\n",
              "2     code de procédure pénale          2\n",
              "3                   code civil         17\n",
              "4     code de procédure civile         38\n",
              "5  code de la sécurité sociale         27\n",
              "6              code du travail          4"
            ],
            "text/html": [
              "\n",
              "  <div id=\"df-b05a9798-2a3b-4c25-ba8b-1acc03c4a60e\">\n",
              "    <div class=\"colab-df-container\">\n",
              "      <div>\n",
              "<style scoped>\n",
              "    .dataframe tbody tr th:only-of-type {\n",
              "        vertical-align: middle;\n",
              "    }\n",
              "\n",
              "    .dataframe tbody tr th {\n",
              "        vertical-align: top;\n",
              "    }\n",
              "\n",
              "    .dataframe thead th {\n",
              "        text-align: right;\n",
              "    }\n",
              "</style>\n",
              "<table border=\"1\" class=\"dataframe\">\n",
              "  <thead>\n",
              "    <tr style=\"text-align: right;\">\n",
              "      <th></th>\n",
              "      <th>code</th>\n",
              "      <th>frequence</th>\n",
              "    </tr>\n",
              "  </thead>\n",
              "  <tbody>\n",
              "    <tr>\n",
              "      <th>0</th>\n",
              "      <td>code de commerce</td>\n",
              "      <td>3</td>\n",
              "    </tr>\n",
              "    <tr>\n",
              "      <th>1</th>\n",
              "      <td>code pénal</td>\n",
              "      <td>0</td>\n",
              "    </tr>\n",
              "    <tr>\n",
              "      <th>2</th>\n",
              "      <td>code de procédure pénale</td>\n",
              "      <td>2</td>\n",
              "    </tr>\n",
              "    <tr>\n",
              "      <th>3</th>\n",
              "      <td>code civil</td>\n",
              "      <td>17</td>\n",
              "    </tr>\n",
              "    <tr>\n",
              "      <th>4</th>\n",
              "      <td>code de procédure civile</td>\n",
              "      <td>38</td>\n",
              "    </tr>\n",
              "    <tr>\n",
              "      <th>5</th>\n",
              "      <td>code de la sécurité sociale</td>\n",
              "      <td>27</td>\n",
              "    </tr>\n",
              "    <tr>\n",
              "      <th>6</th>\n",
              "      <td>code du travail</td>\n",
              "      <td>4</td>\n",
              "    </tr>\n",
              "  </tbody>\n",
              "</table>\n",
              "</div>\n",
              "      <button class=\"colab-df-convert\" onclick=\"convertToInteractive('df-b05a9798-2a3b-4c25-ba8b-1acc03c4a60e')\"\n",
              "              title=\"Convert this dataframe to an interactive table.\"\n",
              "              style=\"display:none;\">\n",
              "        \n",
              "  <svg xmlns=\"http://www.w3.org/2000/svg\" height=\"24px\"viewBox=\"0 0 24 24\"\n",
              "       width=\"24px\">\n",
              "    <path d=\"M0 0h24v24H0V0z\" fill=\"none\"/>\n",
              "    <path d=\"M18.56 5.44l.94 2.06.94-2.06 2.06-.94-2.06-.94-.94-2.06-.94 2.06-2.06.94zm-11 1L8.5 8.5l.94-2.06 2.06-.94-2.06-.94L8.5 2.5l-.94 2.06-2.06.94zm10 10l.94 2.06.94-2.06 2.06-.94-2.06-.94-.94-2.06-.94 2.06-2.06.94z\"/><path d=\"M17.41 7.96l-1.37-1.37c-.4-.4-.92-.59-1.43-.59-.52 0-1.04.2-1.43.59L10.3 9.45l-7.72 7.72c-.78.78-.78 2.05 0 2.83L4 21.41c.39.39.9.59 1.41.59.51 0 1.02-.2 1.41-.59l7.78-7.78 2.81-2.81c.8-.78.8-2.07 0-2.86zM5.41 20L4 18.59l7.72-7.72 1.47 1.35L5.41 20z\"/>\n",
              "  </svg>\n",
              "      </button>\n",
              "      \n",
              "  <style>\n",
              "    .colab-df-container {\n",
              "      display:flex;\n",
              "      flex-wrap:wrap;\n",
              "      gap: 12px;\n",
              "    }\n",
              "\n",
              "    .colab-df-convert {\n",
              "      background-color: #E8F0FE;\n",
              "      border: none;\n",
              "      border-radius: 50%;\n",
              "      cursor: pointer;\n",
              "      display: none;\n",
              "      fill: #1967D2;\n",
              "      height: 32px;\n",
              "      padding: 0 0 0 0;\n",
              "      width: 32px;\n",
              "    }\n",
              "\n",
              "    .colab-df-convert:hover {\n",
              "      background-color: #E2EBFA;\n",
              "      box-shadow: 0px 1px 2px rgba(60, 64, 67, 0.3), 0px 1px 3px 1px rgba(60, 64, 67, 0.15);\n",
              "      fill: #174EA6;\n",
              "    }\n",
              "\n",
              "    [theme=dark] .colab-df-convert {\n",
              "      background-color: #3B4455;\n",
              "      fill: #D2E3FC;\n",
              "    }\n",
              "\n",
              "    [theme=dark] .colab-df-convert:hover {\n",
              "      background-color: #434B5C;\n",
              "      box-shadow: 0px 1px 3px 1px rgba(0, 0, 0, 0.15);\n",
              "      filter: drop-shadow(0px 1px 2px rgba(0, 0, 0, 0.3));\n",
              "      fill: #FFFFFF;\n",
              "    }\n",
              "  </style>\n",
              "\n",
              "      <script>\n",
              "        const buttonEl =\n",
              "          document.querySelector('#df-b05a9798-2a3b-4c25-ba8b-1acc03c4a60e button.colab-df-convert');\n",
              "        buttonEl.style.display =\n",
              "          google.colab.kernel.accessAllowed ? 'block' : 'none';\n",
              "\n",
              "        async function convertToInteractive(key) {\n",
              "          const element = document.querySelector('#df-b05a9798-2a3b-4c25-ba8b-1acc03c4a60e');\n",
              "          const dataTable =\n",
              "            await google.colab.kernel.invokeFunction('convertToInteractive',\n",
              "                                                     [key], {});\n",
              "          if (!dataTable) return;\n",
              "\n",
              "          const docLinkHtml = 'Like what you see? Visit the ' +\n",
              "            '<a target=\"_blank\" href=https://colab.research.google.com/notebooks/data_table.ipynb>data table notebook</a>'\n",
              "            + ' to learn more about interactive tables.';\n",
              "          element.innerHTML = '';\n",
              "          dataTable['output_type'] = 'display_data';\n",
              "          await google.colab.output.renderOutput(dataTable, element);\n",
              "          const docLink = document.createElement('div');\n",
              "          docLink.innerHTML = docLinkHtml;\n",
              "          element.appendChild(docLink);\n",
              "        }\n",
              "      </script>\n",
              "    </div>\n",
              "  </div>\n",
              "  "
            ]
          },
          "metadata": {},
          "execution_count": 12
        }
      ]
    },
    {
      "cell_type": "code",
      "source": [
        "print('# Enregistrement des données relatifs au codes et au genre ...')\n",
        "df_codes.to_csv('codes.csv')\n",
        "df_genre.to_csv('genres.csv')"
      ],
      "metadata": {
        "colab": {
          "base_uri": "https://localhost:8080/",
          "height": 112
        },
        "id": "7VvU2zV0BPYG",
        "outputId": "80fe0c6a-b301-4c50-9738-33c5efdd2e03"
      },
      "execution_count": null,
      "outputs": [
        {
          "output_type": "execute_result",
          "data": {
            "text/plain": [
              "   genre  frequence\n",
              "0  homme         25\n",
              "1  femme         10"
            ],
            "text/html": [
              "\n",
              "  <div id=\"df-be63b84c-97f5-45c6-a118-a991c3f2cc93\">\n",
              "    <div class=\"colab-df-container\">\n",
              "      <div>\n",
              "<style scoped>\n",
              "    .dataframe tbody tr th:only-of-type {\n",
              "        vertical-align: middle;\n",
              "    }\n",
              "\n",
              "    .dataframe tbody tr th {\n",
              "        vertical-align: top;\n",
              "    }\n",
              "\n",
              "    .dataframe thead th {\n",
              "        text-align: right;\n",
              "    }\n",
              "</style>\n",
              "<table border=\"1\" class=\"dataframe\">\n",
              "  <thead>\n",
              "    <tr style=\"text-align: right;\">\n",
              "      <th></th>\n",
              "      <th>genre</th>\n",
              "      <th>frequence</th>\n",
              "    </tr>\n",
              "  </thead>\n",
              "  <tbody>\n",
              "    <tr>\n",
              "      <th>0</th>\n",
              "      <td>homme</td>\n",
              "      <td>25</td>\n",
              "    </tr>\n",
              "    <tr>\n",
              "      <th>1</th>\n",
              "      <td>femme</td>\n",
              "      <td>10</td>\n",
              "    </tr>\n",
              "  </tbody>\n",
              "</table>\n",
              "</div>\n",
              "      <button class=\"colab-df-convert\" onclick=\"convertToInteractive('df-be63b84c-97f5-45c6-a118-a991c3f2cc93')\"\n",
              "              title=\"Convert this dataframe to an interactive table.\"\n",
              "              style=\"display:none;\">\n",
              "        \n",
              "  <svg xmlns=\"http://www.w3.org/2000/svg\" height=\"24px\"viewBox=\"0 0 24 24\"\n",
              "       width=\"24px\">\n",
              "    <path d=\"M0 0h24v24H0V0z\" fill=\"none\"/>\n",
              "    <path d=\"M18.56 5.44l.94 2.06.94-2.06 2.06-.94-2.06-.94-.94-2.06-.94 2.06-2.06.94zm-11 1L8.5 8.5l.94-2.06 2.06-.94-2.06-.94L8.5 2.5l-.94 2.06-2.06.94zm10 10l.94 2.06.94-2.06 2.06-.94-2.06-.94-.94-2.06-.94 2.06-2.06.94z\"/><path d=\"M17.41 7.96l-1.37-1.37c-.4-.4-.92-.59-1.43-.59-.52 0-1.04.2-1.43.59L10.3 9.45l-7.72 7.72c-.78.78-.78 2.05 0 2.83L4 21.41c.39.39.9.59 1.41.59.51 0 1.02-.2 1.41-.59l7.78-7.78 2.81-2.81c.8-.78.8-2.07 0-2.86zM5.41 20L4 18.59l7.72-7.72 1.47 1.35L5.41 20z\"/>\n",
              "  </svg>\n",
              "      </button>\n",
              "      \n",
              "  <style>\n",
              "    .colab-df-container {\n",
              "      display:flex;\n",
              "      flex-wrap:wrap;\n",
              "      gap: 12px;\n",
              "    }\n",
              "\n",
              "    .colab-df-convert {\n",
              "      background-color: #E8F0FE;\n",
              "      border: none;\n",
              "      border-radius: 50%;\n",
              "      cursor: pointer;\n",
              "      display: none;\n",
              "      fill: #1967D2;\n",
              "      height: 32px;\n",
              "      padding: 0 0 0 0;\n",
              "      width: 32px;\n",
              "    }\n",
              "\n",
              "    .colab-df-convert:hover {\n",
              "      background-color: #E2EBFA;\n",
              "      box-shadow: 0px 1px 2px rgba(60, 64, 67, 0.3), 0px 1px 3px 1px rgba(60, 64, 67, 0.15);\n",
              "      fill: #174EA6;\n",
              "    }\n",
              "\n",
              "    [theme=dark] .colab-df-convert {\n",
              "      background-color: #3B4455;\n",
              "      fill: #D2E3FC;\n",
              "    }\n",
              "\n",
              "    [theme=dark] .colab-df-convert:hover {\n",
              "      background-color: #434B5C;\n",
              "      box-shadow: 0px 1px 3px 1px rgba(0, 0, 0, 0.15);\n",
              "      filter: drop-shadow(0px 1px 2px rgba(0, 0, 0, 0.3));\n",
              "      fill: #FFFFFF;\n",
              "    }\n",
              "  </style>\n",
              "\n",
              "      <script>\n",
              "        const buttonEl =\n",
              "          document.querySelector('#df-be63b84c-97f5-45c6-a118-a991c3f2cc93 button.colab-df-convert');\n",
              "        buttonEl.style.display =\n",
              "          google.colab.kernel.accessAllowed ? 'block' : 'none';\n",
              "\n",
              "        async function convertToInteractive(key) {\n",
              "          const element = document.querySelector('#df-be63b84c-97f5-45c6-a118-a991c3f2cc93');\n",
              "          const dataTable =\n",
              "            await google.colab.kernel.invokeFunction('convertToInteractive',\n",
              "                                                     [key], {});\n",
              "          if (!dataTable) return;\n",
              "\n",
              "          const docLinkHtml = 'Like what you see? Visit the ' +\n",
              "            '<a target=\"_blank\" href=https://colab.research.google.com/notebooks/data_table.ipynb>data table notebook</a>'\n",
              "            + ' to learn more about interactive tables.';\n",
              "          element.innerHTML = '';\n",
              "          dataTable['output_type'] = 'display_data';\n",
              "          await google.colab.output.renderOutput(dataTable, element);\n",
              "          const docLink = document.createElement('div');\n",
              "          docLink.innerHTML = docLinkHtml;\n",
              "          element.appendChild(docLink);\n",
              "        }\n",
              "      </script>\n",
              "    </div>\n",
              "  </div>\n",
              "  "
            ]
          },
          "metadata": {},
          "execution_count": 13
        }
      ]
    },
    {
      "cell_type": "markdown",
      "source": [
        "# Analyse / Question"
      ],
      "metadata": {
        "id": "_79XxiHf44nq"
      }
    },
    {
      "cell_type": "code",
      "source": [
        "import matplotlib.pyplot as plt\n",
        "import seaborn as sns"
      ],
      "metadata": {
        "id": "3FsBuDDjRic3"
      },
      "execution_count": null,
      "outputs": []
    },
    {
      "cell_type": "markdown",
      "source": [
        "### Repartition des données par chambre:"
      ],
      "metadata": {
        "id": "i9oIFI20wvpE"
      }
    },
    {
      "cell_type": "code",
      "source": [
        "plt.figure(figsize=[14,6])\n",
        "sns.countplot(x='chambre', data=df)"
      ],
      "metadata": {
        "colab": {
          "base_uri": "https://localhost:8080/",
          "height": 405
        },
        "id": "m72U0HK0UjxF",
        "outputId": "f2198f94-1aeb-4733-abd1-bc6dad17d27e"
      },
      "execution_count": null,
      "outputs": [
        {
          "output_type": "execute_result",
          "data": {
            "text/plain": [
              "<AxesSubplot:xlabel='chambre', ylabel='count'>"
            ]
          },
          "metadata": {},
          "execution_count": 15
        },
        {
          "output_type": "display_data",
          "data": {
            "text/plain": [
              "<Figure size 1008x432 with 1 Axes>"
            ],
            "image/png": "[encoded data removed]"
          },
          "metadata": {
            "needs_background": "light"
          }
        }
      ]
    },
    {
      "cell_type": "markdown",
      "source": [
        "### Evolution du taux de cassation en general"
      ],
      "metadata": {
        "id": "7euD45kbV8jN"
      }
    },
    {
      "cell_type": "code",
      "source": [
        "plt.figure(figsize=[14,6])\n",
        "df.groupby(df['date'].dt.year)['cassation'].mean().plot()"
      ],
      "metadata": {
        "colab": {
          "base_uri": "https://localhost:8080/",
          "height": 405
        },
        "id": "KUvcjyJRzJuB",
        "outputId": "91a80921-ffd5-45b3-89ef-834776011de2"
      },
      "execution_count": null,
      "outputs": [
        {
          "output_type": "execute_result",
          "data": {
            "text/plain": [
              "<AxesSubplot:xlabel='date'>"
            ]
          },
          "metadata": {},
          "execution_count": 16
        },
        {
          "output_type": "display_data",
          "data": {
            "text/plain": [
              "<Figure size 1008x432 with 1 Axes>"
            ],
            "image/png": "[encoded data removed]"
          },
          "metadata": {
            "needs_background": "light"
          }
        }
      ]
    },
    {
      "cell_type": "markdown",
      "source": [
        "### Evolution du taux de cassation en fonction de chambre"
      ],
      "metadata": {
        "id": "A0IEa1kwWByh"
      }
    },
    {
      "cell_type": "code",
      "source": [
        "plt.figure(figsize=[14,6])\n",
        "x = df.groupby([df['date'].dt.year, 'chambre']).mean()\n",
        "sns.lineplot(data=x, x='date', y='cassation', hue='chambre')"
      ],
      "metadata": {
        "colab": {
          "base_uri": "https://localhost:8080/",
          "height": 405
        },
        "id": "00BC-Gq2zoem",
        "outputId": "aa70a688-0597-4170-9b6f-a14d0e2f4214"
      },
      "execution_count": null,
      "outputs": [
        {
          "output_type": "execute_result",
          "data": {
            "text/plain": [
              "<AxesSubplot:xlabel='date', ylabel='cassation'>"
            ]
          },
          "metadata": {},
          "execution_count": 17
        },
        {
          "output_type": "display_data",
          "data": {
            "text/plain": [
              "<Figure size 1008x432 with 1 Axes>"
            ],
            "image/png": "[encoded data removed]"
          },
          "metadata": {
            "needs_background": "light"
          }
        }
      ]
    },
    {
      "cell_type": "markdown",
      "source": [
        "### Les codes appliques dans les cassations"
      ],
      "metadata": {
        "id": "BdwWahp42ZUf"
      }
    },
    {
      "cell_type": "code",
      "source": [
        "plt.figure(figsize=[18,6])\n",
        "sns.barplot(x='code', y='frequence', data=df_codes)"
      ],
      "metadata": {
        "colab": {
          "base_uri": "https://localhost:8080/",
          "height": 406
        },
        "id": "07eQsLmj2Yt-",
        "outputId": "b8d1dcf6-172e-4fa9-b771-936ee487a21d"
      },
      "execution_count": null,
      "outputs": [
        {
          "output_type": "execute_result",
          "data": {
            "text/plain": [
              "<AxesSubplot:xlabel='code', ylabel='frequence'>"
            ]
          },
          "metadata": {},
          "execution_count": 18
        },
        {
          "output_type": "display_data",
          "data": {
            "text/plain": [
              "<Figure size 1296x432 with 1 Axes>"
            ],
            "image/png": "[encoded data removed]"
          },
          "metadata": {
            "needs_background": "light"
          }
        }
      ]
    },
    {
      "cell_type": "code",
      "source": [],
      "metadata": {
        "id": "Ue-lx0Sj2jRd"
      },
      "execution_count": null,
      "outputs": []
    }
  ]
}