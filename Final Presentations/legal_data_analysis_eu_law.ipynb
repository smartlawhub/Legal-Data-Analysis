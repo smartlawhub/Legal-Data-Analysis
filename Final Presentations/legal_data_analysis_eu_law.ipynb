{
  "nbformat": 4,
  "nbformat_minor": 0,
  "metadata": {
    "colab": {
      "provenance": []
    },
    "kernelspec": {
      "name": "python3",
      "display_name": "Python 3"
    },
    "language_info": {
      "name": "python"
    }
  },
  "cells": [
    {
      "cell_type": "markdown",
      "source": [
        "#DATAFRAME BverfG"
      ],
      "metadata": {
        "id": "1gcjrzIg0Kjv"
      }
    },
    {
      "cell_type": "code",
      "execution_count": null,
      "metadata": {
        "id": "L1C-6mYmtXyb"
      },
      "outputs": [],
      "source": [
        "### GERMANY ###\n",
        "\n",
        "import requests\n",
        "from bs4 import BeautifulSoup\n",
        "import pandas as pd\n",
        "import re\n",
        "\n",
        "url_prefix = \"https://www.bundesverfassungsgericht.de/SiteGlobals/Forms/Suche/Entscheidungensuche_Formular.html?gts=5403124_list%253DdateOfIssue_dt%252Basc&submit=Senden&dateAfter=01.01.2018&facettedEntscheidungstyp=Urteil&templateQueryString=EU&dateBefore=01.01.2023&language_=de\"\n",
        "decision_urls = []\n",
        "\n",
        "for page_num in range(1,2):\n",
        "    response = requests.get(url_prefix.format(page_num))\n",
        "    html_content = response.text\n",
        "    soup = BeautifulSoup(html_content, 'html.parser')\n",
        "    decisions_bverg = soup.find_all('span', class_=\"aktenzeichen\")\n",
        "    for x in decisions_bverg:\n",
        "        parent_anchor = x.parent\n",
        "        if parent_anchor and parent_anchor.has_attr('href'):\n",
        "            decision_url = parent_anchor[\"href\"]\n",
        "            decision_urls.append(decision_url)\n",
        "\n",
        "df = pd.DataFrame(decision_urls)\n",
        "\n",
        "pd.set_option('display.max_colwidth', None)\n",
        "\n",
        "decision_url_strings = []\n",
        "\n",
        "for url in decision_urls:\n",
        "    url_string = \"https://www.bundesverfassungsgericht.de/\" + url\n",
        "    decision_url_strings.append(url_string)\n",
        "\n",
        "\n",
        "df1 = pd.DataFrame(decision_url_strings, columns=['Decision URLs'])\n",
        "print(df1)"
      ]
    },
    {
      "cell_type": "code",
      "source": [
        "import re\n",
        "import pandas as pd\n",
        "import requests\n",
        "from bs4 import BeautifulSoup\n",
        "\n",
        "headings = []\n",
        "\n",
        "for x in decision_url_strings:\n",
        "    response = requests.get(x)\n",
        "\n",
        "    if response.status_code == 200:\n",
        "        soup = BeautifulSoup(response.content, \"html.parser\")\n",
        "        indicator_element = soup.find('p', class_='cite')\n",
        "\n",
        "        if indicator_element:\n",
        "            element_text = indicator_element.get_text(strip=True)\n",
        "\n",
        "            terms = element_text.split(' - ')\n",
        "            headings.extend(terms)\n",
        "        else:\n",
        "            print(\"The element was not found on the webpage.\")\n",
        "    else:\n",
        "        print(f\"Failed to fetch the decision URL: {x}\")\n",
        "\n",
        "\n",
        "print(headings)\n",
        "len(headings)\n",
        "\n",
        "df = pd.DataFrame(columns=[\"Date\", \"Decision No.\", \"URL\", \"Chamber\"])\n",
        "\n",
        "for x in headings:\n",
        "    date_pattern = r\"vom (\\d{1,2}\\. \\w+ \\d{4})\"\n",
        "    decision_pattern = r\"(\\d+ [A-Za-z]+ \\d+/\\d+)\"\n",
        "    url_pattern = r\"https:\\/\\/www\\.bverfg\\.de\\/e\\/[a-z0-9_]+\\.[a-z]+\"\n",
        "    chamber_pattern = r\"(Ersten|Zweiten) Senats\"\n",
        "\n",
        "    match = re.search(date_pattern, x)\n",
        "    date = match.group(1) if match else None\n",
        "\n",
        "    match = re.search(decision_pattern, x)\n",
        "    decision_no = match.group(1) if match else None\n",
        "\n",
        "    match = re.search(url_pattern, x)\n",
        "    url = match.group() if match else None\n",
        "\n",
        "    match = re.search(chamber_pattern, x)\n",
        "    chamber = match.group(1) if match else None\n",
        "\n",
        "    df = df.append({\"Date\": date, \"Decision No.\": decision_no, \"URL\": url, \"Chamber\": chamber}, ignore_index=True)\n",
        "\n",
        "print(df)\n",
        "\n",
        "\n",
        "import re\n",
        "import pandas as pd\n",
        "import requests\n",
        "from bs4 import BeautifulSoup\n",
        "\n",
        "\n",
        "def find_eu_law(text):\n",
        "    eu_law_patterns = [\n",
        "        r\"Art\\. 267 Abs\\. 3 AEUV\",\n",
        "        r\"Art\\. \\d+ Buchstabe [a-z]+ Verordnung \\(EU\\) Nr\\. \\d+/\\d+ des Rates vom \\d+\\. [A-Za-z]+ \\d+\",\n",
        "        r\"Artikel \\d+ des Vertrages über die Arbeitsweise der Europäischen Union\",\n",
        "        r\"Art\\. \\d+ Abs\\. \\d+ [A-Za-z]+ \\(EG\\) Nr\\. \\d+/\\d+ der Kommission\",\n",
        "        r\"Art\\. \\d+ Abs\\. \\d+ [A-Za-z]+ EUV\",\n",
        "        r\"Art\\. \\d+ Abs\\. \\d+ und Abs\\. \\d+ EUV\",\n",
        "        r\"Verordnung <EG> Nr\\. \\d+/\\d+\",\n",
        "        r\"Art\\. \\d+ Abs\\. \\d+ AEUV\",\n",
        "        r\"Beschluss \\[EU\\] \\d+/\\d+\",\n",
        "        r\"<EU> \\d+/\\d+\",\n",
        "        r\"Verordnung \\(EU\\) Nr\\. \\d+/\\d+\",\n",
        "        r\"ABl EU Nr\\. L \\d+ vom \\d+\\. [A-Za-z]+ \\d+, S\\. \\d+\",\n",
        "        r\"ABl EU Nr\\. L \\d+ vom \\d+\\. [A-Za-z]+ \\d+\",\n",
        "        r\"EUCO \\d+/\\d+\",\n",
        "        r\"§ \\d+ Abs\\. \\d+ [A-Za-z]+\",\n",
        "        r\"ABl EU, L \\d+\",\n",
        "        r\"EU:C:\\d+:\\d+\"\n",
        "    ]\n",
        "    eu_law_matches = []\n",
        "    for pattern in eu_law_patterns:\n",
        "        matches = re.findall(pattern, text)\n",
        "        eu_law_matches.extend(matches)\n",
        "    return eu_law_matches\n",
        "\n",
        "for index, row in df.iterrows():\n",
        "    url = row['URL']\n",
        "    response = requests.get(url)\n",
        "    if response.status_code == 200:\n",
        "        soup = BeautifulSoup(response.content, \"html.parser\")\n",
        "        text = soup.get_text()\n",
        "        eu_law = list(set(find_eu_law(text)))\n",
        "        eu_law_str = ', '.join(eu_law)\n",
        "        df.at[index, 'EU law'] = eu_law_str\n",
        "    else:\n",
        "        print(f\"Failed to fetch the URL: {url}\")\n",
        "\n",
        "print(df)\n",
        "\n",
        "\n",
        "df['Top 50 Words'] = ''\n",
        "\n",
        "import re\n",
        "import pandas as pd\n",
        "import requests\n",
        "from bs4 import BeautifulSoup\n",
        "from sklearn.feature_extraction.text import TfidfVectorizer\n",
        "from nltk.corpus import stopwords\n",
        "from nltk.tokenize import word_tokenize\n",
        "import nltk\n",
        "nltk.download('stopwords')\n",
        "nltk.download('punkt')\n",
        "\n",
        "\n",
        "excluded_words = ['abgabe', 'kommt', 'verfasssungschutzes', \"genauigkeit\", \"antragsgegner\",\"gilt\", \"hinreichend\", \"grundlage\", \"schutz\", \"januar\", \"gesetzgeber\",\"gerichtshof\", \"programm\", \"maßnahme\", \"statistische\", \"parlament\" ]\n",
        "excluded_months = ['Januar', 'Februar', 'März', 'April', 'Mai', 'Juni', 'Juli', 'August', 'September', 'Oktober', 'November', 'Dezember']\n",
        "\n",
        "import itertools\n",
        "combinations_of_3_letters = [''.join(comb) for comb in itertools.combinations('abcdefghijklmnopqrstuvwxyz', 3)]\n",
        "excluded_words.extend(combinations_of_3_letters)\n",
        "\n",
        "for i, url in enumerate(df['URL']):\n",
        "    response = requests.get(url)\n",
        "    soup = BeautifulSoup(response.content, 'html.parser')\n",
        "    text_content = \" \".join([p.get_text() for p in soup.find_all('p')])\n",
        "\n",
        "    stopwords_german = set(stopwords.words('german'))\n",
        "    text_content = re.sub(r'\\W+', ' ', text_content)\n",
        "    text_content = re.sub(r'\\d+', '', text_content)\n",
        "    tokens = word_tokenize(text_content.lower())\n",
        "    filtered_tokens = [token for token in tokens if token not in stopwords_german and token not in excluded_words and token not in excluded_months]   # Remove stopwords\n",
        "\n",
        "    preprocessed_text = \" \".join(filtered_tokens)\n",
        "\n",
        "    vectorizer = TfidfVectorizer()\n",
        "    tfidf_matrix = vectorizer.fit_transform([preprocessed_text])\n",
        "    feature_names = vectorizer.get_feature_names_out()\n",
        "\n",
        "    top_indices = tfidf_matrix.toarray().argsort()[0][-50:]\n",
        "\n",
        "    top_words = [feature_names[idx] for idx in top_indices]\n",
        "    df.at[i, 'Top 50 Words'] = ', '.join(top_words)\n",
        "\n",
        "print(df)"
      ],
      "metadata": {
        "id": "HOoMAmpGt_Eq"
      },
      "execution_count": null,
      "outputs": []
    },
    {
      "cell_type": "code",
      "source": [
        "# WORD CLOUD\n",
        "\n",
        "import pandas as pd\n",
        "import matplotlib.pyplot as plt\n",
        "from sklearn.feature_extraction.text import TfidfVectorizer\n",
        "from wordcloud import WordCloud\n",
        "\n",
        "all_words = df['Top 50 Words'].str.cat(sep=', ')\n",
        "\n",
        "vectorizer = TfidfVectorizer()\n",
        "tfidf_matrix = vectorizer.fit_transform([all_words])\n",
        "feature_names = vectorizer.get_feature_names_out()\n",
        "\n",
        "top_indices = tfidf_matrix.toarray().argsort()[0][-1000:]\n",
        "\n",
        "top_words = [feature_names[idx] for idx in top_indices]\n",
        "\n",
        "wordcloud = WordCloud(width=800, height=400, background_color='white').generate(' '.join(top_words))\n",
        "\n",
        "plt.figure(figsize=(10, 5))\n",
        "plt.imshow(wordcloud, interpolation='bilinear')\n",
        "plt.axis('off')\n",
        "plt.show()"
      ],
      "metadata": {
        "id": "PvJoaPwHuX8o"
      },
      "execution_count": null,
      "outputs": []
    },
    {
      "cell_type": "markdown",
      "source": [
        "# DATAFRAME COUR DE CASSATION"
      ],
      "metadata": {
        "id": "XXtHaIvg0TOC"
      }
    },
    {
      "cell_type": "markdown",
      "source": [
        "NB. Please also refer to the other colab on the Cour de Cassation for other graphs. The dataframes are the same, we just worked on it in different files and used different dataframe names so we could not include the other graphs below."
      ],
      "metadata": {
        "id": "HgUkvCJo2B5V"
      }
    },
    {
      "cell_type": "code",
      "source": [
        "### FRANCE ###\n",
        "\n",
        "from requests_oauthlib import OAuth2Session\n",
        "from bs4 import BeautifulSoup\n",
        "import requests\n",
        "import pandas as pd\n",
        "import json\n",
        "import regex as re\n",
        "import urllib.parse\n",
        "\n",
        "API_HOST = \"https://sandbox-api.aife.economie.gouv.fr\"\n",
        "TOKEN_URL = 'https://sandbox-oauth.aife.economie.gouv.fr/api/oauth/token'\n",
        "client_id = \"b800ee81-4b08-4b7c-9cb6-67f51535888e\"\n",
        "client_secret = \"0adff97c-722d-40aa-bbd6-3e32a08c6ae3\"\n",
        "\n",
        "tokencall = requests.post(TOKEN_URL, data={\"grant_type\": \"client_credentials\",\"client_id\": client_id, \"client_secret\": client_secret, \"scope\": \"openid\"})\n",
        "\n",
        "token = tokencall.json()\n",
        "client = OAuth2Session(client_id, token=token)\n",
        "\n",
        "\n",
        "keywords = [\"règlement UE\", \"directive\", \"CHARTE DES DROITS FONDAMENTAUX DE L'UNION EUROPÉENNE\", \"TFUE\", \"Traité sur le fonctionnement de l'Union européenne\", \"Traité sur l'Union européenne\"]\n",
        "\n",
        "all_df_france = []\n",
        "for key in keywords:\n",
        "    base_url = \"https://sandbox-api.piste.gouv.fr/cassation/judilibre/v1.0/search?query=\" + urllib.parse.quote(\n",
        "        key) +  \"&date_start=2018-01-01&date_end=2023-01-01&page_size=50&page=\"\n",
        "\n",
        "    df_france = [\"\", \"\"]\n",
        "    ii = 0\n",
        "    while len(df_france) > 0 and ii < 150:\n",
        "\n",
        "        resp = client.get(base_url + str(ii))\n",
        "        results = resp.json()\n",
        "        df_france = pd.DataFrame(results[\"results\"])\n",
        "        df_france['keyword'] = key\n",
        "        all_df_france.append(df_france)\n",
        "        ii += 1\n",
        "df_france = pd.concat(all_df_france)\n",
        "\n",
        "df_france"
      ],
      "metadata": {
        "id": "bhKvzjyNuhA6"
      },
      "execution_count": null,
      "outputs": []
    },
    {
      "cell_type": "code",
      "source": [
        "decision_urls = []\n",
        "\n",
        "for index, row in df_france.iterrows():\n",
        "    decision_id = row['id']\n",
        "    decision_url = f\"https://www.courdecassation.fr/decision/{decision_id}\"\n",
        "    decision_urls.append(decision_url)\n",
        "\n",
        "df_france['decision_url'] = decision_urls\n",
        "\n",
        "df_france['decision_url']"
      ],
      "metadata": {
        "id": "s2IJKkl0wmhH"
      },
      "execution_count": null,
      "outputs": []
    },
    {
      "cell_type": "markdown",
      "source": [
        "# I. What are the most common french law areas (themes) that reference EU law?"
      ],
      "metadata": {
        "id": "YKPHRpo6ws6S"
      }
    },
    {
      "cell_type": "code",
      "source": [
        "import pandas as pd\n",
        "import numpy as np\n",
        "\n",
        "all_themes = [theme for themes in df_france['themes'] if isinstance(themes, np.ndarray) for theme in themes]\n",
        "\n",
        "theme_counts = pd.Series(all_themes).value_counts()\n",
        "\n",
        "# Print the most common themes\n",
        "print(theme_counts.head(50))\n",
        "\n",
        "#Exclude certain terms\n",
        "excluded_terms = [\"preuve\", \"appréciation\",\"délai\",'union europeenne', \"détermination\", \"portée\", \"cas\", \"applications diverses\", \"défaut\", \"critères\", \"caractérisation\", \"condition\", \"effets\", \"etendue\", \"application\", \"contenu\", \"conditions\", \"exclusion\", \"définition\", \"possibilité\", \"effet\"]\n",
        "\n",
        "exploded_themes = df_france.explode(\"themes\")\n",
        "\n",
        "exploded_themes = df_france[[\"id\", \"number\", \"solution\", \"themes\"]].explode(\"themes\")\n",
        "filtered_themes = exploded_themes[~exploded_themes.isin(excluded_terms)]\n",
        "\n",
        "filtered_themes = filtered_themes.drop_duplicates()\n",
        "\n",
        "theme_counts = filtered_themes[\"themes\"].value_counts()\n",
        "theme_counts.head(50)"
      ],
      "metadata": {
        "id": "CH--hxKrwn_P"
      },
      "execution_count": null,
      "outputs": []
    },
    {
      "cell_type": "code",
      "source": [
        "### GRAPH FOR TOP THEMES IN CASS DECISIONS\n",
        "\n",
        "import seaborn as sns\n",
        "import matplotlib.pyplot as plt\n",
        "\n",
        "plt.figure(figsize=(10, 8))\n",
        "top_themes = theme_counts.head(50)\n",
        "sns.barplot(x=top_themes.values, y=top_themes.index, palette=\"viridis\")\n",
        "\n",
        "plt.xlabel('Frequency')\n",
        "plt.ylabel('Themes')\n",
        "plt.title('Top 50 Most Common Themes')\n",
        "plt.show()"
      ],
      "metadata": {
        "id": "A_nXOe6zwyHn"
      },
      "execution_count": null,
      "outputs": []
    },
    {
      "cell_type": "markdown",
      "source": [
        "We first wanted to find what themes or areas of French national law made the most references to EU law in their decisions. This was done by using the function “explode” to separate the list of themes into individual elements.\n",
        "\n",
        "When first rendered, the most common terms were often terms that had little actual meaning within an EU context (such as \"preuve\"), so we decided to exclude certain themes.\n",
        "\n",
        "We see from the results that an  overall theme is contract and labour law, with many individual themes such as “enterprise en difficulté”, \"contrat de travail rupture”, “statut collectif du travail”, “représentation des salariés”.\n",
        "\n",
        "Especially interesting in the COVID context is the “santé publique” term listed in the top 50 most common terms.\n",
        "\n",
        "  * Travel within and outside French borders was heavily restricted during the pandemic between March 2020 and June 2021 for reasons of national public health in order to restrict the spread of the virus.\n",
        "  * However, these restrictions had to stay in compliance with the freedom of movement, one of the four pillars of the EU, which explains why a matter of national public health would be heavily linked with EU law.\n",
        "  https://www.eca.europa.eu/Lists/ECADocuments/SR22_13/SR_free-movement-phase-I_EN.pdf"
      ],
      "metadata": {
        "id": "g_K9nV_bw1TY"
      }
    },
    {
      "cell_type": "markdown",
      "source": [
        "#II. Case Outcomes"
      ],
      "metadata": {
        "id": "RVkEdtLnw-Wv"
      }
    },
    {
      "cell_type": "markdown",
      "source": [
        "#Does referencing EU law have an impact on how cases are decided?"
      ],
      "metadata": {
        "id": "9El0TF6Pw_VL"
      }
    },
    {
      "cell_type": "code",
      "source": [
        "unique_solutions_counts = df_france[[\"id\", \"number\", \"solution\"]].drop_duplicates()[\"solution\"].value_counts()\n",
        "unique_solutions_counts"
      ],
      "metadata": {
        "id": "UIYlFCmFw3hX"
      },
      "execution_count": null,
      "outputs": []
    },
    {
      "cell_type": "code",
      "source": [
        "#Bar graph\n",
        "percentage_counts = df_france[[\"id\", \"number\", \"solution\"]].drop_duplicates()[\"solution\"].value_counts(normalize=True) * 100\n",
        "\n",
        "fig, ax = plt.subplots(figsize=(10, 8))\n",
        "sns.barplot(\n",
        "    data=percentage_counts.reset_index(),\n",
        "    y=\"index\",\n",
        "    x=\"solution\",\n",
        "    palette=\"magma\",\n",
        "    ax=ax\n",
        ")\n",
        "\n",
        "ax.set(xlabel=\"Percentage (%)\", ylabel=\"Case Outcome\")\n",
        "plt.title('Number of cases per case outcome ')\n",
        "plt.show()"
      ],
      "metadata": {
        "id": "Ful9ccMbxEHd"
      },
      "execution_count": null,
      "outputs": []
    },
    {
      "cell_type": "code",
      "source": [
        "import datetime\n",
        "\n",
        "df_france_solutions = df_france[[\"id\", \"number\", \"solution\", \"decision_date\"]].drop_duplicates() # duplicates made from keyword column\n",
        "df_france_solutions[\"solution\"] = df_france_solutions[\"solution\"].replace({'qpcother': 'qpc', \"rabat\": \"other\", \"decheance\": \"other\", \"nonlieu\": \"other\", \"renvoi\": \"other\"})\n",
        "print(df_france_solutions)\n",
        "\n",
        "solution_counts = df_france_solutions['solution'].value_counts()\n",
        "solution_counts"
      ],
      "metadata": {
        "id": "ma91OXmxxGbT"
      },
      "execution_count": null,
      "outputs": []
    },
    {
      "cell_type": "code",
      "source": [
        "#Bar graph\n",
        "percentage_counts = df_france_solutions['solution'].str.lower().value_counts(normalize=True) * 100\n",
        "\n",
        "fig, ax = plt.subplots(figsize=(10, 8))\n",
        "sns.barplot(\n",
        "    data=percentage_counts.reset_index(),\n",
        "    y=\"index\",\n",
        "    x=\"solution\",\n",
        "    palette=\"magma\",\n",
        "    ax=ax\n",
        ")\n",
        "\n",
        "ax.set(xlabel=\"Percentage (%)\", ylabel=\"Case Outcome\")\n",
        "plt.title('Number of cases per case outcome ')\n",
        "plt.show()"
      ],
      "metadata": {
        "id": "6a9GDkcyxIwa"
      },
      "execution_count": null,
      "outputs": []
    },
    {
      "cell_type": "markdown",
      "source": [
        "We first listed the different types of outcomes for cases, which rendered 13 different types. We decided to limit this to the main ones allowing for easier visualisation of the results and grouped the outcomes with fewer results into the already existing category “other”. So we focused on: rejet, cassation, other, npc, irrecevabilité, annulation, avis and désignation.\n",
        "\n",
        "This clearly showed that the largest proportion of cases are dismissed, at 64%, followed by cassation at just over 30%. It is also interesting to note that the fourth most common outcome is “qpc” (although technically third largest because “other” is made up of multiple possible outcomes), highlighting the role of the Cour de Cassation in seizing the Conseil constitutionnel on a matter of constitutionality (although the number of QPC decisions remains quite low).\n",
        "\n",
        "This is also  interesting in an EU setting, as the question of EU supra-constitutionality is a growing matter of debate for national courts and jurisdictions."
      ],
      "metadata": {
        "id": "f--TQmOpxLf1"
      }
    },
    {
      "cell_type": "markdown",
      "source": [
        "#How are cases decided over time?\n"
      ],
      "metadata": {
        "id": "kmO76xm7xS7j"
      }
    },
    {
      "cell_type": "code",
      "source": [
        "df_france_solutions[\"decision_date\"] = pd.to_datetime(df_france_solutions[\"decision_date\"])\n",
        "\n",
        "# Grouping by 'decision_date' and 'solution' and counting number of cases per month\n",
        "df_france_sol_group = df_france_solutions.set_index(\"decision_date\")[[\"solution\", \"id\", \"number\"]].groupby([pd.Grouper(freq='1M'), 'solution']).count().reset_index()\n",
        "df_france_sol_group[\"decision_month\"] = df_france_sol_group[\"decision_date\"].dt.month\n",
        "\n",
        "plt.figure(figsize=(15, 8))\n",
        "\n",
        "ax = sns.lineplot(\n",
        "    x=\"decision_date\",\n",
        "    y=\"number\",\n",
        "    hue=\"solution\",\n",
        "    palette=sns.color_palette(\"magma\", n_colors=5),\n",
        "    data=df_france_sol_group,\n",
        ")\n",
        "\n",
        "# Line indicating the start of Covid\n",
        "plt.axvline(x=datetime.datetime(2020, 3, 1), color=\"green\", label='COVID-19')\n",
        "\n",
        "ax.set(xlabel=\"Decision date\", ylabel=\"Number of cases\")\n",
        "plt.legend(loc=\"upper left\")\n",
        "plt.show()"
      ],
      "metadata": {
        "id": "t6coD3ouxMos"
      },
      "execution_count": null,
      "outputs": []
    },
    {
      "cell_type": "markdown",
      "source": [
        "We then plotted the filtered solutions against decision dates, to see if there was a change in outcomes over time. Instead of showing outcomes per specific date we grouped the dates per month, allowing for clearer visualisation.\n",
        "\n",
        "The graph clearly shows how the majority of cases are dismissed. There was a massive spike in dismissals in early 2019 (it is unclear why exactly, although the Courts adopted new policies in 2019 about the physical formatting/rendering of  decisions, and people may have been able to better understand how to 'seize' the court).\n",
        "\n",
        "We do clearly notice the effect of COVID 19 on the Court and the rendering of decisions, with a drastic drop in activity in early 2020. This did not however affect the outcomes of the decisions themselves (proportionally), except for a spike in dismissals in late 2020, perhaps as a result of earlier inactivity and because of claims of individual rights' violations under restrictive COVID measures."
      ],
      "metadata": {
        "id": "0Ukp6jflxYSv"
      }
    },
    {
      "cell_type": "markdown",
      "source": [
        "#Is there a relationship between the different areas of French law that reference  EU law and the case outcome?"
      ],
      "metadata": {
        "id": "IxV0OvQoxbt3"
      }
    },
    {
      "cell_type": "code",
      "source": [
        "df_france_exploded = df_france[[\"id\", \"number\", \"solution\", \"themes\"]].explode(\"themes\")\n",
        "df_france_exploded = df_france_exploded[~df_france_exploded.isin(excluded_terms)]\n",
        "\n",
        "df_france_exploded[\"solution\"] = df_france_exploded[\"solution\"].replace({'qpcother': 'qpc', \"rabat\": \"other\", \"decheance\": \"other\", \"nonlieu\": \"other\", \"renvoi\": \"other\"})\n",
        "\n",
        "df_france_exploded = df_france_exploded.drop_duplicates() # drop duplicates after because\n",
        "\n",
        "df_france_themes = df_france_exploded.groupby([\"themes\", \"solution\"]).size().to_frame(name = \"counts\").reset_index().sort_values(\"counts\", ascending=False)\n",
        "df_france_themes[\"prop\"] = df_france_themes[\"counts\"] / df_france_themes.groupby(\"themes\")[\"counts\"].transform(\"sum\")\n",
        "df_france_themes = df_france_themes.merge(theme_counts.to_frame(name = \"unique_counts\").rename_axis(\"themes\").reset_index())\n",
        "\n",
        "df_france_themes"
      ],
      "metadata": {
        "id": "O9X-menJxevq"
      },
      "execution_count": null,
      "outputs": []
    },
    {
      "cell_type": "markdown",
      "source": [
        "Important to note here is that the unique themes are cross-referenced with unique solutions. More individual themes lead to cassations, which does not however mean there are more overall cassations (indeed, there are more dismissals)."
      ],
      "metadata": {
        "id": "8UIwEJu3xhj_"
      }
    },
    {
      "cell_type": "code",
      "source": [
        "df_france_exploded.groupby([\"themes\", \"solution\"]).size().to_frame(name = \"counts\").reset_index().sort_values(\"counts\", ascending=False)"
      ],
      "metadata": {
        "id": "bJxug4G9xlQw"
      },
      "execution_count": null,
      "outputs": []
    },
    {
      "cell_type": "markdown",
      "source": [
        "The new data frame here consists of the filtered and unique themes and filtered case outcomes. Each theme was then cross-referenced with the different outcomes, allowing us to count how many times a specific theme led to a specific solution. For instance, “domaine d’application”  led to 179 cassations, 162 dismissals, etc."
      ],
      "metadata": {
        "id": "aUHGAGRxxoVP"
      }
    },
    {
      "cell_type": "code",
      "source": [
        "df_themes_plot = df_france_themes[df_france_themes[\"unique_counts\"] >= 100]\n",
        "df_themes_plot[\"Case outcome\"] = df_themes_plot[\"solution\"]\n",
        "df_themes_plot[\"perc\"] = df_themes_plot[\"prop\"] * 100\n",
        "\n",
        "plt.figure(figsize=(15,8))\n",
        "\n",
        "ax = sns.histplot(\n",
        "    df_themes_plot,\n",
        "    y='themes',\n",
        "    weights=\"perc\",\n",
        "    hue=\"Case outcome\",\n",
        "    multiple='stack',\n",
        "    palette=sns.color_palette(\"magma\", n_colors=7),\n",
        "    edgecolor='white',\n",
        "    shrink=0.8\n",
        ")\n",
        "\n",
        "ax.set(xlabel=\"Percentage of total cases (%)\", ylabel=\"Theme of law\")\n",
        "\n",
        "plt.show()"
      ],
      "metadata": {
        "id": "jMYxLpG8xwA7"
      },
      "execution_count": null,
      "outputs": []
    },
    {
      "cell_type": "code",
      "source": [
        "df_themes_plot = df_france_themes[df_france_themes[\"unique_counts\"] >= 50]\n",
        "df_themes_plot[\"Case outcome\"] = df_themes_plot[\"solution\"]\n",
        "\n",
        "plt.figure(figsize=(15,15))\n",
        "\n",
        "ax = sns.histplot(\n",
        "    df_themes_plot,\n",
        "    y='themes',\n",
        "    weights=\"counts\",\n",
        "    hue=\"Case outcome\",\n",
        "    multiple='stack',\n",
        "    palette=sns.color_palette(\"magma\", n_colors=7),\n",
        "    edgecolor='white',\n",
        "    shrink=0.8\n",
        ")\n",
        "\n",
        "ax.set(xlabel=\"Total cases\", ylabel=\"Theme of law\")\n",
        "\n",
        "plt.show()"
      ],
      "metadata": {
        "id": "JnqfQ5XKxzQQ"
      },
      "execution_count": null,
      "outputs": []
    },
    {
      "cell_type": "markdown",
      "source": [
        "The data was rendered into a stacked bar graph, both for percentage value and total number of cases. What we see here that the majority of cases lead to cassation, in contrast to the overall higher number of rejections by the court. This is because the data was filtered by the count of unique themes, which have a different distribution of outcomes.\n",
        "\n",
        "Interesting here is the relatively high percentage of cases referring to EU law that led to a QPC in the area of \"licenciement\". This could be because EU law has better protection for unfair dismissals (Under Charter of Fundamental rights: \"la protection en cas de licenciement injustifié (article 30)). This also points to th conflicts of jurisdiction between national courts and 'supra-constitutional' entities like the ECJ, which national courts will often resist. Indeed, the CC held that EU directives must be adopted within French law but that it could not go against the ‘consitutional identity’ of France.\n",
        "(https://fra.europa.eu/sites/default/files/fra_uploads/fra-2019-eu-charter-in-france_fr.pdf)  "
      ],
      "metadata": {
        "id": "rCXyTWOIx2XE"
      }
    },
    {
      "cell_type": "markdown",
      "source": [
        "#III. References to EU law\n",
        "\n",
        "##Has there been a change in the EU instrument used in the decisions of the Cour de Cassation?\n",
        "\n",
        "##Is there a relationship between the reference to specific EU instruments in decisions and the outcome of the decision over time?\n",
        "  \n",
        "##Is there a link with COVID?"
      ],
      "metadata": {
        "id": "ppC6DYGLx6yL"
      }
    },
    {
      "cell_type": "code",
      "source": [
        "df_france[\"keyword\"].unique()"
      ],
      "metadata": {
        "id": "5dkQBs2Cx974"
      },
      "execution_count": null,
      "outputs": []
    },
    {
      "cell_type": "code",
      "source": [
        "df_france['keyword'] = df_france['keyword'].replace({\"TFUE\": \"Traité sur le fonctionnement de l'Union européenne\"})\n",
        "\n",
        "keyword_counts = df_france[[\"id\", \"number\", \"solution\", \"keyword\"]].drop_duplicates()['keyword'].value_counts()\n",
        "\n",
        "keyword_counts"
      ],
      "metadata": {
        "id": "OOaKjMYVx_71"
      },
      "execution_count": null,
      "outputs": []
    },
    {
      "cell_type": "code",
      "source": [
        "df_france[\"decision_date\"] = pd.to_datetime(df_france[\"decision_date\"])"
      ],
      "metadata": {
        "id": "QUHOL0xPyDBt"
      },
      "execution_count": null,
      "outputs": []
    },
    {
      "cell_type": "code",
      "source": [
        "df_france_line = df_france[[\"id\", \"number\", \"solution\", \"decision_date\", \"keyword\"]].drop_duplicates()\n",
        "df_france_line = df_france_line.set_index(\"decision_date\").groupby([pd.Grouper(freq='1M'), 'keyword']).count().reset_index()\n",
        "df_france_line[\"decision_month\"] = df_france_line[\"decision_date\"].dt.month\n",
        "df_france_line"
      ],
      "metadata": {
        "id": "1aN8_tkWyDmC"
      },
      "execution_count": null,
      "outputs": []
    },
    {
      "cell_type": "code",
      "source": [
        "import datetime\n",
        "plt.figure(figsize=(15,8))\n",
        "\n",
        "ax = sns.lineplot(\n",
        "    x=\"decision_date\",\n",
        "    y=\"number\",\n",
        "    hue=\"keyword\",\n",
        "    palette=sns.color_palette(\"viridis\", n_colors=5),\n",
        "    data=df_france_line,\n",
        ")\n",
        "\n",
        "# line at Covid\n",
        "plt.axvline(x=datetime.datetime(2020, 3, 1), color=\"red\", label=\"COVID 19\")\n",
        "\n",
        "ax.set(xlabel=\"Decision date\", ylabel=\"Number of cases\")\n",
        "plt.legend(loc=\"upper left\")\n",
        "plt.show()"
      ],
      "metadata": {
        "id": "m4VhtstMyIrv"
      },
      "execution_count": null,
      "outputs": []
    },
    {
      "cell_type": "markdown",
      "source": [
        "The Traité du fonctionnement de l'UE is most referenced in Cour de Cassation decisions.\n",
        "\n",
        "COVID shows a drastic drop in decisions rendered, but also shows that immediately following the crisis there was greater reference to the Charter of Fundamental Rights of the EU proportionally to other years. This can be explained by the number of cases that were brought forth claiming breaches of rights caused by the strict protective measures of the state during this time,  especially on the freedom of movement, which is a fundamental right of the Charter (https://www.frontiersin.org/articles/10.3389/fpos.2020.618664/full).\n",
        "\n",
        "The overall number of cases is much lower than on the graph that plots outcomes over time because we only filtered for a number of EU instruments and not all. This could of course be amended when looking for a specific EU instrument."
      ],
      "metadata": {
        "id": "3nOtu8LFyMrl"
      }
    },
    {
      "cell_type": "code",
      "source": [
        "# outcomes and EU instrument\n",
        "df_france_solutions = df_france[[\"id\", \"number\", \"solution\", \"decision_date\", \"keyword\"]].drop_duplicates()\n",
        "df_france_solutions[\"solution\"] = df_france_solutions[\"solution\"].replace({'qpcother': 'qpc', \"rabat\": \"other\", \"decheance\": \"other\", \"nonlieu\": \"other\", \"renvoi\": \"other\"})\n",
        "df_france_solutions[\"decision_date\"] = pd.to_datetime(df_france_solutions[\"decision_date\"])\n",
        "\n",
        "df_france_grouped = df_france_solutions.groupby([pd.Grouper(key='decision_date', freq='1M'), 'keyword', 'solution']).count().reset_index()\n",
        "\n",
        "plt.figure(figsize=(15, 8))\n",
        "\n",
        "ax = sns.lineplot(\n",
        "    x=\"decision_date\",\n",
        "    y=\"id\",\n",
        "    hue=\"solution\",\n",
        "    style=\"keyword\",\n",
        "    markers=True,\n",
        "    dashes=False,\n",
        "    palette=sns.color_palette(\"rocket\", n_colors=len(df_france_grouped['keyword'].unique())),\n",
        "    data=df_france_grouped\n",
        ")\n",
        "\n",
        "plt.axvline(x=datetime.datetime(2020, 3, 1), color=\"green\", label='COVID-19')\n",
        "\n",
        "ax.set(xlabel=\"Decision date\", ylabel=\"Number of cases\")\n",
        "plt.legend(title='Solution', loc='upper left')\n",
        "plt.show()"
      ],
      "metadata": {
        "id": "kwLyFpoOya7b"
      },
      "execution_count": null,
      "outputs": []
    },
    {
      "cell_type": "markdown",
      "source": [
        "The keyword column has duplicates, which means each case does not have a unique keyword. So we are plotting articles coloured by keyword, but the same article can have multiple keywords.\n",
        "\n",
        "The general trend seems to be that no matter what EU instrument is referred to in the decision, it will lead to a dismissal (although there is more variation recently).\n",
        "\n",
        "The important exception to this trend is that the Charter of Fundamental Rights was the most cited EU document when decisions led to a cassation in late 2020.\n",
        "\n",
        "This highlights again the impact of COVID on decisions of the Cour de cassation and especially within the EU context. Following COVID and the restrictions many governments imposed, there were many claims of violations of individual freedoms, which are enshrined in the Charter."
      ],
      "metadata": {
        "id": "MHBTim0iyaMp"
      }
    },
    {
      "cell_type": "markdown",
      "source": [
        "# DATAFRAME ECJ"
      ],
      "metadata": {
        "id": "s4HPzvRNz_gs"
      }
    },
    {
      "cell_type": "code",
      "source": [
        "### ECJ ###\n",
        "\n",
        "import re\n",
        "import requests\n",
        "import pandas as pd\n",
        "from bs4 import BeautifulSoup\n",
        "\n",
        "urls = [\n",
        "    'https://curia.europa.eu/juris/documents.jsf?page=1&nat=or&mat=or&pcs=Oor&jur=C&for=&jge=&dates=%2524type%253Dpro%2524mode%253DfromTo%2524from%253D2018.01.01%2524to%253D2023.01.01&language=en&pro=&etat=clot&cit=none%252CC%252CCJ%252CR%252C2008E%252C%252C%252C%252C%252C%252C%252C%252C%252C%252Ctrue%252Cfalse%252Cfalse&oqp=&td=%3BALL&avg=&lgrec=en&parties=allemagne%252C%2Bfrance&lg=&cid=357337',\n",
        "    'https://curia.europa.eu/juris/documents.jsf?page=2&nat=or&mat=or&pcs=Oor&jur=C&for=&jge=&dates=%2524type%253Dpro%2524mode%253DfromTo%2524from%253D2018.01.01%2524to%253D2023.01.01&language=en&pro=&etat=clot&cit=none%252CC%252CCJ%252CR%252C2008E%252C%252C%252C%252C%252C%252C%252C%252C%252C%252Ctrue%252Cfalse%252Cfalse&oqp=&td=%3BALL&avg=&lgrec=en&parties=allemagne%252C%2Bfrance&lg=&cid=365912',\n",
        "    'https://curia.europa.eu/juris/documents.jsf?page=3&nat=or&mat=or&pcs=Oor&jur=C&for=&jge=&dates=%2524type%253Dpro%2524mode%253DfromTo%2524from%253D2018.01.01%2524to%253D2023.01.01&language=en&pro=&etat=clot&cit=none%252CC%252CCJ%252CR%252C2008E%252C%252C%252C%252C%252C%252C%252C%252C%252C%252Ctrue%252Cfalse%252Cfalse&oqp=&td=%3BALL&avg=&lgrec=en&parties=allemagne%252C%2Bfrance&lg=&cid=365912',\n",
        "    'https://curia.europa.eu/juris/documents.jsf?page=4&nat=or&mat=or&pcs=Oor&jur=C&for=&jge=&dates=%2524type%253Dpro%2524mode%253DfromTo%2524from%253D2018.01.01%2524to%253D2023.01.01&language=en&pro=&etat=clot&cit=none%252CC%252CCJ%252CR%252C2008E%252C%252C%252C%252C%252C%252C%252C%252C%252C%252Ctrue%252Cfalse%252Cfalse&oqp=&td=%3BALL&avg=&lgrec=en&parties=allemagne%252C%2Bfrance&lg=&cid=365912',\n",
        "    'https://curia.europa.eu/juris/documents.jsf?page=5&nat=or&mat=or&pcs=Oor&jur=C&for=&jge=&dates=%2524type%253Dpro%2524mode%253DfromTo%2524from%253D2018.01.01%2524to%253D2023.01.01&language=en&pro=&etat=clot&cit=none%252CC%252CCJ%252CR%252C2008E%252C%252C%252C%252C%252C%252C%252C%252C%252C%252Ctrue%252Cfalse%252Cfalse&oqp=&td=%3BALL&avg=&lgrec=en&parties=allemagne%252C%2Bfrance&lg=&cid=365912',\n",
        "    'https://curia.europa.eu/juris/documents.jsf?page=6&nat=or&mat=or&pcs=Oor&jur=C&for=&jge=&dates=%2524type%253Dpro%2524mode%253DfromTo%2524from%253D2018.01.01%2524to%253D2023.01.01&language=en&pro=&etat=clot&cit=none%252CC%252CCJ%252CR%252C2008E%252C%252C%252C%252C%252C%252C%252C%252C%252C%252Ctrue%252Cfalse%252Cfalse&oqp=&td=%3BALL&avg=&lgrec=en&parties=allemagne%252C%2Bfrance&lg=&cid=365912'\n",
        "]\n",
        "\n",
        "dfs = []\n",
        "\n",
        "for url in urls:\n",
        "    response = requests.get(url)\n",
        "\n",
        "    if response.status_code == 200:\n",
        "        html_content = response.text\n",
        "\n",
        "        soup = BeautifulSoup(html_content, 'html.parser')\n",
        "        table = soup.find('table', class_='detail_table_documents')\n",
        "\n",
        "        if table:\n",
        "            column_aff_data = table.find_all('td', class_='table_cell_aff')\n",
        "            column_aff_values = [data.get_text(strip=True) for data in column_aff_data]\n",
        "\n",
        "            df_Case = pd.DataFrame({'Case': column_aff_values})\n",
        "            df_Case = df_Case[df_Case['Case'] != '']\n",
        "            df_Case.reset_index(drop=True, inplace=True)\n",
        "\n",
        "            dfs.append(df_Case)\n",
        "\n",
        "df_Case = pd.concat(dfs, ignore_index=True)\n",
        "\n",
        "text_segments_per_cell = []\n",
        "all_dates = []\n",
        "all_data = []\n",
        "\n",
        "pattern = r'(Request|Application|Order|Judgment|Opinion|Removal|Abstract)'\n",
        "\n",
        "for url in urls:\n",
        "    response = requests.get(url)\n",
        "\n",
        "    if response.status_code == 200:\n",
        "        html_content = response.text\n",
        "\n",
        "        soup = BeautifulSoup(html_content, 'html.parser')\n",
        "        table = soup.find('table', class_='detail_table_documents')\n",
        "\n",
        "\n",
        "        date_elements = soup.find_all(class_='table_cell_date')\n",
        "        dates = [date.get_text(strip=True) for date in date_elements]\n",
        "        all_dates.extend(dates[1:])\n",
        "\n",
        "\n",
        "        elements = soup.find_all(class_='table_cell_links_curia')\n",
        "        data = [element.get_text(strip=True) for element in elements]\n",
        "        all_data.extend(data[1:])\n",
        "\n",
        "        if table:\n",
        "            rows = table.find_all('tr')\n",
        "\n",
        "            for row in rows:\n",
        "                cells = row.find_all('td', class_='table_cell_doc')\n",
        "\n",
        "                if any(cells):\n",
        "                    row_text_segments = []\n",
        "\n",
        "                    for cell in cells:\n",
        "                        cell_text = cell.get_text(strip=True)\n",
        "\n",
        "\n",
        "                        matches = re.findall(pattern, cell_text)\n",
        "\n",
        "                        row_text_segments.append(''.join(matches))\n",
        "\n",
        "                    if any(row_text_segments):\n",
        "                        text_segments_per_cell.append(row_text_segments[0])\n",
        "\n",
        "if not text_segments_per_cell:\n",
        "    print(\"No text segments found.\")\n",
        "else:\n",
        "    df_ECJ_final = pd.DataFrame({\"Dates\": all_dates, \"Case Outcome\": text_segments_per_cell, \"Subject\": all_data, \"Case Number\": df_Case[\"Case\"].values})\n",
        "\n",
        "df_ECJ_final"
      ],
      "metadata": {
        "id": "2qMFGGmWuv_P"
      },
      "execution_count": null,
      "outputs": []
    },
    {
      "cell_type": "code",
      "source": [
        "#ECJ judgments\n",
        "\n",
        "judgment = df_ECJ_final.apply(lambda row: 'Judgment' in ''.join(row), axis=1)\n",
        "df_ECJ_judgment = df_ECJ_final[judgment].reset_index(drop=True)"
      ],
      "metadata": {
        "id": "3tq-hT6Lu1_e"
      },
      "execution_count": null,
      "outputs": []
    },
    {
      "cell_type": "code",
      "source": [
        "#Filtered judgments to only have 1 per case number\n",
        "\n",
        "df_ECJ_judgment_no_duplicates = df_ECJ_judgment.drop_duplicates(subset='Case Number')\n",
        "df_ECJ_judgment_filtered = df_ECJ_judgment_no_duplicates.reset_index(drop=True)\n",
        "df_ECJ_judgment_filtered"
      ],
      "metadata": {
        "id": "50HH0NLtu8b1"
      },
      "execution_count": null,
      "outputs": []
    },
    {
      "cell_type": "code",
      "source": [
        "from collections import Counter\n",
        "\n",
        "df = []\n",
        "\n",
        "#Split themes\n",
        "unique_subjects = df_ECJ_judgment_filtered['Subject'].unique().tolist()\n",
        "str(unique_subjects)\n",
        "split_subjects = [subject.split('-') for subject in unique_subjects]\n",
        "flattened_list = [item for sublist in split_subjects for item in sublist]\n",
        "unique_split_themes = list(set(flattened_list))\n",
        "unique_split_themes\n",
        "element_counts = Counter(unique_split_themes)\n",
        "element_counts"
      ],
      "metadata": {
        "id": "YQ-eavj3vTGW"
      },
      "execution_count": null,
      "outputs": []
    }
  ]
}