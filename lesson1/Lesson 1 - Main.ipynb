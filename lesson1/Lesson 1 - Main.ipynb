{
 "cells": [
  {
   "cell_type": "markdown",
   "metadata": {},
   "source": [
    "<h1>Introduction to Python</h1>\n",
    "\n",
    "<p>This is the first lesson in the context of Course HEC XX</p>\n",
    "\n",
    "<h2>Basic Calculations in Python</h2>\n",
    "\n",
    "<p>Computer code, at its most basic, calculates. You can think of this course and everything that follows as expanding the uses of a calculator, even the most basic. For instance:</p>"
   ]
  },
  {
   "cell_type": "code",
   "execution_count": 12,
   "metadata": {},
   "outputs": [
    {
     "data": {
      "text/plain": [
       "4"
      ]
     },
     "execution_count": 12,
     "metadata": {},
     "output_type": "execute_result"
    }
   ],
   "source": [
    "2+2"
   ]
  },
  {
   "cell_type": "markdown",
   "metadata": {},
   "source": [
    "Typically, in Python you'd use the command \"print\" to have stuff appear on your screen. It is also more precise, as it gives the computer the exact command to process. \n",
    "For instance, if you add a line of computations above, Python will only render the last line - but if you insert two \"print\" statement, one after the other, both will render.\n",
    "\"print\" is a <em>command</em>. Like most commands, it requires some <em>parameters</em>, that are indicated within brackets. Eg.  "
   ]
  },
  {
   "cell_type": "code",
   "execution_count": 6,
   "metadata": {},
   "outputs": [
    {
     "name": "stdout",
     "output_type": "stream",
     "text": [
      "4\n",
      "6\n"
     ]
    }
   ],
   "source": [
    "print(2+2)\n",
    "print(2*3)"
   ]
  },
  {
   "cell_type": "markdown",
   "metadata": {},
   "source": [
    "We will come back to commands a bit later. Before that, we need to discuss <em>variables</em>, which are objects in which you store information.\n",
    "Variables are typically written in lower caps; the way to you assign data to a variable is with a \"=\" sign, as follows. You can then use variables directly in functions (such as print), or do operations between them.\n",
    "What do you think will print if we press Run ?"
   ]
  },
  {
   "cell_type": "code",
   "execution_count": 13,
   "metadata": {},
   "outputs": [
    {
     "name": "stdout",
     "output_type": "stream",
     "text": [
      "9\n"
     ]
    }
   ],
   "source": [
    "my_var = 1\n",
    "my_var2 = 2\n",
    "my_var3 = 2*3\n",
    "print(my_var + my_var2 + my_var3)"
   ]
  },
  {
   "cell_type": "markdown",
   "metadata": {},
   "source": [
    "There are different types of numbers in Python, but we'll see that later.\n",
    "Now, variables need not be numbers. They can also be text, which in Python is typically known as a <em>string</em>. \n",
    "Likewise, you can make operations with them, such as collating two strings."
   ]
  },
  {
   "cell_type": "code",
   "execution_count": 11,
   "metadata": {},
   "outputs": [
    {
     "name": "stdout",
     "output_type": "stream",
     "text": [
      "Hello WorldWhat a Nice Day !\n"
     ]
    }
   ],
   "source": [
    "text_var = \"Hello World\"\n",
    "text_var2 = \"What a Nice Day !\"\n",
    "print(text_var + text_var2)"
   ]
  },
  {
   "cell_type": "markdown",
   "metadata": {},
   "source": [
    "Do note that the print command does exactly what you ask it to do: it did not insert a space between the two strings here, it's for you to think of this kind of details.\n",
    "Another type of variable is a <em>list</em>, which is exactly what you think it is: it lists things, such as data, or even other variables, or even other lists ! Lists are denoted by using brackets and commas. For instance:"
   ]
  },
  {
   "cell_type": "code",
   "execution_count": 16,
   "metadata": {},
   "outputs": [
    {
     "name": "stdout",
     "output_type": "stream",
     "text": [
      "[1, 'lorem ipsum', 'What a Nice Day !', ['this is list number', 2]]\n"
     ]
    }
   ],
   "source": [
    "my_list = [1, \"lorem ipsum\", text_var2, [\"this is list number\", 2]]\n",
    "print(my_list)"
   ]
  },
  {
   "cell_type": "raw",
   "metadata": {},
   "source": [
    "A very important feature of lists is that they are ordered. This means if you know the (numerical) <em>index</em> of an item in a list, you can access it immediately. Here is how you do it (learn it once and for all: indexes start at 0).\n",
    "You can also select an element of a list by reference to its relative position.\n",
    "Finally, if you can select the item in a list of list by repeating the exercise."
   ]
  },
  {
   "cell_type": "code",
   "execution_count": 18,
   "metadata": {},
   "outputs": [
    {
     "name": "stdout",
     "output_type": "stream",
     "text": [
      "What a Nice Day !\n",
      "What a Nice Day !\n",
      "this is list number\n"
     ]
    }
   ],
   "source": [
    "print(my_list[2])\n",
    "print(my_list[-2])\n",
    "print(my_list[3][0])"
   ]
  },
  {
   "cell_type": "markdown",
   "metadata": {},
   "source": [
    "You can also select several elements in a list, by using the \":\" operator. For instance"
   ]
  },
  {
   "cell_type": "code",
   "execution_count": 29,
   "metadata": {},
   "outputs": [
    {
     "name": "stdout",
     "output_type": "stream",
     "text": [
      "[1, 'lorem ipsum']\n",
      "['What a Nice Day !', ['this is list number', 2]]\n",
      "[1, 'lorem ipsum']\n"
     ]
    }
   ],
   "source": [
    "print(my_list[0:2])\n",
    "print(my_list[2:])\n",
    "print(my_list[:2])"
   ]
  },
  {
   "cell_type": "raw",
   "metadata": {},
   "source": [
    "You will note that the third example returns the exact same answer as the first; this is because you often don't need to specify the 0 in a list.\n",
    "\n",
    "Another data type is what's called a boolean. It is simply a statement True or False, but it is often very useful."
   ]
  },
  {
   "cell_type": "code",
   "execution_count": 46,
   "metadata": {},
   "outputs": [
    {
     "name": "stdout",
     "output_type": "stream",
     "text": [
      "True\n"
     ]
    },
    {
     "ename": "NameError",
     "evalue": "name 'var_bol2' is not defined",
     "output_type": "error",
     "traceback": [
      "\u001b[1;31m---------------------------------------------------------------------------\u001b[0m",
      "\u001b[1;31mNameError\u001b[0m                                 Traceback (most recent call last)",
      "\u001b[1;32m<ipython-input-46-29a720c53ebb>\u001b[0m in \u001b[0;36m<module>\u001b[1;34m\u001b[0m\n\u001b[0;32m      2\u001b[0m \u001b[0mval_bol2\u001b[0m \u001b[1;33m=\u001b[0m \u001b[1;32mFalse\u001b[0m\u001b[1;33m\u001b[0m\u001b[1;33m\u001b[0m\u001b[0m\n\u001b[0;32m      3\u001b[0m \u001b[0mprint\u001b[0m\u001b[1;33m(\u001b[0m\u001b[0mvar_bol\u001b[0m\u001b[1;33m)\u001b[0m\u001b[1;33m\u001b[0m\u001b[1;33m\u001b[0m\u001b[0m\n\u001b[1;32m----> 4\u001b[1;33m \u001b[0mprint\u001b[0m\u001b[1;33m(\u001b[0m\u001b[0mvar_bol2\u001b[0m\u001b[1;33m)\u001b[0m\u001b[1;33m\u001b[0m\u001b[1;33m\u001b[0m\u001b[0m\n\u001b[0m",
      "\u001b[1;31mNameError\u001b[0m: name 'var_bol2' is not defined"
     ]
    }
   ],
   "source": [
    "var_bol = True\n",
    "val_bol2 = False\n",
    "print(var_bol)\n",
    "print(var_bol2)"
   ]
  },
  {
   "cell_type": "raw",
   "metadata": {},
   "source": [
    "Finally, there are two other types of data: sets and dictionaries.\n",
    "Sets are like lists, except they are unordered, and they can't have duplicates. They are very useful to check if two sets of data overlap, or what they have or don't have in common. Since they are not ordered, you cannot select an element from a set. If you create a set with a duplicate element, it will ignore it."
   ]
  },
  {
   "cell_type": "code",
   "execution_count": 35,
   "metadata": {},
   "outputs": [
    {
     "name": "stdout",
     "output_type": "stream",
     "text": [
      "{1, 2, 3, 4}\n"
     ]
    }
   ],
   "source": [
    "my_set = {1, 2, 2, 3, 3, 4}\n",
    "print(my_set)"
   ]
  },
  {
   "cell_type": "markdown",
   "metadata": {},
   "source": [
    "A Dictionary is a type of data that links a <b>key</b> to a <b>value</b>. The key becomes the index of your dictionary; if you give a key to the dictionary, it will return the value. It is useful to track down relations between different data points. Here as well, you can use any type of data you want. You use brackets, and indicate the relationship with a \":\" operator."
   ]
  },
  {
   "cell_type": "code",
   "execution_count": 37,
   "metadata": {},
   "outputs": [
    {
     "name": "stdout",
     "output_type": "stream",
     "text": [
      "2\n"
     ]
    }
   ],
   "source": [
    "my_dic = {1 : \"First Item\", \"Item\": 2, \"Item2\" : my_list}\n",
    "print(my_dic[\"Item\"])"
   ]
  },
  {
   "cell_type": "markdown",
   "metadata": {},
   "source": [
    "## Functions\n",
    "\n",
    "Now, coming back to functions, they are what allows you to do operations over data and variables in Python. For this, you need to pass it the expected arguments. Here is what a function looks like, and how you create it:"
   ]
  },
  {
   "cell_type": "code",
   "execution_count": 19,
   "metadata": {},
   "outputs": [
    {
     "data": {
      "text/plain": [
       "3"
      ]
     },
     "execution_count": 19,
     "metadata": {},
     "output_type": "execute_result"
    }
   ],
   "source": [
    "def my_function(var1, var2):\n",
    "    return var1 + var2\n",
    "my_function(1,2)"
   ]
  },
  {
   "cell_type": "markdown",
   "metadata": {},
   "source": [
    "You can create, and you will create your own functions. However, Python has already plenty of built-in functions, so that you don't have to invent the wheel everytime you need to do something."
   ]
  },
  {
   "cell_type": "code",
   "execution_count": 38,
   "metadata": {},
   "outputs": [
    {
     "name": "stdout",
     "output_type": "stream",
     "text": [
      "27\n",
      "['t', 'h', 'i', 's', ' ', 'w', 'i', 'l', 'l', ' ', 'b', 'e', ' ', 't', 'u', 'r', 'n', 'e', 'd', ' ', 'i', 'n', 't', 'o', ' ', 'a', ' ', 'l', 'i', 's', 't']\n",
      "2\n"
     ]
    }
   ],
   "source": [
    "print(len(\"How long is this sentence ?\"))\n",
    "print(list(\"this will be turned into a list\"))\n",
    "print(round(2.3))"
   ]
  },
  {
   "cell_type": "markdown",
   "metadata": {},
   "source": [
    "In addition, Python is a shared resources, and for most uses someone has already created a function for you, such that you just need to import it. This is the system of packages and librairies that power Python. Here are the two main ways to do it:"
   ]
  },
  {
   "cell_type": "code",
   "execution_count": 40,
   "metadata": {},
   "outputs": [],
   "source": [
    "import numpy\n",
    "from collections import Counter, defaultdict"
   ]
  },
  {
   "cell_type": "markdown",
   "metadata": {},
   "source": [
    "The first package here is specialised in numbers and mathematical operations; it typically goes further than the basic Python functions. For instance, if you want to compute a mean:"
   ]
  },
  {
   "cell_type": "code",
   "execution_count": 41,
   "metadata": {},
   "outputs": [
    {
     "data": {
      "text/plain": [
       "7.75"
      ]
     },
     "execution_count": 41,
     "metadata": {},
     "output_type": "execute_result"
    }
   ],
   "source": [
    "numpy.mean([1, 5, 10, 15])"
   ]
  },
  {
   "cell_type": "markdown",
   "metadata": {},
   "source": [
    "Counter and Defaultdict are two tools invented to fulfill a number of usages. A counter will count (duh), which is very important in some contexts. A defaultdict is a dictionary that can better accomodate keys that are not yet there - which avoids throwing errors. This often comes handy."
   ]
  },
  {
   "cell_type": "markdown",
   "metadata": {},
   "source": [
    "## Syntax\n",
    "\n",
    "Finally, some basics notions of syntaxes. You write code as you would write anything: sequentially. This means you first define your variables or your functions before using it, or Python won't be able to know what you mean.\n",
    "\n",
    "An important first concept is the loop, which tells Python to do something as long as a condition is not fulfilled. The typical condition is to go over (the term is \"iterate\") a number of elements, for instance in a list."
   ]
  },
  {
   "cell_type": "code",
   "execution_count": 42,
   "metadata": {},
   "outputs": [
    {
     "name": "stdout",
     "output_type": "stream",
     "text": [
      "1\n",
      "lorem ipsum\n",
      "What a Nice Day !\n",
      "['this is list number', 2]\n"
     ]
    }
   ],
   "source": [
    "for el in my_list:\n",
    "    print(el)"
   ]
  },
  {
   "cell_type": "markdown",
   "metadata": {},
   "source": [
    "You will note that for your loop to work, the second level of command needs to be shifted to the right.\n",
    "\n",
    "The second important syntax element, and really the basic building block of so much code that runs your daily life, is the if/else statement. It simply asks if a condition is met, and then accomplish the resulting code. "
   ]
  },
  {
   "cell_type": "code",
   "execution_count": 48,
   "metadata": {},
   "outputs": [
    {
     "name": "stdout",
     "output_type": "stream",
     "text": [
      "No 'i' in that word\n",
      "No 'i' in that word\n",
      "No 'i' in that word\n",
      "fix\n",
      "things\n"
     ]
    }
   ],
   "source": [
    "words = [\"move\", \"slowly\", \"and\", \"fix\", \"things\"] \n",
    "for word in words: \n",
    "    if \"i\" in word : \n",
    "        print (word)\n",
    "    else:\n",
    "        print (\"No 'i' in that word\")"
   ]
  },
  {
   "cell_type": "markdown",
   "metadata": {},
   "source": [
    "## Dataframes\n",
    "\n",
    "A dataframe is a way to structurate data in Python, like an spreadsheet. There are several types of dataframes in Python, but by far the most popular is the Pandas module, which you typically abbreviate as \"pd\".\n",
    "Pandas allows you to load a pre-existing dataset. While there are several ways to store data, in this course we'll mostly handle CSV files, which are easy to work with."
   ]
  },
  {
   "cell_type": "code",
   "execution_count": 43,
   "metadata": {},
   "outputs": [
    {
     "name": "stderr",
     "output_type": "stream",
     "text": [
      "C:\\Users\\damie\\Anaconda3\\lib\\site-packages\\IPython\\core\\interactiveshell.py:3051: DtypeWarning: Columns (0) have mixed types. Specify dtype option on import or set low_memory=False.\n",
      "  interactivity=interactivity, compiler=compiler, result=result)\n"
     ]
    }
   ],
   "source": [
    "import pandas as pd\n",
    "df = pd.read_csv(\"DeathCOVID19.csv\", encoding=\"latin1\")\n"
   ]
  },
  {
   "cell_type": "markdown",
   "metadata": {},
   "source": [
    "A good idea when you handle a new dataset is to look at what it looks like. The command \"head\" allows you to get a quick peek at the data (up to a number of rows)."
   ]
  },
  {
   "cell_type": "code",
   "execution_count": 44,
   "metadata": {},
   "outputs": [
    {
     "data": {
      "text/html": [
       "<div>\n",
       "<style scoped>\n",
       "    .dataframe tbody tr th:only-of-type {\n",
       "        vertical-align: middle;\n",
       "    }\n",
       "\n",
       "    .dataframe tbody tr th {\n",
       "        vertical-align: top;\n",
       "    }\n",
       "\n",
       "    .dataframe thead th {\n",
       "        text-align: right;\n",
       "    }\n",
       "</style>\n",
       "<table border=\"1\" class=\"dataframe\">\n",
       "  <thead>\n",
       "    <tr style=\"text-align: right;\">\n",
       "      <th></th>\n",
       "      <th>COMDOM</th>\n",
       "      <th>DEPDOM</th>\n",
       "      <th>ANAIS</th>\n",
       "      <th>MNAIS</th>\n",
       "      <th>JNAIS</th>\n",
       "      <th>SEXE</th>\n",
       "      <th>ADEC</th>\n",
       "      <th>MDEC</th>\n",
       "      <th>JDEC</th>\n",
       "      <th>COMDEC</th>\n",
       "      <th>DEPDEC</th>\n",
       "      <th>lieudec2</th>\n",
       "      <th>paynais</th>\n",
       "      <th>regdec</th>\n",
       "      <th>REGDOM</th>\n",
       "    </tr>\n",
       "  </thead>\n",
       "  <tbody>\n",
       "    <tr>\n",
       "      <th>0</th>\n",
       "      <td>NaN</td>\n",
       "      <td>99.0</td>\n",
       "      <td>1987</td>\n",
       "      <td>11</td>\n",
       "      <td>28</td>\n",
       "      <td>1</td>\n",
       "      <td>2020</td>\n",
       "      <td>1</td>\n",
       "      <td>17</td>\n",
       "      <td>13205.0</td>\n",
       "      <td>13.0</td>\n",
       "      <td>HopCli</td>\n",
       "      <td>350</td>\n",
       "      <td>PACA</td>\n",
       "      <td>Autres</td>\n",
       "    </tr>\n",
       "    <tr>\n",
       "      <th>1</th>\n",
       "      <td>NaN</td>\n",
       "      <td>99.0</td>\n",
       "      <td>1986</td>\n",
       "      <td>6</td>\n",
       "      <td>4</td>\n",
       "      <td>1</td>\n",
       "      <td>2020</td>\n",
       "      <td>2</td>\n",
       "      <td>17</td>\n",
       "      <td>75115.0</td>\n",
       "      <td>75.0</td>\n",
       "      <td>HopCli</td>\n",
       "      <td>122</td>\n",
       "      <td>Ile-de-France</td>\n",
       "      <td>Autres</td>\n",
       "    </tr>\n",
       "    <tr>\n",
       "      <th>2</th>\n",
       "      <td>NaN</td>\n",
       "      <td>99.0</td>\n",
       "      <td>1958</td>\n",
       "      <td>2</td>\n",
       "      <td>13</td>\n",
       "      <td>1</td>\n",
       "      <td>2020</td>\n",
       "      <td>3</td>\n",
       "      <td>22</td>\n",
       "      <td>92024.0</td>\n",
       "      <td>92.0</td>\n",
       "      <td>HopCli</td>\n",
       "      <td>316</td>\n",
       "      <td>Ile-de-France</td>\n",
       "      <td>Autres</td>\n",
       "    </tr>\n",
       "    <tr>\n",
       "      <th>3</th>\n",
       "      <td>NaN</td>\n",
       "      <td>99.0</td>\n",
       "      <td>1933</td>\n",
       "      <td>10</td>\n",
       "      <td>31</td>\n",
       "      <td>2</td>\n",
       "      <td>2020</td>\n",
       "      <td>1</td>\n",
       "      <td>19</td>\n",
       "      <td>95203.0</td>\n",
       "      <td>95.0</td>\n",
       "      <td>HopCli</td>\n",
       "      <td>139</td>\n",
       "      <td>Ile-de-France</td>\n",
       "      <td>Autres</td>\n",
       "    </tr>\n",
       "    <tr>\n",
       "      <th>4</th>\n",
       "      <td>NaN</td>\n",
       "      <td>99.0</td>\n",
       "      <td>1972</td>\n",
       "      <td>9</td>\n",
       "      <td>8</td>\n",
       "      <td>1</td>\n",
       "      <td>2020</td>\n",
       "      <td>1</td>\n",
       "      <td>28</td>\n",
       "      <td>6079.0</td>\n",
       "      <td>6.0</td>\n",
       "      <td>Autres</td>\n",
       "      <td>123</td>\n",
       "      <td>PACA</td>\n",
       "      <td>Autres</td>\n",
       "    </tr>\n",
       "    <tr>\n",
       "      <th>5</th>\n",
       "      <td>NaN</td>\n",
       "      <td>99.0</td>\n",
       "      <td>2004</td>\n",
       "      <td>6</td>\n",
       "      <td>16</td>\n",
       "      <td>2</td>\n",
       "      <td>2020</td>\n",
       "      <td>3</td>\n",
       "      <td>24</td>\n",
       "      <td>92060.0</td>\n",
       "      <td>92.0</td>\n",
       "      <td>Autres</td>\n",
       "      <td>352</td>\n",
       "      <td>Ile-de-France</td>\n",
       "      <td>Autres</td>\n",
       "    </tr>\n",
       "    <tr>\n",
       "      <th>6</th>\n",
       "      <td>NaN</td>\n",
       "      <td>99.0</td>\n",
       "      <td>1933</td>\n",
       "      <td>12</td>\n",
       "      <td>19</td>\n",
       "      <td>2</td>\n",
       "      <td>2020</td>\n",
       "      <td>1</td>\n",
       "      <td>25</td>\n",
       "      <td>97411.0</td>\n",
       "      <td>974.0</td>\n",
       "      <td>HopCli</td>\n",
       "      <td>333</td>\n",
       "      <td>La Réunion</td>\n",
       "      <td>Autres</td>\n",
       "    </tr>\n",
       "    <tr>\n",
       "      <th>7</th>\n",
       "      <td>NaN</td>\n",
       "      <td>99.0</td>\n",
       "      <td>1976</td>\n",
       "      <td>4</td>\n",
       "      <td>3</td>\n",
       "      <td>2</td>\n",
       "      <td>2020</td>\n",
       "      <td>2</td>\n",
       "      <td>28</td>\n",
       "      <td>59392.0</td>\n",
       "      <td>59.0</td>\n",
       "      <td>HopCli</td>\n",
       "      <td>131</td>\n",
       "      <td>Hauts-de-France</td>\n",
       "      <td>Autres</td>\n",
       "    </tr>\n",
       "    <tr>\n",
       "      <th>8</th>\n",
       "      <td>NaN</td>\n",
       "      <td>99.0</td>\n",
       "      <td>1984</td>\n",
       "      <td>1</td>\n",
       "      <td>24</td>\n",
       "      <td>1</td>\n",
       "      <td>2020</td>\n",
       "      <td>2</td>\n",
       "      <td>1</td>\n",
       "      <td>56162.0</td>\n",
       "      <td>56.0</td>\n",
       "      <td>Autres</td>\n",
       "      <td>125</td>\n",
       "      <td>Bretagne</td>\n",
       "      <td>Autres</td>\n",
       "    </tr>\n",
       "    <tr>\n",
       "      <th>9</th>\n",
       "      <td>NaN</td>\n",
       "      <td>99.0</td>\n",
       "      <td>1940</td>\n",
       "      <td>12</td>\n",
       "      <td>23</td>\n",
       "      <td>2</td>\n",
       "      <td>2020</td>\n",
       "      <td>3</td>\n",
       "      <td>18</td>\n",
       "      <td>40279.0</td>\n",
       "      <td>40.0</td>\n",
       "      <td>Autres</td>\n",
       "      <td>134</td>\n",
       "      <td>Nouvelle Aquitaine</td>\n",
       "      <td>Autres</td>\n",
       "    </tr>\n",
       "    <tr>\n",
       "      <th>10</th>\n",
       "      <td>NaN</td>\n",
       "      <td>99.0</td>\n",
       "      <td>1980</td>\n",
       "      <td>5</td>\n",
       "      <td>17</td>\n",
       "      <td>2</td>\n",
       "      <td>2020</td>\n",
       "      <td>1</td>\n",
       "      <td>8</td>\n",
       "      <td>31555.0</td>\n",
       "      <td>31.0</td>\n",
       "      <td>HopCli</td>\n",
       "      <td>114</td>\n",
       "      <td>Occitanie</td>\n",
       "      <td>Autres</td>\n",
       "    </tr>\n",
       "    <tr>\n",
       "      <th>11</th>\n",
       "      <td>NaN</td>\n",
       "      <td>99.0</td>\n",
       "      <td>1940</td>\n",
       "      <td>2</td>\n",
       "      <td>19</td>\n",
       "      <td>1</td>\n",
       "      <td>2020</td>\n",
       "      <td>1</td>\n",
       "      <td>22</td>\n",
       "      <td>67482.0</td>\n",
       "      <td>67.0</td>\n",
       "      <td>HopCli</td>\n",
       "      <td>109</td>\n",
       "      <td>Grand-Est</td>\n",
       "      <td>Autres</td>\n",
       "    </tr>\n",
       "    <tr>\n",
       "      <th>12</th>\n",
       "      <td>NaN</td>\n",
       "      <td>99.0</td>\n",
       "      <td>1937</td>\n",
       "      <td>10</td>\n",
       "      <td>5</td>\n",
       "      <td>1</td>\n",
       "      <td>2020</td>\n",
       "      <td>1</td>\n",
       "      <td>22</td>\n",
       "      <td>66136.0</td>\n",
       "      <td>66.0</td>\n",
       "      <td>Autres</td>\n",
       "      <td>404</td>\n",
       "      <td>Occitanie</td>\n",
       "      <td>Autres</td>\n",
       "    </tr>\n",
       "    <tr>\n",
       "      <th>13</th>\n",
       "      <td>NaN</td>\n",
       "      <td>99.0</td>\n",
       "      <td>1963</td>\n",
       "      <td>5</td>\n",
       "      <td>31</td>\n",
       "      <td>2</td>\n",
       "      <td>2020</td>\n",
       "      <td>2</td>\n",
       "      <td>2</td>\n",
       "      <td>38516.0</td>\n",
       "      <td>38.0</td>\n",
       "      <td>HopCli</td>\n",
       "      <td>255</td>\n",
       "      <td>Auvergne-Rhône Alpe</td>\n",
       "      <td>Autres</td>\n",
       "    </tr>\n",
       "    <tr>\n",
       "      <th>14</th>\n",
       "      <td>NaN</td>\n",
       "      <td>99.0</td>\n",
       "      <td>1935</td>\n",
       "      <td>2</td>\n",
       "      <td>19</td>\n",
       "      <td>2</td>\n",
       "      <td>2020</td>\n",
       "      <td>2</td>\n",
       "      <td>9</td>\n",
       "      <td>13047.0</td>\n",
       "      <td>13.0</td>\n",
       "      <td>Logem</td>\n",
       "      <td>139</td>\n",
       "      <td>PACA</td>\n",
       "      <td>Autres</td>\n",
       "    </tr>\n",
       "  </tbody>\n",
       "</table>\n",
       "</div>"
      ],
      "text/plain": [
       "   COMDOM  DEPDOM  ANAIS  MNAIS  JNAIS  SEXE  ADEC  MDEC  JDEC   COMDEC  \\\n",
       "0     NaN    99.0   1987     11     28     1  2020     1    17  13205.0   \n",
       "1     NaN    99.0   1986      6      4     1  2020     2    17  75115.0   \n",
       "2     NaN    99.0   1958      2     13     1  2020     3    22  92024.0   \n",
       "3     NaN    99.0   1933     10     31     2  2020     1    19  95203.0   \n",
       "4     NaN    99.0   1972      9      8     1  2020     1    28   6079.0   \n",
       "5     NaN    99.0   2004      6     16     2  2020     3    24  92060.0   \n",
       "6     NaN    99.0   1933     12     19     2  2020     1    25  97411.0   \n",
       "7     NaN    99.0   1976      4      3     2  2020     2    28  59392.0   \n",
       "8     NaN    99.0   1984      1     24     1  2020     2     1  56162.0   \n",
       "9     NaN    99.0   1940     12     23     2  2020     3    18  40279.0   \n",
       "10    NaN    99.0   1980      5     17     2  2020     1     8  31555.0   \n",
       "11    NaN    99.0   1940      2     19     1  2020     1    22  67482.0   \n",
       "12    NaN    99.0   1937     10      5     1  2020     1    22  66136.0   \n",
       "13    NaN    99.0   1963      5     31     2  2020     2     2  38516.0   \n",
       "14    NaN    99.0   1935      2     19     2  2020     2     9  13047.0   \n",
       "\n",
       "    DEPDEC lieudec2 paynais               regdec  REGDOM  \n",
       "0     13.0   HopCli     350                 PACA  Autres  \n",
       "1     75.0   HopCli     122        Ile-de-France  Autres  \n",
       "2     92.0   HopCli     316        Ile-de-France  Autres  \n",
       "3     95.0   HopCli     139        Ile-de-France  Autres  \n",
       "4      6.0   Autres     123                 PACA  Autres  \n",
       "5     92.0   Autres     352        Ile-de-France  Autres  \n",
       "6    974.0   HopCli     333           La Réunion  Autres  \n",
       "7     59.0   HopCli     131      Hauts-de-France  Autres  \n",
       "8     56.0   Autres     125             Bretagne  Autres  \n",
       "9     40.0   Autres     134   Nouvelle Aquitaine  Autres  \n",
       "10    31.0   HopCli     114            Occitanie  Autres  \n",
       "11    67.0   HopCli     109            Grand-Est  Autres  \n",
       "12    66.0   Autres     404            Occitanie  Autres  \n",
       "13    38.0   HopCli     255  Auvergne-Rhône Alpe  Autres  \n",
       "14    13.0    Logem     139                 PACA  Autres  "
      ]
     },
     "execution_count": 44,
     "metadata": {},
     "output_type": "execute_result"
    }
   ],
   "source": [
    "df.head(15)"
   ]
  },
  {
   "cell_type": "code",
   "execution_count": null,
   "metadata": {},
   "outputs": [],
   "source": []
  }
 ],
 "metadata": {
  "kernelspec": {
   "display_name": "Python 3",
   "language": "python",
   "name": "python3"
  },
  "language_info": {
   "codemirror_mode": {
    "name": "ipython",
    "version": 3
   },
   "file_extension": ".py",
   "mimetype": "text/x-python",
   "name": "python",
   "nbconvert_exporter": "python",
   "pygments_lexer": "ipython3",
   "version": "3.7.6"
  }
 },
 "nbformat": 4,
 "nbformat_minor": 2
}
