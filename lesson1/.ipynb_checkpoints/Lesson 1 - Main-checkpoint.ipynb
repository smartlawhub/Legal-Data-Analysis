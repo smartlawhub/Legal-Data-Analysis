{
 "cells": [
  {
   "cell_type": "markdown",
   "metadata": {},
   "source": [
    "<h1>Introduction to Python</h1>\n",
    "\n",
    "<p>This is the first lesson in the context of Course HEC XX</p>\n",
    "\n",
    "<p>This introduction is best read together with Chapter 2 of <i>\"Humanities Data in R</i> (Springer, 2015).</p>\n",
    "\n",
    "<h2>Basic Calculations in Python</h2>\n",
    "\n",
    "<p>Computer code, at its most basic, calculates. You can think of this course and everything that follows as expanding the uses of a calculator, even the most basic. For instance:</p>"
   ]
  },
  {
   "cell_type": "code",
   "execution_count": 12,
   "metadata": {},
   "outputs": [
    {
     "data": {
      "text/plain": [
       "4"
      ]
     },
     "execution_count": 12,
     "metadata": {},
     "output_type": "execute_result"
    }
   ],
   "source": [
    "2+2"
   ]
  },
  {
   "cell_type": "markdown",
   "metadata": {},
   "source": [
    "Typically, in Python you'd use the command \"print\" to have stuff appear on your screen. It is also more precise, as it gives the computer the exact command to process. \n",
    "For instance, if you add a line of computations above, Python will only render the last line - but if you insert two \"print\" statement, one after the other, both will render.\n",
    "\"print\" is a <em>command</em>. Like most commands, it requires some <em>parameters</em>, that are indicated within brackets. Eg.  "
   ]
  },
  {
   "cell_type": "code",
   "execution_count": 6,
   "metadata": {},
   "outputs": [
    {
     "name": "stdout",
     "output_type": "stream",
     "text": [
      "4\n",
      "6\n"
     ]
    }
   ],
   "source": [
    "print(2+2)\n",
    "print(2*3)"
   ]
  },
  {
   "cell_type": "markdown",
   "metadata": {},
   "source": [
    "We will come back to commands a bit later. Before that, we need to discuss <em>variables</em>, which are objects in which you store information.\n",
    "Variables are typically written in lower caps; the way to you assign data to a variable is with a \"=\" sign, as follows. You can then use variables directly in functions (such as print), or do operations between them.\n",
    "What do you think will print if we press Run ?"
   ]
  },
  {
   "cell_type": "code",
   "execution_count": 13,
   "metadata": {},
   "outputs": [
    {
     "name": "stdout",
     "output_type": "stream",
     "text": [
      "9\n"
     ]
    }
   ],
   "source": [
    "my_var = 1\n",
    "my_var2 = 2\n",
    "my_var3 = 2*3\n",
    "print(my_var + my_var2 + my_var3)"
   ]
  },
  {
   "cell_type": "raw",
   "metadata": {},
   "source": [
    "Now, variables need not be numbers. They can also be text, which in Python is typically known as a <em>string</em>. \n",
    "Likewise, you can make operations with them, such as collating two strings."
   ]
  },
  {
   "cell_type": "code",
   "execution_count": 11,
   "metadata": {},
   "outputs": [
    {
     "name": "stdout",
     "output_type": "stream",
     "text": [
      "Hello WorldWhat a Nice Day !\n"
     ]
    }
   ],
   "source": [
    "text_var = \"Hello World\"\n",
    "text_var2 = \"What a Nice Day !\"\n",
    "print(text_var + text_var2)"
   ]
  },
  {
   "cell_type": "markdown",
   "metadata": {},
   "source": [
    "Do note that the print command does exactly what you ask it to do: it did not insert a space between the two strings here, it's for you to think of this kind of details.\n",
    "Another type of variable is a <em>list</em>, which is exactly what you think it is: it lists things, such as data, or even other variables, or even other lists ! Lists are denoted by using brackets and commas. For instance:"
   ]
  },
  {
   "cell_type": "code",
   "execution_count": 16,
   "metadata": {},
   "outputs": [
    {
     "name": "stdout",
     "output_type": "stream",
     "text": [
      "[1, 'lorem ipsum', 'What a Nice Day !', ['this is list number', 2]]\n"
     ]
    }
   ],
   "source": [
    "my_list = [1, \"lorem ipsum\", text_var2, [\"this is list number\", 2]]\n",
    "print(my_list)"
   ]
  },
  {
   "cell_type": "raw",
   "metadata": {},
   "source": [
    "A very important feature of lists is that they are ordered. This means if you know the (numerical) <em>index</em> of an item in a list, you can access it immediately. Here is how you do it (learn it once and for all: indexes start at 0).\n",
    "You can also select an element of a list by reference to its relative position.\n",
    "Finally, if you can select the item in a list of list by repeating the exercise."
   ]
  },
  {
   "cell_type": "code",
   "execution_count": 18,
   "metadata": {},
   "outputs": [
    {
     "name": "stdout",
     "output_type": "stream",
     "text": [
      "What a Nice Day !\n",
      "What a Nice Day !\n",
      "this is list number\n"
     ]
    }
   ],
   "source": [
    "print(my_list[2])\n",
    "print(my_list[-2])\n",
    "print(my_list[3][0])"
   ]
  },
  {
   "cell_type": "markdown",
   "metadata": {},
   "source": [
    "You can also select several elements in a list, by using the \":\" operator. For instance"
   ]
  },
  {
   "cell_type": "code",
   "execution_count": 29,
   "metadata": {},
   "outputs": [
    {
     "name": "stdout",
     "output_type": "stream",
     "text": [
      "[1, 'lorem ipsum']\n",
      "['What a Nice Day !', ['this is list number', 2]]\n",
      "[1, 'lorem ipsum']\n"
     ]
    }
   ],
   "source": [
    "print(my_list[0:2])\n",
    "print(my_list[2:])\n",
    "print(my_list[:2])"
   ]
  },
  {
   "cell_type": "raw",
   "metadata": {},
   "source": [
    "You will note that the third example returns the exact same answer as the first; this is because you often don't need to specify the 0 in a list."
   ]
  },
  {
   "cell_type": "markdown",
   "metadata": {},
   "source": [
    "## Functions\n",
    "\n",
    "Now, coming back to functions, they are what allows you to do operations over data and variables in Python. For this, you need to pass it the expected arguments. For instance:"
   ]
  },
  {
   "cell_type": "code",
   "execution_count": 19,
   "metadata": {},
   "outputs": [
    {
     "data": {
      "text/plain": [
       "3"
      ]
     },
     "execution_count": 19,
     "metadata": {},
     "output_type": "execute_result"
    }
   ],
   "source": [
    "def my_function(var1, var2):\n",
    "    return var1 + var2\n",
    "my_function(1,2)"
   ]
  },
  {
   "cell_type": "markdown",
   "metadata": {},
   "source": [
    "You can create, and you will create your own functions. However, Python is a shared resources, and for most uses someone has already created a function for you, such that you just need to import it. This is the system of packages and librairies that power Python. Here is how you do it:"
   ]
  },
  {
   "cell_type": "code",
   "execution_count": 25,
   "metadata": {},
   "outputs": [],
   "source": [
    "import pandas as pd"
   ]
  },
  {
   "cell_type": "markdown",
   "metadata": {},
   "source": [
    "## Syntax"
   ]
  },
  {
   "cell_type": "markdown",
   "metadata": {},
   "source": [
    "Finally, some basics notions of syntaxes. You write code as you would write anything: sequentially. This means you first define your variables or your functions before using it, or Python won't be able to know what you mean.\n",
    "An importan"
   ]
  },
  {
   "cell_type": "markdown",
   "metadata": {},
   "source": [
    "## Dataframes"
   ]
  },
  {
   "cell_type": "markdown",
   "metadata": {},
   "source": [
    "There are several types of dataframes in Python, but by far the most popular is the Pandas module, which you typically abbreviate as \"pd\". "
   ]
  },
  {
   "cell_type": "code",
   "execution_count": 28,
   "metadata": {},
   "outputs": [
    {
     "data": {
      "text/html": [
       "<div>\n",
       "<style scoped>\n",
       "    .dataframe tbody tr th:only-of-type {\n",
       "        vertical-align: middle;\n",
       "    }\n",
       "\n",
       "    .dataframe tbody tr th {\n",
       "        vertical-align: top;\n",
       "    }\n",
       "\n",
       "    .dataframe thead th {\n",
       "        text-align: right;\n",
       "    }\n",
       "</style>\n",
       "<table border=\"1\" class=\"dataframe\">\n",
       "  <thead>\n",
       "    <tr style=\"text-align: right;\">\n",
       "      <th></th>\n",
       "      <th>sepal length (cm)</th>\n",
       "      <th>sepal width (cm)</th>\n",
       "      <th>petal length (cm)</th>\n",
       "      <th>petal width (cm)</th>\n",
       "    </tr>\n",
       "  </thead>\n",
       "  <tbody>\n",
       "    <tr>\n",
       "      <th>0</th>\n",
       "      <td>5.1</td>\n",
       "      <td>3.5</td>\n",
       "      <td>1.4</td>\n",
       "      <td>0.2</td>\n",
       "    </tr>\n",
       "    <tr>\n",
       "      <th>1</th>\n",
       "      <td>4.9</td>\n",
       "      <td>3.0</td>\n",
       "      <td>1.4</td>\n",
       "      <td>0.2</td>\n",
       "    </tr>\n",
       "    <tr>\n",
       "      <th>2</th>\n",
       "      <td>4.7</td>\n",
       "      <td>3.2</td>\n",
       "      <td>1.3</td>\n",
       "      <td>0.2</td>\n",
       "    </tr>\n",
       "    <tr>\n",
       "      <th>3</th>\n",
       "      <td>4.6</td>\n",
       "      <td>3.1</td>\n",
       "      <td>1.5</td>\n",
       "      <td>0.2</td>\n",
       "    </tr>\n",
       "    <tr>\n",
       "      <th>4</th>\n",
       "      <td>5.0</td>\n",
       "      <td>3.6</td>\n",
       "      <td>1.4</td>\n",
       "      <td>0.2</td>\n",
       "    </tr>\n",
       "  </tbody>\n",
       "</table>\n",
       "</div>"
      ],
      "text/plain": [
       "   sepal length (cm)  sepal width (cm)  petal length (cm)  petal width (cm)\n",
       "0                5.1               3.5                1.4               0.2\n",
       "1                4.9               3.0                1.4               0.2\n",
       "2                4.7               3.2                1.3               0.2\n",
       "3                4.6               3.1                1.5               0.2\n",
       "4                5.0               3.6                1.4               0.2"
      ]
     },
     "execution_count": 28,
     "metadata": {},
     "output_type": "execute_result"
    }
   ],
   "source": [
    "from sklearn.datasets import load_iris\n",
    "iris = load_iris()\n",
    "# Load iris into a dataframe and set the field names\n",
    "df = pd.DataFrame(iris['data'], columns=iris['feature_names'])\n",
    "df.head()\n"
   ]
  },
  {
   "cell_type": "code",
   "execution_count": null,
   "metadata": {},
   "outputs": [],
   "source": []
  }
 ],
 "metadata": {
  "kernelspec": {
   "display_name": "Python 3",
   "language": "python",
   "name": "python3"
  },
  "language_info": {
   "codemirror_mode": {
    "name": "ipython",
    "version": 3
   },
   "file_extension": ".py",
   "mimetype": "text/x-python",
   "name": "python",
   "nbconvert_exporter": "python",
   "pygments_lexer": "ipython3",
   "version": "3.7.6"
  }
 },
 "nbformat": 4,
 "nbformat_minor": 2
}
