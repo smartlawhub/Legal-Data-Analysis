{
 "cells": [
  {
   "cell_type": "markdown",
   "metadata": {},
   "source": [
    "<h1>1. Introduction to Python</h1>\n",
    "\n",
    "<p>This is the first lesson in the context of Course HEC <i>Law Project Legal Data Analytics</i></p>\n",
    "\n",
    "<h2>Basic operations in Python</h2>\n",
    "\n",
    "<p>Computer code, at its most basic, calculates stuff. You can think of this course and everything that follows as expanding the uses of a calculator. For instance:</p>"
   ]
  },
  {
   "cell_type": "code",
   "execution_count": 12,
   "metadata": {},
   "outputs": [
    {
     "data": {
      "text/plain": [
       "4"
      ]
     },
     "execution_count": 12,
     "metadata": {},
     "output_type": "execute_result"
    }
   ],
   "source": [
    "2+2"
   ]
  },
  {
   "cell_type": "markdown",
   "metadata": {},
   "source": [
    "Typically, in Python you'd use the command \"print\" to have stuff appear on your screen. It is also more precise, as it gives the computer the exact command to process. \n",
    "For instance, if you add a line of computations above, Python will only render the last line - but if you insert two \"print\" statement, one after the other, both will render.\n",
    "\"print\" is a <em>command</em>. Like most commands, it requires some <em>parameters</em>, that are indicated within brackets. Eg.  "
   ]
  },
  {
   "cell_type": "code",
   "execution_count": 3,
   "metadata": {},
   "outputs": [
    {
     "name": "stdout",
     "output_type": "stream",
     "text": [
      "4\n",
      "6\n"
     ]
    }
   ],
   "source": [
    "print(2+2)\n",
    "print(2*3)"
   ]
  },
  {
   "cell_type": "markdown",
   "metadata": {},
   "source": [
    "We will come back to functions a bit later. Before that, we need to discuss <em>variables</em>, which are objects in which you store information.\n",
    "Variables are typically written in lower caps; the way to you assign data to a variable is with a \"=\" sign, as follows. You can then use variables directly in functions (such as print), or do operations between them.\n",
    "What do you think will print if we press Run ?"
   ]
  },
  {
   "cell_type": "code",
   "execution_count": 4,
   "metadata": {},
   "outputs": [
    {
     "name": "stdout",
     "output_type": "stream",
     "text": [
      "9\n"
     ]
    }
   ],
   "source": [
    "my_var = 1\n",
    "my_var2 = 2\n",
    "my_var3 = 2*3\n",
    "print(my_var + my_var2 + my_var3)"
   ]
  },
  {
   "cell_type": "markdown",
   "metadata": {},
   "source": [
    "There are different types of numbers in Python, but we'll see that later.\n",
    "Now, variables need not be numbers. They can also be text, which in Python is typically known as a <em>string</em>. \n",
    "Likewise, you can make operations with them, such as collating two strings."
   ]
  },
  {
   "cell_type": "code",
   "execution_count": 100,
   "metadata": {},
   "outputs": [
    {
     "name": "stdout",
     "output_type": "stream",
     "text": [
      "Hello WorldHello Cake\n"
     ]
    }
   ],
   "source": [
    "text_var = \"Hello World\"\n",
    "text_var2 = \"Hello Cake\"\n",
    "print(text_var + text_var2)"
   ]
  },
  {
   "cell_type": "markdown",
   "metadata": {},
   "source": [
    "Do note that the print command does exactly what you ask it to do: it did not insert a space between the two strings here, it's for you to think of this kind of details.\n",
    "\n",
    "In what follows, we'll use text and strings taken from Mervyn Peake's poem <a href =\"https://gormenghasts.tumblr.com/post/80656474535/the-frivolous-cake-a-freckled-and-frivolous-cake\"><i>The Frivolous Cake</i></a>. I have numeroted every verse; we'll store it in a variable for now and come back to it later."
   ]
  },
  {
   "cell_type": "code",
   "execution_count": 91,
   "metadata": {},
   "outputs": [
    {
     "name": "stdout",
     "output_type": "stream",
     "text": [
      "The Frivolous Cake\n",
      "1.1  A freckled and frivolous cake there was\n",
      "1.1  That sailed upon a pointless sea, \n",
      "1.2  Or any lugubrious lake there was\n",
      "1.3  In a manner emphatic and free.\n",
      "1.4  How jointlessly, and how jointlessly\n",
      "1.5  The frivolous cake sailed by\n",
      "1.6  On the waves of the ocean that pointlessly\n",
      "1.7  Threw fish to the lilac sky.\n",
      "\n",
      "2.1  Oh, plenty and plenty of hake there was\n",
      "2.1  Of a glory beyond compare, \n",
      "2.2  And every conceivable make there was\n",
      "2.3  Was tossed through the lilac air.\n",
      "\n",
      "3.1  Up the smooth billows and over the crests\n",
      "3.1  Of the cumbersome combers flew\n",
      "3.2  The frivolous cake with a knife in the wake\n",
      "3.3  Of herself and her curranty crew.\n",
      "3.4  Like a swordfish grim it would bounce and skim\n",
      "3.5  (This dinner knife fierce and blue) , \n",
      "3.6  And the frivolous cake was filled to the brim\n",
      "3.7  With the fun of her curranty crew.\n",
      "\n",
      "4.1  Oh, plenty and plenty of hake there was\n",
      "4.1  Of a glory beyond compare -\n",
      "4.2  And every conceivable make there was\n",
      "4.3  Was tossed through the lilac air.\n",
      "\n",
      "5.1  Around the shores of the Elegant Isles\n",
      "5.1  Where the cat-fish bask and purr\n",
      "5.2  And lick their paws with adhesive smiles\n",
      "5.3  And wriggle their fins of fur, \n",
      "5.4  They fly and fly ‘neath the lilac sky -\n",
      "5.5  The frivolous cake, and the knife\n",
      "5.6  Who winketh his glamorous indigo eye\n",
      "5.7  In the wake of his future wife.\n",
      "\n",
      "6.1  The crumbs blow free down the pointless sea\n",
      "6.1  To the beat of a cakey heart\n",
      "6.2  And the sensitive steel of the knife can feel\n",
      "6.3  That love is a race apart\n",
      "6.4  In the speed of the lingering light are blown\n",
      "6.5  The crumbs to the hake above, \n",
      "6.6  And the tropical air vibrates to the drone\n",
      "6.7  Of a cake in the throes of love.\n"
     ]
    }
   ],
   "source": [
    "poem = \"The Frivolous Cake\\n1.1  A freckled and frivolous cake there was\\n1.1  That sailed upon a pointless sea, \\n1.2  Or any lugubrious lake there was\\n1.3  In a manner emphatic and free.\\n1.4  How jointlessly, and how jointlessly\\n1.5  The frivolous cake sailed by\\n1.6  On the waves of the ocean that pointlessly\\n1.7  Threw fish to the lilac sky.\\n\\n2.1  Oh, plenty and plenty of hake there was\\n2.1  Of a glory beyond compare, \\n2.2  And every conceivable make there was\\n2.3  Was tossed through the lilac air.\\n\\n3.1  Up the smooth billows and over the crests\\n3.1  Of the cumbersome combers flew\\n3.2  The frivolous cake with a knife in the wake\\n3.3  Of herself and her curranty crew.\\n3.4  Like a swordfish grim it would bounce and skim\\n3.5  (This dinner knife fierce and blue) , \\n3.6  And the frivolous cake was filled to the brim\\n3.7  With the fun of her curranty crew.\\n\\n4.1  Oh, plenty and plenty of hake there was\\n4.1  Of a glory beyond compare -\\n4.2  And every conceivable make there was\\n4.3  Was tossed through the lilac air.\\n\\n5.1  Around the shores of the Elegant Isles\\n5.1  Where the cat-fish bask and purr\\n5.2  And lick their paws with adhesive smiles\\n5.3  And wriggle their fins of fur, \\n5.4  They fly and fly ‘neath the lilac sky -\\n5.5  The frivolous cake, and the knife\\n5.6  Who winketh his glamorous indigo eye\\n5.7  In the wake of his future wife.\\n\\n6.1  The crumbs blow free down the pointless sea\\n6.1  To the beat of a cakey heart\\n6.2  And the sensitive steel of the knife can feel\\n6.3  That love is a race apart\\n6.4  In the speed of the lingering light are blown\\n6.5  The crumbs to the hake above, \\n6.6  And the tropical air vibrates to the drone\\n6.7  Of a cake in the throes of love.\"\n",
    "print(poem)"
   ]
  },
  {
   "cell_type": "markdown",
   "metadata": {},
   "source": [
    "Another type of variable is a <em>list</em>, which is exactly what you think it is: it lists things, such as data, or even other variables, or even other lists ! Lists are denoted by using brackets and commas. You update a list by using the function \"append\" directly from the list."
   ]
  },
  {
   "cell_type": "code",
   "execution_count": 55,
   "metadata": {},
   "outputs": [
    {
     "name": "stdout",
     "output_type": "stream",
     "text": [
      "[1, 'Frivolous', 'Cake', ['this is list number', 2]]\n",
      "[1, 'Frivolous', 'Cake', ['this is list number', 2], 'Swordfish']\n"
     ]
    }
   ],
   "source": [
    "my_list = [1, \"Frivolous\", text_var2, [\"this is list number\", 2]]\n",
    "print(my_list)\n",
    "my_list.append(\"Swordfish\")\n",
    "print(my_list)"
   ]
  },
  {
   "cell_type": "markdown",
   "metadata": {},
   "source": [
    "A very important feature of lists is that they are ordered. This means if you know the (numerical) <em>index</em> of an item in a list, you can access it immediately. Here is how you do it (learn it once and for all: indexes start at 0; the first element in a list can be found at index 0).\n",
    "You can also select an element of a list by reference to its relative position.\n",
    "Finally, if you can select the item in a list of list by collating indexes."
   ]
  },
  {
   "cell_type": "code",
   "execution_count": 19,
   "metadata": {},
   "outputs": [
    {
     "name": "stdout",
     "output_type": "stream",
     "text": [
      "What a Nice Day !\n",
      "['this is list number', 2]\n",
      "this is list number\n"
     ]
    }
   ],
   "source": [
    "print(my_list[2])\n",
    "print(my_list[-2])\n",
    "print(my_list[3][0])"
   ]
  },
  {
   "cell_type": "markdown",
   "metadata": {},
   "source": [
    "You can also select several elements in a list, by using the \":\" operator. The operator is not inclusive of the outer limit, meaning that the item on the right-hand-side of the \":\" operator won't be included in the list that is rendered. For instance, if you look for indexes [0:2], you'll get items at index 0 and index 1, but not 2 (because it's excluded).\n",
    "\n",
    "You can leave the selection open-ended, according to the same principles: the right-hand-side index won't be included, but the left-hand-side one is."
   ]
  },
  {
   "cell_type": "code",
   "execution_count": 22,
   "metadata": {},
   "outputs": [
    {
     "name": "stdout",
     "output_type": "stream",
     "text": [
      "[1, 'lorem ipsum']\n",
      "[1, 'lorem ipsum']\n",
      "['What a Nice Day !', ['this is list number', 2], 'New Item']\n"
     ]
    }
   ],
   "source": [
    "print(my_list[0:2])\n",
    "print(my_list[:2])\n",
    "print(my_list[2:])"
   ]
  },
  {
   "cell_type": "markdown",
   "metadata": {},
   "source": [
    "Another data type is what's called a boolean. It is simply a statement True or False, but it is often very useful when you have to check conditions."
   ]
  },
  {
   "cell_type": "code",
   "execution_count": 21,
   "metadata": {},
   "outputs": [
    {
     "name": "stdout",
     "output_type": "stream",
     "text": [
      "True\n",
      "False\n"
     ]
    }
   ],
   "source": [
    "var_bol = True\n",
    "var_bol2 = False\n",
    "print(bool(var_bol))\n",
    "print(bool(var_bol2))"
   ]
  },
  {
   "cell_type": "markdown",
   "metadata": {},
   "source": [
    "Finally, there are two other types of data worth knowing at this stage: sets and dictionaries.\n",
    "Sets are like lists (they can take any sort of variable, but not a list), except they are unordered, and they can't have duplicates. They are very useful to check if two sets of data overlap, or what they have or don't have in common. Since they are not ordered, you cannot select an element from a set. If you create a set with a duplicate element, it will ignore it and returns a set without the duplicate."
   ]
  },
  {
   "cell_type": "code",
   "execution_count": 27,
   "metadata": {},
   "outputs": [
    {
     "name": "stdout",
     "output_type": "stream",
     "text": [
      "{1, 2, 3, 4, 'Cake'}\n"
     ]
    }
   ],
   "source": [
    "my_set = {1, 2, 2, 3, 3, 4, \"Cake\", \"Cake\"}\n",
    "print(my_set)"
   ]
  },
  {
   "cell_type": "markdown",
   "metadata": {},
   "source": [
    "A Dictionary is a type of data that links a <b>key</b> to a <b>value</b>. The key becomes the index of your dictionary; if you give a key to the dictionary, it will return the value. It is useful to track down relations between different data points. Here as well, you can use any type of data you want. You use brackets, and indicate the relationship with a \":\" operator."
   ]
  },
  {
   "cell_type": "code",
   "execution_count": 28,
   "metadata": {},
   "outputs": [
    {
     "name": "stdout",
     "output_type": "stream",
     "text": [
      "[1, 'Frivolous', 'What a Nice Day !', ['this is list number', 2], 'Cake']\n"
     ]
    }
   ],
   "source": [
    "my_dic = {1 : \"Mervyn\", \"Peake\": 2, \"My List\" : my_list}\n",
    "print(my_dic[\"My List\"])"
   ]
  },
  {
   "cell_type": "markdown",
   "metadata": {},
   "source": [
    "## Functions\n",
    "\n",
    "Now, coming back to functions, they are what allows you to do operations over data and variables in Python (more info <a href='https://www.w3schools.com/python/python_functions.asp'>here</a>). For this, you need to pass it the expected arguments. Here is what a function looks like, and how you create it:"
   ]
  },
  {
   "cell_type": "code",
   "execution_count": 19,
   "metadata": {},
   "outputs": [
    {
     "data": {
      "text/plain": [
       "3"
      ]
     },
     "execution_count": 19,
     "metadata": {},
     "output_type": "execute_result"
    }
   ],
   "source": [
    "def my_function(var1, var2):\n",
    "    return var1 + var2\n",
    "my_function(1,2)"
   ]
  },
  {
   "cell_type": "markdown",
   "metadata": {},
   "source": [
    "This is a very simple function returning a sum, and while you'd get the same result merely by doing the sum immediately (without passing it to a function), it's sometimes useful to write down things formally in this fashion.\n",
    "\n",
    "Functions can be much more complicated. Notably, while you need to pass all expected arguments (also called parameters), you can also specify \"bonus\" arguments that are not necessarily required."
   ]
  },
  {
   "cell_type": "code",
   "execution_count": 30,
   "metadata": {},
   "outputs": [
    {
     "name": "stdout",
     "output_type": "stream",
     "text": [
      "1\n",
      "3\n"
     ]
    }
   ],
   "source": [
    "def my_function(var1, var2, *var3):\n",
    "    if var3: # That is, if anything was passed as var3\n",
    "        return var1+var2\n",
    "    else:\n",
    "        return var2-var1\n",
    "print(my_function(1, 2))\n",
    "print(my_function(1, 2, True))"
   ]
  },
  {
   "cell_type": "markdown",
   "metadata": {},
   "source": [
    "You can create, and you will create your own functions. However, Python has already plenty of built-in functions, so that you don't have to invent the wheel everytime you need to do something. Here are three very common functions."
   ]
  },
  {
   "cell_type": "code",
   "execution_count": 31,
   "metadata": {},
   "outputs": [
    {
     "name": "stdout",
     "output_type": "stream",
     "text": [
      "27\n",
      "['t', 'h', 'i', 's', ' ', 'w', 'i', 'l', 'l', ' ', 'b', 'e', ' ', 't', 'u', 'r', 'n', 'e', 'd', ' ', 'i', 'n', 't', 'o', ' ', 'a', ' ', 'l', 'i', 's', 't', ' ', 'o', 'f', ' ', 'e', 'l', 'e', 'm', 'e', 'n', 't', 's']\n",
      "2\n"
     ]
    }
   ],
   "source": [
    "print(len(\"How long is this sentence ?\"))\n",
    "print(list(\"this will be turned into a list of elements\"))\n",
    "print(round(2.3))"
   ]
  },
  {
   "cell_type": "markdown",
   "metadata": {},
   "source": [
    "In addition, Python is a shared resources, and for most uses someone has already created a function for you, such that you just need to import it. This is the system of packages and librairies that power Python. \n",
    "You can either import a full package (such as numpy here), or dedicated functions or \"modules\" in a package. The difference is in terms of performance (some packages are heavy). You then call the functions in accordance with their name as imported, a name that you can set yourself (some are conventional: \"pandas\" is nearly always \"pd\")"
   ]
  },
  {
   "cell_type": "code",
   "execution_count": 11,
   "metadata": {},
   "outputs": [],
   "source": [
    "import numpy\n",
    "from collections import Counter, defaultdict\n",
    "import pandas as pd"
   ]
  },
  {
   "cell_type": "markdown",
   "metadata": {},
   "source": [
    "The first package here is specialised in numbers and mathematical operations; it typically goes further than the basic Python functions. For instance, if you want to compute a mean:"
   ]
  },
  {
   "cell_type": "code",
   "execution_count": 41,
   "metadata": {},
   "outputs": [
    {
     "data": {
      "text/plain": [
       "7.75"
      ]
     },
     "execution_count": 41,
     "metadata": {},
     "output_type": "execute_result"
    }
   ],
   "source": [
    "numpy.mean([1, 5, 10, 15])"
   ]
  },
  {
   "cell_type": "markdown",
   "metadata": {},
   "source": [
    "Counter and Defaultdict are two tools invented to fulfill a number of usages. A counter will count (duh), which is very important in some contexts. A defaultdict is a dictionary that can better accomodate keys that are not yet there - which avoids throwing errors. This often comes handy, as you'll see."
   ]
  },
  {
   "cell_type": "markdown",
   "metadata": {},
   "source": [
    "## Syntax\n",
    "\n",
    "Finally, some basics notions of syntaxes. You write code as you would write anything: sequentially. This means you first define your variables or your functions before using it, or Python won't be able to know what you mean.\n",
    "\n",
    "An important first concept is the loop, which tells Python to do something as long as a condition is not fulfilled. The typical condition is to go over (the term is \"iterate\") a number of elements, for instance in a list."
   ]
  },
  {
   "cell_type": "code",
   "execution_count": 56,
   "metadata": {},
   "outputs": [
    {
     "name": "stdout",
     "output_type": "stream",
     "text": [
      "1\n",
      "Frivolous\n",
      "Cake\n",
      "['this is list number', 2]\n",
      "Swordfish\n"
     ]
    }
   ],
   "source": [
    "for el in my_list:\n",
    "    print(el)"
   ]
  },
  {
   "cell_type": "markdown",
   "metadata": {},
   "source": [
    "You will note that for your loop to work, the second level of instructions needs to be shifted to the right.\n",
    "\n",
    "The second important syntax element, and really the basic building block of so much code that runs your daily life, is the if/else statement. It simply asks if a condition is met, and then accomplish the resulting code. \n",
    "In the example below, we will check that the letter \"e\" (i.e., a string corresponding to the lower case \"e\") is present in a list of words."
   ]
  },
  {
   "cell_type": "code",
   "execution_count": 57,
   "metadata": {},
   "outputs": [
    {
     "name": "stdout",
     "output_type": "stream",
     "text": [
      "A  : No 'e' in that word\n",
      "Freckled\n",
      "and  : No 'e' in that word\n",
      "Frivolous  : No 'e' in that word\n",
      "Cake\n",
      "There\n",
      "Was  : No 'e' in that word\n"
     ]
    }
   ],
   "source": [
    "words = [\"A\", \"Freckled\", \"and\", \"Frivolous\", \"Cake\", \"There\", \"Was\"] \n",
    "for word in words: \n",
    "    if \"e\" in word: \n",
    "        print (word)\n",
    "    else:\n",
    "        print (word, \" : No 'e' in that word\")"
   ]
  },
  {
   "cell_type": "markdown",
   "metadata": {},
   "source": [
    "They are several ways to syntax if statements:\n",
    "<ul><li>With an \"in\" if need to check that an item is part of a list or a set</li>\n",
    "    <li>By itself if you are checking a boolean (\"if my_bol:\" will return True or False depending on the value of my_bol)</li>\n",
    "    <li>With the double equal sign \"==\" for identity between two variables, or \"!=\" for lack of identity</li>\n",
    "    <li>With a combination of the signs &gt;, &lt; and = when comparing two numbers.</li>\n",
    "    <li>You can also alter conditions with \"and\" or \"or\".</li>\n",
    "    </ul>\n",
    "Finally, a middle point between if and else is \"elif\", which gives you another chance to check if a condition is met."
   ]
  },
  {
   "cell_type": "code",
   "execution_count": 90,
   "metadata": {},
   "outputs": [
    {
     "name": "stdout",
     "output_type": "stream",
     "text": [
      "A Freckled and Frivolous Cake There Was\n",
      "Fourth Condition Met\n"
     ]
    }
   ],
   "source": [
    "sentence = \" \".join(words)\n",
    "print(sentence)\n",
    "my_bol = False\n",
    "\n",
    "if \"frivolous\" in sentence:\n",
    "    print(\"First Condition Met\")\n",
    "elif my_bol:\n",
    "    print(\"Second Condition Met\")\n",
    "elif len(sentence) == 50:\n",
    "    print(\"Third Condition Met\")\n",
    "elif len(sentence) >= 30 and \"e\" in sentence or \"Cake\" in sentence:\n",
    "    print(\"Fourth Condition Met\")\n",
    "else:\n",
    "    pass"
   ]
  },
  {
   "cell_type": "markdown",
   "metadata": {},
   "source": [
    "Note that an issue of adding too many conditions to a line, as above, is that you don't know which one was true or false.\n",
    "\n",
    "This is all, or nearly. On the basis of the very basic concepts I just introduced to you run most of the rest of the Python scripts you can see out there. "
   ]
  },
  {
   "cell_type": "markdown",
   "metadata": {},
   "source": [
    "## Regex\n",
    "\n",
    "It's time to introduce regular expressions, or \"regex\" for short. (more info <a href='https://docs.python.org/3/library/re.html'>here</a>)\n",
    "\n",
    "We'll spend some time on it because it is extremely important for text-heavy applications; in a course about finance or statistics we would not need it too much, but since we'll be analysing judgments and legal texts, regexes are essential.\n",
    "\n",
    "Regexes are patterns that allow you to identify text. These patterns rely on special symbols to cover a range of characters in natural, written language. For instance, the symbol \"\\d\" means \"any number\", and if you try to match this pattern with a sentence that includes a number, there will be a positive result."
   ]
  },
  {
   "cell_type": "code",
   "execution_count": 58,
   "metadata": {
    "scrolled": true
   },
   "outputs": [
    {
     "name": "stdout",
     "output_type": "stream",
     "text": [
      "<regex.Match object; span=(7, 8), match='3'>\n"
     ]
    }
   ],
   "source": [
    "import regex as re # regex is typically abbreviated as re\n",
    "\n",
    "target_sentence = \"Count: 3 frivolous cakes and 4 knifes !\"\n",
    "pattern = \"\\d\"\n",
    "sear = re.search(pattern, target_sentence)\n",
    "print(sear)"
   ]
  },
  {
   "cell_type": "markdown",
   "metadata": {},
   "source": [
    "Regex will return a regex object, which comes with a number of characteristics. For instance, the \"sear\" object stores the start of the matching pattern in the target sentence, as well as its end, and the exact matched pattern. "
   ]
  },
  {
   "cell_type": "code",
   "execution_count": 33,
   "metadata": {},
   "outputs": [
    {
     "name": "stdout",
     "output_type": "stream",
     "text": [
      "26\n",
      "27\n",
      "3\n"
     ]
    }
   ],
   "source": [
    "print(sear.start())\n",
    "print(sear.end())\n",
    "print(sear.group())"
   ]
  },
  {
   "cell_type": "markdown",
   "metadata": {},
   "source": [
    "You'd note that there were two numbers in the target sentence, but the \"search\" function only found one - the first one. To get all matches, you need another function, which is \"findall\", and returns a list."
   ]
  },
  {
   "cell_type": "code",
   "execution_count": 44,
   "metadata": {},
   "outputs": [
    {
     "name": "stdout",
     "output_type": "stream",
     "text": [
      "['3', '4']\n"
     ]
    }
   ],
   "source": [
    "print(re.findall(pattern, target_sentence))"
   ]
  },
  {
   "cell_type": "markdown",
   "metadata": {},
   "source": [
    "In addition, you have re.sub(pattern, newpattern, target_sentence), that <i>substitutes</i> a pattern for a new pattern, as well as re.split(pattern, target_sentence) which returns a list of strings from the original text, as split by the pattern. Notice that the result does not display the splitting pattern."
   ]
  },
  {
   "cell_type": "code",
   "execution_count": 86,
   "metadata": {},
   "outputs": [
    {
     "name": "stdout",
     "output_type": "stream",
     "text": [
      "The Frivolous Hake (?!)\n",
      "\n",
      "\n",
      "['The', 'Frivolous', 'Cake\\n\\n']\n"
     ]
    }
   ],
   "source": [
    "print(re.sub(\"Cake\", \"Hake (?!)\", poem[:20]))\n",
    "print(re.split(\" \", poem[:20]))"
   ]
  },
  {
   "cell_type": "markdown",
   "metadata": {},
   "source": [
    "All very good, now, here are the basic patterns:\n",
    "<ul><li>Any particular word or exact spelling will match itself: \"cake\" will match \"cake\" (but not \"Cake\", unless you command regex to be case-insensitive);</li>\n",
    "    <li>\".\", catches anything, really, except a newline;</li>\n",
    "    <li>\\s matches white spaces, including line breaks, etc.; note that the upper-case version, \\S, matches anything <i>but</i> a white space; and</li>\n",
    "    <li>\\w matches a letter, while \\W matches anything but a letter.</li>\n",
    "    </ul>\n",
    "In addition, the following rules apply\n",
    "<ul><li>Square brackets can be used to indicate a range of characters, such as \"[0-8a-q]\" will only look for a number between 0 and 8 OR a letter between a and q;</li>\n",
    "    <li>The symbol \"|\" (that's Alt + 6 on your keyboard) means \"or\";</li>\n",
    "    <li>You'd indicate the expected number of hits with braces: [A-Z]{3} means you are looking for three (consecutive) upper-case letters between A and Z, while [A-Z]{3,6} means you expect between 3 and 6, and [A-Z]{3,} means \"at least 3\" (but potentially more). Two special characters do the same job, but open-ended, \"+\" means that you are expected at least one hit, while \"*\" means you expect any number of hits (including none);</li>\n",
    "    <li>Any pattern becomes optional if you add a \"?\" behind it: \"cakey?\" will find \"cakey\" or \"cake\"; and</li>\n",
    "    <li>You can group patterns by bracketing them with parentheses, and then build around it: for instance, \"([0-8a-q])|([9r-z])\". You can even name the groups to retrieve them precisely from the regex object when there is a match.</li>\n",
    "    <li>Characters that are usually used for patterns (such as \"?\" or \"|\") can be searched for themselves by \"escaping\" them with an anti-slash \"\\\" (and the antislash can be escaped with another antislash: \"\\\\\" will look for \"\\\")</li>\n",
    "    </ul>\n",
    "\n",
    "Regex really turns powerful in that you can add a number of conditions to you regex pattern.\n",
    "\n",
    "<ul><li>A pattern preceded by a \"^\" will be looked for unly at the beginning of a line; a pattern followed by a $ will only look for it if it finishes the line;</i>\n",
    "    <li>Adding a \"(?=2ndpattern)\" <i>after</i> your first pattern will indicate that your first pattern will match <i>only if</i> the target text matches your second pattern, but the second pattern won't be caught by the regex object (this is very useful, e.g., for substitution).</li>\n",
    "    <li>In the same vein, \"(?!2ndpattern)\", \"(?&lt;=2ndpattern)\", and \"(?!&lt;2ndpattern)\" are conditions for \"if it does not match after\"; \"if it matches before\", and \"if it doesn't match before\", respectively.</li>    \n",
    "    </ul>\n",
    "\n",
    "Latest versions of regex also provides for fuzzy searches - that is, with a bit of leeway to catch things despite errors in the pattern (this is exponentially greedy in resources, though, so be careful when you use it). For instance, re.search(\"(coke){e<=1}\", poem), where the braced statement means \"one or less errors (e)\" will find \"cake\", as there is only one difference (the latter o/a) between the pattern and the word. \n",
    "\n",
    "Finally, there are so-called <i>flags</i> that are typically used outside of the pattern (but can be used inside for a single sub-pattern), as a third argument, to indicate further instructions, such as:\n",
    "<ul><li>Ignorecase, \"re.I\"</li>\n",
    "    <li>Ignore linebreaks \"re.S\"</li>\n",
    "    <li>Verbose (allows you to add white spaces that don't count as pattern), \"re.X\"</li>\n",
    "    <li>Multilines ($ and ^ will work for any single line, and not simply for the start and end of the full text), \"re.M\"</li>\n",
    "    </ul>\n",
    "\n",
    "Regex count as boolean: \"if sear\" will return \"True\" if there was a match, while you check for a null result by asking \"if sear is None\".\n",
    "\n",
    "Here is a full-on example:"
   ]
  },
  {
   "cell_type": "code",
   "execution_count": 92,
   "metadata": {},
   "outputs": [
    {
     "name": "stdout",
     "output_type": "stream",
     "text": [
      "Elegant\n",
      "Isles\n"
     ]
    }
   ],
   "source": [
    "sear = re.search(r\"\"\"(?<=the\\s)   # A look-before condition\n",
    "                    (?P<first>[A-Z]\\w*?)  # first capitalised term we are looking for; note the ? after *\n",
    "                    \\s?  # Then we look for a white space\n",
    "                    (?P<second>[A-Z]\\w*?$)  # and finally the second capitalised word\"\"\", poem, re.M|re.X)\n",
    "print(sear.group(\"first\"))\n",
    "print(sear.group(\"second\"))"
   ]
  },
  {
   "cell_type": "markdown",
   "metadata": {},
   "source": [
    "### Exercise 1\n",
    "\n",
    "Write some code that will identify the number of the line that meets the following conditions: \n",
    "<ul><li>An odd number of words, but fewer than 8 in total (<u>not</u> counting the numbers at the beginning of the line)</li>\n",
    "    <li>At least one \"ake\" sound in it;</li>\n",
    "    <li>No capitalised letter except for the first one; and</li>\n",
    "    <li>The most \"e\"s;</li>\n",
    "    </ul>\n",
    "\n",
    "There is only one line that meets all these conditions. You can do it multiple ways, using all the methods you have learned so far.\n",
    "\n",
    "<em>Hint</em>: Look at the raw poem above (remove the \"print\" statement), and find the relevant pattern to split the poem in lines. Then identify the relevant pattern for each line !\n",
    "\n",
    "<em>Hint 2</em>: Think analytically: what's the first step of your algorithm, what's the condition to proceed to the second step, etc.\n",
    "\n",
    "<em>Hint 3</em>: Be careful of the numbers at the beginning of a line: they count as two words, and you should account for it in one way or another !"
   ]
  },
  {
   "cell_type": "code",
   "execution_count": 99,
   "metadata": {},
   "outputs": [
    {
     "name": "stdout",
     "output_type": "stream",
     "text": [
      "1.1\n"
     ]
    }
   ],
   "source": [
    "highest_number = 0\n",
    "num = \"\"\n",
    "for line in [x for x in re.split(\"\\n\", poem) if len(x)]:\n",
    "    cleaned_line = re.sub(\"\\d.\\d \", \"\", line).strip()\n",
    "    if re.search(\"ake\", cleaned_line) and len(re.split(\" \", cleaned_line)) in [3,5,7] and re.search(\"[A-Z]\", cleaned_line[1:]) is None:\n",
    "        lenline = len(re.findall(\"e\", line))\n",
    "        if lenline > highest_number:\n",
    "            highest_number = lenline\n",
    "            num = line.strip()[:3]\n",
    "print(num)"
   ]
  },
  {
   "cell_type": "markdown",
   "metadata": {},
   "source": [
    "<h1>2. Interlude: Coding and VCS</h1>\n",
    "\n",
    "<h2>Short overview of programming languages</h2>"
   ]
  },
  {
   "cell_type": "markdown",
   "metadata": {},
   "source": [
    "Python is only one among many programming languages. There are several ways to categorise them:\n",
    "<ul><li>Level: machine level or compiled</li>\n",
    "    <li>Purpose: general or specialised</li>\n",
    "    <li>Structure: object-oriented</li>\n",
    "    </ul>\n",
    "[To be completed]"
   ]
  },
  {
   "cell_type": "markdown",
   "metadata": {},
   "source": [
    "<h2>Github and Version Control</h2>"
   ]
  },
  {
   "cell_type": "markdown",
   "metadata": {},
   "source": [
    "# 3. Introduction to Structured Data\n",
    "\n",
    "## Dataframes\n",
    "\n",
    "A dataframe is a way to structurate data in Python, like an spreadsheet. There are several types of dataframes in Python, but by far the most popular is the Pandas module, which you typically abbreviate as \"pd\".\n",
    "Pandas allows you to load a pre-existing dataset. While there are several ways to store data, in this course we'll mostly handle CSV files, which are easy to work with."
   ]
  },
  {
   "cell_type": "code",
   "execution_count": 43,
   "metadata": {},
   "outputs": [
    {
     "name": "stderr",
     "output_type": "stream",
     "text": [
      "C:\\Users\\damie\\Anaconda3\\lib\\site-packages\\IPython\\core\\interactiveshell.py:3051: DtypeWarning: Columns (0) have mixed types. Specify dtype option on import or set low_memory=False.\n",
      "  interactivity=interactivity, compiler=compiler, result=result)\n"
     ]
    }
   ],
   "source": [
    "import pandas as pd\n",
    "df = pd.read_csv(\"DeathCOVID19.csv\", encoding=\"latin1\")\n"
   ]
  },
  {
   "cell_type": "markdown",
   "metadata": {},
   "source": [
    "A good idea when you handle a new dataset is to look at what it looks like. The command \"head\" allows you to get a quick peek at the data (up to a number of rows)."
   ]
  },
  {
   "cell_type": "code",
   "execution_count": 44,
   "metadata": {
    "scrolled": false
   },
   "outputs": [
    {
     "data": {
      "text/html": [
       "<div>\n",
       "<style scoped>\n",
       "    .dataframe tbody tr th:only-of-type {\n",
       "        vertical-align: middle;\n",
       "    }\n",
       "\n",
       "    .dataframe tbody tr th {\n",
       "        vertical-align: top;\n",
       "    }\n",
       "\n",
       "    .dataframe thead th {\n",
       "        text-align: right;\n",
       "    }\n",
       "</style>\n",
       "<table border=\"1\" class=\"dataframe\">\n",
       "  <thead>\n",
       "    <tr style=\"text-align: right;\">\n",
       "      <th></th>\n",
       "      <th>COMDOM</th>\n",
       "      <th>DEPDOM</th>\n",
       "      <th>ANAIS</th>\n",
       "      <th>MNAIS</th>\n",
       "      <th>JNAIS</th>\n",
       "      <th>SEXE</th>\n",
       "      <th>ADEC</th>\n",
       "      <th>MDEC</th>\n",
       "      <th>JDEC</th>\n",
       "      <th>COMDEC</th>\n",
       "      <th>DEPDEC</th>\n",
       "      <th>lieudec2</th>\n",
       "      <th>paynais</th>\n",
       "      <th>regdec</th>\n",
       "      <th>REGDOM</th>\n",
       "    </tr>\n",
       "  </thead>\n",
       "  <tbody>\n",
       "    <tr>\n",
       "      <th>0</th>\n",
       "      <td>NaN</td>\n",
       "      <td>99.0</td>\n",
       "      <td>1987</td>\n",
       "      <td>11</td>\n",
       "      <td>28</td>\n",
       "      <td>1</td>\n",
       "      <td>2020</td>\n",
       "      <td>1</td>\n",
       "      <td>17</td>\n",
       "      <td>13205.0</td>\n",
       "      <td>13.0</td>\n",
       "      <td>HopCli</td>\n",
       "      <td>350</td>\n",
       "      <td>PACA</td>\n",
       "      <td>Autres</td>\n",
       "    </tr>\n",
       "    <tr>\n",
       "      <th>1</th>\n",
       "      <td>NaN</td>\n",
       "      <td>99.0</td>\n",
       "      <td>1986</td>\n",
       "      <td>6</td>\n",
       "      <td>4</td>\n",
       "      <td>1</td>\n",
       "      <td>2020</td>\n",
       "      <td>2</td>\n",
       "      <td>17</td>\n",
       "      <td>75115.0</td>\n",
       "      <td>75.0</td>\n",
       "      <td>HopCli</td>\n",
       "      <td>122</td>\n",
       "      <td>Ile-de-France</td>\n",
       "      <td>Autres</td>\n",
       "    </tr>\n",
       "    <tr>\n",
       "      <th>2</th>\n",
       "      <td>NaN</td>\n",
       "      <td>99.0</td>\n",
       "      <td>1958</td>\n",
       "      <td>2</td>\n",
       "      <td>13</td>\n",
       "      <td>1</td>\n",
       "      <td>2020</td>\n",
       "      <td>3</td>\n",
       "      <td>22</td>\n",
       "      <td>92024.0</td>\n",
       "      <td>92.0</td>\n",
       "      <td>HopCli</td>\n",
       "      <td>316</td>\n",
       "      <td>Ile-de-France</td>\n",
       "      <td>Autres</td>\n",
       "    </tr>\n",
       "    <tr>\n",
       "      <th>3</th>\n",
       "      <td>NaN</td>\n",
       "      <td>99.0</td>\n",
       "      <td>1933</td>\n",
       "      <td>10</td>\n",
       "      <td>31</td>\n",
       "      <td>2</td>\n",
       "      <td>2020</td>\n",
       "      <td>1</td>\n",
       "      <td>19</td>\n",
       "      <td>95203.0</td>\n",
       "      <td>95.0</td>\n",
       "      <td>HopCli</td>\n",
       "      <td>139</td>\n",
       "      <td>Ile-de-France</td>\n",
       "      <td>Autres</td>\n",
       "    </tr>\n",
       "    <tr>\n",
       "      <th>4</th>\n",
       "      <td>NaN</td>\n",
       "      <td>99.0</td>\n",
       "      <td>1972</td>\n",
       "      <td>9</td>\n",
       "      <td>8</td>\n",
       "      <td>1</td>\n",
       "      <td>2020</td>\n",
       "      <td>1</td>\n",
       "      <td>28</td>\n",
       "      <td>6079.0</td>\n",
       "      <td>6.0</td>\n",
       "      <td>Autres</td>\n",
       "      <td>123</td>\n",
       "      <td>PACA</td>\n",
       "      <td>Autres</td>\n",
       "    </tr>\n",
       "    <tr>\n",
       "      <th>5</th>\n",
       "      <td>NaN</td>\n",
       "      <td>99.0</td>\n",
       "      <td>2004</td>\n",
       "      <td>6</td>\n",
       "      <td>16</td>\n",
       "      <td>2</td>\n",
       "      <td>2020</td>\n",
       "      <td>3</td>\n",
       "      <td>24</td>\n",
       "      <td>92060.0</td>\n",
       "      <td>92.0</td>\n",
       "      <td>Autres</td>\n",
       "      <td>352</td>\n",
       "      <td>Ile-de-France</td>\n",
       "      <td>Autres</td>\n",
       "    </tr>\n",
       "    <tr>\n",
       "      <th>6</th>\n",
       "      <td>NaN</td>\n",
       "      <td>99.0</td>\n",
       "      <td>1933</td>\n",
       "      <td>12</td>\n",
       "      <td>19</td>\n",
       "      <td>2</td>\n",
       "      <td>2020</td>\n",
       "      <td>1</td>\n",
       "      <td>25</td>\n",
       "      <td>97411.0</td>\n",
       "      <td>974.0</td>\n",
       "      <td>HopCli</td>\n",
       "      <td>333</td>\n",
       "      <td>La Réunion</td>\n",
       "      <td>Autres</td>\n",
       "    </tr>\n",
       "    <tr>\n",
       "      <th>7</th>\n",
       "      <td>NaN</td>\n",
       "      <td>99.0</td>\n",
       "      <td>1976</td>\n",
       "      <td>4</td>\n",
       "      <td>3</td>\n",
       "      <td>2</td>\n",
       "      <td>2020</td>\n",
       "      <td>2</td>\n",
       "      <td>28</td>\n",
       "      <td>59392.0</td>\n",
       "      <td>59.0</td>\n",
       "      <td>HopCli</td>\n",
       "      <td>131</td>\n",
       "      <td>Hauts-de-France</td>\n",
       "      <td>Autres</td>\n",
       "    </tr>\n",
       "    <tr>\n",
       "      <th>8</th>\n",
       "      <td>NaN</td>\n",
       "      <td>99.0</td>\n",
       "      <td>1984</td>\n",
       "      <td>1</td>\n",
       "      <td>24</td>\n",
       "      <td>1</td>\n",
       "      <td>2020</td>\n",
       "      <td>2</td>\n",
       "      <td>1</td>\n",
       "      <td>56162.0</td>\n",
       "      <td>56.0</td>\n",
       "      <td>Autres</td>\n",
       "      <td>125</td>\n",
       "      <td>Bretagne</td>\n",
       "      <td>Autres</td>\n",
       "    </tr>\n",
       "    <tr>\n",
       "      <th>9</th>\n",
       "      <td>NaN</td>\n",
       "      <td>99.0</td>\n",
       "      <td>1940</td>\n",
       "      <td>12</td>\n",
       "      <td>23</td>\n",
       "      <td>2</td>\n",
       "      <td>2020</td>\n",
       "      <td>3</td>\n",
       "      <td>18</td>\n",
       "      <td>40279.0</td>\n",
       "      <td>40.0</td>\n",
       "      <td>Autres</td>\n",
       "      <td>134</td>\n",
       "      <td>Nouvelle Aquitaine</td>\n",
       "      <td>Autres</td>\n",
       "    </tr>\n",
       "    <tr>\n",
       "      <th>10</th>\n",
       "      <td>NaN</td>\n",
       "      <td>99.0</td>\n",
       "      <td>1980</td>\n",
       "      <td>5</td>\n",
       "      <td>17</td>\n",
       "      <td>2</td>\n",
       "      <td>2020</td>\n",
       "      <td>1</td>\n",
       "      <td>8</td>\n",
       "      <td>31555.0</td>\n",
       "      <td>31.0</td>\n",
       "      <td>HopCli</td>\n",
       "      <td>114</td>\n",
       "      <td>Occitanie</td>\n",
       "      <td>Autres</td>\n",
       "    </tr>\n",
       "    <tr>\n",
       "      <th>11</th>\n",
       "      <td>NaN</td>\n",
       "      <td>99.0</td>\n",
       "      <td>1940</td>\n",
       "      <td>2</td>\n",
       "      <td>19</td>\n",
       "      <td>1</td>\n",
       "      <td>2020</td>\n",
       "      <td>1</td>\n",
       "      <td>22</td>\n",
       "      <td>67482.0</td>\n",
       "      <td>67.0</td>\n",
       "      <td>HopCli</td>\n",
       "      <td>109</td>\n",
       "      <td>Grand-Est</td>\n",
       "      <td>Autres</td>\n",
       "    </tr>\n",
       "    <tr>\n",
       "      <th>12</th>\n",
       "      <td>NaN</td>\n",
       "      <td>99.0</td>\n",
       "      <td>1937</td>\n",
       "      <td>10</td>\n",
       "      <td>5</td>\n",
       "      <td>1</td>\n",
       "      <td>2020</td>\n",
       "      <td>1</td>\n",
       "      <td>22</td>\n",
       "      <td>66136.0</td>\n",
       "      <td>66.0</td>\n",
       "      <td>Autres</td>\n",
       "      <td>404</td>\n",
       "      <td>Occitanie</td>\n",
       "      <td>Autres</td>\n",
       "    </tr>\n",
       "    <tr>\n",
       "      <th>13</th>\n",
       "      <td>NaN</td>\n",
       "      <td>99.0</td>\n",
       "      <td>1963</td>\n",
       "      <td>5</td>\n",
       "      <td>31</td>\n",
       "      <td>2</td>\n",
       "      <td>2020</td>\n",
       "      <td>2</td>\n",
       "      <td>2</td>\n",
       "      <td>38516.0</td>\n",
       "      <td>38.0</td>\n",
       "      <td>HopCli</td>\n",
       "      <td>255</td>\n",
       "      <td>Auvergne-Rhône Alpe</td>\n",
       "      <td>Autres</td>\n",
       "    </tr>\n",
       "    <tr>\n",
       "      <th>14</th>\n",
       "      <td>NaN</td>\n",
       "      <td>99.0</td>\n",
       "      <td>1935</td>\n",
       "      <td>2</td>\n",
       "      <td>19</td>\n",
       "      <td>2</td>\n",
       "      <td>2020</td>\n",
       "      <td>2</td>\n",
       "      <td>9</td>\n",
       "      <td>13047.0</td>\n",
       "      <td>13.0</td>\n",
       "      <td>Logem</td>\n",
       "      <td>139</td>\n",
       "      <td>PACA</td>\n",
       "      <td>Autres</td>\n",
       "    </tr>\n",
       "  </tbody>\n",
       "</table>\n",
       "</div>"
      ],
      "text/plain": [
       "   COMDOM  DEPDOM  ANAIS  MNAIS  JNAIS  SEXE  ADEC  MDEC  JDEC   COMDEC  \\\n",
       "0     NaN    99.0   1987     11     28     1  2020     1    17  13205.0   \n",
       "1     NaN    99.0   1986      6      4     1  2020     2    17  75115.0   \n",
       "2     NaN    99.0   1958      2     13     1  2020     3    22  92024.0   \n",
       "3     NaN    99.0   1933     10     31     2  2020     1    19  95203.0   \n",
       "4     NaN    99.0   1972      9      8     1  2020     1    28   6079.0   \n",
       "5     NaN    99.0   2004      6     16     2  2020     3    24  92060.0   \n",
       "6     NaN    99.0   1933     12     19     2  2020     1    25  97411.0   \n",
       "7     NaN    99.0   1976      4      3     2  2020     2    28  59392.0   \n",
       "8     NaN    99.0   1984      1     24     1  2020     2     1  56162.0   \n",
       "9     NaN    99.0   1940     12     23     2  2020     3    18  40279.0   \n",
       "10    NaN    99.0   1980      5     17     2  2020     1     8  31555.0   \n",
       "11    NaN    99.0   1940      2     19     1  2020     1    22  67482.0   \n",
       "12    NaN    99.0   1937     10      5     1  2020     1    22  66136.0   \n",
       "13    NaN    99.0   1963      5     31     2  2020     2     2  38516.0   \n",
       "14    NaN    99.0   1935      2     19     2  2020     2     9  13047.0   \n",
       "\n",
       "    DEPDEC lieudec2 paynais               regdec  REGDOM  \n",
       "0     13.0   HopCli     350                 PACA  Autres  \n",
       "1     75.0   HopCli     122        Ile-de-France  Autres  \n",
       "2     92.0   HopCli     316        Ile-de-France  Autres  \n",
       "3     95.0   HopCli     139        Ile-de-France  Autres  \n",
       "4      6.0   Autres     123                 PACA  Autres  \n",
       "5     92.0   Autres     352        Ile-de-France  Autres  \n",
       "6    974.0   HopCli     333           La Réunion  Autres  \n",
       "7     59.0   HopCli     131      Hauts-de-France  Autres  \n",
       "8     56.0   Autres     125             Bretagne  Autres  \n",
       "9     40.0   Autres     134   Nouvelle Aquitaine  Autres  \n",
       "10    31.0   HopCli     114            Occitanie  Autres  \n",
       "11    67.0   HopCli     109            Grand-Est  Autres  \n",
       "12    66.0   Autres     404            Occitanie  Autres  \n",
       "13    38.0   HopCli     255  Auvergne-Rhône Alpe  Autres  \n",
       "14    13.0    Logem     139                 PACA  Autres  "
      ]
     },
     "execution_count": 44,
     "metadata": {},
     "output_type": "execute_result"
    }
   ],
   "source": [
    "df.head(15)"
   ]
  },
  {
   "cell_type": "markdown",
   "metadata": {},
   "source": [
    "The reason dataframes are so useful is because they come with built-in methods, which saves you a lot of trouble. For instance, in this dataframe we can select the average year people who died of COVID19 were born:"
   ]
  },
  {
   "cell_type": "code",
   "execution_count": 50,
   "metadata": {},
   "outputs": [
    {
     "data": {
      "text/plain": [
       "1940.0925588099838"
      ]
     },
     "execution_count": 50,
     "metadata": {},
     "output_type": "execute_result"
    }
   ],
   "source": [
    "df.ANAIS.mean()"
   ]
  },
  {
   "cell_type": "code",
   "execution_count": null,
   "metadata": {},
   "outputs": [],
   "source": []
  }
 ],
 "metadata": {
  "kernelspec": {
   "display_name": "Python 3",
   "language": "python",
   "name": "python3"
  },
  "language_info": {
   "codemirror_mode": {
    "name": "ipython",
    "version": 3
   },
   "file_extension": ".py",
   "mimetype": "text/x-python",
   "name": "python",
   "nbconvert_exporter": "python",
   "pygments_lexer": "ipython3",
   "version": "3.7.6"
  }
 },
 "nbformat": 4,
 "nbformat_minor": 2
}
