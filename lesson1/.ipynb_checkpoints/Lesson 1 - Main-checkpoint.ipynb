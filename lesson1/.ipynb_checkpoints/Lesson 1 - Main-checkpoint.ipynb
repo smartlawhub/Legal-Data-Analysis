{
 "cells": [
  {
   "cell_type": "markdown",
   "metadata": {},
   "source": [
    "<h1>Introduction to Python</h1>\n",
    "\n",
    "<p>This is the first lesson in the context of Course HEC XX</p>\n",
    "\n",
    "<p>This introduction is best read together with Chapter 2 of <i>\"Humanities Data in R</i> (Springer, 2015).</p>\n",
    "\n",
    "<h2>Basic Calculations in Python</h2>\n",
    "\n",
    "<p>Computer code, at its most basic, calculates. You can think of this course and everything that follows as expanding the uses of a calculator, even the most basic. For instance:</p>"
   ]
  },
  {
   "cell_type": "markdown",
   "metadata": {},
   "source": []
  },
  {
   "cell_type": "code",
   "execution_count": 5,
   "metadata": {},
   "outputs": [
    {
     "data": {
      "text/plain": [
       "6"
      ]
     },
     "execution_count": 5,
     "metadata": {},
     "output_type": "execute_result"
    }
   ],
   "source": [
    "2+2"
   ]
  },
  {
   "cell_type": "markdown",
   "metadata": {},
   "source": [
    "Typically, in Python you'd use the command \"print\" to have stuff appear on your screen. It is also more precise, as it gives the computer the exact command to process. \n",
    "For instance, if you add a line of computations above, Python will only render the last line - but if you insert two \"print\" statement, one after the other, both will render.\n",
    "\"print\" is a <em>command</em>. Like most commands, it requires some <em>parameters</em>, that are indicated within brackets. Eg.  "
   ]
  },
  {
   "cell_type": "code",
   "execution_count": 6,
   "metadata": {},
   "outputs": [
    {
     "name": "stdout",
     "output_type": "stream",
     "text": [
      "4\n",
      "6\n"
     ]
    }
   ],
   "source": [
    "print(2+2)\n",
    "print(2*3)"
   ]
  },
  {
   "cell_type": "markdown",
   "metadata": {},
   "source": [
    "We will come back to commands a bit later. Before that, we need to discuss <em>variables</em>, which are objects in which you store information.\n",
    "Variables are typically written in lower caps; the way to you assign data to a variable is with a \"=\" sign, as follows. You can then use variables directly in functions (such as print)."
   ]
  },
  {
   "cell_type": "code",
   "execution_count": 9,
   "metadata": {},
   "outputs": [
    {
     "name": "stdout",
     "output_type": "stream",
     "text": [
      "9\n"
     ]
    }
   ],
   "source": [
    "my_var = 1\n",
    "my_var2 = 2\n",
    "my_var3 = 2*3\n",
    "print(my_var + my_var2 + my_var3)"
   ]
  },
  {
   "cell_type": "markdown",
   "metadata": {},
   "source": [
    "Now, variables need not be numbers. Here is all that a variable can be:\n",
    "<p><ul><li>Text</li>\n",
    "    <li>Text</li>\n",
    "    <li>Text</li>\n",
    "</ul></p>\n"
   ]
  }
 ],
 "metadata": {
  "kernelspec": {
   "display_name": "Python 3",
   "language": "python",
   "name": "python3"
  },
  "language_info": {
   "codemirror_mode": {
    "name": "ipython",
    "version": 3
   },
   "file_extension": ".py",
   "mimetype": "text/x-python",
   "name": "python",
   "nbconvert_exporter": "python",
   "pygments_lexer": "ipython3",
   "version": "3.7.6"
  }
 },
 "nbformat": 4,
 "nbformat_minor": 2
}
